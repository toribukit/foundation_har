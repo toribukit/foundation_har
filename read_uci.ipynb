{
 "cells": [
  {
   "cell_type": "markdown",
   "metadata": {},
   "source": [
    "# Setup"
   ]
  },
  {
   "cell_type": "code",
   "execution_count": 1,
   "metadata": {},
   "outputs": [],
   "source": [
    "import os\n",
    "from pandas import read_csv\n",
    "from numpy import dstack\n",
    "import pandas as pd\n",
    "import numpy as np"
   ]
  },
  {
   "cell_type": "code",
   "execution_count": 2,
   "metadata": {},
   "outputs": [],
   "source": [
    "# load a single file as a numpy array\n",
    "def load_file(filepath):\n",
    "\tdataframe = read_csv(filepath, header=None, delim_whitespace=True)\n",
    "\treturn dataframe.values"
   ]
  },
  {
   "cell_type": "code",
   "execution_count": 3,
   "metadata": {},
   "outputs": [],
   "source": [
    "# load a list of files and return as a 3d numpy array\n",
    "def load_group(filenames, prefix=''):\n",
    "\tloaded = list()\n",
    "\tfor name in filenames:\n",
    "\t\tdata = load_file(prefix + name)\n",
    "\t\tloaded.append(data)\n",
    "\t# stack group so that features are the 3rd dimension\n",
    "\tloaded = dstack(loaded)\n",
    "\treturn loaded"
   ]
  },
  {
   "cell_type": "code",
   "execution_count": 4,
   "metadata": {},
   "outputs": [],
   "source": [
    "# load a dataset group, such as train or test\n",
    "def load_dataset_group(group, prefix=''):\n",
    "\tfilepath = prefix + group + '/Inertial Signals/'\n",
    "\t# load all 9 files as a single array\n",
    "\tfilenames = list()\n",
    "\t# total acceleration\n",
    "\tfilenames += ['total_acc_x_'+group+'.txt', 'total_acc_y_'+group+'.txt', 'total_acc_z_'+group+'.txt']\n",
    "\t# body acceleration\n",
    "\tfilenames += ['body_acc_x_'+group+'.txt', 'body_acc_y_'+group+'.txt', 'body_acc_z_'+group+'.txt']\n",
    "\t# body gyroscope\n",
    "\tfilenames += ['body_gyro_x_'+group+'.txt', 'body_gyro_y_'+group+'.txt', 'body_gyro_z_'+group+'.txt']\n",
    "\t# load input data\n",
    "\tX = load_group(filenames, filepath)\n",
    "\t# load class output\n",
    "\ty = load_file(prefix + group + '/y_'+group+'.txt')\n",
    "\treturn X, y"
   ]
  },
  {
   "cell_type": "code",
   "execution_count": 5,
   "metadata": {},
   "outputs": [
    {
     "name": "stdout",
     "output_type": "stream",
     "text": [
      "(7352, 128, 9) (7352, 1)\n"
     ]
    }
   ],
   "source": [
    "path_data = \"./UCI HAR Dataset/\"\n",
    "\n",
    "trainX, trainy = load_dataset_group('train', path_data)\n",
    "print(trainX.shape, trainy.shape)"
   ]
  },
  {
   "cell_type": "code",
   "execution_count": 6,
   "metadata": {},
   "outputs": [
    {
     "name": "stdout",
     "output_type": "stream",
     "text": [
      "   subject_id     acc_x     acc_y     acc_z  activity\n",
      "0           1  1.012817 -0.123217  0.102934  STANDING\n",
      "1           1  1.022833 -0.126876  0.105687  STANDING\n",
      "2           1  1.022028 -0.124004  0.102102  STANDING\n",
      "3           1  1.017877 -0.124928  0.106553  STANDING\n",
      "4           1  1.023680 -0.125767  0.102814  STANDING\n"
     ]
    }
   ],
   "source": [
    "def load_simple_dataframe(group, prefix=''):\n",
    "    # Paths to the necessary files\n",
    "    acc_x_path = prefix + group + '/Inertial Signals/total_acc_x_' + group + '.txt'\n",
    "    acc_y_path = prefix + group + '/Inertial Signals/total_acc_y_' + group + '.txt'\n",
    "    acc_z_path = prefix + group + '/Inertial Signals/total_acc_z_' + group + '.txt'\n",
    "    subjects_path = prefix + group + '/subject_' + group + '.txt'\n",
    "    y_path = prefix + group + '/y_' + group + '.txt'\n",
    "    activity_labels_path = prefix + 'activity_labels.txt'\n",
    "    \n",
    "    # Load accelerometer data\n",
    "    acc_x = pd.read_csv(acc_x_path, header=None, delim_whitespace=True).stack().reset_index(drop=True)\n",
    "    acc_y = pd.read_csv(acc_y_path, header=None, delim_whitespace=True).stack().reset_index(drop=True)\n",
    "    acc_z = pd.read_csv(acc_z_path, header=None, delim_whitespace=True).stack().reset_index(drop=True)\n",
    "    \n",
    "    # Load subjects and activity labels\n",
    "    subjects = pd.read_csv(subjects_path, header=None).iloc[:, 0]\n",
    "    activities = pd.read_csv(y_path, header=None).iloc[:, 0]\n",
    "\n",
    "    # Load activity labels mapping\n",
    "    activity_labels = pd.read_csv(activity_labels_path, header=None, delim_whitespace=True, index_col=0)\n",
    "    activity_labels_dict = activity_labels[1].to_dict()\n",
    "\n",
    "    # Map activity labels\n",
    "    activities_mapped = activities.map(activity_labels_dict)\n",
    "    \n",
    "    # Repeat each subject and activity ID for each time step in their respective sequence\n",
    "    # Assuming 128 readings per sequence (which is typical in this dataset)\n",
    "    num_time_steps = 128\n",
    "    subjects_repeated = np.repeat(subjects, num_time_steps).reset_index(drop=True)\n",
    "    activities_repeated = np.repeat(activities_mapped, num_time_steps).reset_index(drop=True)\n",
    "\n",
    "    # Combine into a single DataFrame\n",
    "    df = pd.DataFrame({\n",
    "        'subject_id': subjects_repeated,\n",
    "        'acc_x': acc_x,\n",
    "        'acc_y': acc_y,\n",
    "        'acc_z': acc_z,\n",
    "        'activity': activities_repeated\n",
    "    })\n",
    "    \n",
    "    return df\n",
    "\n",
    "# Example usage:\n",
    "prefix = './UCI HAR Dataset/'\n",
    "train_df = load_simple_dataframe('train', prefix)\n",
    "print(train_df.head())"
   ]
  },
  {
   "cell_type": "code",
   "execution_count": 7,
   "metadata": {},
   "outputs": [
    {
     "data": {
      "text/plain": [
       "(941056, 5)"
      ]
     },
     "execution_count": 7,
     "metadata": {},
     "output_type": "execute_result"
    }
   ],
   "source": [
    "train_df.shape"
   ]
  },
  {
   "cell_type": "code",
   "execution_count": 8,
   "metadata": {},
   "outputs": [
    {
     "name": "stdout",
     "output_type": "stream",
     "text": [
      "21\n"
     ]
    }
   ],
   "source": [
    "# get number of subjects\n",
    "train_subjects = len(train_df['subject_id'].unique())\n",
    "print(train_subjects)"
   ]
  },
  {
   "cell_type": "code",
   "execution_count": 9,
   "metadata": {},
   "outputs": [
    {
     "data": {
      "text/plain": [
       "array([ 1,  3,  5,  6,  7,  8, 11, 14, 15, 16, 17, 19, 21, 22, 23, 25, 26,\n",
       "       27, 28, 29, 30], dtype=int64)"
      ]
     },
     "execution_count": 9,
     "metadata": {},
     "output_type": "execute_result"
    }
   ],
   "source": [
    "train_df['subject_id'].unique()"
   ]
  },
  {
   "cell_type": "code",
   "execution_count": 10,
   "metadata": {},
   "outputs": [
    {
     "name": "stdout",
     "output_type": "stream",
     "text": [
      "   subject_id     acc_x     acc_y     acc_z  activity\n",
      "0           2  1.041216 -0.269796  0.023780  STANDING\n",
      "1           2  1.041803 -0.280025  0.076293  STANDING\n",
      "2           2  1.039086 -0.292663  0.147475  STANDING\n",
      "3           2  1.054768 -0.292384  0.139906  STANDING\n",
      "4           2  1.028376 -0.285826  0.119934  STANDING\n"
     ]
    }
   ],
   "source": [
    "test_df = load_simple_dataframe('test', prefix)\n",
    "print(test_df.head())"
   ]
  },
  {
   "cell_type": "code",
   "execution_count": 11,
   "metadata": {},
   "outputs": [
    {
     "data": {
      "text/plain": [
       "array([ 2,  4,  9, 10, 12, 13, 18, 20, 24], dtype=int64)"
      ]
     },
     "execution_count": 11,
     "metadata": {},
     "output_type": "execute_result"
    }
   ],
   "source": [
    "test_df['subject_id'].unique()"
   ]
  },
  {
   "cell_type": "code",
   "execution_count": 12,
   "metadata": {},
   "outputs": [],
   "source": [
    "# combine train_df and test_df into one dataframe\n",
    "df = pd.concat([train_df, test_df], ignore_index=True)"
   ]
  },
  {
   "cell_type": "code",
   "execution_count": 17,
   "metadata": {},
   "outputs": [
    {
     "data": {
      "text/html": [
       "<div>\n",
       "<style scoped>\n",
       "    .dataframe tbody tr th:only-of-type {\n",
       "        vertical-align: middle;\n",
       "    }\n",
       "\n",
       "    .dataframe tbody tr th {\n",
       "        vertical-align: top;\n",
       "    }\n",
       "\n",
       "    .dataframe thead th {\n",
       "        text-align: right;\n",
       "    }\n",
       "</style>\n",
       "<table border=\"1\" class=\"dataframe\">\n",
       "  <thead>\n",
       "    <tr style=\"text-align: right;\">\n",
       "      <th></th>\n",
       "      <th>subject_id</th>\n",
       "      <th>acc_x</th>\n",
       "      <th>acc_y</th>\n",
       "      <th>acc_z</th>\n",
       "      <th>activity</th>\n",
       "    </tr>\n",
       "  </thead>\n",
       "  <tbody>\n",
       "    <tr>\n",
       "      <th>0</th>\n",
       "      <td>1</td>\n",
       "      <td>1.012817</td>\n",
       "      <td>-0.123217</td>\n",
       "      <td>0.102934</td>\n",
       "      <td>STANDING</td>\n",
       "    </tr>\n",
       "    <tr>\n",
       "      <th>1</th>\n",
       "      <td>1</td>\n",
       "      <td>0.985853</td>\n",
       "      <td>0.130482</td>\n",
       "      <td>0.236301</td>\n",
       "      <td>SITTING</td>\n",
       "    </tr>\n",
       "    <tr>\n",
       "      <th>2</th>\n",
       "      <td>1</td>\n",
       "      <td>0.986359</td>\n",
       "      <td>0.132166</td>\n",
       "      <td>0.233987</td>\n",
       "      <td>SITTING</td>\n",
       "    </tr>\n",
       "    <tr>\n",
       "      <th>3</th>\n",
       "      <td>1</td>\n",
       "      <td>0.985987</td>\n",
       "      <td>0.133959</td>\n",
       "      <td>0.233613</td>\n",
       "      <td>SITTING</td>\n",
       "    </tr>\n",
       "    <tr>\n",
       "      <th>4</th>\n",
       "      <td>1</td>\n",
       "      <td>0.985375</td>\n",
       "      <td>0.137033</td>\n",
       "      <td>0.234184</td>\n",
       "      <td>SITTING</td>\n",
       "    </tr>\n",
       "  </tbody>\n",
       "</table>\n",
       "</div>"
      ],
      "text/plain": [
       "   subject_id     acc_x     acc_y     acc_z  activity\n",
       "0           1  1.012817 -0.123217  0.102934  STANDING\n",
       "1           1  0.985853  0.130482  0.236301   SITTING\n",
       "2           1  0.986359  0.132166  0.233987   SITTING\n",
       "3           1  0.985987  0.133959  0.233613   SITTING\n",
       "4           1  0.985375  0.137033  0.234184   SITTING"
      ]
     },
     "execution_count": 17,
     "metadata": {},
     "output_type": "execute_result"
    }
   ],
   "source": [
    "# sort by subject_id and reset index\n",
    "df = df.sort_values('subject_id').reset_index(drop=True)\n",
    "df.head()"
   ]
  },
  {
   "cell_type": "code",
   "execution_count": 18,
   "metadata": {},
   "outputs": [
    {
     "data": {
      "text/plain": [
       "(1318272, 5)"
      ]
     },
     "execution_count": 18,
     "metadata": {},
     "output_type": "execute_result"
    }
   ],
   "source": [
    "df.shape"
   ]
  },
  {
   "cell_type": "code",
   "execution_count": 19,
   "metadata": {},
   "outputs": [
    {
     "data": {
      "text/plain": [
       "array([ 1,  2,  3,  4,  5,  6,  7,  8,  9, 10, 11, 12, 13, 14, 15, 16, 17,\n",
       "       18, 19, 20, 21, 22, 23, 24, 25, 26, 27, 28, 29, 30], dtype=int64)"
      ]
     },
     "execution_count": 19,
     "metadata": {},
     "output_type": "execute_result"
    }
   ],
   "source": [
    "df['subject_id'].unique()"
   ]
  },
  {
   "cell_type": "code",
   "execution_count": 20,
   "metadata": {},
   "outputs": [
    {
     "data": {
      "text/plain": [
       "array(['STANDING', 'SITTING', 'LAYING', 'WALKING', 'WALKING_UPSTAIRS',\n",
       "       'WALKING_DOWNSTAIRS'], dtype=object)"
      ]
     },
     "execution_count": 20,
     "metadata": {},
     "output_type": "execute_result"
    }
   ],
   "source": [
    "df['activity'].unique()"
   ]
  },
  {
   "cell_type": "code",
   "execution_count": 17,
   "metadata": {},
   "outputs": [],
   "source": [
    "# export the dataframe to a CSV file\n",
    "df.to_csv('./UCI HAR Dataset/uci_har.csv', index=False)"
   ]
  }
 ],
 "metadata": {
  "kernelspec": {
   "display_name": "Python 3",
   "language": "python",
   "name": "python3"
  },
  "language_info": {
   "codemirror_mode": {
    "name": "ipython",
    "version": 3
   },
   "file_extension": ".py",
   "mimetype": "text/x-python",
   "name": "python",
   "nbconvert_exporter": "python",
   "pygments_lexer": "ipython3",
   "version": "3.9.18"
  }
 },
 "nbformat": 4,
 "nbformat_minor": 2
}
