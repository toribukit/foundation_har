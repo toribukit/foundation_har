{
 "cells": [
  {
   "cell_type": "markdown",
   "metadata": {},
   "source": [
    "# Setup"
   ]
  },
  {
   "cell_type": "code",
   "execution_count": 1,
   "metadata": {},
   "outputs": [],
   "source": [
    "# import libraries\n",
    "import os\n",
    "import sys\n",
    "import time\n",
    "import pandas as pd\n",
    "import numpy as np\n",
    "from scipy import stats\n",
    "from scipy.interpolate import CubicSpline\n",
    "import torch.optim as optim\n",
    "import torch.nn as nn\n",
    "import torch\n",
    "from torch.optim import Adam\n",
    "from scipy.stats import mode\n",
    "from sklearn.preprocessing import LabelEncoder\n",
    "import random\n",
    "from sklearn.metrics import f1_score\n",
    "from torch.utils.data import TensorDataset, DataLoader"
   ]
  },
  {
   "cell_type": "markdown",
   "metadata": {},
   "source": [
    "## Hyperparameters"
   ]
  },
  {
   "cell_type": "code",
   "execution_count": 2,
   "metadata": {},
   "outputs": [],
   "source": [
    "# set the seed\n",
    "np.random.seed(420)\n",
    "torch.manual_seed(420)\n",
    "torch.cuda.manual_seed(420)\n",
    "batch_size = 32"
   ]
  },
  {
   "cell_type": "code",
   "execution_count": 3,
   "metadata": {},
   "outputs": [],
   "source": [
    "# set the device\n",
    "device = torch.device(\"cuda:0\" if torch.cuda.is_available() else \"cpu\")"
   ]
  },
  {
   "cell_type": "markdown",
   "metadata": {},
   "source": [
    "# Load Dataset"
   ]
  },
  {
   "cell_type": "code",
   "execution_count": 4,
   "metadata": {},
   "outputs": [
    {
     "data": {
      "text/html": [
       "<div>\n",
       "<style scoped>\n",
       "    .dataframe tbody tr th:only-of-type {\n",
       "        vertical-align: middle;\n",
       "    }\n",
       "\n",
       "    .dataframe tbody tr th {\n",
       "        vertical-align: top;\n",
       "    }\n",
       "\n",
       "    .dataframe thead th {\n",
       "        text-align: right;\n",
       "    }\n",
       "</style>\n",
       "<table border=\"1\" class=\"dataframe\">\n",
       "  <thead>\n",
       "    <tr style=\"text-align: right;\">\n",
       "      <th></th>\n",
       "      <th>subject_id</th>\n",
       "      <th>acc_x</th>\n",
       "      <th>acc_y</th>\n",
       "      <th>acc_z</th>\n",
       "      <th>activity</th>\n",
       "    </tr>\n",
       "  </thead>\n",
       "  <tbody>\n",
       "    <tr>\n",
       "      <th>0</th>\n",
       "      <td>0</td>\n",
       "      <td>-9.57434</td>\n",
       "      <td>-2.02733</td>\n",
       "      <td>1.34506</td>\n",
       "      <td>climbing_up</td>\n",
       "    </tr>\n",
       "    <tr>\n",
       "      <th>1</th>\n",
       "      <td>0</td>\n",
       "      <td>-9.56479</td>\n",
       "      <td>-1.99597</td>\n",
       "      <td>1.39345</td>\n",
       "      <td>climbing_up</td>\n",
       "    </tr>\n",
       "    <tr>\n",
       "      <th>2</th>\n",
       "      <td>0</td>\n",
       "      <td>-9.55122</td>\n",
       "      <td>-1.98445</td>\n",
       "      <td>1.41139</td>\n",
       "      <td>climbing_up</td>\n",
       "    </tr>\n",
       "    <tr>\n",
       "      <th>3</th>\n",
       "      <td>0</td>\n",
       "      <td>-9.51335</td>\n",
       "      <td>-1.97557</td>\n",
       "      <td>1.42615</td>\n",
       "      <td>climbing_up</td>\n",
       "    </tr>\n",
       "    <tr>\n",
       "      <th>4</th>\n",
       "      <td>0</td>\n",
       "      <td>-9.52959</td>\n",
       "      <td>-1.98187</td>\n",
       "      <td>1.45395</td>\n",
       "      <td>climbing_up</td>\n",
       "    </tr>\n",
       "  </tbody>\n",
       "</table>\n",
       "</div>"
      ],
      "text/plain": [
       "   subject_id    acc_x    acc_y    acc_z     activity\n",
       "0           0 -9.57434 -2.02733  1.34506  climbing_up\n",
       "1           0 -9.56479 -1.99597  1.39345  climbing_up\n",
       "2           0 -9.55122 -1.98445  1.41139  climbing_up\n",
       "3           0 -9.51335 -1.97557  1.42615  climbing_up\n",
       "4           0 -9.52959 -1.98187  1.45395  climbing_up"
      ]
     },
     "execution_count": 4,
     "metadata": {},
     "output_type": "execute_result"
    }
   ],
   "source": [
    "# load data without header\n",
    "data = pd.read_csv('./ISWC21_data_plus_raw/rwhar_data.csv', header=None)\n",
    "# add header\n",
    "data.columns = ['subject_id', 'acc_x', 'acc_y', 'acc_z', 'activity']\n",
    "data.head()"
   ]
  },
  {
   "cell_type": "code",
   "execution_count": 5,
   "metadata": {},
   "outputs": [
    {
     "name": "stdout",
     "output_type": "stream",
     "text": [
      "The number of unique subjects is 15\n"
     ]
    }
   ],
   "source": [
    "# print the count of unique subjects\n",
    "print('The number of unique subjects is {}'.format(data['subject_id'].nunique()))"
   ]
  },
  {
   "cell_type": "code",
   "execution_count": 6,
   "metadata": {},
   "outputs": [
    {
     "data": {
      "text/plain": [
       "(3200803, 5)"
      ]
     },
     "execution_count": 6,
     "metadata": {},
     "output_type": "execute_result"
    }
   ],
   "source": [
    "data.shape"
   ]
  },
  {
   "cell_type": "code",
   "execution_count": 7,
   "metadata": {},
   "outputs": [],
   "source": [
    "label_encoder = LabelEncoder()\n",
    "encoded_labels = label_encoder.fit_transform(data['activity'])\n",
    "data['encoded_activity'] = encoded_labels"
   ]
  },
  {
   "cell_type": "code",
   "execution_count": 8,
   "metadata": {},
   "outputs": [
    {
     "data": {
      "text/html": [
       "<div>\n",
       "<style scoped>\n",
       "    .dataframe tbody tr th:only-of-type {\n",
       "        vertical-align: middle;\n",
       "    }\n",
       "\n",
       "    .dataframe tbody tr th {\n",
       "        vertical-align: top;\n",
       "    }\n",
       "\n",
       "    .dataframe thead th {\n",
       "        text-align: right;\n",
       "    }\n",
       "</style>\n",
       "<table border=\"1\" class=\"dataframe\">\n",
       "  <thead>\n",
       "    <tr style=\"text-align: right;\">\n",
       "      <th></th>\n",
       "      <th>subject_id</th>\n",
       "      <th>acc_x</th>\n",
       "      <th>acc_y</th>\n",
       "      <th>acc_z</th>\n",
       "      <th>activity</th>\n",
       "      <th>encoded_activity</th>\n",
       "    </tr>\n",
       "  </thead>\n",
       "  <tbody>\n",
       "    <tr>\n",
       "      <th>0</th>\n",
       "      <td>0</td>\n",
       "      <td>-9.57434</td>\n",
       "      <td>-2.02733</td>\n",
       "      <td>1.34506</td>\n",
       "      <td>climbing_up</td>\n",
       "      <td>1</td>\n",
       "    </tr>\n",
       "    <tr>\n",
       "      <th>1</th>\n",
       "      <td>0</td>\n",
       "      <td>-9.56479</td>\n",
       "      <td>-1.99597</td>\n",
       "      <td>1.39345</td>\n",
       "      <td>climbing_up</td>\n",
       "      <td>1</td>\n",
       "    </tr>\n",
       "    <tr>\n",
       "      <th>2</th>\n",
       "      <td>0</td>\n",
       "      <td>-9.55122</td>\n",
       "      <td>-1.98445</td>\n",
       "      <td>1.41139</td>\n",
       "      <td>climbing_up</td>\n",
       "      <td>1</td>\n",
       "    </tr>\n",
       "    <tr>\n",
       "      <th>3</th>\n",
       "      <td>0</td>\n",
       "      <td>-9.51335</td>\n",
       "      <td>-1.97557</td>\n",
       "      <td>1.42615</td>\n",
       "      <td>climbing_up</td>\n",
       "      <td>1</td>\n",
       "    </tr>\n",
       "    <tr>\n",
       "      <th>4</th>\n",
       "      <td>0</td>\n",
       "      <td>-9.52959</td>\n",
       "      <td>-1.98187</td>\n",
       "      <td>1.45395</td>\n",
       "      <td>climbing_up</td>\n",
       "      <td>1</td>\n",
       "    </tr>\n",
       "  </tbody>\n",
       "</table>\n",
       "</div>"
      ],
      "text/plain": [
       "   subject_id    acc_x    acc_y    acc_z     activity  encoded_activity\n",
       "0           0 -9.57434 -2.02733  1.34506  climbing_up                 1\n",
       "1           0 -9.56479 -1.99597  1.39345  climbing_up                 1\n",
       "2           0 -9.55122 -1.98445  1.41139  climbing_up                 1\n",
       "3           0 -9.51335 -1.97557  1.42615  climbing_up                 1\n",
       "4           0 -9.52959 -1.98187  1.45395  climbing_up                 1"
      ]
     },
     "execution_count": 8,
     "metadata": {},
     "output_type": "execute_result"
    }
   ],
   "source": [
    "data.head()"
   ]
  },
  {
   "cell_type": "code",
   "execution_count": 9,
   "metadata": {},
   "outputs": [
    {
     "data": {
      "text/plain": [
       "8"
      ]
     },
     "execution_count": 9,
     "metadata": {},
     "output_type": "execute_result"
    }
   ],
   "source": [
    "# get number of classes\n",
    "num_classes = data['encoded_activity'].nunique()\n",
    "num_classes"
   ]
  },
  {
   "cell_type": "code",
   "execution_count": 10,
   "metadata": {},
   "outputs": [
    {
     "data": {
      "text/plain": [
       "subject_id          0\n",
       "acc_x               0\n",
       "acc_y               0\n",
       "acc_z               0\n",
       "activity            0\n",
       "encoded_activity    0\n",
       "dtype: int64"
      ]
     },
     "execution_count": 10,
     "metadata": {},
     "output_type": "execute_result"
    }
   ],
   "source": [
    "# check the null values\n",
    "data.isnull().sum()"
   ]
  },
  {
   "cell_type": "markdown",
   "metadata": {},
   "source": [
    "# Data Preprocessing"
   ]
  },
  {
   "cell_type": "markdown",
   "metadata": {},
   "source": [
    "## Split Train and Test"
   ]
  },
  {
   "cell_type": "code",
   "execution_count": 11,
   "metadata": {},
   "outputs": [
    {
     "name": "stdout",
     "output_type": "stream",
     "text": [
      "The number of train users is 10\n",
      "The number of test users is 5\n",
      "The shape of train is (2200794, 6)\n",
      "The shape of test is (1000009, 6)\n"
     ]
    }
   ],
   "source": [
    "# split train and test users\n",
    "# randomly select 70% of the users for training\n",
    "train_subjects = np.random.choice(data['subject_id'].unique(), int(0.7*len(data['subject_id'].unique())), replace=False)\n",
    "# split the data into train and test\n",
    "train = data[data['subject_id'].isin(train_subjects)]\n",
    "test = data[~data['subject_id'].isin(train_subjects)]\n",
    "\n",
    "# print test and train users\n",
    "print('The number of train users is {}'.format(train['subject_id'].nunique()))\n",
    "print('The number of test users is {}'.format(test['subject_id'].nunique()))\n",
    "\n",
    "# print the shape of train and test\n",
    "print('The shape of train is {}'.format(train.shape))\n",
    "print('The shape of test is {}'.format(test.shape))"
   ]
  },
  {
   "cell_type": "code",
   "execution_count": 12,
   "metadata": {},
   "outputs": [
    {
     "data": {
      "text/plain": [
       "array([ 2, 14,  5,  0, 11,  4, 10, 12,  7, 13], dtype=int64)"
      ]
     },
     "execution_count": 12,
     "metadata": {},
     "output_type": "execute_result"
    }
   ],
   "source": [
    "train_subjects"
   ]
  },
  {
   "cell_type": "code",
   "execution_count": 13,
   "metadata": {},
   "outputs": [
    {
     "name": "stdout",
     "output_type": "stream",
     "text": [
      "The test subjects are [1 3 6 8 9]\n"
     ]
    }
   ],
   "source": [
    "# print the test subjects\n",
    "print('The test subjects are {}'.format(test['subject_id'].unique()))\n",
    "\n",
    "# [1 3 6 8 9] are the test subjects"
   ]
  },
  {
   "cell_type": "markdown",
   "metadata": {},
   "source": [
    "## Data Normalization"
   ]
  },
  {
   "cell_type": "code",
   "execution_count": 14,
   "metadata": {},
   "outputs": [],
   "source": [
    "# # setup the mean and std for normalization\n",
    "# mean = {'acc_x': 0.816012, 'acc_y': -0.007595, 'acc_z': 0.074082}\n",
    "# std = {'acc_x': 0.398664, 'acc_y': 0.375481, 'acc_z': 0.366527}\n",
    "\n",
    "# # normalize the data for acc_x, acc_y, acc_z\n",
    "# data['acc_x'] = (data['acc_x'] - mean['acc_x']) / std['acc_x']\n",
    "# data['acc_y'] = (data['acc_y'] - mean['acc_y']) / std['acc_y']\n",
    "# data['acc_z'] = (data['acc_z'] - mean['acc_z']) / std['acc_z']"
   ]
  },
  {
   "cell_type": "code",
   "execution_count": 15,
   "metadata": {},
   "outputs": [],
   "source": [
    "# # z-normalize the data for acc_x, acc_y, acc_z with mean and std of train data\n",
    "# train_data_mean = train[['acc_x', 'acc_y', 'acc_z']].mean()\n",
    "# train_data_std = train[['acc_x', 'acc_y', 'acc_z']].std()\n",
    "\n",
    "# # Normalize Training Data\n",
    "# train.loc[:, ['acc_x', 'acc_y', 'acc_z']] = (train[['acc_x', 'acc_y', 'acc_z']] - train_data_mean) / train_data_std\n",
    "\n",
    "# # Normalize Test Data with Training Statistics\n",
    "# test.loc[:, ['acc_x', 'acc_y', 'acc_z']] = (test[['acc_x', 'acc_y', 'acc_z']] - train_data_mean) / train_data_std"
   ]
  },
  {
   "cell_type": "markdown",
   "metadata": {},
   "source": [
    "## Generate Subset of Train Data"
   ]
  },
  {
   "cell_type": "code",
   "execution_count": 16,
   "metadata": {},
   "outputs": [
    {
     "name": "stdout",
     "output_type": "stream",
     "text": [
      "The train subjects are [ 2  4  5  7 12 13 14]\n",
      "The shape of train_75 is (1553420, 6)\n"
     ]
    }
   ],
   "source": [
    "# randomly select 75% of the users for training\n",
    "# train_subjects_75 = np.random.choice(train['subject_id'].unique(), int(0.75*len(train['subject_id'].unique())), replace=False)\n",
    "train_subjects_75 = [2, 4, 5, 7, 12, 13, 14]\n",
    "train_75 = data[data['subject_id'].isin(train_subjects_75)]\n",
    "\n",
    "# print the train subjects\n",
    "print('The train subjects are {}'.format(train_75['subject_id'].unique()))\n",
    "#print shape of train_75\n",
    "print('The shape of train_75 is {}'.format(train_75.shape))"
   ]
  },
  {
   "cell_type": "code",
   "execution_count": 17,
   "metadata": {},
   "outputs": [
    {
     "name": "stdout",
     "output_type": "stream",
     "text": [
      "The train subjects are [ 0  2  5 12 14]\n",
      "The shape of train_50 is (1099152, 6)\n"
     ]
    }
   ],
   "source": [
    "# randomly select 50% of the users for training\n",
    "# train_subjects_50 = np.random.choice(train['subject_id'].unique(), int(0.5*len(train['subject_id'].unique())), replace=False)\n",
    "train_subjects_50 = [0, 2, 5, 12, 14]\n",
    "train_50 = data[data['subject_id'].isin(train_subjects_50)]\n",
    "\n",
    "# print the train subjects\n",
    "print('The train subjects are {}'.format(train_50['subject_id'].unique()))\n",
    "#print shape of train_50\n",
    "print('The shape of train_50 is {}'.format(train_50.shape))"
   ]
  },
  {
   "cell_type": "code",
   "execution_count": 18,
   "metadata": {},
   "outputs": [
    {
     "name": "stdout",
     "output_type": "stream",
     "text": [
      "The train subjects are [ 5 10]\n",
      "The shape of train_25 is (436182, 6)\n"
     ]
    }
   ],
   "source": [
    "# randomly select 25% of the users for training\n",
    "# train_subjects_25 = np.random.choice(train['subject_id'].unique(), int(0.25*len(train['subject_id'].unique())), replace=False)\n",
    "train_subjects_25 = [5, 10]\n",
    "train_25 = data[data['subject_id'].isin(train_subjects_25)]\n",
    "\n",
    "# print the train subjects\n",
    "print('The train subjects are {}'.format(train_25['subject_id'].unique()))\n",
    "#print shape of train_25\n",
    "print('The shape of train_25 is {}'.format(train_25.shape))"
   ]
  },
  {
   "cell_type": "code",
   "execution_count": 19,
   "metadata": {},
   "outputs": [
    {
     "name": "stdout",
     "output_type": "stream",
     "text": [
      "The train subjects are [11]\n",
      "The shape of train_10 is (212453, 6)\n"
     ]
    }
   ],
   "source": [
    "# randomly select 10% of the users for training\n",
    "# train_subjects_10 = np.random.choice(train['subject_id'].unique(), int(0.1*len(train['subject_id'].unique())), replace=False)\n",
    "train_subjects_10 = [11]\n",
    "train_10 = data[data['subject_id'].isin(train_subjects_10)]\n",
    "\n",
    "# print the train subjects\n",
    "print('The train subjects are {}'.format(train_10['subject_id'].unique()))\n",
    "#print shape of train_10\n",
    "print('The shape of train_10 is {}'.format(train_10.shape))"
   ]
  },
  {
   "cell_type": "markdown",
   "metadata": {},
   "source": [
    "## Windowing"
   ]
  },
  {
   "cell_type": "code",
   "execution_count": 20,
   "metadata": {},
   "outputs": [],
   "source": [
    "def sliding_window_samples(data, samples_per_window, overlap_ratio):\n",
    "    \"\"\"\n",
    "    Return a sliding window measured in number of samples over a data array along with the mode label for each window.\n",
    "\n",
    "    :param data: input array, can be numpy or pandas dataframe\n",
    "    :param samples_per_window: window length as number of samples\n",
    "    :param overlap_ratio: overlap is meant as percentage and should be an integer value\n",
    "    :return: tuple of windows, indices, and labels\n",
    "    \"\"\"\n",
    "    windows = []\n",
    "    indices = []\n",
    "    labels = []\n",
    "    curr = 0\n",
    "    win_len = int(samples_per_window)\n",
    "    if overlap_ratio is not None:\n",
    "        overlapping_elements = int((overlap_ratio / 100) * win_len)\n",
    "        if overlapping_elements >= win_len:\n",
    "            print('Number of overlapping elements exceeds window size.')\n",
    "            return\n",
    "    while curr < len(data) - win_len:\n",
    "        window = data[curr:curr + win_len]\n",
    "        windows.append(window.iloc[:, :-2])  # Exclude the last two columns (original and encoded labels)\n",
    "        indices.append([curr, curr + win_len])\n",
    "        \n",
    "        # Extract and compute the mode of the encoded labels for the current window\n",
    "        window_labels = window['encoded_activity']\n",
    "        mode_result = mode(window_labels)\n",
    "        window_label = mode_result[0] if mode_result[0].size > 0 else mode_result\n",
    "        labels.append(window_label)\n",
    "\n",
    "        curr += win_len - overlapping_elements\n",
    "\n",
    "    result_windows = np.array(windows)\n",
    "    result_indices = np.array(indices)\n",
    "    result_labels = np.array(labels)\n",
    "    return result_windows, result_indices, result_labels"
   ]
  },
  {
   "cell_type": "code",
   "execution_count": 21,
   "metadata": {},
   "outputs": [
    {
     "name": "stdout",
     "output_type": "stream",
     "text": [
      "shape of train window dataset (8 sec with 50% overlap): (11002, 400, 4)\n",
      "shape of test window dataset (8 sec with 50% overlap): (4999, 400, 4)\n"
     ]
    }
   ],
   "source": [
    "sampling_rate = 50\n",
    "time_window = 8\n",
    "window_size = sampling_rate * time_window\n",
    "overlap_ratio = 50\n",
    "\n",
    "train_window_data, _, train_window_label = sliding_window_samples(train, window_size, overlap_ratio)\n",
    "print(f\"shape of train window dataset ({time_window} sec with {overlap_ratio}% overlap): {train_window_data.shape}\")\n",
    "\n",
    "test_window_data, _, test_window_label = sliding_window_samples(test, window_size, overlap_ratio)\n",
    "print(f\"shape of test window dataset ({time_window} sec with {overlap_ratio}% overlap): {test_window_data.shape}\")"
   ]
  },
  {
   "cell_type": "code",
   "execution_count": 22,
   "metadata": {},
   "outputs": [
    {
     "data": {
      "text/plain": [
       "array([[ 0.     , -9.57434, -2.02733,  1.34506],\n",
       "       [ 0.     , -9.56479, -1.99597,  1.39345],\n",
       "       [ 0.     , -9.55122, -1.98445,  1.41139],\n",
       "       ...,\n",
       "       [ 0.     , -9.6026 , -1.59747,  1.52399],\n",
       "       [ 0.     , -9.61617, -1.46892,  1.50549],\n",
       "       [ 0.     , -9.59715, -1.51093,  1.40639]])"
      ]
     },
     "execution_count": 22,
     "metadata": {},
     "output_type": "execute_result"
    }
   ],
   "source": [
    "train_window_data[0]"
   ]
  },
  {
   "cell_type": "code",
   "execution_count": 23,
   "metadata": {},
   "outputs": [
    {
     "data": {
      "text/plain": [
       "array([[ 1.     , -9.35294, -1.67323,  2.46066],\n",
       "       [ 1.     , -9.42616, -1.75624,  2.50548],\n",
       "       [ 1.     , -9.47662, -1.78891,  2.5455 ],\n",
       "       ...,\n",
       "       [ 1.     , -9.11644, -1.72507,  3.24915],\n",
       "       [ 1.     , -9.10716, -1.6602 ,  3.28903],\n",
       "       [ 1.     , -9.08749, -1.52971,  3.3084 ]])"
      ]
     },
     "execution_count": 23,
     "metadata": {},
     "output_type": "execute_result"
    }
   ],
   "source": [
    "test_window_data[0]"
   ]
  },
  {
   "cell_type": "code",
   "execution_count": 24,
   "metadata": {},
   "outputs": [],
   "source": [
    "# remove the subject column\n",
    "train_window_data = train_window_data[:, :, 1:]\n",
    "test_window_data = test_window_data[:, :, 1:]"
   ]
  },
  {
   "cell_type": "code",
   "execution_count": 25,
   "metadata": {},
   "outputs": [
    {
     "name": "stdout",
     "output_type": "stream",
     "text": [
      "The shape of train is (11002, 400, 3)\n",
      "The shape of test is (4999, 400, 3)\n"
     ]
    }
   ],
   "source": [
    "# print the shape of train and test\n",
    "print('The shape of train is {}'.format(train_window_data.shape))\n",
    "print('The shape of test is {}'.format(test_window_data.shape))"
   ]
  },
  {
   "cell_type": "code",
   "execution_count": 26,
   "metadata": {},
   "outputs": [
    {
     "name": "stdout",
     "output_type": "stream",
     "text": [
      "The length of train label is 11002\n",
      "The length of test label is 4999\n"
     ]
    }
   ],
   "source": [
    "# length of train and test label\n",
    "print('The length of train label is {}'.format(len(train_window_label)))\n",
    "print('The length of test label is {}'.format(len(test_window_label)))"
   ]
  },
  {
   "cell_type": "markdown",
   "metadata": {},
   "source": [
    "### 75% Data"
   ]
  },
  {
   "cell_type": "code",
   "execution_count": 27,
   "metadata": {},
   "outputs": [
    {
     "name": "stdout",
     "output_type": "stream",
     "text": [
      "shape of train window dataset (8 sec with 50% overlap): (7766, 400, 4)\n"
     ]
    }
   ],
   "source": [
    "sampling_rate = 50\n",
    "time_window = 8\n",
    "window_size = sampling_rate * time_window\n",
    "overlap_ratio = 50\n",
    "\n",
    "train_window_data_75, _, train_window_label_75 = sliding_window_samples(train_75, window_size, overlap_ratio)\n",
    "print(f\"shape of train window dataset ({time_window} sec with {overlap_ratio}% overlap): {train_window_data_75.shape}\")"
   ]
  },
  {
   "cell_type": "code",
   "execution_count": 28,
   "metadata": {},
   "outputs": [],
   "source": [
    "# remove the subject column\n",
    "train_window_data_75 = train_window_data_75[:, :, 1:]"
   ]
  },
  {
   "cell_type": "code",
   "execution_count": 29,
   "metadata": {},
   "outputs": [
    {
     "name": "stdout",
     "output_type": "stream",
     "text": [
      "The shape of train_75 is (7766, 400, 3)\n",
      "The length of train_75 label is 7766\n"
     ]
    }
   ],
   "source": [
    "print('The shape of train_75 is {}'.format(train_window_data_75.shape))\n",
    "print('The length of train_75 label is {}'.format(len(train_window_label_75)))"
   ]
  },
  {
   "cell_type": "markdown",
   "metadata": {},
   "source": [
    "### 50%"
   ]
  },
  {
   "cell_type": "code",
   "execution_count": 30,
   "metadata": {},
   "outputs": [
    {
     "name": "stdout",
     "output_type": "stream",
     "text": [
      "shape of train window dataset (8 sec with 50% overlap): (5494, 400, 4)\n",
      "The shape of train_50 is (5494, 400, 3)\n",
      "The length of train_50 label is 5494\n"
     ]
    }
   ],
   "source": [
    "train_window_data_50, _, train_window_label_50 = sliding_window_samples(train_50, window_size, overlap_ratio)\n",
    "print(f\"shape of train window dataset ({time_window} sec with {overlap_ratio}% overlap): {train_window_data_50.shape}\")\n",
    "\n",
    "# remove the subject column\n",
    "train_window_data_50 = train_window_data_50[:, :, 1:]\n",
    "\n",
    "print('The shape of train_50 is {}'.format(train_window_data_50.shape))\n",
    "print('The length of train_50 label is {}'.format(len(train_window_label_50)))"
   ]
  },
  {
   "cell_type": "markdown",
   "metadata": {},
   "source": [
    "### 25%"
   ]
  },
  {
   "cell_type": "code",
   "execution_count": 31,
   "metadata": {},
   "outputs": [
    {
     "name": "stdout",
     "output_type": "stream",
     "text": [
      "The shape of train_25 is (2179, 400, 3)\n",
      "The length of train_25 label is 2179\n"
     ]
    }
   ],
   "source": [
    "train_window_data_25, _, train_window_label_25 = sliding_window_samples(train_25, window_size, overlap_ratio)\n",
    "# remove the subject column\n",
    "train_window_data_25 = train_window_data_25[:, :, 1:]\n",
    "\n",
    "print('The shape of train_25 is {}'.format(train_window_data_25.shape))\n",
    "print('The length of train_25 label is {}'.format(len(train_window_label_25)))"
   ]
  },
  {
   "cell_type": "markdown",
   "metadata": {},
   "source": [
    "### 10%"
   ]
  },
  {
   "cell_type": "code",
   "execution_count": 32,
   "metadata": {},
   "outputs": [
    {
     "name": "stdout",
     "output_type": "stream",
     "text": [
      "The shape of train_10 is (1061, 400, 3)\n",
      "The length of train_10 label is 1061\n"
     ]
    }
   ],
   "source": [
    "train_window_data_10, _, train_window_label_10 = sliding_window_samples(train_10, window_size, overlap_ratio)\n",
    "# remove the subject column\n",
    "train_window_data_10 = train_window_data_10[:, :, 1:]\n",
    "\n",
    "print('The shape of train_10 is {}'.format(train_window_data_10.shape))\n",
    "print('The length of train_10 label is {}'.format(len(train_window_label_10)))"
   ]
  },
  {
   "cell_type": "markdown",
   "metadata": {},
   "source": [
    "## Generate Subset of Training Data"
   ]
  },
  {
   "cell_type": "code",
   "execution_count": 33,
   "metadata": {},
   "outputs": [],
   "source": [
    "# # Calculate the sample size\n",
    "# sample_size = int(0.75 * len(train_window_data))\n",
    "\n",
    "# # Generate random indices\n",
    "# indices = random.sample(range(len(train_window_data)), sample_size)\n",
    "\n",
    "# # Sample the data and labels\n",
    "# sampled_train_window_data_75 = [train_window_data[i] for i in indices]\n",
    "# sampled_train_window_label_75 = [train_window_label[i] for i in indices]\n",
    "\n",
    "# # print the shape of sampled train data and label\n",
    "# print('The shape of sampled train label is {}'.format(np.array(sampled_train_window_label_75).shape))\n",
    "# print('The shape of sampled train is {}'.format(np.array(sampled_train_window_data_75).shape))\n"
   ]
  },
  {
   "cell_type": "code",
   "execution_count": 34,
   "metadata": {},
   "outputs": [],
   "source": [
    "# # Calculate the sample size\n",
    "# sample_size = int(0.5 * len(train_window_data))\n",
    "\n",
    "# # Generate random indices\n",
    "# indices = random.sample(range(len(train_window_data)), sample_size)\n",
    "\n",
    "# # Sample the data and labels\n",
    "# sampled_train_window_data_50 = [train_window_data[i] for i in indices]\n",
    "# sampled_train_window_label_50 = [train_window_label[i] for i in indices]\n",
    "\n",
    "# # print the shape of sampled train data and label\n",
    "# print('The shape of sampled train label is {}'.format(np.array(sampled_train_window_label_50).shape))\n",
    "# print('The shape of sampled train is {}'.format(np.array(sampled_train_window_data_50).shape))"
   ]
  },
  {
   "cell_type": "code",
   "execution_count": 35,
   "metadata": {},
   "outputs": [],
   "source": [
    "# # Calculate the sample size\n",
    "# sample_size = int(0.25 * len(train_window_data))\n",
    "\n",
    "# # Generate random indices\n",
    "# indices = random.sample(range(len(train_window_data)), sample_size)\n",
    "\n",
    "# # Sample the data and labels\n",
    "# sampled_train_window_data_25 = [train_window_data[i] for i in indices]\n",
    "# sampled_train_window_label_25 = [train_window_label[i] for i in indices]\n",
    "\n",
    "# # print the shape of sampled train data and label\n",
    "# print('The shape of sampled train label is {}'.format(np.array(sampled_train_window_label_25).shape))\n",
    "# print('The shape of sampled train is {}'.format(np.array(sampled_train_window_data_25).shape))\n"
   ]
  },
  {
   "cell_type": "code",
   "execution_count": 36,
   "metadata": {},
   "outputs": [],
   "source": [
    "# # Calculate the sample size\n",
    "# sample_size = int(0.1 * len(train_window_data))\n",
    "\n",
    "# # Generate random indices\n",
    "# indices = random.sample(range(len(train_window_data)), sample_size)\n",
    "\n",
    "# # Sample the data and labels\n",
    "# sampled_train_window_data_10 = [train_window_data[i] for i in indices]\n",
    "# sampled_train_window_label_10 = [train_window_label[i] for i in indices]\n",
    "\n",
    "# # print the shape of sampled train data and label\n",
    "# print('The shape of sampled train label is {}'.format(np.array(sampled_train_window_label_10).shape))\n",
    "# print('The shape of sampled train is {}'.format(np.array(sampled_train_window_data_10).shape))"
   ]
  },
  {
   "cell_type": "markdown",
   "metadata": {},
   "source": [
    "## Generate dataloader"
   ]
  },
  {
   "cell_type": "code",
   "execution_count": 37,
   "metadata": {},
   "outputs": [],
   "source": [
    "# generate dataloader for train and test\n",
    "def generate_dataloader(data, label, batch_size, is_shuffle=True):\n",
    "    \"\"\"\n",
    "    Generate dataloader for train and test\n",
    "\n",
    "    :param data: input data\n",
    "    :param label: input label\n",
    "    :param batch_size: batch size\n",
    "    :return: train and test dataloader\n",
    "    \"\"\"\n",
    "    # Check if data and label are lists, and convert them to NumPy arrays if they are\n",
    "    if isinstance(data, list):\n",
    "        data = np.array(data)\n",
    "    if isinstance(label, list):\n",
    "        label = np.array(label)\n",
    "    \n",
    "    # Convert data and label to tensor\n",
    "    data_tensor = torch.from_numpy(data).float()  # Ensure data is converted to float for PyTorch\n",
    "    label_tensor = torch.from_numpy(label).long()  # Labels typically converted to long for classification tasks\n",
    "    \n",
    "    # Generate dataloader\n",
    "    dataset = TensorDataset(data_tensor, label_tensor)\n",
    "    dataloader = DataLoader(dataset, batch_size=batch_size, shuffle=is_shuffle)\n",
    "    \n",
    "    return dataloader\n"
   ]
  },
  {
   "cell_type": "code",
   "execution_count": 38,
   "metadata": {},
   "outputs": [],
   "source": [
    "# generate dataloader for train and test\n",
    "train_dataloader = generate_dataloader(train_window_data, train_window_label, batch_size)   \n",
    "test_dataloader = generate_dataloader(test_window_data, test_window_label, batch_size, is_shuffle=False)\n",
    "\n",
    "# # generate dataloader for train sampled data and label\n",
    "# train_dataloader_75 = generate_dataloader(sampled_train_window_data_75, sampled_train_window_label_75, batch_size)\n",
    "# train_dataloader_50 = generate_dataloader(sampled_train_window_data_50, sampled_train_window_label_50, batch_size)\n",
    "# train_dataloader_25 = generate_dataloader(sampled_train_window_data_25, sampled_train_window_label_25, batch_size)\n",
    "# train_dataloader_10 = generate_dataloader(sampled_train_window_data_10, sampled_train_window_label_10, batch_size)\n",
    "\n",
    "# generate dataloader for train and test in subject subsetting\n",
    "train_dataloader_75 = generate_dataloader(train_window_data_75, train_window_label_75, batch_size)\n",
    "train_dataloader_50 = generate_dataloader(train_window_data_50, train_window_label_50, batch_size)\n",
    "train_dataloader_25 = generate_dataloader(train_window_data_25, train_window_label_25, batch_size)\n",
    "train_dataloader_10 = generate_dataloader(train_window_data_10, train_window_label_10, batch_size)"
   ]
  },
  {
   "cell_type": "markdown",
   "metadata": {},
   "source": [
    "## Train and Test Functions"
   ]
  },
  {
   "cell_type": "code",
   "execution_count": 39,
   "metadata": {},
   "outputs": [],
   "source": [
    "# create training function\n",
    "def train_function(model, train_loader, criterion, optimizer, device):\n",
    "    model.train()\n",
    "    running_loss = 0.0\n",
    "    for i, data in enumerate(train_loader):\n",
    "        inputs, labels = data[0].to(device), data[1].to(device)\n",
    "        inputs = inputs.transpose(1, 2)\n",
    "        # zero the parameter gradients\n",
    "        optimizer.zero_grad()\n",
    "        # forward + backward + optimize\n",
    "        outputs = model(inputs)\n",
    "        loss = criterion(outputs, labels)\n",
    "        loss.backward()\n",
    "        optimizer.step()\n",
    "        # print statistics\n",
    "        running_loss += loss.item()\n",
    "    return running_loss / len(train_loader)"
   ]
  },
  {
   "cell_type": "code",
   "execution_count": 40,
   "metadata": {},
   "outputs": [],
   "source": [
    "def test_function(model, test_loader, criterion, device):\n",
    "    model.eval()\n",
    "    running_loss = 0.0\n",
    "    correct = 0\n",
    "    all_labels = []\n",
    "    all_predictions = []\n",
    "\n",
    "    with torch.no_grad():\n",
    "        for i, data in enumerate(test_loader):\n",
    "            inputs, labels = data[0].to(device), data[1].to(device)\n",
    "            inputs = inputs.transpose(1, 2)  # Assuming this is necessary for your model\n",
    "            outputs = model(inputs)\n",
    "            loss = criterion(outputs, labels)\n",
    "            running_loss += loss.item()\n",
    "            \n",
    "            _, predicted = torch.max(outputs.data, 1)\n",
    "            correct += (predicted == labels).sum().item()\n",
    "\n",
    "            # Collect all true labels and predictions for F1 score calculation\n",
    "            all_labels.extend(labels.cpu().numpy())\n",
    "            all_predictions.extend(predicted.cpu().numpy())\n",
    "\n",
    "    # Calculate accuracy\n",
    "    accuracy = correct / len(test_loader.dataset)\n",
    "    \n",
    "    # Calculate F1 score. You might need to adjust the 'average' parameter based on your task\n",
    "    # For binary classification, you can use 'binary'. For multi-class, consider 'macro' or 'weighted'\n",
    "    f1 = f1_score(all_labels, all_predictions, average='weighted')\n",
    "\n",
    "    return running_loss / len(test_loader), accuracy, f1\n"
   ]
  },
  {
   "cell_type": "code",
   "execution_count": 41,
   "metadata": {},
   "outputs": [],
   "source": [
    "# create function to train and test model\n",
    "def train_and_test(model, train_loader, test_loader, criterion, optimizer, device, num_epochs):\n",
    "    train_losses = []\n",
    "    test_losses = []\n",
    "    test_accuracies = []\n",
    "    test_f1_scores = []  # List to store F1-scores for each epoch\n",
    "\n",
    "    for epoch in range(num_epochs):\n",
    "        # Training phase\n",
    "        train_loss = train_function(model, train_loader, criterion, optimizer, device)\n",
    "        train_losses.append(train_loss)\n",
    "\n",
    "        # Testing phase\n",
    "        test_loss, test_accuracy, test_f1 = test_function(model, test_loader, criterion, device)  # Modified to receive F1-score\n",
    "        test_losses.append(test_loss)\n",
    "        test_accuracies.append(test_accuracy)\n",
    "        test_f1_scores.append(test_f1)  # Store the F1-score\n",
    "\n",
    "        # Print epoch summary\n",
    "        print(f\"Epoch: {epoch + 1}/{num_epochs}.. Train Loss: {train_loss:.3f}.. \"\n",
    "              f\"Test Loss: {test_loss:.3f}.. Test Accuracy: {test_accuracy:.3f}.. Test F1 Score: {test_f1:.3f}\")\n",
    "\n",
    "    return train_losses, test_losses, test_accuracies, test_f1_scores"
   ]
  },
  {
   "cell_type": "markdown",
   "metadata": {},
   "source": [
    "# Multitask Self Supervised"
   ]
  },
  {
   "cell_type": "markdown",
   "metadata": {},
   "source": [
    "## Model Architecture"
   ]
  },
  {
   "cell_type": "code",
   "execution_count": 42,
   "metadata": {},
   "outputs": [],
   "source": [
    "class TPN(nn.Module):\n",
    "    def __init__(self):\n",
    "        super(TPN, self).__init__()\n",
    "        self.trunk = nn.Sequential(\n",
    "            nn.Conv1d(in_channels=3, out_channels=32, kernel_size=24, stride=1),\n",
    "            nn.ReLU(),\n",
    "            nn.Dropout(0.1),\n",
    "            nn.Conv1d(in_channels=32, out_channels=64, kernel_size=16, stride=1),\n",
    "            nn.ReLU(),\n",
    "            nn.Dropout(0.1),\n",
    "            nn.Conv1d(in_channels=64, out_channels=96, kernel_size=8, stride=1),\n",
    "            nn.ReLU(),\n",
    "            nn.Dropout(0.1),\n",
    "            nn.AdaptiveMaxPool1d(output_size=1)\n",
    "        )\n",
    "\n",
    "        self.heads = nn.ModuleList([\n",
    "            nn.Sequential(\n",
    "                nn.Linear(96, 256),\n",
    "                nn.ReLU(),\n",
    "                nn.Linear(256, 1),\n",
    "                nn.Sigmoid()\n",
    "            ) for _ in range(8)  # 8 heads for 8 different transformations\n",
    "        ])\n",
    "\n",
    "    def forward(self, x):\n",
    "        x = self.trunk(x)\n",
    "        x = x.view(x.size(0), -1)  # Flatten the output for the fully-connected layer\n",
    "        outputs = [head(x) for head in self.heads]\n",
    "        return outputs"
   ]
  },
  {
   "cell_type": "code",
   "execution_count": 43,
   "metadata": {},
   "outputs": [],
   "source": [
    "class SupervisedTPN(nn.Module):\n",
    "    def __init__(self, pretrained_model, num_classes):\n",
    "        super(SupervisedTPN, self).__init__()\n",
    "        self.trunk = pretrained_model.trunk # Use the trunk from the pretrained model\n",
    "        # Freeze the trunk\n",
    "        for param in self.trunk.parameters():\n",
    "            param.requires_grad = False\n",
    "\n",
    "        self.head = nn.Sequential(\n",
    "            nn.Linear(96, 1024),  # Adjusted to match the document's description\n",
    "            nn.ReLU(),\n",
    "            nn.Linear(1024, num_classes)  # Softmax applied externally during training\n",
    "        )\n",
    "        # No softmax here as it's included in nn.CrossEntropyLoss during training\n",
    "\n",
    "    def forward(self, x):\n",
    "        x = self.trunk(x)\n",
    "        x = x.view(x.size(0), -1)  # Flatten the output for the fully-connected layer\n",
    "        output = self.head(x)\n",
    "        return output"
   ]
  },
  {
   "cell_type": "markdown",
   "metadata": {},
   "source": [
    "## Fine-Tuning Only Head Layers"
   ]
  },
  {
   "cell_type": "markdown",
   "metadata": {},
   "source": [
    "### Full Train Data"
   ]
  },
  {
   "cell_type": "code",
   "execution_count": 44,
   "metadata": {},
   "outputs": [],
   "source": [
    "# load pre-trained model\n",
    "pretrained_model_path = './multitask/tpn_30_epoch_regularized.pt'  # Adjust as necessary\n",
    "pretrained_model = TPN()\n",
    "pretrained_model.load_state_dict(torch.load(pretrained_model_path))\n",
    "\n",
    "# Create the supervised model by adjusting the pre-trained model\n",
    "supervised_model = SupervisedTPN(pretrained_model, num_classes=num_classes).to(device)"
   ]
  },
  {
   "cell_type": "code",
   "execution_count": 45,
   "metadata": {},
   "outputs": [
    {
     "name": "stdout",
     "output_type": "stream",
     "text": [
      "Epoch: 1/30.. Train Loss: 0.948.. Test Loss: 1.105.. Test Accuracy: 0.640.. Test F1 Score: 0.626\n",
      "Epoch: 2/30.. Train Loss: 0.704.. Test Loss: 1.074.. Test Accuracy: 0.682.. Test F1 Score: 0.679\n",
      "Epoch: 3/30.. Train Loss: 0.674.. Test Loss: 1.119.. Test Accuracy: 0.648.. Test F1 Score: 0.644\n",
      "Epoch: 4/30.. Train Loss: 0.631.. Test Loss: 1.136.. Test Accuracy: 0.662.. Test F1 Score: 0.656\n",
      "Epoch: 5/30.. Train Loss: 0.617.. Test Loss: 1.104.. Test Accuracy: 0.674.. Test F1 Score: 0.678\n",
      "Epoch: 6/30.. Train Loss: 0.586.. Test Loss: 1.008.. Test Accuracy: 0.676.. Test F1 Score: 0.671\n",
      "Epoch: 7/30.. Train Loss: 0.565.. Test Loss: 1.033.. Test Accuracy: 0.674.. Test F1 Score: 0.675\n",
      "Epoch: 8/30.. Train Loss: 0.548.. Test Loss: 1.135.. Test Accuracy: 0.689.. Test F1 Score: 0.676\n",
      "Epoch: 9/30.. Train Loss: 0.541.. Test Loss: 1.034.. Test Accuracy: 0.681.. Test F1 Score: 0.678\n",
      "Epoch: 10/30.. Train Loss: 0.529.. Test Loss: 1.098.. Test Accuracy: 0.675.. Test F1 Score: 0.674\n",
      "Epoch: 11/30.. Train Loss: 0.517.. Test Loss: 1.049.. Test Accuracy: 0.676.. Test F1 Score: 0.672\n",
      "Epoch: 12/30.. Train Loss: 0.503.. Test Loss: 1.024.. Test Accuracy: 0.684.. Test F1 Score: 0.679\n",
      "Epoch: 13/30.. Train Loss: 0.502.. Test Loss: 1.046.. Test Accuracy: 0.681.. Test F1 Score: 0.678\n",
      "Epoch: 14/30.. Train Loss: 0.488.. Test Loss: 1.130.. Test Accuracy: 0.682.. Test F1 Score: 0.678\n",
      "Epoch: 15/30.. Train Loss: 0.479.. Test Loss: 1.081.. Test Accuracy: 0.686.. Test F1 Score: 0.688\n",
      "Epoch: 16/30.. Train Loss: 0.470.. Test Loss: 0.982.. Test Accuracy: 0.686.. Test F1 Score: 0.685\n",
      "Epoch: 17/30.. Train Loss: 0.466.. Test Loss: 1.013.. Test Accuracy: 0.686.. Test F1 Score: 0.684\n",
      "Epoch: 18/30.. Train Loss: 0.451.. Test Loss: 1.073.. Test Accuracy: 0.697.. Test F1 Score: 0.691\n",
      "Epoch: 19/30.. Train Loss: 0.457.. Test Loss: 1.069.. Test Accuracy: 0.688.. Test F1 Score: 0.683\n",
      "Epoch: 20/30.. Train Loss: 0.444.. Test Loss: 1.078.. Test Accuracy: 0.682.. Test F1 Score: 0.674\n",
      "Epoch: 21/30.. Train Loss: 0.438.. Test Loss: 1.141.. Test Accuracy: 0.680.. Test F1 Score: 0.674\n",
      "Epoch: 22/30.. Train Loss: 0.447.. Test Loss: 1.025.. Test Accuracy: 0.681.. Test F1 Score: 0.678\n",
      "Epoch: 23/30.. Train Loss: 0.434.. Test Loss: 1.062.. Test Accuracy: 0.694.. Test F1 Score: 0.690\n",
      "Epoch: 24/30.. Train Loss: 0.432.. Test Loss: 1.024.. Test Accuracy: 0.681.. Test F1 Score: 0.677\n",
      "Epoch: 25/30.. Train Loss: 0.426.. Test Loss: 1.001.. Test Accuracy: 0.678.. Test F1 Score: 0.679\n",
      "Epoch: 26/30.. Train Loss: 0.424.. Test Loss: 1.001.. Test Accuracy: 0.703.. Test F1 Score: 0.704\n",
      "Epoch: 27/30.. Train Loss: 0.425.. Test Loss: 0.959.. Test Accuracy: 0.698.. Test F1 Score: 0.694\n",
      "Epoch: 28/30.. Train Loss: 0.418.. Test Loss: 1.165.. Test Accuracy: 0.684.. Test F1 Score: 0.684\n",
      "Epoch: 29/30.. Train Loss: 0.411.. Test Loss: 0.984.. Test Accuracy: 0.693.. Test F1 Score: 0.690\n",
      "Epoch: 30/30.. Train Loss: 0.413.. Test Loss: 1.096.. Test Accuracy: 0.689.. Test F1 Score: 0.685\n"
     ]
    }
   ],
   "source": [
    "# Prepare for fine-tuning\n",
    "criterion = nn.CrossEntropyLoss()\n",
    "optimizer = optim.Adam(supervised_model.head.parameters(), lr=0.0003, weight_decay=0.0001)\n",
    "\n",
    "# train and test model\n",
    "num_epochs = 30\n",
    "train_losses, test_losses, test_accuracies, test_f1_scores = train_and_test(supervised_model, train_dataloader, test_dataloader, criterion, optimizer, device, num_epochs=num_epochs)"
   ]
  },
  {
   "cell_type": "markdown",
   "metadata": {},
   "source": [
    "### 75% Train Data"
   ]
  },
  {
   "cell_type": "code",
   "execution_count": 46,
   "metadata": {},
   "outputs": [],
   "source": [
    "# load pre-trained model\n",
    "pretrained_model_path = './multitask/tpn_30_epoch_regularized.pt'  # Adjust as necessary\n",
    "pretrained_model = TPN()\n",
    "pretrained_model.load_state_dict(torch.load(pretrained_model_path))\n",
    "\n",
    "# Create the supervised model by adjusting the pre-trained model\n",
    "supervised_model = SupervisedTPN(pretrained_model, num_classes=num_classes).to(device)"
   ]
  },
  {
   "cell_type": "code",
   "execution_count": 47,
   "metadata": {},
   "outputs": [
    {
     "name": "stdout",
     "output_type": "stream",
     "text": [
      "Epoch: 1/30.. Train Loss: 1.021.. Test Loss: 1.168.. Test Accuracy: 0.641.. Test F1 Score: 0.636\n",
      "Epoch: 2/30.. Train Loss: 0.763.. Test Loss: 1.137.. Test Accuracy: 0.632.. Test F1 Score: 0.633\n",
      "Epoch: 3/30.. Train Loss: 0.684.. Test Loss: 1.119.. Test Accuracy: 0.642.. Test F1 Score: 0.641\n",
      "Epoch: 4/30.. Train Loss: 0.656.. Test Loss: 1.371.. Test Accuracy: 0.653.. Test F1 Score: 0.646\n",
      "Epoch: 5/30.. Train Loss: 0.625.. Test Loss: 1.398.. Test Accuracy: 0.657.. Test F1 Score: 0.649\n",
      "Epoch: 6/30.. Train Loss: 0.607.. Test Loss: 1.226.. Test Accuracy: 0.655.. Test F1 Score: 0.654\n",
      "Epoch: 7/30.. Train Loss: 0.605.. Test Loss: 1.351.. Test Accuracy: 0.651.. Test F1 Score: 0.649\n",
      "Epoch: 8/30.. Train Loss: 0.559.. Test Loss: 1.258.. Test Accuracy: 0.656.. Test F1 Score: 0.653\n",
      "Epoch: 9/30.. Train Loss: 0.547.. Test Loss: 1.254.. Test Accuracy: 0.652.. Test F1 Score: 0.664\n",
      "Epoch: 10/30.. Train Loss: 0.532.. Test Loss: 1.394.. Test Accuracy: 0.645.. Test F1 Score: 0.643\n",
      "Epoch: 11/30.. Train Loss: 0.521.. Test Loss: 1.250.. Test Accuracy: 0.669.. Test F1 Score: 0.670\n",
      "Epoch: 12/30.. Train Loss: 0.507.. Test Loss: 1.280.. Test Accuracy: 0.663.. Test F1 Score: 0.656\n",
      "Epoch: 13/30.. Train Loss: 0.500.. Test Loss: 1.425.. Test Accuracy: 0.645.. Test F1 Score: 0.643\n",
      "Epoch: 14/30.. Train Loss: 0.493.. Test Loss: 1.297.. Test Accuracy: 0.668.. Test F1 Score: 0.666\n",
      "Epoch: 15/30.. Train Loss: 0.484.. Test Loss: 1.313.. Test Accuracy: 0.674.. Test F1 Score: 0.671\n",
      "Epoch: 16/30.. Train Loss: 0.473.. Test Loss: 1.308.. Test Accuracy: 0.662.. Test F1 Score: 0.663\n",
      "Epoch: 17/30.. Train Loss: 0.475.. Test Loss: 1.288.. Test Accuracy: 0.663.. Test F1 Score: 0.664\n",
      "Epoch: 18/30.. Train Loss: 0.466.. Test Loss: 1.178.. Test Accuracy: 0.666.. Test F1 Score: 0.660\n",
      "Epoch: 19/30.. Train Loss: 0.457.. Test Loss: 1.258.. Test Accuracy: 0.660.. Test F1 Score: 0.658\n",
      "Epoch: 20/30.. Train Loss: 0.449.. Test Loss: 1.389.. Test Accuracy: 0.660.. Test F1 Score: 0.658\n",
      "Epoch: 21/30.. Train Loss: 0.440.. Test Loss: 1.179.. Test Accuracy: 0.667.. Test F1 Score: 0.666\n",
      "Epoch: 22/30.. Train Loss: 0.444.. Test Loss: 1.338.. Test Accuracy: 0.661.. Test F1 Score: 0.658\n",
      "Epoch: 23/30.. Train Loss: 0.423.. Test Loss: 1.265.. Test Accuracy: 0.658.. Test F1 Score: 0.662\n",
      "Epoch: 24/30.. Train Loss: 0.443.. Test Loss: 1.311.. Test Accuracy: 0.677.. Test F1 Score: 0.670\n",
      "Epoch: 25/30.. Train Loss: 0.421.. Test Loss: 1.379.. Test Accuracy: 0.663.. Test F1 Score: 0.667\n",
      "Epoch: 26/30.. Train Loss: 0.421.. Test Loss: 1.332.. Test Accuracy: 0.678.. Test F1 Score: 0.673\n",
      "Epoch: 27/30.. Train Loss: 0.417.. Test Loss: 1.358.. Test Accuracy: 0.674.. Test F1 Score: 0.664\n",
      "Epoch: 28/30.. Train Loss: 0.410.. Test Loss: 1.378.. Test Accuracy: 0.667.. Test F1 Score: 0.665\n",
      "Epoch: 29/30.. Train Loss: 0.407.. Test Loss: 1.402.. Test Accuracy: 0.668.. Test F1 Score: 0.663\n",
      "Epoch: 30/30.. Train Loss: 0.404.. Test Loss: 1.369.. Test Accuracy: 0.658.. Test F1 Score: 0.659\n"
     ]
    }
   ],
   "source": [
    "# prepare for fine-tuning\n",
    "criterion = nn.CrossEntropyLoss()\n",
    "optimizer = optim.Adam(supervised_model.head.parameters(), lr=0.0003, weight_decay=0.0001)\n",
    "\n",
    "# train and test model\n",
    "num_epochs = 30\n",
    "train_losses, test_losses, test_accuracies, test_f1_scores = train_and_test(supervised_model, train_dataloader_75, test_dataloader, criterion, optimizer, device, num_epochs=num_epochs)"
   ]
  },
  {
   "cell_type": "markdown",
   "metadata": {},
   "source": [
    "### 50% Train Data"
   ]
  },
  {
   "cell_type": "code",
   "execution_count": 48,
   "metadata": {},
   "outputs": [],
   "source": [
    "# load pre-trained model\n",
    "pretrained_model_path = './multitask/tpn_30_epoch_regularized.pt'  # Adjust as necessary\n",
    "pretrained_model = TPN()\n",
    "pretrained_model.load_state_dict(torch.load(pretrained_model_path))\n",
    "\n",
    "# Create the supervised model by adjusting the pre-trained model\n",
    "supervised_model = SupervisedTPN(pretrained_model, num_classes=num_classes).to(device)"
   ]
  },
  {
   "cell_type": "code",
   "execution_count": 49,
   "metadata": {},
   "outputs": [
    {
     "name": "stdout",
     "output_type": "stream",
     "text": [
      "Epoch: 1/30.. Train Loss: 1.074.. Test Loss: 1.251.. Test Accuracy: 0.558.. Test F1 Score: 0.565\n",
      "Epoch: 2/30.. Train Loss: 0.721.. Test Loss: 1.103.. Test Accuracy: 0.645.. Test F1 Score: 0.640\n",
      "Epoch: 3/30.. Train Loss: 0.650.. Test Loss: 1.163.. Test Accuracy: 0.620.. Test F1 Score: 0.620\n",
      "Epoch: 4/30.. Train Loss: 0.584.. Test Loss: 1.003.. Test Accuracy: 0.688.. Test F1 Score: 0.681\n",
      "Epoch: 5/30.. Train Loss: 0.585.. Test Loss: 1.089.. Test Accuracy: 0.671.. Test F1 Score: 0.671\n",
      "Epoch: 6/30.. Train Loss: 0.534.. Test Loss: 1.069.. Test Accuracy: 0.664.. Test F1 Score: 0.661\n",
      "Epoch: 7/30.. Train Loss: 0.545.. Test Loss: 1.024.. Test Accuracy: 0.673.. Test F1 Score: 0.678\n",
      "Epoch: 8/30.. Train Loss: 0.513.. Test Loss: 1.154.. Test Accuracy: 0.663.. Test F1 Score: 0.663\n",
      "Epoch: 9/30.. Train Loss: 0.498.. Test Loss: 1.008.. Test Accuracy: 0.697.. Test F1 Score: 0.703\n",
      "Epoch: 10/30.. Train Loss: 0.488.. Test Loss: 1.200.. Test Accuracy: 0.619.. Test F1 Score: 0.623\n",
      "Epoch: 11/30.. Train Loss: 0.513.. Test Loss: 1.104.. Test Accuracy: 0.688.. Test F1 Score: 0.692\n",
      "Epoch: 12/30.. Train Loss: 0.455.. Test Loss: 1.051.. Test Accuracy: 0.687.. Test F1 Score: 0.688\n",
      "Epoch: 13/30.. Train Loss: 0.468.. Test Loss: 1.122.. Test Accuracy: 0.673.. Test F1 Score: 0.674\n",
      "Epoch: 14/30.. Train Loss: 0.449.. Test Loss: 1.050.. Test Accuracy: 0.704.. Test F1 Score: 0.699\n",
      "Epoch: 15/30.. Train Loss: 0.448.. Test Loss: 1.019.. Test Accuracy: 0.695.. Test F1 Score: 0.692\n",
      "Epoch: 16/30.. Train Loss: 0.454.. Test Loss: 0.995.. Test Accuracy: 0.697.. Test F1 Score: 0.696\n",
      "Epoch: 17/30.. Train Loss: 0.425.. Test Loss: 1.059.. Test Accuracy: 0.684.. Test F1 Score: 0.689\n",
      "Epoch: 18/30.. Train Loss: 0.424.. Test Loss: 1.044.. Test Accuracy: 0.691.. Test F1 Score: 0.695\n",
      "Epoch: 19/30.. Train Loss: 0.421.. Test Loss: 1.110.. Test Accuracy: 0.687.. Test F1 Score: 0.678\n",
      "Epoch: 20/30.. Train Loss: 0.415.. Test Loss: 1.125.. Test Accuracy: 0.685.. Test F1 Score: 0.683\n",
      "Epoch: 21/30.. Train Loss: 0.406.. Test Loss: 1.124.. Test Accuracy: 0.673.. Test F1 Score: 0.677\n",
      "Epoch: 22/30.. Train Loss: 0.401.. Test Loss: 1.106.. Test Accuracy: 0.689.. Test F1 Score: 0.693\n",
      "Epoch: 23/30.. Train Loss: 0.393.. Test Loss: 1.197.. Test Accuracy: 0.625.. Test F1 Score: 0.611\n",
      "Epoch: 24/30.. Train Loss: 0.384.. Test Loss: 1.035.. Test Accuracy: 0.689.. Test F1 Score: 0.690\n",
      "Epoch: 25/30.. Train Loss: 0.397.. Test Loss: 1.079.. Test Accuracy: 0.654.. Test F1 Score: 0.652\n",
      "Epoch: 26/30.. Train Loss: 0.387.. Test Loss: 1.159.. Test Accuracy: 0.629.. Test F1 Score: 0.623\n",
      "Epoch: 27/30.. Train Loss: 0.378.. Test Loss: 1.262.. Test Accuracy: 0.624.. Test F1 Score: 0.602\n",
      "Epoch: 28/30.. Train Loss: 0.367.. Test Loss: 1.027.. Test Accuracy: 0.696.. Test F1 Score: 0.693\n",
      "Epoch: 29/30.. Train Loss: 0.366.. Test Loss: 1.163.. Test Accuracy: 0.630.. Test F1 Score: 0.628\n",
      "Epoch: 30/30.. Train Loss: 0.373.. Test Loss: 1.063.. Test Accuracy: 0.655.. Test F1 Score: 0.654\n"
     ]
    }
   ],
   "source": [
    "# prepare for fine-tuning\n",
    "criterion = nn.CrossEntropyLoss()\n",
    "optimizer = optim.Adam(supervised_model.head.parameters(), lr=0.0003, weight_decay=0.0001)\n",
    "\n",
    "# train and test model\n",
    "num_epochs = 30\n",
    "train_losses, test_losses, test_accuracies, test_f1_scores = train_and_test(supervised_model, train_dataloader_50, test_dataloader, criterion, optimizer, device, num_epochs=num_epochs)"
   ]
  },
  {
   "cell_type": "markdown",
   "metadata": {},
   "source": [
    "### 25% Train Data"
   ]
  },
  {
   "cell_type": "code",
   "execution_count": 50,
   "metadata": {},
   "outputs": [],
   "source": [
    "# load pre-trained model\n",
    "pretrained_model_path = './multitask/tpn_30_epoch_regularized.pt'  # Adjust as necessary\n",
    "pretrained_model = TPN()\n",
    "pretrained_model.load_state_dict(torch.load(pretrained_model_path))\n",
    "\n",
    "# Create the supervised model by adjusting the pre-trained model\n",
    "supervised_model = SupervisedTPN(pretrained_model, num_classes=num_classes).to(device)"
   ]
  },
  {
   "cell_type": "code",
   "execution_count": 51,
   "metadata": {},
   "outputs": [
    {
     "name": "stdout",
     "output_type": "stream",
     "text": [
      "Epoch: 1/30.. Train Loss: 0.943.. Test Loss: 1.586.. Test Accuracy: 0.599.. Test F1 Score: 0.596\n",
      "Epoch: 2/30.. Train Loss: 0.699.. Test Loss: 1.695.. Test Accuracy: 0.582.. Test F1 Score: 0.580\n",
      "Epoch: 3/30.. Train Loss: 0.441.. Test Loss: 1.578.. Test Accuracy: 0.582.. Test F1 Score: 0.585\n",
      "Epoch: 4/30.. Train Loss: 0.428.. Test Loss: 1.546.. Test Accuracy: 0.572.. Test F1 Score: 0.573\n",
      "Epoch: 5/30.. Train Loss: 0.397.. Test Loss: 1.618.. Test Accuracy: 0.575.. Test F1 Score: 0.573\n",
      "Epoch: 6/30.. Train Loss: 0.390.. Test Loss: 1.587.. Test Accuracy: 0.574.. Test F1 Score: 0.575\n",
      "Epoch: 7/30.. Train Loss: 0.393.. Test Loss: 1.666.. Test Accuracy: 0.529.. Test F1 Score: 0.527\n",
      "Epoch: 8/30.. Train Loss: 0.342.. Test Loss: 1.912.. Test Accuracy: 0.578.. Test F1 Score: 0.580\n",
      "Epoch: 9/30.. Train Loss: 0.334.. Test Loss: 2.034.. Test Accuracy: 0.534.. Test F1 Score: 0.527\n",
      "Epoch: 10/30.. Train Loss: 0.327.. Test Loss: 1.769.. Test Accuracy: 0.583.. Test F1 Score: 0.582\n",
      "Epoch: 11/30.. Train Loss: 0.319.. Test Loss: 1.765.. Test Accuracy: 0.570.. Test F1 Score: 0.566\n",
      "Epoch: 12/30.. Train Loss: 0.315.. Test Loss: 1.691.. Test Accuracy: 0.578.. Test F1 Score: 0.577\n",
      "Epoch: 13/30.. Train Loss: 0.335.. Test Loss: 1.790.. Test Accuracy: 0.587.. Test F1 Score: 0.594\n",
      "Epoch: 14/30.. Train Loss: 0.315.. Test Loss: 1.708.. Test Accuracy: 0.562.. Test F1 Score: 0.557\n",
      "Epoch: 15/30.. Train Loss: 0.317.. Test Loss: 2.026.. Test Accuracy: 0.546.. Test F1 Score: 0.527\n",
      "Epoch: 16/30.. Train Loss: 0.331.. Test Loss: 1.951.. Test Accuracy: 0.552.. Test F1 Score: 0.553\n",
      "Epoch: 17/30.. Train Loss: 0.293.. Test Loss: 1.960.. Test Accuracy: 0.600.. Test F1 Score: 0.600\n",
      "Epoch: 18/30.. Train Loss: 0.309.. Test Loss: 1.872.. Test Accuracy: 0.546.. Test F1 Score: 0.548\n",
      "Epoch: 19/30.. Train Loss: 0.276.. Test Loss: 1.777.. Test Accuracy: 0.536.. Test F1 Score: 0.540\n",
      "Epoch: 20/30.. Train Loss: 0.273.. Test Loss: 1.961.. Test Accuracy: 0.556.. Test F1 Score: 0.558\n",
      "Epoch: 21/30.. Train Loss: 0.266.. Test Loss: 2.334.. Test Accuracy: 0.530.. Test F1 Score: 0.518\n",
      "Epoch: 22/30.. Train Loss: 0.263.. Test Loss: 1.848.. Test Accuracy: 0.586.. Test F1 Score: 0.586\n",
      "Epoch: 23/30.. Train Loss: 0.259.. Test Loss: 2.236.. Test Accuracy: 0.537.. Test F1 Score: 0.542\n",
      "Epoch: 24/30.. Train Loss: 0.266.. Test Loss: 2.035.. Test Accuracy: 0.544.. Test F1 Score: 0.543\n",
      "Epoch: 25/30.. Train Loss: 0.292.. Test Loss: 1.949.. Test Accuracy: 0.549.. Test F1 Score: 0.527\n",
      "Epoch: 26/30.. Train Loss: 0.246.. Test Loss: 2.184.. Test Accuracy: 0.567.. Test F1 Score: 0.566\n",
      "Epoch: 27/30.. Train Loss: 0.239.. Test Loss: 1.947.. Test Accuracy: 0.544.. Test F1 Score: 0.550\n",
      "Epoch: 28/30.. Train Loss: 0.268.. Test Loss: 1.888.. Test Accuracy: 0.570.. Test F1 Score: 0.574\n",
      "Epoch: 29/30.. Train Loss: 0.260.. Test Loss: 1.795.. Test Accuracy: 0.594.. Test F1 Score: 0.599\n",
      "Epoch: 30/30.. Train Loss: 0.221.. Test Loss: 2.185.. Test Accuracy: 0.583.. Test F1 Score: 0.584\n"
     ]
    }
   ],
   "source": [
    "# prepare for fine-tuning\n",
    "criterion = nn.CrossEntropyLoss()\n",
    "optimizer = optim.Adam(supervised_model.head.parameters(), lr=0.0003, weight_decay=0.0001)\n",
    "\n",
    "# train and test model\n",
    "num_epochs = 30\n",
    "train_losses, test_losses, test_accuracies, test_f1_scores = train_and_test(supervised_model, train_dataloader_25, test_dataloader, criterion, optimizer, device, num_epochs=num_epochs)"
   ]
  },
  {
   "cell_type": "markdown",
   "metadata": {},
   "source": [
    "### 10% Train Data"
   ]
  },
  {
   "cell_type": "code",
   "execution_count": 52,
   "metadata": {},
   "outputs": [],
   "source": [
    "# load pre-trained model\n",
    "pretrained_model_path = './multitask/tpn_30_epoch_regularized.pt'  # Adjust as necessary\n",
    "pretrained_model = TPN()\n",
    "pretrained_model.load_state_dict(torch.load(pretrained_model_path))\n",
    "\n",
    "# Create the supervised model by adjusting the pre-trained model\n",
    "supervised_model = SupervisedTPN(pretrained_model, num_classes=num_classes).to(device)"
   ]
  },
  {
   "cell_type": "code",
   "execution_count": 53,
   "metadata": {},
   "outputs": [
    {
     "name": "stdout",
     "output_type": "stream",
     "text": [
      "Epoch: 1/30.. Train Loss: 1.208.. Test Loss: 1.652.. Test Accuracy: 0.541.. Test F1 Score: 0.533\n",
      "Epoch: 2/30.. Train Loss: 0.560.. Test Loss: 1.709.. Test Accuracy: 0.476.. Test F1 Score: 0.470\n",
      "Epoch: 3/30.. Train Loss: 0.462.. Test Loss: 1.730.. Test Accuracy: 0.508.. Test F1 Score: 0.505\n",
      "Epoch: 4/30.. Train Loss: 0.525.. Test Loss: 1.722.. Test Accuracy: 0.473.. Test F1 Score: 0.479\n",
      "Epoch: 5/30.. Train Loss: 0.344.. Test Loss: 1.909.. Test Accuracy: 0.453.. Test F1 Score: 0.454\n",
      "Epoch: 6/30.. Train Loss: 0.297.. Test Loss: 1.846.. Test Accuracy: 0.474.. Test F1 Score: 0.483\n",
      "Epoch: 7/30.. Train Loss: 0.269.. Test Loss: 1.988.. Test Accuracy: 0.467.. Test F1 Score: 0.472\n",
      "Epoch: 8/30.. Train Loss: 0.265.. Test Loss: 1.946.. Test Accuracy: 0.478.. Test F1 Score: 0.485\n",
      "Epoch: 9/30.. Train Loss: 0.241.. Test Loss: 2.100.. Test Accuracy: 0.469.. Test F1 Score: 0.471\n",
      "Epoch: 10/30.. Train Loss: 0.216.. Test Loss: 2.014.. Test Accuracy: 0.478.. Test F1 Score: 0.481\n",
      "Epoch: 11/30.. Train Loss: 0.261.. Test Loss: 2.221.. Test Accuracy: 0.461.. Test F1 Score: 0.465\n",
      "Epoch: 12/30.. Train Loss: 0.191.. Test Loss: 2.143.. Test Accuracy: 0.476.. Test F1 Score: 0.478\n",
      "Epoch: 13/30.. Train Loss: 0.203.. Test Loss: 2.195.. Test Accuracy: 0.510.. Test F1 Score: 0.518\n",
      "Epoch: 14/30.. Train Loss: 0.190.. Test Loss: 2.341.. Test Accuracy: 0.470.. Test F1 Score: 0.470\n",
      "Epoch: 15/30.. Train Loss: 0.173.. Test Loss: 2.192.. Test Accuracy: 0.470.. Test F1 Score: 0.478\n",
      "Epoch: 16/30.. Train Loss: 0.177.. Test Loss: 2.406.. Test Accuracy: 0.473.. Test F1 Score: 0.469\n",
      "Epoch: 17/30.. Train Loss: 0.190.. Test Loss: 2.408.. Test Accuracy: 0.457.. Test F1 Score: 0.470\n",
      "Epoch: 18/30.. Train Loss: 0.199.. Test Loss: 2.456.. Test Accuracy: 0.466.. Test F1 Score: 0.475\n",
      "Epoch: 19/30.. Train Loss: 0.220.. Test Loss: 2.330.. Test Accuracy: 0.474.. Test F1 Score: 0.481\n",
      "Epoch: 20/30.. Train Loss: 0.156.. Test Loss: 2.811.. Test Accuracy: 0.451.. Test F1 Score: 0.450\n",
      "Epoch: 21/30.. Train Loss: 0.165.. Test Loss: 2.670.. Test Accuracy: 0.463.. Test F1 Score: 0.461\n",
      "Epoch: 22/30.. Train Loss: 0.255.. Test Loss: 2.630.. Test Accuracy: 0.463.. Test F1 Score: 0.462\n",
      "Epoch: 23/30.. Train Loss: 0.164.. Test Loss: 2.631.. Test Accuracy: 0.457.. Test F1 Score: 0.461\n",
      "Epoch: 24/30.. Train Loss: 0.156.. Test Loss: 2.397.. Test Accuracy: 0.472.. Test F1 Score: 0.481\n",
      "Epoch: 25/30.. Train Loss: 0.150.. Test Loss: 2.737.. Test Accuracy: 0.459.. Test F1 Score: 0.459\n",
      "Epoch: 26/30.. Train Loss: 0.242.. Test Loss: 2.988.. Test Accuracy: 0.458.. Test F1 Score: 0.453\n",
      "Epoch: 27/30.. Train Loss: 0.250.. Test Loss: 3.276.. Test Accuracy: 0.442.. Test F1 Score: 0.433\n",
      "Epoch: 28/30.. Train Loss: 0.155.. Test Loss: 2.522.. Test Accuracy: 0.471.. Test F1 Score: 0.481\n",
      "Epoch: 29/30.. Train Loss: 0.128.. Test Loss: 2.935.. Test Accuracy: 0.458.. Test F1 Score: 0.458\n",
      "Epoch: 30/30.. Train Loss: 0.118.. Test Loss: 2.502.. Test Accuracy: 0.466.. Test F1 Score: 0.480\n"
     ]
    }
   ],
   "source": [
    "# prepare for fine-tuning\n",
    "criterion = nn.CrossEntropyLoss()\n",
    "optimizer = optim.Adam(supervised_model.head.parameters(), lr=0.0003, weight_decay=0.0001)\n",
    "\n",
    "# train and test model\n",
    "num_epochs = 30\n",
    "train_losses, test_losses, test_accuracies, test_f1_scores = train_and_test(supervised_model, train_dataloader_10, test_dataloader, criterion, optimizer, device, num_epochs=num_epochs)"
   ]
  },
  {
   "cell_type": "markdown",
   "metadata": {},
   "source": [
    "## Fine Tune Last Conv Layers"
   ]
  },
  {
   "cell_type": "code",
   "execution_count": 54,
   "metadata": {},
   "outputs": [],
   "source": [
    "class SupervisedTPN(nn.Module):\n",
    "    def __init__(self, pretrained_model, num_classes):\n",
    "        super(SupervisedTPN, self).__init__()\n",
    "        self.trunk = pretrained_model.trunk  # Use the trunk from the pretrained model\n",
    "\n",
    "        # Freeze all the trunk layers first\n",
    "        for param in self.trunk.parameters():\n",
    "            param.requires_grad = False\n",
    "\n",
    "        # Unfreeze the last convolutional layer\n",
    "        # Assuming the last conv layer is the third from the last in the trunk sequence\n",
    "        for param in self.trunk[-3].parameters():\n",
    "            param.requires_grad = True\n",
    "\n",
    "        self.head = nn.Sequential(\n",
    "            nn.Linear(96, 1024),  # Adjusted to match the document's description\n",
    "            nn.ReLU(),\n",
    "            nn.Linear(1024, num_classes)  # Softmax applied externally during training\n",
    "        )\n",
    "        # No softmax here as it's included in nn.CrossEntropyLoss during training\n",
    "\n",
    "    def forward(self, x):\n",
    "        x = self.trunk(x)\n",
    "        x = x.view(x.size(0), -1)  # Flatten the output for the fully-connected layer\n",
    "        output = self.head(x)\n",
    "        return output"
   ]
  },
  {
   "cell_type": "markdown",
   "metadata": {},
   "source": [
    "### Full Train Data"
   ]
  },
  {
   "cell_type": "code",
   "execution_count": 55,
   "metadata": {},
   "outputs": [],
   "source": [
    "# load pre-trained model\n",
    "pretrained_model_path = './multitask/tpn_30_epoch_regularized.pt'  # Adjust as necessary\n",
    "pretrained_model = TPN()\n",
    "pretrained_model.load_state_dict(torch.load(pretrained_model_path))\n",
    "\n",
    "# Create the supervised model by adjusting the pre-trained model\n",
    "supervised_model = SupervisedTPN(pretrained_model, num_classes=num_classes).to(device)"
   ]
  },
  {
   "cell_type": "code",
   "execution_count": 56,
   "metadata": {},
   "outputs": [
    {
     "name": "stdout",
     "output_type": "stream",
     "text": [
      "Epoch: 1/30.. Train Loss: 0.946.. Test Loss: 1.021.. Test Accuracy: 0.650.. Test F1 Score: 0.645\n",
      "Epoch: 2/30.. Train Loss: 0.717.. Test Loss: 1.114.. Test Accuracy: 0.651.. Test F1 Score: 0.645\n",
      "Epoch: 3/30.. Train Loss: 0.662.. Test Loss: 1.099.. Test Accuracy: 0.661.. Test F1 Score: 0.659\n",
      "Epoch: 4/30.. Train Loss: 0.635.. Test Loss: 1.371.. Test Accuracy: 0.654.. Test F1 Score: 0.653\n",
      "Epoch: 5/30.. Train Loss: 0.608.. Test Loss: 1.049.. Test Accuracy: 0.680.. Test F1 Score: 0.674\n",
      "Epoch: 6/30.. Train Loss: 0.587.. Test Loss: 1.084.. Test Accuracy: 0.669.. Test F1 Score: 0.664\n",
      "Epoch: 7/30.. Train Loss: 0.570.. Test Loss: 0.949.. Test Accuracy: 0.687.. Test F1 Score: 0.683\n",
      "Epoch: 8/30.. Train Loss: 0.553.. Test Loss: 1.011.. Test Accuracy: 0.676.. Test F1 Score: 0.675\n",
      "Epoch: 9/30.. Train Loss: 0.538.. Test Loss: 1.152.. Test Accuracy: 0.683.. Test F1 Score: 0.680\n",
      "Epoch: 10/30.. Train Loss: 0.532.. Test Loss: 1.102.. Test Accuracy: 0.661.. Test F1 Score: 0.665\n",
      "Epoch: 11/30.. Train Loss: 0.513.. Test Loss: 1.022.. Test Accuracy: 0.694.. Test F1 Score: 0.691\n",
      "Epoch: 12/30.. Train Loss: 0.508.. Test Loss: 1.037.. Test Accuracy: 0.684.. Test F1 Score: 0.680\n",
      "Epoch: 13/30.. Train Loss: 0.492.. Test Loss: 1.039.. Test Accuracy: 0.679.. Test F1 Score: 0.673\n",
      "Epoch: 14/30.. Train Loss: 0.485.. Test Loss: 1.071.. Test Accuracy: 0.682.. Test F1 Score: 0.678\n",
      "Epoch: 15/30.. Train Loss: 0.477.. Test Loss: 1.001.. Test Accuracy: 0.697.. Test F1 Score: 0.690\n",
      "Epoch: 16/30.. Train Loss: 0.471.. Test Loss: 1.105.. Test Accuracy: 0.684.. Test F1 Score: 0.681\n",
      "Epoch: 17/30.. Train Loss: 0.468.. Test Loss: 1.027.. Test Accuracy: 0.699.. Test F1 Score: 0.694\n",
      "Epoch: 18/30.. Train Loss: 0.465.. Test Loss: 1.126.. Test Accuracy: 0.692.. Test F1 Score: 0.687\n",
      "Epoch: 19/30.. Train Loss: 0.452.. Test Loss: 1.035.. Test Accuracy: 0.695.. Test F1 Score: 0.693\n",
      "Epoch: 20/30.. Train Loss: 0.443.. Test Loss: 1.073.. Test Accuracy: 0.687.. Test F1 Score: 0.685\n",
      "Epoch: 21/30.. Train Loss: 0.453.. Test Loss: 1.003.. Test Accuracy: 0.692.. Test F1 Score: 0.685\n",
      "Epoch: 22/30.. Train Loss: 0.445.. Test Loss: 1.026.. Test Accuracy: 0.694.. Test F1 Score: 0.689\n",
      "Epoch: 23/30.. Train Loss: 0.436.. Test Loss: 1.048.. Test Accuracy: 0.673.. Test F1 Score: 0.674\n",
      "Epoch: 24/30.. Train Loss: 0.434.. Test Loss: 1.050.. Test Accuracy: 0.686.. Test F1 Score: 0.687\n",
      "Epoch: 25/30.. Train Loss: 0.422.. Test Loss: 1.045.. Test Accuracy: 0.686.. Test F1 Score: 0.688\n",
      "Epoch: 26/30.. Train Loss: 0.421.. Test Loss: 1.076.. Test Accuracy: 0.699.. Test F1 Score: 0.690\n",
      "Epoch: 27/30.. Train Loss: 0.422.. Test Loss: 1.020.. Test Accuracy: 0.698.. Test F1 Score: 0.692\n",
      "Epoch: 28/30.. Train Loss: 0.411.. Test Loss: 1.112.. Test Accuracy: 0.677.. Test F1 Score: 0.677\n",
      "Epoch: 29/30.. Train Loss: 0.413.. Test Loss: 1.061.. Test Accuracy: 0.674.. Test F1 Score: 0.676\n",
      "Epoch: 30/30.. Train Loss: 0.415.. Test Loss: 1.170.. Test Accuracy: 0.683.. Test F1 Score: 0.675\n"
     ]
    }
   ],
   "source": [
    "# prepare for fine-tuning\n",
    "criterion = nn.CrossEntropyLoss()\n",
    "optimizer = optim.Adam(supervised_model.parameters(), lr=0.0003, weight_decay=0.0001)\n",
    "\n",
    "# train and test model\n",
    "num_epochs = 30\n",
    "train_losses, test_losses, test_accuracies, test_f1_scores = train_and_test(supervised_model, train_dataloader, test_dataloader, criterion, optimizer, device, num_epochs=num_epochs)"
   ]
  },
  {
   "cell_type": "markdown",
   "metadata": {},
   "source": [
    "### 75% Train Data"
   ]
  },
  {
   "cell_type": "code",
   "execution_count": 57,
   "metadata": {},
   "outputs": [],
   "source": [
    "# load pre-trained model\n",
    "pretrained_model_path = './multitask/tpn_30_epoch_regularized.pt'  # Adjust as necessary\n",
    "pretrained_model = TPN()\n",
    "pretrained_model.load_state_dict(torch.load(pretrained_model_path))\n",
    "\n",
    "# Create the supervised model by adjusting the pre-trained model\n",
    "supervised_model = SupervisedTPN(pretrained_model, num_classes=num_classes).to(device)"
   ]
  },
  {
   "cell_type": "code",
   "execution_count": 58,
   "metadata": {},
   "outputs": [
    {
     "name": "stdout",
     "output_type": "stream",
     "text": [
      "Epoch: 1/30.. Train Loss: 0.980.. Test Loss: 1.241.. Test Accuracy: 0.611.. Test F1 Score: 0.603\n",
      "Epoch: 2/30.. Train Loss: 0.751.. Test Loss: 1.220.. Test Accuracy: 0.617.. Test F1 Score: 0.611\n",
      "Epoch: 3/30.. Train Loss: 0.673.. Test Loss: 1.249.. Test Accuracy: 0.650.. Test F1 Score: 0.630\n",
      "Epoch: 4/30.. Train Loss: 0.644.. Test Loss: 1.264.. Test Accuracy: 0.645.. Test F1 Score: 0.639\n",
      "Epoch: 5/30.. Train Loss: 0.626.. Test Loss: 1.191.. Test Accuracy: 0.644.. Test F1 Score: 0.642\n",
      "Epoch: 6/30.. Train Loss: 0.590.. Test Loss: 1.417.. Test Accuracy: 0.664.. Test F1 Score: 0.652\n",
      "Epoch: 7/30.. Train Loss: 0.598.. Test Loss: 1.365.. Test Accuracy: 0.655.. Test F1 Score: 0.654\n",
      "Epoch: 8/30.. Train Loss: 0.566.. Test Loss: 1.178.. Test Accuracy: 0.667.. Test F1 Score: 0.660\n",
      "Epoch: 9/30.. Train Loss: 0.562.. Test Loss: 1.332.. Test Accuracy: 0.660.. Test F1 Score: 0.656\n",
      "Epoch: 10/30.. Train Loss: 0.530.. Test Loss: 1.363.. Test Accuracy: 0.658.. Test F1 Score: 0.649\n",
      "Epoch: 11/30.. Train Loss: 0.519.. Test Loss: 1.217.. Test Accuracy: 0.661.. Test F1 Score: 0.663\n",
      "Epoch: 12/30.. Train Loss: 0.525.. Test Loss: 1.241.. Test Accuracy: 0.662.. Test F1 Score: 0.658\n",
      "Epoch: 13/30.. Train Loss: 0.503.. Test Loss: 1.186.. Test Accuracy: 0.668.. Test F1 Score: 0.663\n",
      "Epoch: 14/30.. Train Loss: 0.490.. Test Loss: 1.253.. Test Accuracy: 0.671.. Test F1 Score: 0.666\n",
      "Epoch: 15/30.. Train Loss: 0.495.. Test Loss: 1.306.. Test Accuracy: 0.666.. Test F1 Score: 0.657\n",
      "Epoch: 16/30.. Train Loss: 0.481.. Test Loss: 1.201.. Test Accuracy: 0.644.. Test F1 Score: 0.639\n",
      "Epoch: 17/30.. Train Loss: 0.470.. Test Loss: 1.309.. Test Accuracy: 0.660.. Test F1 Score: 0.656\n",
      "Epoch: 18/30.. Train Loss: 0.474.. Test Loss: 1.250.. Test Accuracy: 0.676.. Test F1 Score: 0.671\n",
      "Epoch: 19/30.. Train Loss: 0.453.. Test Loss: 1.221.. Test Accuracy: 0.668.. Test F1 Score: 0.659\n",
      "Epoch: 20/30.. Train Loss: 0.446.. Test Loss: 1.253.. Test Accuracy: 0.669.. Test F1 Score: 0.659\n",
      "Epoch: 21/30.. Train Loss: 0.445.. Test Loss: 1.147.. Test Accuracy: 0.681.. Test F1 Score: 0.674\n",
      "Epoch: 22/30.. Train Loss: 0.434.. Test Loss: 1.329.. Test Accuracy: 0.658.. Test F1 Score: 0.653\n",
      "Epoch: 23/30.. Train Loss: 0.433.. Test Loss: 1.215.. Test Accuracy: 0.683.. Test F1 Score: 0.676\n",
      "Epoch: 24/30.. Train Loss: 0.436.. Test Loss: 1.248.. Test Accuracy: 0.663.. Test F1 Score: 0.664\n",
      "Epoch: 25/30.. Train Loss: 0.429.. Test Loss: 1.197.. Test Accuracy: 0.676.. Test F1 Score: 0.667\n",
      "Epoch: 26/30.. Train Loss: 0.429.. Test Loss: 1.271.. Test Accuracy: 0.673.. Test F1 Score: 0.670\n",
      "Epoch: 27/30.. Train Loss: 0.415.. Test Loss: 1.404.. Test Accuracy: 0.669.. Test F1 Score: 0.662\n",
      "Epoch: 28/30.. Train Loss: 0.415.. Test Loss: 1.236.. Test Accuracy: 0.670.. Test F1 Score: 0.666\n",
      "Epoch: 29/30.. Train Loss: 0.418.. Test Loss: 1.411.. Test Accuracy: 0.661.. Test F1 Score: 0.652\n",
      "Epoch: 30/30.. Train Loss: 0.405.. Test Loss: 1.233.. Test Accuracy: 0.678.. Test F1 Score: 0.672\n"
     ]
    }
   ],
   "source": [
    "# prepare for fine-tuning\n",
    "criterion = nn.CrossEntropyLoss()\n",
    "optimizer = optim.Adam(supervised_model.parameters(), lr=0.0003, weight_decay=0.0001)\n",
    "\n",
    "# train and test model\n",
    "num_epochs = 30\n",
    "train_losses_75, test_losses_75, test_accuracies_75, test_f1_scores_75 = train_and_test(supervised_model, train_dataloader_75, test_dataloader, criterion, optimizer, device, num_epochs=num_epochs)"
   ]
  },
  {
   "cell_type": "markdown",
   "metadata": {},
   "source": [
    "### 50% Train Data"
   ]
  },
  {
   "cell_type": "code",
   "execution_count": 59,
   "metadata": {},
   "outputs": [],
   "source": [
    "# load pre-trained model\n",
    "pretrained_model_path = './multitask/tpn_30_epoch_regularized.pt'  # Adjust as necessary\n",
    "pretrained_model = TPN()\n",
    "pretrained_model.load_state_dict(torch.load(pretrained_model_path))\n",
    "\n",
    "# Create the supervised model by adjusting the pre-trained model\n",
    "supervised_model = SupervisedTPN(pretrained_model, num_classes=num_classes).to(device)"
   ]
  },
  {
   "cell_type": "code",
   "execution_count": 60,
   "metadata": {},
   "outputs": [
    {
     "name": "stdout",
     "output_type": "stream",
     "text": [
      "Epoch: 1/30.. Train Loss: 0.986.. Test Loss: 1.137.. Test Accuracy: 0.638.. Test F1 Score: 0.628\n",
      "Epoch: 2/30.. Train Loss: 0.702.. Test Loss: 1.073.. Test Accuracy: 0.680.. Test F1 Score: 0.662\n",
      "Epoch: 3/30.. Train Loss: 0.634.. Test Loss: 1.181.. Test Accuracy: 0.660.. Test F1 Score: 0.657\n",
      "Epoch: 4/30.. Train Loss: 0.601.. Test Loss: 1.050.. Test Accuracy: 0.688.. Test F1 Score: 0.686\n",
      "Epoch: 5/30.. Train Loss: 0.568.. Test Loss: 1.086.. Test Accuracy: 0.686.. Test F1 Score: 0.683\n",
      "Epoch: 6/30.. Train Loss: 0.571.. Test Loss: 0.946.. Test Accuracy: 0.709.. Test F1 Score: 0.709\n",
      "Epoch: 7/30.. Train Loss: 0.535.. Test Loss: 1.005.. Test Accuracy: 0.707.. Test F1 Score: 0.695\n",
      "Epoch: 8/30.. Train Loss: 0.539.. Test Loss: 1.083.. Test Accuracy: 0.690.. Test F1 Score: 0.695\n",
      "Epoch: 9/30.. Train Loss: 0.511.. Test Loss: 1.027.. Test Accuracy: 0.707.. Test F1 Score: 0.712\n",
      "Epoch: 10/30.. Train Loss: 0.500.. Test Loss: 0.975.. Test Accuracy: 0.681.. Test F1 Score: 0.670\n",
      "Epoch: 11/30.. Train Loss: 0.494.. Test Loss: 1.038.. Test Accuracy: 0.683.. Test F1 Score: 0.681\n",
      "Epoch: 12/30.. Train Loss: 0.464.. Test Loss: 0.993.. Test Accuracy: 0.703.. Test F1 Score: 0.699\n",
      "Epoch: 13/30.. Train Loss: 0.453.. Test Loss: 1.099.. Test Accuracy: 0.664.. Test F1 Score: 0.656\n",
      "Epoch: 14/30.. Train Loss: 0.460.. Test Loss: 1.038.. Test Accuracy: 0.704.. Test F1 Score: 0.704\n",
      "Epoch: 15/30.. Train Loss: 0.459.. Test Loss: 1.035.. Test Accuracy: 0.703.. Test F1 Score: 0.699\n",
      "Epoch: 16/30.. Train Loss: 0.453.. Test Loss: 1.012.. Test Accuracy: 0.726.. Test F1 Score: 0.727\n",
      "Epoch: 17/30.. Train Loss: 0.432.. Test Loss: 1.085.. Test Accuracy: 0.698.. Test F1 Score: 0.692\n",
      "Epoch: 18/30.. Train Loss: 0.434.. Test Loss: 0.949.. Test Accuracy: 0.708.. Test F1 Score: 0.703\n",
      "Epoch: 19/30.. Train Loss: 0.419.. Test Loss: 1.021.. Test Accuracy: 0.705.. Test F1 Score: 0.700\n",
      "Epoch: 20/30.. Train Loss: 0.422.. Test Loss: 1.020.. Test Accuracy: 0.695.. Test F1 Score: 0.696\n",
      "Epoch: 21/30.. Train Loss: 0.404.. Test Loss: 1.140.. Test Accuracy: 0.649.. Test F1 Score: 0.646\n",
      "Epoch: 22/30.. Train Loss: 0.405.. Test Loss: 0.991.. Test Accuracy: 0.684.. Test F1 Score: 0.688\n",
      "Epoch: 23/30.. Train Loss: 0.393.. Test Loss: 1.250.. Test Accuracy: 0.626.. Test F1 Score: 0.609\n",
      "Epoch: 24/30.. Train Loss: 0.390.. Test Loss: 1.045.. Test Accuracy: 0.679.. Test F1 Score: 0.676\n",
      "Epoch: 25/30.. Train Loss: 0.404.. Test Loss: 1.065.. Test Accuracy: 0.707.. Test F1 Score: 0.702\n",
      "Epoch: 26/30.. Train Loss: 0.404.. Test Loss: 1.076.. Test Accuracy: 0.658.. Test F1 Score: 0.650\n",
      "Epoch: 27/30.. Train Loss: 0.378.. Test Loss: 1.403.. Test Accuracy: 0.623.. Test F1 Score: 0.617\n",
      "Epoch: 28/30.. Train Loss: 0.373.. Test Loss: 1.062.. Test Accuracy: 0.690.. Test F1 Score: 0.688\n",
      "Epoch: 29/30.. Train Loss: 0.382.. Test Loss: 1.108.. Test Accuracy: 0.669.. Test F1 Score: 0.663\n",
      "Epoch: 30/30.. Train Loss: 0.364.. Test Loss: 1.073.. Test Accuracy: 0.659.. Test F1 Score: 0.658\n"
     ]
    }
   ],
   "source": [
    "# prepare for fine-tuning\n",
    "criterion = nn.CrossEntropyLoss()\n",
    "optimizer = optim.Adam(supervised_model.parameters(), lr=0.0003, weight_decay=0.0001)\n",
    "\n",
    "# train and test model\n",
    "num_epochs = 30\n",
    "train_losses_50, test_losses_50, test_accuracies_50, test_f1_scores_50 = train_and_test(supervised_model, train_dataloader_50, test_dataloader, criterion, optimizer, device, num_epochs=num_epochs)"
   ]
  },
  {
   "cell_type": "markdown",
   "metadata": {},
   "source": [
    "### 25% Train Data"
   ]
  },
  {
   "cell_type": "code",
   "execution_count": 61,
   "metadata": {},
   "outputs": [],
   "source": [
    "# load pre-trained model\n",
    "pretrained_model_path = './multitask/tpn_30_epoch_regularized.pt'  # Adjust as necessary\n",
    "pretrained_model = TPN()\n",
    "pretrained_model.load_state_dict(torch.load(pretrained_model_path))\n",
    "\n",
    "# Create the supervised model by adjusting the pre-trained model\n",
    "supervised_model = SupervisedTPN(pretrained_model, num_classes=num_classes).to(device)"
   ]
  },
  {
   "cell_type": "code",
   "execution_count": 62,
   "metadata": {},
   "outputs": [
    {
     "name": "stdout",
     "output_type": "stream",
     "text": [
      "Epoch: 1/30.. Train Loss: 1.106.. Test Loss: 1.582.. Test Accuracy: 0.581.. Test F1 Score: 0.575\n",
      "Epoch: 2/30.. Train Loss: 0.536.. Test Loss: 1.611.. Test Accuracy: 0.548.. Test F1 Score: 0.553\n",
      "Epoch: 3/30.. Train Loss: 0.482.. Test Loss: 1.589.. Test Accuracy: 0.557.. Test F1 Score: 0.545\n",
      "Epoch: 4/30.. Train Loss: 0.437.. Test Loss: 1.788.. Test Accuracy: 0.527.. Test F1 Score: 0.521\n",
      "Epoch: 5/30.. Train Loss: 0.441.. Test Loss: 1.725.. Test Accuracy: 0.530.. Test F1 Score: 0.518\n",
      "Epoch: 6/30.. Train Loss: 0.439.. Test Loss: 1.667.. Test Accuracy: 0.600.. Test F1 Score: 0.597\n",
      "Epoch: 7/30.. Train Loss: 0.560.. Test Loss: 1.817.. Test Accuracy: 0.537.. Test F1 Score: 0.525\n",
      "Epoch: 8/30.. Train Loss: 0.385.. Test Loss: 1.551.. Test Accuracy: 0.618.. Test F1 Score: 0.613\n",
      "Epoch: 9/30.. Train Loss: 0.359.. Test Loss: 1.770.. Test Accuracy: 0.544.. Test F1 Score: 0.537\n",
      "Epoch: 10/30.. Train Loss: 0.317.. Test Loss: 1.634.. Test Accuracy: 0.542.. Test F1 Score: 0.532\n",
      "Epoch: 11/30.. Train Loss: 0.327.. Test Loss: 1.771.. Test Accuracy: 0.581.. Test F1 Score: 0.582\n",
      "Epoch: 12/30.. Train Loss: 0.327.. Test Loss: 1.623.. Test Accuracy: 0.587.. Test F1 Score: 0.589\n",
      "Epoch: 13/30.. Train Loss: 0.319.. Test Loss: 1.898.. Test Accuracy: 0.569.. Test F1 Score: 0.568\n",
      "Epoch: 14/30.. Train Loss: 0.306.. Test Loss: 1.570.. Test Accuracy: 0.586.. Test F1 Score: 0.588\n",
      "Epoch: 15/30.. Train Loss: 0.327.. Test Loss: 1.966.. Test Accuracy: 0.622.. Test F1 Score: 0.624\n",
      "Epoch: 16/30.. Train Loss: 0.348.. Test Loss: 1.947.. Test Accuracy: 0.551.. Test F1 Score: 0.544\n",
      "Epoch: 17/30.. Train Loss: 0.328.. Test Loss: 1.595.. Test Accuracy: 0.572.. Test F1 Score: 0.577\n",
      "Epoch: 18/30.. Train Loss: 0.318.. Test Loss: 2.149.. Test Accuracy: 0.562.. Test F1 Score: 0.550\n",
      "Epoch: 19/30.. Train Loss: 0.289.. Test Loss: 1.722.. Test Accuracy: 0.581.. Test F1 Score: 0.581\n",
      "Epoch: 20/30.. Train Loss: 0.302.. Test Loss: 1.641.. Test Accuracy: 0.592.. Test F1 Score: 0.600\n",
      "Epoch: 21/30.. Train Loss: 0.274.. Test Loss: 1.713.. Test Accuracy: 0.611.. Test F1 Score: 0.621\n",
      "Epoch: 22/30.. Train Loss: 0.258.. Test Loss: 1.717.. Test Accuracy: 0.577.. Test F1 Score: 0.581\n",
      "Epoch: 23/30.. Train Loss: 0.258.. Test Loss: 1.597.. Test Accuracy: 0.590.. Test F1 Score: 0.591\n",
      "Epoch: 24/30.. Train Loss: 0.260.. Test Loss: 1.559.. Test Accuracy: 0.654.. Test F1 Score: 0.654\n",
      "Epoch: 25/30.. Train Loss: 0.244.. Test Loss: 1.733.. Test Accuracy: 0.594.. Test F1 Score: 0.594\n",
      "Epoch: 26/30.. Train Loss: 0.238.. Test Loss: 1.715.. Test Accuracy: 0.592.. Test F1 Score: 0.593\n",
      "Epoch: 27/30.. Train Loss: 0.234.. Test Loss: 1.763.. Test Accuracy: 0.562.. Test F1 Score: 0.560\n",
      "Epoch: 28/30.. Train Loss: 0.255.. Test Loss: 1.714.. Test Accuracy: 0.596.. Test F1 Score: 0.603\n",
      "Epoch: 29/30.. Train Loss: 0.257.. Test Loss: 1.864.. Test Accuracy: 0.597.. Test F1 Score: 0.599\n",
      "Epoch: 30/30.. Train Loss: 0.246.. Test Loss: 1.800.. Test Accuracy: 0.573.. Test F1 Score: 0.570\n"
     ]
    }
   ],
   "source": [
    "# prepare for fine-tuning\n",
    "criterion = nn.CrossEntropyLoss()\n",
    "optimizer = optim.Adam(supervised_model.parameters(), lr=0.0003, weight_decay=0.0001)\n",
    "\n",
    "# train and test model\n",
    "num_epochs = 30\n",
    "train_losses_25, test_losses_25, test_accuracies_25, test_f1_scores_25 = train_and_test(supervised_model, train_dataloader_25, test_dataloader, criterion, optimizer, device, num_epochs=num_epochs)"
   ]
  },
  {
   "cell_type": "markdown",
   "metadata": {},
   "source": [
    "### 10% Train Data"
   ]
  },
  {
   "cell_type": "code",
   "execution_count": 63,
   "metadata": {},
   "outputs": [],
   "source": [
    "# load pre-trained model\n",
    "pretrained_model_path = './multitask/tpn_30_epoch_regularized.pt'  # Adjust as necessary\n",
    "pretrained_model = TPN()\n",
    "pretrained_model.load_state_dict(torch.load(pretrained_model_path))\n",
    "\n",
    "# Create the supervised model by adjusting the pre-trained model\n",
    "supervised_model = SupervisedTPN(pretrained_model, num_classes=num_classes).to(device)"
   ]
  },
  {
   "cell_type": "code",
   "execution_count": 64,
   "metadata": {},
   "outputs": [
    {
     "name": "stdout",
     "output_type": "stream",
     "text": [
      "Epoch: 1/30.. Train Loss: 1.476.. Test Loss: 2.021.. Test Accuracy: 0.387.. Test F1 Score: 0.359\n",
      "Epoch: 2/30.. Train Loss: 0.606.. Test Loss: 1.853.. Test Accuracy: 0.444.. Test F1 Score: 0.450\n",
      "Epoch: 3/30.. Train Loss: 0.488.. Test Loss: 1.752.. Test Accuracy: 0.441.. Test F1 Score: 0.440\n",
      "Epoch: 4/30.. Train Loss: 0.378.. Test Loss: 1.926.. Test Accuracy: 0.451.. Test F1 Score: 0.446\n",
      "Epoch: 5/30.. Train Loss: 0.340.. Test Loss: 1.953.. Test Accuracy: 0.452.. Test F1 Score: 0.447\n",
      "Epoch: 6/30.. Train Loss: 0.269.. Test Loss: 1.924.. Test Accuracy: 0.449.. Test F1 Score: 0.450\n",
      "Epoch: 7/30.. Train Loss: 0.271.. Test Loss: 2.094.. Test Accuracy: 0.462.. Test F1 Score: 0.465\n",
      "Epoch: 8/30.. Train Loss: 0.259.. Test Loss: 1.923.. Test Accuracy: 0.470.. Test F1 Score: 0.461\n",
      "Epoch: 9/30.. Train Loss: 0.261.. Test Loss: 2.364.. Test Accuracy: 0.454.. Test F1 Score: 0.446\n",
      "Epoch: 10/30.. Train Loss: 0.252.. Test Loss: 2.114.. Test Accuracy: 0.459.. Test F1 Score: 0.445\n",
      "Epoch: 11/30.. Train Loss: 0.227.. Test Loss: 2.134.. Test Accuracy: 0.477.. Test F1 Score: 0.478\n",
      "Epoch: 12/30.. Train Loss: 0.217.. Test Loss: 2.135.. Test Accuracy: 0.474.. Test F1 Score: 0.482\n",
      "Epoch: 13/30.. Train Loss: 0.254.. Test Loss: 2.718.. Test Accuracy: 0.450.. Test F1 Score: 0.445\n",
      "Epoch: 14/30.. Train Loss: 0.228.. Test Loss: 2.226.. Test Accuracy: 0.514.. Test F1 Score: 0.528\n",
      "Epoch: 15/30.. Train Loss: 0.212.. Test Loss: 2.387.. Test Accuracy: 0.476.. Test F1 Score: 0.481\n",
      "Epoch: 16/30.. Train Loss: 0.172.. Test Loss: 2.425.. Test Accuracy: 0.467.. Test F1 Score: 0.474\n",
      "Epoch: 17/30.. Train Loss: 0.174.. Test Loss: 2.437.. Test Accuracy: 0.467.. Test F1 Score: 0.475\n",
      "Epoch: 18/30.. Train Loss: 0.188.. Test Loss: 2.430.. Test Accuracy: 0.464.. Test F1 Score: 0.480\n",
      "Epoch: 19/30.. Train Loss: 0.225.. Test Loss: 2.577.. Test Accuracy: 0.452.. Test F1 Score: 0.456\n",
      "Epoch: 20/30.. Train Loss: 0.150.. Test Loss: 2.499.. Test Accuracy: 0.468.. Test F1 Score: 0.469\n",
      "Epoch: 21/30.. Train Loss: 0.181.. Test Loss: 2.508.. Test Accuracy: 0.465.. Test F1 Score: 0.472\n",
      "Epoch: 22/30.. Train Loss: 0.161.. Test Loss: 2.594.. Test Accuracy: 0.476.. Test F1 Score: 0.481\n",
      "Epoch: 23/30.. Train Loss: 0.167.. Test Loss: 2.651.. Test Accuracy: 0.478.. Test F1 Score: 0.481\n",
      "Epoch: 24/30.. Train Loss: 0.154.. Test Loss: 2.672.. Test Accuracy: 0.480.. Test F1 Score: 0.486\n",
      "Epoch: 25/30.. Train Loss: 0.141.. Test Loss: 2.834.. Test Accuracy: 0.466.. Test F1 Score: 0.470\n",
      "Epoch: 26/30.. Train Loss: 0.131.. Test Loss: 2.671.. Test Accuracy: 0.473.. Test F1 Score: 0.480\n",
      "Epoch: 27/30.. Train Loss: 0.146.. Test Loss: 2.668.. Test Accuracy: 0.469.. Test F1 Score: 0.479\n",
      "Epoch: 28/30.. Train Loss: 0.130.. Test Loss: 2.904.. Test Accuracy: 0.463.. Test F1 Score: 0.466\n",
      "Epoch: 29/30.. Train Loss: 0.127.. Test Loss: 2.836.. Test Accuracy: 0.470.. Test F1 Score: 0.469\n",
      "Epoch: 30/30.. Train Loss: 0.125.. Test Loss: 2.671.. Test Accuracy: 0.475.. Test F1 Score: 0.483\n"
     ]
    }
   ],
   "source": [
    "# prepare for fine-tuning\n",
    "criterion = nn.CrossEntropyLoss()\n",
    "optimizer = optim.Adam(supervised_model.parameters(), lr=0.0003, weight_decay=0.0001)\n",
    "\n",
    "# train and test model\n",
    "num_epochs = 30\n",
    "train_losses_10, test_losses_10, test_accuracies_10, test_f1_scores_10 = train_and_test(supervised_model, train_dataloader_10, test_dataloader, criterion, optimizer, device, num_epochs=num_epochs)"
   ]
  },
  {
   "cell_type": "markdown",
   "metadata": {},
   "source": [
    "# RefuseAct"
   ]
  },
  {
   "cell_type": "markdown",
   "metadata": {},
   "source": [
    "## Adjusting Window Size"
   ]
  },
  {
   "cell_type": "code",
   "execution_count": 65,
   "metadata": {},
   "outputs": [
    {
     "name": "stdout",
     "output_type": "stream",
     "text": [
      "shape of train window dataset (2 sec with 0% overlap): (22007, 100, 4)\n",
      "shape of test window dataset (2 sec with 0% overlap): (10000, 100, 4)\n"
     ]
    }
   ],
   "source": [
    "# windowing data\n",
    "sampling_rate = 50\n",
    "time_window = 2\n",
    "window_size = sampling_rate * time_window\n",
    "overlap_ratio = 0\n",
    "\n",
    "train_window_data, _, train_window_label = sliding_window_samples(train, window_size, overlap_ratio)\n",
    "print(f\"shape of train window dataset ({time_window} sec with {overlap_ratio}% overlap): {train_window_data.shape}\")\n",
    "\n",
    "test_window_data, _, test_window_label = sliding_window_samples(test, window_size, overlap_ratio)\n",
    "print(f\"shape of test window dataset ({time_window} sec with {overlap_ratio}% overlap): {test_window_data.shape}\")"
   ]
  },
  {
   "cell_type": "markdown",
   "metadata": {},
   "source": [
    "### Full Data"
   ]
  },
  {
   "cell_type": "code",
   "execution_count": 66,
   "metadata": {},
   "outputs": [
    {
     "name": "stdout",
     "output_type": "stream",
     "text": [
      "The shape of train is (22007, 100, 3)\n",
      "The shape of test is (10000, 100, 3)\n"
     ]
    }
   ],
   "source": [
    "# remove the subject column\n",
    "train_window_data = train_window_data[:, :, 1:]\n",
    "test_window_data = test_window_data[:, :, 1:]\n",
    "\n",
    "# print the shape of train and test\n",
    "print('The shape of train is {}'.format(train_window_data.shape))\n",
    "print('The shape of test is {}'.format(test_window_data.shape))"
   ]
  },
  {
   "cell_type": "markdown",
   "metadata": {},
   "source": [
    "### 75% of data\n"
   ]
  },
  {
   "cell_type": "code",
   "execution_count": 67,
   "metadata": {},
   "outputs": [
    {
     "name": "stdout",
     "output_type": "stream",
     "text": [
      "shape of train window dataset (2 sec with 0% overlap): (15534, 100, 4)\n",
      "The shape of train_75 is (15534, 100, 3)\n",
      "The length of train_75 label is 15534\n"
     ]
    }
   ],
   "source": [
    "train_window_data_75, _, train_window_label_75 = sliding_window_samples(train_75, window_size, overlap_ratio)\n",
    "print(f\"shape of train window dataset ({time_window} sec with {overlap_ratio}% overlap): {train_window_data_75.shape}\")\n",
    "\n",
    "# remove the subject column\n",
    "train_window_data_75 = train_window_data_75[:, :, 1:]\n",
    "\n",
    "print('The shape of train_75 is {}'.format(train_window_data_75.shape))\n",
    "print('The length of train_75 label is {}'.format(len(train_window_label_75)))"
   ]
  },
  {
   "cell_type": "markdown",
   "metadata": {},
   "source": [
    "### 50% Data"
   ]
  },
  {
   "cell_type": "code",
   "execution_count": 68,
   "metadata": {},
   "outputs": [
    {
     "name": "stdout",
     "output_type": "stream",
     "text": [
      "shape of train window dataset (2 sec with 0% overlap): (10991, 100, 4)\n",
      "The shape of train_50 is (10991, 100, 3)\n",
      "The length of train_50 label is 10991\n"
     ]
    }
   ],
   "source": [
    "train_window_data_50, _, train_window_label_50 = sliding_window_samples(train_50, window_size, overlap_ratio)\n",
    "print(f\"shape of train window dataset ({time_window} sec with {overlap_ratio}% overlap): {train_window_data_50.shape}\")\n",
    "\n",
    "# remove the subject column\n",
    "train_window_data_50 = train_window_data_50[:, :, 1:]\n",
    "\n",
    "print('The shape of train_50 is {}'.format(train_window_data_50.shape))\n",
    "print('The length of train_50 label is {}'.format(len(train_window_label_50)))"
   ]
  },
  {
   "cell_type": "markdown",
   "metadata": {},
   "source": [
    "### 25% Data"
   ]
  },
  {
   "cell_type": "code",
   "execution_count": 69,
   "metadata": {},
   "outputs": [
    {
     "name": "stdout",
     "output_type": "stream",
     "text": [
      "The shape of train_25 is (4361, 100, 3)\n",
      "The length of train_25 label is 4361\n"
     ]
    }
   ],
   "source": [
    "train_window_data_25, _, train_window_label_25 = sliding_window_samples(train_25, window_size, overlap_ratio)\n",
    "# remove the subject column\n",
    "train_window_data_25 = train_window_data_25[:, :, 1:]\n",
    "\n",
    "print('The shape of train_25 is {}'.format(train_window_data_25.shape))\n",
    "print('The length of train_25 label is {}'.format(len(train_window_label_25)))"
   ]
  },
  {
   "cell_type": "markdown",
   "metadata": {},
   "source": [
    "### 10% Data"
   ]
  },
  {
   "cell_type": "code",
   "execution_count": 70,
   "metadata": {},
   "outputs": [
    {
     "name": "stdout",
     "output_type": "stream",
     "text": [
      "The shape of train_10 is (2124, 100, 3)\n",
      "The length of train_10 label is 2124\n"
     ]
    }
   ],
   "source": [
    "train_window_data_10, _, train_window_label_10 = sliding_window_samples(train_10, window_size, overlap_ratio)\n",
    "# remove the subject column\n",
    "train_window_data_10 = train_window_data_10[:, :, 1:]\n",
    "\n",
    "print('The shape of train_10 is {}'.format(train_window_data_10.shape))\n",
    "print('The length of train_10 label is {}'.format(len(train_window_label_10)))"
   ]
  },
  {
   "cell_type": "markdown",
   "metadata": {},
   "source": [
    "## Generate DataLoader"
   ]
  },
  {
   "cell_type": "code",
   "execution_count": 71,
   "metadata": {},
   "outputs": [],
   "source": [
    "# generate dataloader for train and test\n",
    "train_dataloader = generate_dataloader(train_window_data, train_window_label, batch_size)   \n",
    "test_dataloader = generate_dataloader(test_window_data, test_window_label, batch_size, is_shuffle=False)\n",
    "\n",
    "# generate dataloader for train and test in subject subsetting\n",
    "train_dataloader_75 = generate_dataloader(train_window_data_75, train_window_label_75, batch_size)\n",
    "train_dataloader_50 = generate_dataloader(train_window_data_50, train_window_label_50, batch_size)\n",
    "train_dataloader_25 = generate_dataloader(train_window_data_25, train_window_label_25, batch_size)\n",
    "train_dataloader_10 = generate_dataloader(train_window_data_10, train_window_label_10, batch_size)"
   ]
  },
  {
   "cell_type": "markdown",
   "metadata": {},
   "source": [
    "## Network Architecture"
   ]
  },
  {
   "cell_type": "markdown",
   "metadata": {},
   "source": [
    "### CNN"
   ]
  },
  {
   "cell_type": "code",
   "execution_count": 72,
   "metadata": {},
   "outputs": [],
   "source": [
    "import torch\n",
    "import torch.nn as nn\n",
    "import torch.nn.functional as F\n",
    "\n",
    "class CNNFeatureExtractor(nn.Module):\n",
    "    def __init__(self, num_classes=4):\n",
    "        super(CNNFeatureExtractor, self).__init__()\n",
    "\n",
    "        self.conv1 = nn.Conv1d(in_channels=3, out_channels=64, kernel_size=3, stride=1, padding=1)\n",
    "        self.conv2 = nn.Conv1d(in_channels=64, out_channels=128, kernel_size=3, stride=1, padding=1)\n",
    "        self.conv3 = nn.Conv1d(in_channels=128, out_channels=256, kernel_size=3, stride=1, padding=1)\n",
    "        self.pool = nn.MaxPool1d(kernel_size=2, stride=2)\n",
    "        \n",
    "        self.flatten = nn.Flatten()\n",
    "        self.fc1 = nn.Linear(256 * 12, 128)  # Adjust the input features according to your final conv layer output\n",
    "        self.fc2 = nn.Linear(128, num_classes)\n",
    "\n",
    "    def forward(self, x):\n",
    "        x = self.pool(F.relu(self.conv1(x)))\n",
    "        x = self.pool(F.relu(self.conv2(x)))\n",
    "        x = self.pool(F.relu(self.conv3(x)))\n",
    "\n",
    "        x = self.flatten(x)\n",
    "        x = F.relu(self.fc1(x))\n",
    "        x = self.fc2(x)\n",
    "        return x"
   ]
  },
  {
   "cell_type": "markdown",
   "metadata": {},
   "source": [
    "### TCN"
   ]
  },
  {
   "cell_type": "code",
   "execution_count": 73,
   "metadata": {},
   "outputs": [],
   "source": [
    "class TemporalBlock(nn.Module):\n",
    "    def __init__(self, in_channels, out_channels, kernel_size, stride, dilation, padding):\n",
    "        super(TemporalBlock, self).__init__()\n",
    "        self.conv1 = nn.Conv1d(in_channels, out_channels, kernel_size,\n",
    "                               stride=stride, padding=0, dilation=dilation)\n",
    "        self.relu1 = nn.ReLU()\n",
    "        self.conv2 = nn.Conv1d(out_channels, out_channels, kernel_size,\n",
    "                               stride=stride, padding=0, dilation=dilation)\n",
    "        self.relu2 = nn.ReLU()\n",
    "        self.downsample = nn.Conv1d(in_channels, out_channels, 1) if in_channels != out_channels else None\n",
    "        self.relu = nn.ReLU()\n",
    "\n",
    "    def forward(self, x):\n",
    "        out = self.conv1(x)\n",
    "        out = self.relu1(out)\n",
    "        out = self.conv2(out)\n",
    "        out = self.relu2(out)\n",
    "        \n",
    "        res = x if self.downsample is None else self.downsample(x)\n",
    "\n",
    "        # Adjusting the length of the residual to match the output\n",
    "        if out.size(2) != res.size(2):\n",
    "            desired_length = out.size(2)\n",
    "            res = res[:, :, :desired_length]\n",
    "\n",
    "        return self.relu(out + res)\n",
    "\n",
    "\n",
    "class TCN(nn.Module):\n",
    "    def __init__(self, num_inputs, num_channels, kernel_size, dropout=0.2, num_classes=4):\n",
    "        super(TCN, self).__init__()\n",
    "        layers = []\n",
    "        num_levels = len(num_channels)\n",
    "        for i in range(num_levels):\n",
    "            dilation_size = 2 ** i\n",
    "            in_channels = num_inputs if i == 0 else num_channels[i-1]\n",
    "            out_channels = num_channels[i]\n",
    "            layers += [TemporalBlock(in_channels, out_channels, kernel_size, stride=1, dilation=dilation_size,\n",
    "                                     padding=(kernel_size-1) * dilation_size + (dilation_size - 1))]\n",
    "\n",
    "        self.tcn = nn.Sequential(*layers)\n",
    "        self.dropout = nn.Dropout(dropout)\n",
    "        self.fc = nn.Linear(num_channels[-1], num_classes)\n",
    "\n",
    "    def forward(self, x):\n",
    "        x = self.tcn(x)\n",
    "        x = F.avg_pool1d(x, x.size(2)).squeeze(2)  # Global Average Pooling\n",
    "        x = self.dropout(x)\n",
    "        return self.fc(x)"
   ]
  },
  {
   "cell_type": "markdown",
   "metadata": {},
   "source": [
    "## Fine Tune CNN"
   ]
  },
  {
   "cell_type": "markdown",
   "metadata": {},
   "source": [
    "### Full Data"
   ]
  },
  {
   "cell_type": "code",
   "execution_count": 74,
   "metadata": {},
   "outputs": [
    {
     "name": "stdout",
     "output_type": "stream",
     "text": [
      "Epoch: 1/30.. Train Loss: 1.577.. Test Loss: 1.294.. Test Accuracy: 0.574.. Test F1 Score: 0.545\n",
      "Epoch: 2/30.. Train Loss: 1.224.. Test Loss: 1.173.. Test Accuracy: 0.617.. Test F1 Score: 0.581\n",
      "Epoch: 3/30.. Train Loss: 1.123.. Test Loss: 1.130.. Test Accuracy: 0.635.. Test F1 Score: 0.622\n",
      "Epoch: 4/30.. Train Loss: 1.070.. Test Loss: 1.123.. Test Accuracy: 0.642.. Test F1 Score: 0.639\n",
      "Epoch: 5/30.. Train Loss: 1.038.. Test Loss: 1.090.. Test Accuracy: 0.649.. Test F1 Score: 0.632\n",
      "Epoch: 6/30.. Train Loss: 1.014.. Test Loss: 1.050.. Test Accuracy: 0.653.. Test F1 Score: 0.628\n",
      "Epoch: 7/30.. Train Loss: 0.993.. Test Loss: 1.064.. Test Accuracy: 0.654.. Test F1 Score: 0.641\n",
      "Epoch: 8/30.. Train Loss: 0.980.. Test Loss: 1.072.. Test Accuracy: 0.675.. Test F1 Score: 0.663\n",
      "Epoch: 9/30.. Train Loss: 0.968.. Test Loss: 1.044.. Test Accuracy: 0.669.. Test F1 Score: 0.665\n",
      "Epoch: 10/30.. Train Loss: 0.959.. Test Loss: 1.059.. Test Accuracy: 0.627.. Test F1 Score: 0.627\n",
      "Epoch: 11/30.. Train Loss: 0.947.. Test Loss: 1.048.. Test Accuracy: 0.652.. Test F1 Score: 0.658\n",
      "Epoch: 12/30.. Train Loss: 0.939.. Test Loss: 1.014.. Test Accuracy: 0.655.. Test F1 Score: 0.643\n",
      "Epoch: 13/30.. Train Loss: 0.934.. Test Loss: 1.020.. Test Accuracy: 0.663.. Test F1 Score: 0.645\n",
      "Epoch: 14/30.. Train Loss: 0.925.. Test Loss: 1.015.. Test Accuracy: 0.691.. Test F1 Score: 0.681\n",
      "Epoch: 15/30.. Train Loss: 0.919.. Test Loss: 1.064.. Test Accuracy: 0.661.. Test F1 Score: 0.671\n",
      "Epoch: 16/30.. Train Loss: 0.912.. Test Loss: 1.008.. Test Accuracy: 0.647.. Test F1 Score: 0.643\n",
      "Epoch: 17/30.. Train Loss: 0.911.. Test Loss: 1.033.. Test Accuracy: 0.687.. Test F1 Score: 0.682\n",
      "Epoch: 18/30.. Train Loss: 0.904.. Test Loss: 1.025.. Test Accuracy: 0.667.. Test F1 Score: 0.663\n",
      "Epoch: 19/30.. Train Loss: 0.900.. Test Loss: 1.013.. Test Accuracy: 0.649.. Test F1 Score: 0.653\n",
      "Epoch: 20/30.. Train Loss: 0.897.. Test Loss: 1.028.. Test Accuracy: 0.652.. Test F1 Score: 0.646\n",
      "Epoch: 21/30.. Train Loss: 0.892.. Test Loss: 0.997.. Test Accuracy: 0.654.. Test F1 Score: 0.645\n",
      "Epoch: 22/30.. Train Loss: 0.891.. Test Loss: 1.028.. Test Accuracy: 0.646.. Test F1 Score: 0.642\n",
      "Epoch: 23/30.. Train Loss: 0.888.. Test Loss: 1.012.. Test Accuracy: 0.676.. Test F1 Score: 0.670\n",
      "Epoch: 24/30.. Train Loss: 0.881.. Test Loss: 1.004.. Test Accuracy: 0.677.. Test F1 Score: 0.664\n",
      "Epoch: 25/30.. Train Loss: 0.879.. Test Loss: 1.043.. Test Accuracy: 0.647.. Test F1 Score: 0.654\n",
      "Epoch: 26/30.. Train Loss: 0.877.. Test Loss: 1.006.. Test Accuracy: 0.663.. Test F1 Score: 0.662\n",
      "Epoch: 27/30.. Train Loss: 0.876.. Test Loss: 1.019.. Test Accuracy: 0.686.. Test F1 Score: 0.674\n",
      "Epoch: 28/30.. Train Loss: 0.872.. Test Loss: 1.026.. Test Accuracy: 0.659.. Test F1 Score: 0.661\n",
      "Epoch: 29/30.. Train Loss: 0.872.. Test Loss: 1.004.. Test Accuracy: 0.657.. Test F1 Score: 0.643\n",
      "Epoch: 30/30.. Train Loss: 0.869.. Test Loss: 1.019.. Test Accuracy: 0.663.. Test F1 Score: 0.668\n"
     ]
    }
   ],
   "source": [
    "model = CNNFeatureExtractor(num_classes=4)\n",
    "\n",
    "#load pretrained model\n",
    "model.load_state_dict(torch.load('./models/cnn_feature_extractor_join_20231218-2006.pt'))\n",
    "\n",
    "model.fc2 = nn.Linear(in_features=model.fc2.in_features, out_features=num_classes)\n",
    "model.to(device)\n",
    "\n",
    "# define loss function and optimizer\n",
    "criterion = nn.CrossEntropyLoss()\n",
    "optimizer = torch.optim.Adam(model.fc2.parameters(), lr=0.001)\n",
    "\n",
    "# train and test model\n",
    "num_epochs = 30\n",
    "train_losses, test_losses, test_accuracies, test_f1_scores = train_and_test(model, train_dataloader, test_dataloader, criterion, optimizer, device, num_epochs=num_epochs)"
   ]
  },
  {
   "cell_type": "markdown",
   "metadata": {},
   "source": [
    "### 75% Train Data"
   ]
  },
  {
   "cell_type": "code",
   "execution_count": 75,
   "metadata": {},
   "outputs": [
    {
     "name": "stdout",
     "output_type": "stream",
     "text": [
      "Epoch: 1/30.. Train Loss: 1.716.. Test Loss: 1.438.. Test Accuracy: 0.546.. Test F1 Score: 0.487\n",
      "Epoch: 2/30.. Train Loss: 1.321.. Test Loss: 1.209.. Test Accuracy: 0.638.. Test F1 Score: 0.602\n",
      "Epoch: 3/30.. Train Loss: 1.200.. Test Loss: 1.179.. Test Accuracy: 0.636.. Test F1 Score: 0.620\n",
      "Epoch: 4/30.. Train Loss: 1.140.. Test Loss: 1.185.. Test Accuracy: 0.576.. Test F1 Score: 0.556\n",
      "Epoch: 5/30.. Train Loss: 1.104.. Test Loss: 1.117.. Test Accuracy: 0.652.. Test F1 Score: 0.619\n",
      "Epoch: 6/30.. Train Loss: 1.076.. Test Loss: 1.088.. Test Accuracy: 0.639.. Test F1 Score: 0.599\n",
      "Epoch: 7/30.. Train Loss: 1.056.. Test Loss: 1.111.. Test Accuracy: 0.633.. Test F1 Score: 0.631\n",
      "Epoch: 8/30.. Train Loss: 1.038.. Test Loss: 1.095.. Test Accuracy: 0.670.. Test F1 Score: 0.669\n",
      "Epoch: 9/30.. Train Loss: 1.024.. Test Loss: 1.069.. Test Accuracy: 0.666.. Test F1 Score: 0.651\n",
      "Epoch: 10/30.. Train Loss: 1.012.. Test Loss: 1.098.. Test Accuracy: 0.657.. Test F1 Score: 0.642\n",
      "Epoch: 11/30.. Train Loss: 1.003.. Test Loss: 1.053.. Test Accuracy: 0.662.. Test F1 Score: 0.632\n",
      "Epoch: 12/30.. Train Loss: 0.993.. Test Loss: 1.062.. Test Accuracy: 0.659.. Test F1 Score: 0.640\n",
      "Epoch: 13/30.. Train Loss: 0.986.. Test Loss: 1.058.. Test Accuracy: 0.660.. Test F1 Score: 0.631\n",
      "Epoch: 14/30.. Train Loss: 0.978.. Test Loss: 1.084.. Test Accuracy: 0.654.. Test F1 Score: 0.646\n",
      "Epoch: 15/30.. Train Loss: 0.969.. Test Loss: 1.071.. Test Accuracy: 0.662.. Test F1 Score: 0.663\n",
      "Epoch: 16/30.. Train Loss: 0.964.. Test Loss: 1.069.. Test Accuracy: 0.641.. Test F1 Score: 0.620\n",
      "Epoch: 17/30.. Train Loss: 0.957.. Test Loss: 1.046.. Test Accuracy: 0.680.. Test F1 Score: 0.662\n",
      "Epoch: 18/30.. Train Loss: 0.954.. Test Loss: 1.057.. Test Accuracy: 0.665.. Test F1 Score: 0.652\n",
      "Epoch: 19/30.. Train Loss: 0.948.. Test Loss: 1.099.. Test Accuracy: 0.645.. Test F1 Score: 0.623\n",
      "Epoch: 20/30.. Train Loss: 0.944.. Test Loss: 1.077.. Test Accuracy: 0.659.. Test F1 Score: 0.655\n",
      "Epoch: 21/30.. Train Loss: 0.939.. Test Loss: 1.055.. Test Accuracy: 0.667.. Test F1 Score: 0.654\n",
      "Epoch: 22/30.. Train Loss: 0.936.. Test Loss: 1.054.. Test Accuracy: 0.654.. Test F1 Score: 0.634\n",
      "Epoch: 23/30.. Train Loss: 0.933.. Test Loss: 1.073.. Test Accuracy: 0.654.. Test F1 Score: 0.651\n",
      "Epoch: 24/30.. Train Loss: 0.926.. Test Loss: 1.079.. Test Accuracy: 0.650.. Test F1 Score: 0.649\n",
      "Epoch: 25/30.. Train Loss: 0.924.. Test Loss: 1.057.. Test Accuracy: 0.653.. Test F1 Score: 0.628\n",
      "Epoch: 26/30.. Train Loss: 0.921.. Test Loss: 1.070.. Test Accuracy: 0.655.. Test F1 Score: 0.651\n",
      "Epoch: 27/30.. Train Loss: 0.918.. Test Loss: 1.047.. Test Accuracy: 0.642.. Test F1 Score: 0.637\n",
      "Epoch: 28/30.. Train Loss: 0.917.. Test Loss: 1.041.. Test Accuracy: 0.666.. Test F1 Score: 0.664\n",
      "Epoch: 29/30.. Train Loss: 0.913.. Test Loss: 1.084.. Test Accuracy: 0.661.. Test F1 Score: 0.640\n",
      "Epoch: 30/30.. Train Loss: 0.913.. Test Loss: 1.040.. Test Accuracy: 0.647.. Test F1 Score: 0.632\n"
     ]
    }
   ],
   "source": [
    "model = CNNFeatureExtractor(num_classes=4)\n",
    "\n",
    "#load pretrained model\n",
    "model.load_state_dict(torch.load('./models/cnn_feature_extractor_join_20231218-2006.pt'))\n",
    "\n",
    "model.fc2 = nn.Linear(in_features=model.fc2.in_features, out_features=num_classes)\n",
    "model.to(device)\n",
    "\n",
    "# define loss function and optimizer\n",
    "criterion = nn.CrossEntropyLoss()\n",
    "optimizer = torch.optim.Adam(model.fc2.parameters(), lr=0.001)\n",
    "\n",
    "# train and test model\n",
    "num_epochs = 30\n",
    "train_losses, test_losses, test_accuracies, test_f1_scores = train_and_test(model, train_dataloader_75, test_dataloader, criterion, optimizer, device, num_epochs=num_epochs)"
   ]
  },
  {
   "cell_type": "markdown",
   "metadata": {},
   "source": [
    "### 50% Train Data"
   ]
  },
  {
   "cell_type": "code",
   "execution_count": 76,
   "metadata": {},
   "outputs": [
    {
     "name": "stdout",
     "output_type": "stream",
     "text": [
      "Epoch: 1/30.. Train Loss: 1.738.. Test Loss: 1.493.. Test Accuracy: 0.575.. Test F1 Score: 0.530\n",
      "Epoch: 2/30.. Train Loss: 1.378.. Test Loss: 1.307.. Test Accuracy: 0.591.. Test F1 Score: 0.574\n",
      "Epoch: 3/30.. Train Loss: 1.237.. Test Loss: 1.233.. Test Accuracy: 0.544.. Test F1 Score: 0.507\n",
      "Epoch: 4/30.. Train Loss: 1.165.. Test Loss: 1.166.. Test Accuracy: 0.608.. Test F1 Score: 0.564\n",
      "Epoch: 5/30.. Train Loss: 1.114.. Test Loss: 1.145.. Test Accuracy: 0.595.. Test F1 Score: 0.579\n",
      "Epoch: 6/30.. Train Loss: 1.079.. Test Loss: 1.116.. Test Accuracy: 0.641.. Test F1 Score: 0.627\n",
      "Epoch: 7/30.. Train Loss: 1.055.. Test Loss: 1.085.. Test Accuracy: 0.636.. Test F1 Score: 0.606\n",
      "Epoch: 8/30.. Train Loss: 1.028.. Test Loss: 1.097.. Test Accuracy: 0.621.. Test F1 Score: 0.615\n",
      "Epoch: 9/30.. Train Loss: 1.014.. Test Loss: 1.081.. Test Accuracy: 0.639.. Test F1 Score: 0.639\n",
      "Epoch: 10/30.. Train Loss: 0.995.. Test Loss: 1.096.. Test Accuracy: 0.573.. Test F1 Score: 0.563\n",
      "Epoch: 11/30.. Train Loss: 0.981.. Test Loss: 1.131.. Test Accuracy: 0.555.. Test F1 Score: 0.521\n",
      "Epoch: 12/30.. Train Loss: 0.975.. Test Loss: 1.061.. Test Accuracy: 0.643.. Test F1 Score: 0.640\n",
      "Epoch: 13/30.. Train Loss: 0.957.. Test Loss: 1.076.. Test Accuracy: 0.610.. Test F1 Score: 0.602\n",
      "Epoch: 14/30.. Train Loss: 0.950.. Test Loss: 1.043.. Test Accuracy: 0.668.. Test F1 Score: 0.668\n",
      "Epoch: 15/30.. Train Loss: 0.938.. Test Loss: 1.051.. Test Accuracy: 0.619.. Test F1 Score: 0.614\n",
      "Epoch: 16/30.. Train Loss: 0.932.. Test Loss: 1.033.. Test Accuracy: 0.654.. Test F1 Score: 0.649\n",
      "Epoch: 17/30.. Train Loss: 0.924.. Test Loss: 1.043.. Test Accuracy: 0.642.. Test F1 Score: 0.642\n",
      "Epoch: 18/30.. Train Loss: 0.918.. Test Loss: 1.041.. Test Accuracy: 0.623.. Test F1 Score: 0.617\n",
      "Epoch: 19/30.. Train Loss: 0.910.. Test Loss: 1.034.. Test Accuracy: 0.650.. Test F1 Score: 0.629\n",
      "Epoch: 20/30.. Train Loss: 0.908.. Test Loss: 1.039.. Test Accuracy: 0.635.. Test F1 Score: 0.624\n",
      "Epoch: 21/30.. Train Loss: 0.901.. Test Loss: 1.021.. Test Accuracy: 0.663.. Test F1 Score: 0.654\n",
      "Epoch: 22/30.. Train Loss: 0.894.. Test Loss: 1.031.. Test Accuracy: 0.659.. Test F1 Score: 0.662\n",
      "Epoch: 23/30.. Train Loss: 0.889.. Test Loss: 1.018.. Test Accuracy: 0.667.. Test F1 Score: 0.660\n",
      "Epoch: 24/30.. Train Loss: 0.883.. Test Loss: 1.016.. Test Accuracy: 0.660.. Test F1 Score: 0.648\n",
      "Epoch: 25/30.. Train Loss: 0.881.. Test Loss: 1.015.. Test Accuracy: 0.641.. Test F1 Score: 0.630\n",
      "Epoch: 26/30.. Train Loss: 0.876.. Test Loss: 1.045.. Test Accuracy: 0.627.. Test F1 Score: 0.624\n",
      "Epoch: 27/30.. Train Loss: 0.872.. Test Loss: 1.025.. Test Accuracy: 0.674.. Test F1 Score: 0.675\n",
      "Epoch: 28/30.. Train Loss: 0.869.. Test Loss: 1.024.. Test Accuracy: 0.662.. Test F1 Score: 0.663\n",
      "Epoch: 29/30.. Train Loss: 0.864.. Test Loss: 1.027.. Test Accuracy: 0.678.. Test F1 Score: 0.673\n",
      "Epoch: 30/30.. Train Loss: 0.866.. Test Loss: 1.039.. Test Accuracy: 0.626.. Test F1 Score: 0.630\n"
     ]
    }
   ],
   "source": [
    "model = CNNFeatureExtractor(num_classes=4)\n",
    "\n",
    "#load pretrained model\n",
    "model.load_state_dict(torch.load('./models/cnn_feature_extractor_join_20231218-2006.pt'))\n",
    "\n",
    "model.fc2 = nn.Linear(in_features=model.fc2.in_features, out_features=num_classes)\n",
    "model.to(device)\n",
    "\n",
    "# define loss function and optimizer\n",
    "criterion = nn.CrossEntropyLoss()\n",
    "optimizer = torch.optim.Adam(model.fc2.parameters(), lr=0.001)\n",
    "\n",
    "# train and test model\n",
    "num_epochs = 30\n",
    "train_losses, test_losses, test_accuracies, test_f1_scores = train_and_test(model, train_dataloader_50, test_dataloader, criterion, optimizer, device, num_epochs=num_epochs)"
   ]
  },
  {
   "cell_type": "markdown",
   "metadata": {},
   "source": [
    "### 25% Train Data"
   ]
  },
  {
   "cell_type": "code",
   "execution_count": 77,
   "metadata": {},
   "outputs": [
    {
     "name": "stdout",
     "output_type": "stream",
     "text": [
      "Epoch: 1/30.. Train Loss: 1.979.. Test Loss: 1.756.. Test Accuracy: 0.417.. Test F1 Score: 0.338\n",
      "Epoch: 2/30.. Train Loss: 1.597.. Test Loss: 1.577.. Test Accuracy: 0.432.. Test F1 Score: 0.376\n",
      "Epoch: 3/30.. Train Loss: 1.402.. Test Loss: 1.494.. Test Accuracy: 0.448.. Test F1 Score: 0.368\n",
      "Epoch: 4/30.. Train Loss: 1.281.. Test Loss: 1.407.. Test Accuracy: 0.502.. Test F1 Score: 0.450\n",
      "Epoch: 5/30.. Train Loss: 1.192.. Test Loss: 1.343.. Test Accuracy: 0.534.. Test F1 Score: 0.521\n",
      "Epoch: 6/30.. Train Loss: 1.121.. Test Loss: 1.290.. Test Accuracy: 0.558.. Test F1 Score: 0.544\n",
      "Epoch: 7/30.. Train Loss: 1.066.. Test Loss: 1.266.. Test Accuracy: 0.551.. Test F1 Score: 0.535\n",
      "Epoch: 8/30.. Train Loss: 1.017.. Test Loss: 1.255.. Test Accuracy: 0.546.. Test F1 Score: 0.537\n",
      "Epoch: 9/30.. Train Loss: 0.986.. Test Loss: 1.222.. Test Accuracy: 0.572.. Test F1 Score: 0.530\n",
      "Epoch: 10/30.. Train Loss: 0.955.. Test Loss: 1.208.. Test Accuracy: 0.583.. Test F1 Score: 0.558\n",
      "Epoch: 11/30.. Train Loss: 0.927.. Test Loss: 1.242.. Test Accuracy: 0.525.. Test F1 Score: 0.502\n",
      "Epoch: 12/30.. Train Loss: 0.903.. Test Loss: 1.217.. Test Accuracy: 0.546.. Test F1 Score: 0.531\n",
      "Epoch: 13/30.. Train Loss: 0.882.. Test Loss: 1.204.. Test Accuracy: 0.568.. Test F1 Score: 0.555\n",
      "Epoch: 14/30.. Train Loss: 0.867.. Test Loss: 1.206.. Test Accuracy: 0.555.. Test F1 Score: 0.543\n",
      "Epoch: 15/30.. Train Loss: 0.848.. Test Loss: 1.192.. Test Accuracy: 0.550.. Test F1 Score: 0.543\n",
      "Epoch: 16/30.. Train Loss: 0.834.. Test Loss: 1.184.. Test Accuracy: 0.597.. Test F1 Score: 0.553\n",
      "Epoch: 17/30.. Train Loss: 0.823.. Test Loss: 1.199.. Test Accuracy: 0.593.. Test F1 Score: 0.590\n",
      "Epoch: 18/30.. Train Loss: 0.809.. Test Loss: 1.199.. Test Accuracy: 0.577.. Test F1 Score: 0.565\n",
      "Epoch: 19/30.. Train Loss: 0.801.. Test Loss: 1.179.. Test Accuracy: 0.589.. Test F1 Score: 0.569\n",
      "Epoch: 20/30.. Train Loss: 0.791.. Test Loss: 1.180.. Test Accuracy: 0.610.. Test F1 Score: 0.601\n",
      "Epoch: 21/30.. Train Loss: 0.787.. Test Loss: 1.180.. Test Accuracy: 0.585.. Test F1 Score: 0.580\n",
      "Epoch: 22/30.. Train Loss: 0.772.. Test Loss: 1.187.. Test Accuracy: 0.607.. Test F1 Score: 0.607\n",
      "Epoch: 23/30.. Train Loss: 0.765.. Test Loss: 1.192.. Test Accuracy: 0.599.. Test F1 Score: 0.602\n",
      "Epoch: 24/30.. Train Loss: 0.758.. Test Loss: 1.184.. Test Accuracy: 0.617.. Test F1 Score: 0.615\n",
      "Epoch: 25/30.. Train Loss: 0.753.. Test Loss: 1.203.. Test Accuracy: 0.596.. Test F1 Score: 0.593\n",
      "Epoch: 26/30.. Train Loss: 0.745.. Test Loss: 1.200.. Test Accuracy: 0.599.. Test F1 Score: 0.596\n",
      "Epoch: 27/30.. Train Loss: 0.738.. Test Loss: 1.186.. Test Accuracy: 0.613.. Test F1 Score: 0.609\n",
      "Epoch: 28/30.. Train Loss: 0.727.. Test Loss: 1.183.. Test Accuracy: 0.594.. Test F1 Score: 0.594\n",
      "Epoch: 29/30.. Train Loss: 0.725.. Test Loss: 1.231.. Test Accuracy: 0.599.. Test F1 Score: 0.603\n",
      "Epoch: 30/30.. Train Loss: 0.720.. Test Loss: 1.215.. Test Accuracy: 0.599.. Test F1 Score: 0.600\n"
     ]
    }
   ],
   "source": [
    "model = CNNFeatureExtractor(num_classes=4)\n",
    "\n",
    "#load pretrained model\n",
    "model.load_state_dict(torch.load('./models/cnn_feature_extractor_join_20231218-2006.pt'))\n",
    "\n",
    "model.fc2 = nn.Linear(in_features=model.fc2.in_features, out_features=num_classes)\n",
    "model.to(device)\n",
    "\n",
    "# define loss function and optimizer\n",
    "criterion = nn.CrossEntropyLoss()\n",
    "optimizer = torch.optim.Adam(model.fc2.parameters(), lr=0.001)\n",
    "\n",
    "# train and test model\n",
    "num_epochs = 30\n",
    "train_losses, test_losses, test_accuracies, test_f1_scores = train_and_test(model, train_dataloader_25, test_dataloader, criterion, optimizer, device, num_epochs=num_epochs)"
   ]
  },
  {
   "cell_type": "markdown",
   "metadata": {},
   "source": [
    "### 10% Train Data"
   ]
  },
  {
   "cell_type": "code",
   "execution_count": 78,
   "metadata": {},
   "outputs": [
    {
     "name": "stdout",
     "output_type": "stream",
     "text": [
      "Epoch: 1/30.. Train Loss: 2.118.. Test Loss: 1.909.. Test Accuracy: 0.321.. Test F1 Score: 0.268\n",
      "Epoch: 2/30.. Train Loss: 1.779.. Test Loss: 1.777.. Test Accuracy: 0.393.. Test F1 Score: 0.352\n",
      "Epoch: 3/30.. Train Loss: 1.611.. Test Loss: 1.673.. Test Accuracy: 0.505.. Test F1 Score: 0.478\n",
      "Epoch: 4/30.. Train Loss: 1.470.. Test Loss: 1.564.. Test Accuracy: 0.597.. Test F1 Score: 0.571\n",
      "Epoch: 5/30.. Train Loss: 1.357.. Test Loss: 1.529.. Test Accuracy: 0.551.. Test F1 Score: 0.525\n",
      "Epoch: 6/30.. Train Loss: 1.272.. Test Loss: 1.490.. Test Accuracy: 0.533.. Test F1 Score: 0.503\n",
      "Epoch: 7/30.. Train Loss: 1.197.. Test Loss: 1.422.. Test Accuracy: 0.552.. Test F1 Score: 0.537\n",
      "Epoch: 8/30.. Train Loss: 1.132.. Test Loss: 1.395.. Test Accuracy: 0.576.. Test F1 Score: 0.567\n",
      "Epoch: 9/30.. Train Loss: 1.077.. Test Loss: 1.376.. Test Accuracy: 0.597.. Test F1 Score: 0.584\n",
      "Epoch: 10/30.. Train Loss: 1.032.. Test Loss: 1.376.. Test Accuracy: 0.578.. Test F1 Score: 0.565\n",
      "Epoch: 11/30.. Train Loss: 1.003.. Test Loss: 1.363.. Test Accuracy: 0.555.. Test F1 Score: 0.545\n",
      "Epoch: 12/30.. Train Loss: 0.962.. Test Loss: 1.335.. Test Accuracy: 0.602.. Test F1 Score: 0.604\n",
      "Epoch: 13/30.. Train Loss: 0.936.. Test Loss: 1.313.. Test Accuracy: 0.594.. Test F1 Score: 0.588\n",
      "Epoch: 14/30.. Train Loss: 0.909.. Test Loss: 1.337.. Test Accuracy: 0.566.. Test F1 Score: 0.553\n",
      "Epoch: 15/30.. Train Loss: 0.885.. Test Loss: 1.302.. Test Accuracy: 0.610.. Test F1 Score: 0.605\n",
      "Epoch: 16/30.. Train Loss: 0.860.. Test Loss: 1.294.. Test Accuracy: 0.596.. Test F1 Score: 0.599\n",
      "Epoch: 17/30.. Train Loss: 0.847.. Test Loss: 1.279.. Test Accuracy: 0.604.. Test F1 Score: 0.606\n",
      "Epoch: 18/30.. Train Loss: 0.818.. Test Loss: 1.341.. Test Accuracy: 0.564.. Test F1 Score: 0.565\n",
      "Epoch: 19/30.. Train Loss: 0.802.. Test Loss: 1.287.. Test Accuracy: 0.602.. Test F1 Score: 0.599\n",
      "Epoch: 20/30.. Train Loss: 0.787.. Test Loss: 1.243.. Test Accuracy: 0.623.. Test F1 Score: 0.615\n",
      "Epoch: 21/30.. Train Loss: 0.776.. Test Loss: 1.291.. Test Accuracy: 0.588.. Test F1 Score: 0.590\n",
      "Epoch: 22/30.. Train Loss: 0.755.. Test Loss: 1.272.. Test Accuracy: 0.599.. Test F1 Score: 0.596\n",
      "Epoch: 23/30.. Train Loss: 0.750.. Test Loss: 1.268.. Test Accuracy: 0.588.. Test F1 Score: 0.590\n",
      "Epoch: 24/30.. Train Loss: 0.731.. Test Loss: 1.340.. Test Accuracy: 0.570.. Test F1 Score: 0.571\n",
      "Epoch: 25/30.. Train Loss: 0.728.. Test Loss: 1.380.. Test Accuracy: 0.544.. Test F1 Score: 0.526\n",
      "Epoch: 26/30.. Train Loss: 0.716.. Test Loss: 1.263.. Test Accuracy: 0.600.. Test F1 Score: 0.601\n",
      "Epoch: 27/30.. Train Loss: 0.705.. Test Loss: 1.312.. Test Accuracy: 0.571.. Test F1 Score: 0.572\n",
      "Epoch: 28/30.. Train Loss: 0.693.. Test Loss: 1.239.. Test Accuracy: 0.621.. Test F1 Score: 0.624\n",
      "Epoch: 29/30.. Train Loss: 0.687.. Test Loss: 1.274.. Test Accuracy: 0.606.. Test F1 Score: 0.613\n",
      "Epoch: 30/30.. Train Loss: 0.676.. Test Loss: 1.292.. Test Accuracy: 0.562.. Test F1 Score: 0.567\n"
     ]
    }
   ],
   "source": [
    "model = CNNFeatureExtractor(num_classes=4)\n",
    "\n",
    "#load pretrained model\n",
    "model.load_state_dict(torch.load('./models/cnn_feature_extractor_join_20231218-2006.pt'))\n",
    "\n",
    "model.fc2 = nn.Linear(in_features=model.fc2.in_features, out_features=num_classes)\n",
    "model.to(device)\n",
    "\n",
    "# define loss function and optimizer\n",
    "criterion = nn.CrossEntropyLoss()\n",
    "optimizer = torch.optim.Adam(model.fc2.parameters(), lr=0.001)\n",
    "\n",
    "# train and test model\n",
    "num_epochs = 30\n",
    "train_losses, test_losses, test_accuracies, test_f1_scores = train_and_test(model, train_dataloader_10, test_dataloader, criterion, optimizer, device, num_epochs=num_epochs)"
   ]
  },
  {
   "cell_type": "markdown",
   "metadata": {},
   "source": [
    "## Fine Tune CNN Conv-3"
   ]
  },
  {
   "cell_type": "markdown",
   "metadata": {},
   "source": [
    "### Full Train Data"
   ]
  },
  {
   "cell_type": "code",
   "execution_count": 79,
   "metadata": {},
   "outputs": [
    {
     "name": "stdout",
     "output_type": "stream",
     "text": [
      "Epoch: 1/30.. Train Loss: 1.574.. Test Loss: 1.317.. Test Accuracy: 0.533.. Test F1 Score: 0.492\n",
      "Epoch: 2/30.. Train Loss: 1.221.. Test Loss: 1.167.. Test Accuracy: 0.589.. Test F1 Score: 0.564\n",
      "Epoch: 3/30.. Train Loss: 1.119.. Test Loss: 1.125.. Test Accuracy: 0.638.. Test F1 Score: 0.625\n",
      "Epoch: 4/30.. Train Loss: 1.068.. Test Loss: 1.092.. Test Accuracy: 0.614.. Test F1 Score: 0.597\n",
      "Epoch: 5/30.. Train Loss: 1.038.. Test Loss: 1.081.. Test Accuracy: 0.657.. Test F1 Score: 0.655\n",
      "Epoch: 6/30.. Train Loss: 1.010.. Test Loss: 1.081.. Test Accuracy: 0.616.. Test F1 Score: 0.611\n",
      "Epoch: 7/30.. Train Loss: 0.991.. Test Loss: 1.061.. Test Accuracy: 0.628.. Test F1 Score: 0.612\n",
      "Epoch: 8/30.. Train Loss: 0.978.. Test Loss: 1.043.. Test Accuracy: 0.671.. Test F1 Score: 0.667\n",
      "Epoch: 9/30.. Train Loss: 0.964.. Test Loss: 1.031.. Test Accuracy: 0.655.. Test F1 Score: 0.650\n",
      "Epoch: 10/30.. Train Loss: 0.955.. Test Loss: 1.026.. Test Accuracy: 0.685.. Test F1 Score: 0.676\n",
      "Epoch: 11/30.. Train Loss: 0.944.. Test Loss: 1.034.. Test Accuracy: 0.668.. Test F1 Score: 0.658\n",
      "Epoch: 12/30.. Train Loss: 0.937.. Test Loss: 1.038.. Test Accuracy: 0.678.. Test F1 Score: 0.681\n",
      "Epoch: 13/30.. Train Loss: 0.930.. Test Loss: 1.017.. Test Accuracy: 0.670.. Test F1 Score: 0.659\n",
      "Epoch: 14/30.. Train Loss: 0.922.. Test Loss: 1.028.. Test Accuracy: 0.679.. Test F1 Score: 0.681\n",
      "Epoch: 15/30.. Train Loss: 0.919.. Test Loss: 1.026.. Test Accuracy: 0.670.. Test F1 Score: 0.667\n",
      "Epoch: 16/30.. Train Loss: 0.911.. Test Loss: 1.024.. Test Accuracy: 0.694.. Test F1 Score: 0.687\n",
      "Epoch: 17/30.. Train Loss: 0.906.. Test Loss: 1.036.. Test Accuracy: 0.636.. Test F1 Score: 0.645\n",
      "Epoch: 18/30.. Train Loss: 0.903.. Test Loss: 1.038.. Test Accuracy: 0.669.. Test F1 Score: 0.670\n",
      "Epoch: 19/30.. Train Loss: 0.898.. Test Loss: 1.019.. Test Accuracy: 0.686.. Test F1 Score: 0.683\n",
      "Epoch: 20/30.. Train Loss: 0.894.. Test Loss: 1.015.. Test Accuracy: 0.653.. Test F1 Score: 0.644\n",
      "Epoch: 21/30.. Train Loss: 0.891.. Test Loss: 1.032.. Test Accuracy: 0.651.. Test F1 Score: 0.657\n",
      "Epoch: 22/30.. Train Loss: 0.888.. Test Loss: 1.017.. Test Accuracy: 0.682.. Test F1 Score: 0.678\n",
      "Epoch: 23/30.. Train Loss: 0.887.. Test Loss: 1.038.. Test Accuracy: 0.663.. Test F1 Score: 0.652\n",
      "Epoch: 24/30.. Train Loss: 0.882.. Test Loss: 1.034.. Test Accuracy: 0.651.. Test F1 Score: 0.651\n",
      "Epoch: 25/30.. Train Loss: 0.881.. Test Loss: 0.999.. Test Accuracy: 0.660.. Test F1 Score: 0.655\n",
      "Epoch: 26/30.. Train Loss: 0.876.. Test Loss: 1.026.. Test Accuracy: 0.677.. Test F1 Score: 0.676\n",
      "Epoch: 27/30.. Train Loss: 0.871.. Test Loss: 1.071.. Test Accuracy: 0.636.. Test F1 Score: 0.641\n",
      "Epoch: 28/30.. Train Loss: 0.870.. Test Loss: 1.017.. Test Accuracy: 0.645.. Test F1 Score: 0.631\n",
      "Epoch: 29/30.. Train Loss: 0.870.. Test Loss: 1.001.. Test Accuracy: 0.664.. Test F1 Score: 0.658\n",
      "Epoch: 30/30.. Train Loss: 0.867.. Test Loss: 1.024.. Test Accuracy: 0.646.. Test F1 Score: 0.649\n"
     ]
    }
   ],
   "source": [
    "model = CNNFeatureExtractor(num_classes=4)\n",
    "\n",
    "#load pretrained model\n",
    "model.load_state_dict(torch.load('./models/cnn_feature_extractor_join_20231218-2006.pt'))\n",
    "\n",
    "# Freezing layers up to conv3\n",
    "for name, param in model.named_parameters():\n",
    "    if 'conv3' in name:\n",
    "        break\n",
    "    param.requires_grad = False\n",
    "\n",
    "# Unfreeze layers from conv3 onwards\n",
    "unfreeze = False\n",
    "for name, param in model.named_parameters():\n",
    "    if 'conv3' in name:\n",
    "        unfreeze = True\n",
    "    if unfreeze:\n",
    "        param.requires_grad = True\n",
    "\n",
    "model.fc2 = nn.Linear(in_features=model.fc2.in_features, out_features=num_classes)\n",
    "model.to(device)\n",
    "\n",
    "# define loss function and optimizer\n",
    "criterion = nn.CrossEntropyLoss()\n",
    "optimizer = torch.optim.Adam(model.fc2.parameters(), lr=0.001)\n",
    "\n",
    "# train and test model\n",
    "num_epochs = 30\n",
    "train_losses, test_losses, test_accuracies, test_f1_scores = train_and_test(model, train_dataloader, test_dataloader, criterion, optimizer, device, num_epochs=num_epochs)"
   ]
  },
  {
   "cell_type": "markdown",
   "metadata": {},
   "source": [
    "### 75% Train Data"
   ]
  },
  {
   "cell_type": "code",
   "execution_count": 80,
   "metadata": {},
   "outputs": [
    {
     "name": "stdout",
     "output_type": "stream",
     "text": [
      "Epoch: 1/30.. Train Loss: 1.653.. Test Loss: 1.385.. Test Accuracy: 0.553.. Test F1 Score: 0.506\n",
      "Epoch: 2/30.. Train Loss: 1.304.. Test Loss: 1.224.. Test Accuracy: 0.631.. Test F1 Score: 0.595\n",
      "Epoch: 3/30.. Train Loss: 1.193.. Test Loss: 1.180.. Test Accuracy: 0.632.. Test F1 Score: 0.608\n",
      "Epoch: 4/30.. Train Loss: 1.134.. Test Loss: 1.133.. Test Accuracy: 0.639.. Test F1 Score: 0.627\n",
      "Epoch: 5/30.. Train Loss: 1.098.. Test Loss: 1.123.. Test Accuracy: 0.618.. Test F1 Score: 0.615\n",
      "Epoch: 6/30.. Train Loss: 1.072.. Test Loss: 1.112.. Test Accuracy: 0.647.. Test F1 Score: 0.621\n",
      "Epoch: 7/30.. Train Loss: 1.051.. Test Loss: 1.095.. Test Accuracy: 0.662.. Test F1 Score: 0.632\n",
      "Epoch: 8/30.. Train Loss: 1.034.. Test Loss: 1.082.. Test Accuracy: 0.674.. Test F1 Score: 0.655\n",
      "Epoch: 9/30.. Train Loss: 1.021.. Test Loss: 1.078.. Test Accuracy: 0.631.. Test F1 Score: 0.631\n",
      "Epoch: 10/30.. Train Loss: 1.008.. Test Loss: 1.065.. Test Accuracy: 0.645.. Test F1 Score: 0.618\n",
      "Epoch: 11/30.. Train Loss: 0.996.. Test Loss: 1.071.. Test Accuracy: 0.641.. Test F1 Score: 0.622\n",
      "Epoch: 12/30.. Train Loss: 0.989.. Test Loss: 1.062.. Test Accuracy: 0.679.. Test F1 Score: 0.660\n",
      "Epoch: 13/30.. Train Loss: 0.982.. Test Loss: 1.087.. Test Accuracy: 0.660.. Test F1 Score: 0.649\n",
      "Epoch: 14/30.. Train Loss: 0.974.. Test Loss: 1.142.. Test Accuracy: 0.603.. Test F1 Score: 0.600\n",
      "Epoch: 15/30.. Train Loss: 0.967.. Test Loss: 1.080.. Test Accuracy: 0.646.. Test F1 Score: 0.620\n",
      "Epoch: 16/30.. Train Loss: 0.962.. Test Loss: 1.074.. Test Accuracy: 0.632.. Test F1 Score: 0.637\n",
      "Epoch: 17/30.. Train Loss: 0.957.. Test Loss: 1.086.. Test Accuracy: 0.621.. Test F1 Score: 0.622\n",
      "Epoch: 18/30.. Train Loss: 0.951.. Test Loss: 1.055.. Test Accuracy: 0.630.. Test F1 Score: 0.625\n",
      "Epoch: 19/30.. Train Loss: 0.946.. Test Loss: 1.074.. Test Accuracy: 0.649.. Test F1 Score: 0.624\n",
      "Epoch: 20/30.. Train Loss: 0.940.. Test Loss: 1.071.. Test Accuracy: 0.633.. Test F1 Score: 0.608\n",
      "Epoch: 21/30.. Train Loss: 0.936.. Test Loss: 1.095.. Test Accuracy: 0.658.. Test F1 Score: 0.652\n",
      "Epoch: 22/30.. Train Loss: 0.934.. Test Loss: 1.095.. Test Accuracy: 0.637.. Test F1 Score: 0.612\n",
      "Epoch: 23/30.. Train Loss: 0.932.. Test Loss: 1.068.. Test Accuracy: 0.644.. Test F1 Score: 0.646\n",
      "Epoch: 24/30.. Train Loss: 0.925.. Test Loss: 1.110.. Test Accuracy: 0.645.. Test F1 Score: 0.624\n",
      "Epoch: 25/30.. Train Loss: 0.925.. Test Loss: 1.058.. Test Accuracy: 0.644.. Test F1 Score: 0.639\n",
      "Epoch: 26/30.. Train Loss: 0.921.. Test Loss: 1.038.. Test Accuracy: 0.656.. Test F1 Score: 0.647\n",
      "Epoch: 27/30.. Train Loss: 0.918.. Test Loss: 1.074.. Test Accuracy: 0.671.. Test F1 Score: 0.675\n",
      "Epoch: 28/30.. Train Loss: 0.915.. Test Loss: 1.065.. Test Accuracy: 0.662.. Test F1 Score: 0.640\n",
      "Epoch: 29/30.. Train Loss: 0.914.. Test Loss: 1.047.. Test Accuracy: 0.660.. Test F1 Score: 0.652\n",
      "Epoch: 30/30.. Train Loss: 0.910.. Test Loss: 1.040.. Test Accuracy: 0.660.. Test F1 Score: 0.653\n"
     ]
    }
   ],
   "source": [
    "model = CNNFeatureExtractor(num_classes=4)\n",
    "\n",
    "#load pretrained model\n",
    "model.load_state_dict(torch.load('./models/cnn_feature_extractor_join_20231218-2006.pt'))\n",
    "\n",
    "# Freezing layers up to conv3\n",
    "for name, param in model.named_parameters():\n",
    "    if 'conv3' in name:\n",
    "        break\n",
    "    param.requires_grad = False\n",
    "\n",
    "# Unfreeze layers from conv3 onwards\n",
    "unfreeze = False\n",
    "for name, param in model.named_parameters():\n",
    "    if 'conv3' in name:\n",
    "        unfreeze = True\n",
    "    if unfreeze:\n",
    "        param.requires_grad = True\n",
    "\n",
    "model.fc2 = nn.Linear(in_features=model.fc2.in_features, out_features=num_classes)\n",
    "model.to(device)\n",
    "\n",
    "# define loss function and optimizer\n",
    "criterion = nn.CrossEntropyLoss()\n",
    "optimizer = torch.optim.Adam(model.fc2.parameters(), lr=0.001)\n",
    "\n",
    "# train and test model\n",
    "num_epochs = 30\n",
    "train_losses_75, test_losses_75, test_accuracies_75, test_f1_scores_75 = train_and_test(model, train_dataloader_75, test_dataloader, criterion, optimizer, device, num_epochs=num_epochs)"
   ]
  },
  {
   "cell_type": "markdown",
   "metadata": {},
   "source": [
    "### 50% Train Data"
   ]
  },
  {
   "cell_type": "code",
   "execution_count": 81,
   "metadata": {},
   "outputs": [
    {
     "name": "stdout",
     "output_type": "stream",
     "text": [
      "Epoch: 1/30.. Train Loss: 0.989.. Test Loss: 1.019.. Test Accuracy: 0.660.. Test F1 Score: 0.658\n",
      "Epoch: 2/30.. Train Loss: 0.621.. Test Loss: 1.132.. Test Accuracy: 0.641.. Test F1 Score: 0.651\n",
      "Epoch: 3/30.. Train Loss: 0.552.. Test Loss: 1.165.. Test Accuracy: 0.596.. Test F1 Score: 0.601\n",
      "Epoch: 4/30.. Train Loss: 0.483.. Test Loss: 1.100.. Test Accuracy: 0.665.. Test F1 Score: 0.665\n",
      "Epoch: 5/30.. Train Loss: 0.444.. Test Loss: 1.162.. Test Accuracy: 0.633.. Test F1 Score: 0.631\n",
      "Epoch: 6/30.. Train Loss: 0.426.. Test Loss: 1.176.. Test Accuracy: 0.655.. Test F1 Score: 0.653\n",
      "Epoch: 7/30.. Train Loss: 0.394.. Test Loss: 1.181.. Test Accuracy: 0.659.. Test F1 Score: 0.665\n",
      "Epoch: 8/30.. Train Loss: 0.376.. Test Loss: 1.230.. Test Accuracy: 0.657.. Test F1 Score: 0.663\n",
      "Epoch: 9/30.. Train Loss: 0.361.. Test Loss: 1.363.. Test Accuracy: 0.658.. Test F1 Score: 0.663\n",
      "Epoch: 10/30.. Train Loss: 0.334.. Test Loss: 1.290.. Test Accuracy: 0.666.. Test F1 Score: 0.672\n",
      "Epoch: 11/30.. Train Loss: 0.328.. Test Loss: 1.290.. Test Accuracy: 0.687.. Test F1 Score: 0.690\n",
      "Epoch: 12/30.. Train Loss: 0.298.. Test Loss: 1.402.. Test Accuracy: 0.666.. Test F1 Score: 0.674\n",
      "Epoch: 13/30.. Train Loss: 0.288.. Test Loss: 1.666.. Test Accuracy: 0.629.. Test F1 Score: 0.633\n",
      "Epoch: 14/30.. Train Loss: 0.277.. Test Loss: 1.535.. Test Accuracy: 0.631.. Test F1 Score: 0.633\n",
      "Epoch: 15/30.. Train Loss: 0.268.. Test Loss: 1.564.. Test Accuracy: 0.660.. Test F1 Score: 0.665\n",
      "Epoch: 16/30.. Train Loss: 0.248.. Test Loss: 1.639.. Test Accuracy: 0.659.. Test F1 Score: 0.665\n",
      "Epoch: 17/30.. Train Loss: 0.241.. Test Loss: 1.833.. Test Accuracy: 0.663.. Test F1 Score: 0.668\n",
      "Epoch: 18/30.. Train Loss: 0.236.. Test Loss: 1.838.. Test Accuracy: 0.636.. Test F1 Score: 0.642\n",
      "Epoch: 19/30.. Train Loss: 0.213.. Test Loss: 1.891.. Test Accuracy: 0.636.. Test F1 Score: 0.641\n",
      "Epoch: 20/30.. Train Loss: 0.228.. Test Loss: 1.896.. Test Accuracy: 0.671.. Test F1 Score: 0.674\n",
      "Epoch: 21/30.. Train Loss: 0.214.. Test Loss: 1.729.. Test Accuracy: 0.673.. Test F1 Score: 0.678\n",
      "Epoch: 22/30.. Train Loss: 0.213.. Test Loss: 1.724.. Test Accuracy: 0.648.. Test F1 Score: 0.653\n",
      "Epoch: 23/30.. Train Loss: 0.187.. Test Loss: 2.012.. Test Accuracy: 0.649.. Test F1 Score: 0.654\n",
      "Epoch: 24/30.. Train Loss: 0.196.. Test Loss: 2.122.. Test Accuracy: 0.637.. Test F1 Score: 0.645\n",
      "Epoch: 25/30.. Train Loss: 0.180.. Test Loss: 2.145.. Test Accuracy: 0.657.. Test F1 Score: 0.667\n",
      "Epoch: 26/30.. Train Loss: 0.176.. Test Loss: 2.517.. Test Accuracy: 0.612.. Test F1 Score: 0.610\n",
      "Epoch: 27/30.. Train Loss: 0.173.. Test Loss: 2.590.. Test Accuracy: 0.634.. Test F1 Score: 0.640\n",
      "Epoch: 28/30.. Train Loss: 0.169.. Test Loss: 2.446.. Test Accuracy: 0.654.. Test F1 Score: 0.657\n",
      "Epoch: 29/30.. Train Loss: 0.162.. Test Loss: 2.542.. Test Accuracy: 0.632.. Test F1 Score: 0.637\n",
      "Epoch: 30/30.. Train Loss: 0.155.. Test Loss: 2.454.. Test Accuracy: 0.636.. Test F1 Score: 0.639\n"
     ]
    }
   ],
   "source": [
    "model = CNNFeatureExtractor(num_classes=4)\n",
    "\n",
    "#load pretrained model\n",
    "model.load_state_dict(torch.load('./models/cnn_feature_extractor_join_20231218-2006.pt'))\n",
    "\n",
    "# Freezing layers up to conv3\n",
    "for name, param in model.named_parameters():\n",
    "    if 'conv3' in name:\n",
    "        break\n",
    "    param.requires_grad = False\n",
    "\n",
    "# Unfreeze layers from conv3 onwards\n",
    "unfreeze = False\n",
    "for name, param in model.named_parameters():\n",
    "    if 'conv3' in name:\n",
    "        unfreeze = True\n",
    "    if unfreeze:\n",
    "        param.requires_grad = True\n",
    "\n",
    "model.fc2 = nn.Linear(in_features=model.fc2.in_features, out_features=num_classes)\n",
    "model.to(device)\n",
    "\n",
    "# define loss function and optimizer\n",
    "criterion = nn.CrossEntropyLoss()\n",
    "optimizer = torch.optim.Adam(model.parameters(), lr=0.001)\n",
    "\n",
    "# train and test model\n",
    "num_epochs = 30\n",
    "train_losses_50, test_losses_50, test_accuracies_50, test_f1_scores_50 = train_and_test(model, train_dataloader_50, test_dataloader, criterion, optimizer, device, num_epochs=num_epochs)"
   ]
  },
  {
   "cell_type": "markdown",
   "metadata": {},
   "source": [
    "### 25% Train Data"
   ]
  },
  {
   "cell_type": "code",
   "execution_count": 82,
   "metadata": {},
   "outputs": [
    {
     "name": "stdout",
     "output_type": "stream",
     "text": [
      "Epoch: 1/30.. Train Loss: 0.987.. Test Loss: 1.550.. Test Accuracy: 0.575.. Test F1 Score: 0.570\n",
      "Epoch: 2/30.. Train Loss: 0.501.. Test Loss: 1.775.. Test Accuracy: 0.512.. Test F1 Score: 0.538\n",
      "Epoch: 3/30.. Train Loss: 0.401.. Test Loss: 1.817.. Test Accuracy: 0.589.. Test F1 Score: 0.612\n",
      "Epoch: 4/30.. Train Loss: 0.347.. Test Loss: 2.180.. Test Accuracy: 0.504.. Test F1 Score: 0.528\n",
      "Epoch: 5/30.. Train Loss: 0.332.. Test Loss: 1.862.. Test Accuracy: 0.562.. Test F1 Score: 0.584\n",
      "Epoch: 6/30.. Train Loss: 0.292.. Test Loss: 2.052.. Test Accuracy: 0.521.. Test F1 Score: 0.525\n",
      "Epoch: 7/30.. Train Loss: 0.284.. Test Loss: 2.180.. Test Accuracy: 0.529.. Test F1 Score: 0.523\n",
      "Epoch: 8/30.. Train Loss: 0.265.. Test Loss: 2.140.. Test Accuracy: 0.505.. Test F1 Score: 0.510\n",
      "Epoch: 9/30.. Train Loss: 0.216.. Test Loss: 2.477.. Test Accuracy: 0.535.. Test F1 Score: 0.549\n",
      "Epoch: 10/30.. Train Loss: 0.247.. Test Loss: 2.248.. Test Accuracy: 0.573.. Test F1 Score: 0.589\n",
      "Epoch: 11/30.. Train Loss: 0.205.. Test Loss: 2.430.. Test Accuracy: 0.557.. Test F1 Score: 0.563\n",
      "Epoch: 12/30.. Train Loss: 0.183.. Test Loss: 2.299.. Test Accuracy: 0.543.. Test F1 Score: 0.555\n",
      "Epoch: 13/30.. Train Loss: 0.175.. Test Loss: 2.745.. Test Accuracy: 0.508.. Test F1 Score: 0.501\n",
      "Epoch: 14/30.. Train Loss: 0.160.. Test Loss: 2.393.. Test Accuracy: 0.545.. Test F1 Score: 0.548\n",
      "Epoch: 15/30.. Train Loss: 0.146.. Test Loss: 3.034.. Test Accuracy: 0.506.. Test F1 Score: 0.513\n",
      "Epoch: 16/30.. Train Loss: 0.159.. Test Loss: 2.794.. Test Accuracy: 0.559.. Test F1 Score: 0.561\n",
      "Epoch: 17/30.. Train Loss: 0.138.. Test Loss: 3.313.. Test Accuracy: 0.533.. Test F1 Score: 0.540\n",
      "Epoch: 18/30.. Train Loss: 0.126.. Test Loss: 3.197.. Test Accuracy: 0.519.. Test F1 Score: 0.515\n",
      "Epoch: 19/30.. Train Loss: 0.124.. Test Loss: 3.117.. Test Accuracy: 0.535.. Test F1 Score: 0.536\n",
      "Epoch: 20/30.. Train Loss: 0.115.. Test Loss: 3.638.. Test Accuracy: 0.516.. Test F1 Score: 0.512\n",
      "Epoch: 21/30.. Train Loss: 0.118.. Test Loss: 3.550.. Test Accuracy: 0.507.. Test F1 Score: 0.520\n",
      "Epoch: 22/30.. Train Loss: 0.116.. Test Loss: 3.822.. Test Accuracy: 0.504.. Test F1 Score: 0.483\n",
      "Epoch: 23/30.. Train Loss: 0.105.. Test Loss: 3.626.. Test Accuracy: 0.495.. Test F1 Score: 0.485\n",
      "Epoch: 24/30.. Train Loss: 0.089.. Test Loss: 3.795.. Test Accuracy: 0.526.. Test F1 Score: 0.524\n",
      "Epoch: 25/30.. Train Loss: 0.099.. Test Loss: 4.414.. Test Accuracy: 0.489.. Test F1 Score: 0.478\n",
      "Epoch: 26/30.. Train Loss: 0.130.. Test Loss: 3.541.. Test Accuracy: 0.549.. Test F1 Score: 0.566\n",
      "Epoch: 27/30.. Train Loss: 0.094.. Test Loss: 4.289.. Test Accuracy: 0.494.. Test F1 Score: 0.502\n",
      "Epoch: 28/30.. Train Loss: 0.081.. Test Loss: 4.050.. Test Accuracy: 0.495.. Test F1 Score: 0.508\n",
      "Epoch: 29/30.. Train Loss: 0.072.. Test Loss: 4.387.. Test Accuracy: 0.516.. Test F1 Score: 0.504\n",
      "Epoch: 30/30.. Train Loss: 0.068.. Test Loss: 4.023.. Test Accuracy: 0.523.. Test F1 Score: 0.530\n"
     ]
    }
   ],
   "source": [
    "model = CNNFeatureExtractor(num_classes=4)\n",
    "\n",
    "#load pretrained model\n",
    "model.load_state_dict(torch.load('./models/cnn_feature_extractor_join_20231218-2006.pt'))\n",
    "\n",
    "# Freezing layers up to conv3\n",
    "for name, param in model.named_parameters():\n",
    "    if 'conv3' in name:\n",
    "        break\n",
    "    param.requires_grad = False\n",
    "\n",
    "# Unfreeze layers from conv3 onwards\n",
    "unfreeze = False\n",
    "for name, param in model.named_parameters():\n",
    "    if 'conv3' in name:\n",
    "        unfreeze = True\n",
    "    if unfreeze:\n",
    "        param.requires_grad = True\n",
    "\n",
    "model.fc2 = nn.Linear(in_features=model.fc2.in_features, out_features=num_classes)\n",
    "model.to(device)\n",
    "\n",
    "# define loss function and optimizer\n",
    "criterion = nn.CrossEntropyLoss()\n",
    "optimizer = torch.optim.Adam(model.parameters(), lr=0.001)\n",
    "\n",
    "# train and test model\n",
    "num_epochs = 30\n",
    "train_losses_25, test_losses_25, test_accuracies_25, test_f1_scores_25 = train_and_test(model, train_dataloader_25, test_dataloader, criterion, optimizer, device, num_epochs=num_epochs)"
   ]
  },
  {
   "cell_type": "markdown",
   "metadata": {},
   "source": [
    "### 10% Train Data"
   ]
  },
  {
   "cell_type": "code",
   "execution_count": 83,
   "metadata": {},
   "outputs": [
    {
     "name": "stdout",
     "output_type": "stream",
     "text": [
      "Epoch: 1/30.. Train Loss: 1.283.. Test Loss: 2.248.. Test Accuracy: 0.410.. Test F1 Score: 0.464\n",
      "Epoch: 2/30.. Train Loss: 0.432.. Test Loss: 2.290.. Test Accuracy: 0.450.. Test F1 Score: 0.478\n",
      "Epoch: 3/30.. Train Loss: 0.315.. Test Loss: 3.315.. Test Accuracy: 0.316.. Test F1 Score: 0.345\n",
      "Epoch: 4/30.. Train Loss: 0.250.. Test Loss: 2.807.. Test Accuracy: 0.357.. Test F1 Score: 0.358\n",
      "Epoch: 5/30.. Train Loss: 0.201.. Test Loss: 3.039.. Test Accuracy: 0.401.. Test F1 Score: 0.443\n",
      "Epoch: 6/30.. Train Loss: 0.169.. Test Loss: 3.396.. Test Accuracy: 0.375.. Test F1 Score: 0.387\n",
      "Epoch: 7/30.. Train Loss: 0.162.. Test Loss: 2.783.. Test Accuracy: 0.417.. Test F1 Score: 0.429\n",
      "Epoch: 8/30.. Train Loss: 0.130.. Test Loss: 3.568.. Test Accuracy: 0.421.. Test F1 Score: 0.411\n",
      "Epoch: 9/30.. Train Loss: 0.130.. Test Loss: 3.146.. Test Accuracy: 0.439.. Test F1 Score: 0.433\n",
      "Epoch: 10/30.. Train Loss: 0.127.. Test Loss: 3.088.. Test Accuracy: 0.389.. Test F1 Score: 0.397\n",
      "Epoch: 11/30.. Train Loss: 0.120.. Test Loss: 3.590.. Test Accuracy: 0.367.. Test F1 Score: 0.394\n",
      "Epoch: 12/30.. Train Loss: 0.103.. Test Loss: 4.492.. Test Accuracy: 0.368.. Test F1 Score: 0.352\n",
      "Epoch: 13/30.. Train Loss: 0.090.. Test Loss: 3.578.. Test Accuracy: 0.413.. Test F1 Score: 0.411\n",
      "Epoch: 14/30.. Train Loss: 0.085.. Test Loss: 4.373.. Test Accuracy: 0.364.. Test F1 Score: 0.395\n",
      "Epoch: 15/30.. Train Loss: 0.105.. Test Loss: 4.499.. Test Accuracy: 0.355.. Test F1 Score: 0.347\n",
      "Epoch: 16/30.. Train Loss: 0.075.. Test Loss: 4.388.. Test Accuracy: 0.353.. Test F1 Score: 0.360\n",
      "Epoch: 17/30.. Train Loss: 0.076.. Test Loss: 4.770.. Test Accuracy: 0.347.. Test F1 Score: 0.364\n",
      "Epoch: 18/30.. Train Loss: 0.058.. Test Loss: 5.854.. Test Accuracy: 0.268.. Test F1 Score: 0.308\n",
      "Epoch: 19/30.. Train Loss: 0.105.. Test Loss: 5.166.. Test Accuracy: 0.361.. Test F1 Score: 0.392\n",
      "Epoch: 20/30.. Train Loss: 0.071.. Test Loss: 4.738.. Test Accuracy: 0.427.. Test F1 Score: 0.422\n",
      "Epoch: 21/30.. Train Loss: 0.057.. Test Loss: 4.715.. Test Accuracy: 0.371.. Test F1 Score: 0.369\n",
      "Epoch: 22/30.. Train Loss: 0.061.. Test Loss: 4.948.. Test Accuracy: 0.370.. Test F1 Score: 0.383\n",
      "Epoch: 23/30.. Train Loss: 0.043.. Test Loss: 4.993.. Test Accuracy: 0.406.. Test F1 Score: 0.421\n",
      "Epoch: 24/30.. Train Loss: 0.054.. Test Loss: 5.442.. Test Accuracy: 0.380.. Test F1 Score: 0.381\n",
      "Epoch: 25/30.. Train Loss: 0.050.. Test Loss: 5.568.. Test Accuracy: 0.370.. Test F1 Score: 0.383\n",
      "Epoch: 26/30.. Train Loss: 0.087.. Test Loss: 5.599.. Test Accuracy: 0.344.. Test F1 Score: 0.355\n",
      "Epoch: 27/30.. Train Loss: 0.076.. Test Loss: 5.398.. Test Accuracy: 0.387.. Test F1 Score: 0.415\n",
      "Epoch: 28/30.. Train Loss: 0.069.. Test Loss: 5.185.. Test Accuracy: 0.376.. Test F1 Score: 0.356\n",
      "Epoch: 29/30.. Train Loss: 0.047.. Test Loss: 5.321.. Test Accuracy: 0.407.. Test F1 Score: 0.393\n",
      "Epoch: 30/30.. Train Loss: 0.043.. Test Loss: 5.346.. Test Accuracy: 0.444.. Test F1 Score: 0.431\n"
     ]
    }
   ],
   "source": [
    "model = CNNFeatureExtractor(num_classes=4)\n",
    "\n",
    "#load pretrained model\n",
    "model.load_state_dict(torch.load('./models/cnn_feature_extractor_join_20231218-2006.pt'))\n",
    "\n",
    "# Freezing layers up to conv3\n",
    "for name, param in model.named_parameters():\n",
    "    if 'conv3' in name:\n",
    "        break\n",
    "    param.requires_grad = False\n",
    "\n",
    "# Unfreeze layers from conv3 onwards\n",
    "unfreeze = False\n",
    "for name, param in model.named_parameters():\n",
    "    if 'conv3' in name:\n",
    "        unfreeze = True\n",
    "    if unfreeze:\n",
    "        param.requires_grad = True\n",
    "\n",
    "model.fc2 = nn.Linear(in_features=model.fc2.in_features, out_features=num_classes)\n",
    "model.to(device)\n",
    "\n",
    "# define loss function and optimizer\n",
    "criterion = nn.CrossEntropyLoss()\n",
    "optimizer = torch.optim.Adam(model.parameters(), lr=0.001)\n",
    "\n",
    "# train and test model\n",
    "num_epochs = 30\n",
    "train_losses_10, test_losses_10, test_accuracies_10, test_f1_scores_10 = train_and_test(model, train_dataloader_10, test_dataloader, criterion, optimizer, device, num_epochs=num_epochs)"
   ]
  },
  {
   "cell_type": "markdown",
   "metadata": {},
   "source": [
    "## Fine Tune TCN"
   ]
  },
  {
   "cell_type": "markdown",
   "metadata": {},
   "source": [
    "### Full Train Data"
   ]
  },
  {
   "cell_type": "code",
   "execution_count": 84,
   "metadata": {},
   "outputs": [
    {
     "name": "stdout",
     "output_type": "stream",
     "text": [
      "Epoch: 1/30.. Train Loss: 1.175.. Test Loss: 0.965.. Test Accuracy: 0.692.. Test F1 Score: 0.690\n",
      "Epoch: 2/30.. Train Loss: 0.903.. Test Loss: 0.912.. Test Accuracy: 0.689.. Test F1 Score: 0.681\n",
      "Epoch: 3/30.. Train Loss: 0.868.. Test Loss: 0.961.. Test Accuracy: 0.662.. Test F1 Score: 0.662\n",
      "Epoch: 4/30.. Train Loss: 0.852.. Test Loss: 0.921.. Test Accuracy: 0.695.. Test F1 Score: 0.696\n",
      "Epoch: 5/30.. Train Loss: 0.835.. Test Loss: 0.936.. Test Accuracy: 0.648.. Test F1 Score: 0.658\n",
      "Epoch: 6/30.. Train Loss: 0.833.. Test Loss: 0.935.. Test Accuracy: 0.689.. Test F1 Score: 0.685\n",
      "Epoch: 7/30.. Train Loss: 0.823.. Test Loss: 0.939.. Test Accuracy: 0.639.. Test F1 Score: 0.643\n",
      "Epoch: 8/30.. Train Loss: 0.821.. Test Loss: 0.942.. Test Accuracy: 0.691.. Test F1 Score: 0.681\n",
      "Epoch: 9/30.. Train Loss: 0.815.. Test Loss: 0.909.. Test Accuracy: 0.655.. Test F1 Score: 0.652\n",
      "Epoch: 10/30.. Train Loss: 0.816.. Test Loss: 0.922.. Test Accuracy: 0.676.. Test F1 Score: 0.677\n",
      "Epoch: 11/30.. Train Loss: 0.813.. Test Loss: 0.924.. Test Accuracy: 0.676.. Test F1 Score: 0.666\n",
      "Epoch: 12/30.. Train Loss: 0.810.. Test Loss: 0.926.. Test Accuracy: 0.654.. Test F1 Score: 0.657\n",
      "Epoch: 13/30.. Train Loss: 0.810.. Test Loss: 0.957.. Test Accuracy: 0.645.. Test F1 Score: 0.640\n",
      "Epoch: 14/30.. Train Loss: 0.815.. Test Loss: 0.933.. Test Accuracy: 0.669.. Test F1 Score: 0.669\n",
      "Epoch: 15/30.. Train Loss: 0.810.. Test Loss: 0.930.. Test Accuracy: 0.648.. Test F1 Score: 0.650\n",
      "Epoch: 16/30.. Train Loss: 0.804.. Test Loss: 0.929.. Test Accuracy: 0.662.. Test F1 Score: 0.664\n",
      "Epoch: 17/30.. Train Loss: 0.810.. Test Loss: 0.961.. Test Accuracy: 0.687.. Test F1 Score: 0.682\n",
      "Epoch: 18/30.. Train Loss: 0.803.. Test Loss: 0.937.. Test Accuracy: 0.679.. Test F1 Score: 0.671\n",
      "Epoch: 19/30.. Train Loss: 0.802.. Test Loss: 0.937.. Test Accuracy: 0.692.. Test F1 Score: 0.691\n",
      "Epoch: 20/30.. Train Loss: 0.805.. Test Loss: 0.963.. Test Accuracy: 0.664.. Test F1 Score: 0.662\n",
      "Epoch: 21/30.. Train Loss: 0.806.. Test Loss: 0.989.. Test Accuracy: 0.659.. Test F1 Score: 0.665\n",
      "Epoch: 22/30.. Train Loss: 0.798.. Test Loss: 0.989.. Test Accuracy: 0.672.. Test F1 Score: 0.672\n",
      "Epoch: 23/30.. Train Loss: 0.803.. Test Loss: 0.934.. Test Accuracy: 0.667.. Test F1 Score: 0.667\n",
      "Epoch: 24/30.. Train Loss: 0.804.. Test Loss: 0.963.. Test Accuracy: 0.648.. Test F1 Score: 0.655\n",
      "Epoch: 25/30.. Train Loss: 0.799.. Test Loss: 0.966.. Test Accuracy: 0.681.. Test F1 Score: 0.685\n",
      "Epoch: 26/30.. Train Loss: 0.801.. Test Loss: 0.957.. Test Accuracy: 0.689.. Test F1 Score: 0.691\n",
      "Epoch: 27/30.. Train Loss: 0.799.. Test Loss: 0.936.. Test Accuracy: 0.655.. Test F1 Score: 0.656\n",
      "Epoch: 28/30.. Train Loss: 0.798.. Test Loss: 0.937.. Test Accuracy: 0.671.. Test F1 Score: 0.673\n",
      "Epoch: 29/30.. Train Loss: 0.802.. Test Loss: 0.948.. Test Accuracy: 0.664.. Test F1 Score: 0.667\n",
      "Epoch: 30/30.. Train Loss: 0.804.. Test Loss: 0.984.. Test Accuracy: 0.678.. Test F1 Score: 0.680\n"
     ]
    }
   ],
   "source": [
    "num_inputs = 3  # Assuming 3 input channels (x, y, z axes of the accelerometer)\n",
    "num_channels = [64, 128, 256]  # Example channel sizes for each layer\n",
    "kernel_size = 8  # Kernel size for temporal convolutions\n",
    "\n",
    "model = TCN(num_inputs, num_channels, kernel_size, num_classes=4)\n",
    "\n",
    "#load pretrained model\n",
    "model.load_state_dict(torch.load('./models/tcn_join_20231218-2014.pt'))\n",
    "\n",
    "model.fc = nn.Linear(in_features=model.fc.in_features, out_features=num_classes)\n",
    "model.to(device)\n",
    "\n",
    "# define loss function and optimizer\n",
    "criterion = nn.CrossEntropyLoss()\n",
    "optimizer = torch.optim.Adam(model.fc.parameters(), lr=0.001)\n",
    "\n",
    "# train and test model\n",
    "num_epochs = 30\n",
    "train_losses, test_losses, test_accuracies, test_f1_scores = train_and_test(model, train_dataloader, test_dataloader, criterion, optimizer, device, num_epochs=num_epochs)"
   ]
  },
  {
   "cell_type": "markdown",
   "metadata": {},
   "source": [
    "### 75% Train Data"
   ]
  },
  {
   "cell_type": "code",
   "execution_count": 85,
   "metadata": {},
   "outputs": [
    {
     "name": "stdout",
     "output_type": "stream",
     "text": [
      "Epoch: 1/30.. Train Loss: 1.271.. Test Loss: 1.023.. Test Accuracy: 0.638.. Test F1 Score: 0.626\n",
      "Epoch: 2/30.. Train Loss: 0.963.. Test Loss: 0.950.. Test Accuracy: 0.667.. Test F1 Score: 0.655\n",
      "Epoch: 3/30.. Train Loss: 0.911.. Test Loss: 0.930.. Test Accuracy: 0.663.. Test F1 Score: 0.660\n",
      "Epoch: 4/30.. Train Loss: 0.891.. Test Loss: 0.916.. Test Accuracy: 0.664.. Test F1 Score: 0.657\n",
      "Epoch: 5/30.. Train Loss: 0.880.. Test Loss: 0.958.. Test Accuracy: 0.674.. Test F1 Score: 0.659\n",
      "Epoch: 6/30.. Train Loss: 0.866.. Test Loss: 0.935.. Test Accuracy: 0.684.. Test F1 Score: 0.671\n",
      "Epoch: 7/30.. Train Loss: 0.855.. Test Loss: 0.926.. Test Accuracy: 0.687.. Test F1 Score: 0.683\n",
      "Epoch: 8/30.. Train Loss: 0.856.. Test Loss: 0.939.. Test Accuracy: 0.682.. Test F1 Score: 0.673\n",
      "Epoch: 9/30.. Train Loss: 0.847.. Test Loss: 0.915.. Test Accuracy: 0.699.. Test F1 Score: 0.698\n",
      "Epoch: 10/30.. Train Loss: 0.840.. Test Loss: 0.934.. Test Accuracy: 0.649.. Test F1 Score: 0.635\n",
      "Epoch: 11/30.. Train Loss: 0.840.. Test Loss: 0.917.. Test Accuracy: 0.660.. Test F1 Score: 0.654\n",
      "Epoch: 12/30.. Train Loss: 0.839.. Test Loss: 0.918.. Test Accuracy: 0.669.. Test F1 Score: 0.666\n",
      "Epoch: 13/30.. Train Loss: 0.833.. Test Loss: 0.916.. Test Accuracy: 0.661.. Test F1 Score: 0.654\n",
      "Epoch: 14/30.. Train Loss: 0.830.. Test Loss: 0.936.. Test Accuracy: 0.659.. Test F1 Score: 0.653\n",
      "Epoch: 15/30.. Train Loss: 0.835.. Test Loss: 0.935.. Test Accuracy: 0.661.. Test F1 Score: 0.658\n",
      "Epoch: 16/30.. Train Loss: 0.825.. Test Loss: 0.928.. Test Accuracy: 0.658.. Test F1 Score: 0.655\n",
      "Epoch: 17/30.. Train Loss: 0.832.. Test Loss: 0.941.. Test Accuracy: 0.652.. Test F1 Score: 0.639\n",
      "Epoch: 18/30.. Train Loss: 0.826.. Test Loss: 0.938.. Test Accuracy: 0.657.. Test F1 Score: 0.661\n",
      "Epoch: 19/30.. Train Loss: 0.833.. Test Loss: 0.944.. Test Accuracy: 0.658.. Test F1 Score: 0.651\n",
      "Epoch: 20/30.. Train Loss: 0.828.. Test Loss: 0.962.. Test Accuracy: 0.656.. Test F1 Score: 0.653\n",
      "Epoch: 21/30.. Train Loss: 0.828.. Test Loss: 0.954.. Test Accuracy: 0.655.. Test F1 Score: 0.665\n",
      "Epoch: 22/30.. Train Loss: 0.831.. Test Loss: 0.940.. Test Accuracy: 0.652.. Test F1 Score: 0.653\n",
      "Epoch: 23/30.. Train Loss: 0.830.. Test Loss: 0.968.. Test Accuracy: 0.684.. Test F1 Score: 0.685\n",
      "Epoch: 24/30.. Train Loss: 0.824.. Test Loss: 0.950.. Test Accuracy: 0.662.. Test F1 Score: 0.660\n",
      "Epoch: 25/30.. Train Loss: 0.824.. Test Loss: 0.934.. Test Accuracy: 0.657.. Test F1 Score: 0.661\n",
      "Epoch: 26/30.. Train Loss: 0.822.. Test Loss: 0.938.. Test Accuracy: 0.665.. Test F1 Score: 0.660\n",
      "Epoch: 27/30.. Train Loss: 0.818.. Test Loss: 0.928.. Test Accuracy: 0.670.. Test F1 Score: 0.666\n",
      "Epoch: 28/30.. Train Loss: 0.822.. Test Loss: 0.972.. Test Accuracy: 0.654.. Test F1 Score: 0.660\n",
      "Epoch: 29/30.. Train Loss: 0.821.. Test Loss: 0.972.. Test Accuracy: 0.676.. Test F1 Score: 0.675\n",
      "Epoch: 30/30.. Train Loss: 0.821.. Test Loss: 0.977.. Test Accuracy: 0.663.. Test F1 Score: 0.661\n"
     ]
    }
   ],
   "source": [
    "model = TCN(num_inputs, num_channels, kernel_size, num_classes=4)\n",
    "\n",
    "#load pretrained model\n",
    "model.load_state_dict(torch.load('./models/tcn_join_20231218-2014.pt'))\n",
    "\n",
    "model.fc = nn.Linear(in_features=model.fc.in_features, out_features=num_classes)\n",
    "model.to(device)\n",
    "\n",
    "# define loss function and optimizer\n",
    "criterion = nn.CrossEntropyLoss()\n",
    "optimizer = torch.optim.Adam(model.fc.parameters(), lr=0.001)\n",
    "\n",
    "# train and test model\n",
    "num_epochs = 30\n",
    "train_losses_75, test_losses_75, test_accuracies_75, test_f1_scores_75 = train_and_test(model, train_dataloader_75, test_dataloader, criterion, optimizer, device, num_epochs=num_epochs)"
   ]
  },
  {
   "cell_type": "markdown",
   "metadata": {},
   "source": [
    "### 50% Train Data"
   ]
  },
  {
   "cell_type": "code",
   "execution_count": 86,
   "metadata": {},
   "outputs": [
    {
     "name": "stdout",
     "output_type": "stream",
     "text": [
      "Epoch: 1/30.. Train Loss: 1.306.. Test Loss: 1.033.. Test Accuracy: 0.668.. Test F1 Score: 0.650\n",
      "Epoch: 2/30.. Train Loss: 0.921.. Test Loss: 0.998.. Test Accuracy: 0.647.. Test F1 Score: 0.644\n",
      "Epoch: 3/30.. Train Loss: 0.854.. Test Loss: 0.944.. Test Accuracy: 0.663.. Test F1 Score: 0.662\n",
      "Epoch: 4/30.. Train Loss: 0.822.. Test Loss: 0.985.. Test Accuracy: 0.681.. Test F1 Score: 0.683\n",
      "Epoch: 5/30.. Train Loss: 0.804.. Test Loss: 0.963.. Test Accuracy: 0.666.. Test F1 Score: 0.668\n",
      "Epoch: 6/30.. Train Loss: 0.790.. Test Loss: 0.954.. Test Accuracy: 0.669.. Test F1 Score: 0.671\n",
      "Epoch: 7/30.. Train Loss: 0.786.. Test Loss: 0.973.. Test Accuracy: 0.662.. Test F1 Score: 0.666\n",
      "Epoch: 8/30.. Train Loss: 0.772.. Test Loss: 1.008.. Test Accuracy: 0.652.. Test F1 Score: 0.660\n",
      "Epoch: 9/30.. Train Loss: 0.770.. Test Loss: 0.965.. Test Accuracy: 0.654.. Test F1 Score: 0.657\n",
      "Epoch: 10/30.. Train Loss: 0.759.. Test Loss: 0.948.. Test Accuracy: 0.682.. Test F1 Score: 0.682\n",
      "Epoch: 11/30.. Train Loss: 0.752.. Test Loss: 0.955.. Test Accuracy: 0.682.. Test F1 Score: 0.682\n",
      "Epoch: 12/30.. Train Loss: 0.751.. Test Loss: 1.003.. Test Accuracy: 0.663.. Test F1 Score: 0.665\n",
      "Epoch: 13/30.. Train Loss: 0.750.. Test Loss: 0.970.. Test Accuracy: 0.688.. Test F1 Score: 0.690\n",
      "Epoch: 14/30.. Train Loss: 0.746.. Test Loss: 0.997.. Test Accuracy: 0.658.. Test F1 Score: 0.659\n",
      "Epoch: 15/30.. Train Loss: 0.753.. Test Loss: 0.990.. Test Accuracy: 0.679.. Test F1 Score: 0.681\n",
      "Epoch: 16/30.. Train Loss: 0.746.. Test Loss: 1.030.. Test Accuracy: 0.670.. Test F1 Score: 0.673\n",
      "Epoch: 17/30.. Train Loss: 0.743.. Test Loss: 1.016.. Test Accuracy: 0.660.. Test F1 Score: 0.659\n",
      "Epoch: 18/30.. Train Loss: 0.731.. Test Loss: 1.012.. Test Accuracy: 0.676.. Test F1 Score: 0.680\n",
      "Epoch: 19/30.. Train Loss: 0.739.. Test Loss: 1.020.. Test Accuracy: 0.659.. Test F1 Score: 0.662\n",
      "Epoch: 20/30.. Train Loss: 0.730.. Test Loss: 1.041.. Test Accuracy: 0.651.. Test F1 Score: 0.657\n",
      "Epoch: 21/30.. Train Loss: 0.731.. Test Loss: 1.015.. Test Accuracy: 0.665.. Test F1 Score: 0.661\n",
      "Epoch: 22/30.. Train Loss: 0.732.. Test Loss: 1.068.. Test Accuracy: 0.640.. Test F1 Score: 0.643\n",
      "Epoch: 23/30.. Train Loss: 0.729.. Test Loss: 1.033.. Test Accuracy: 0.671.. Test F1 Score: 0.666\n",
      "Epoch: 24/30.. Train Loss: 0.734.. Test Loss: 1.035.. Test Accuracy: 0.663.. Test F1 Score: 0.666\n",
      "Epoch: 25/30.. Train Loss: 0.734.. Test Loss: 1.045.. Test Accuracy: 0.662.. Test F1 Score: 0.665\n",
      "Epoch: 26/30.. Train Loss: 0.736.. Test Loss: 1.066.. Test Accuracy: 0.641.. Test F1 Score: 0.644\n",
      "Epoch: 27/30.. Train Loss: 0.739.. Test Loss: 1.044.. Test Accuracy: 0.655.. Test F1 Score: 0.659\n",
      "Epoch: 28/30.. Train Loss: 0.724.. Test Loss: 1.046.. Test Accuracy: 0.663.. Test F1 Score: 0.666\n",
      "Epoch: 29/30.. Train Loss: 0.733.. Test Loss: 1.039.. Test Accuracy: 0.663.. Test F1 Score: 0.667\n",
      "Epoch: 30/30.. Train Loss: 0.732.. Test Loss: 1.036.. Test Accuracy: 0.667.. Test F1 Score: 0.670\n"
     ]
    }
   ],
   "source": [
    "model = TCN(num_inputs, num_channels, kernel_size, num_classes=4)\n",
    "\n",
    "#load pretrained model\n",
    "model.load_state_dict(torch.load('./models/tcn_join_20231218-2014.pt'))\n",
    "\n",
    "model.fc = nn.Linear(in_features=model.fc.in_features, out_features=num_classes)\n",
    "model.to(device)\n",
    "\n",
    "# define loss function and optimizer\n",
    "criterion = nn.CrossEntropyLoss()\n",
    "optimizer = torch.optim.Adam(model.fc.parameters(), lr=0.001)\n",
    "\n",
    "# train and test model\n",
    "num_epochs = 30\n",
    "train_losses_50, test_losses_50, test_accuracies_50, test_f1_scores_50 = train_and_test(model, train_dataloader_50, test_dataloader, criterion, optimizer, device, num_epochs=num_epochs)"
   ]
  },
  {
   "cell_type": "markdown",
   "metadata": {},
   "source": [
    "### 25% Train Data"
   ]
  },
  {
   "cell_type": "code",
   "execution_count": 87,
   "metadata": {},
   "outputs": [
    {
     "name": "stdout",
     "output_type": "stream",
     "text": [
      "Epoch: 1/30.. Train Loss: 1.580.. Test Loss: 1.187.. Test Accuracy: 0.611.. Test F1 Score: 0.592\n",
      "Epoch: 2/30.. Train Loss: 0.981.. Test Loss: 1.078.. Test Accuracy: 0.630.. Test F1 Score: 0.625\n",
      "Epoch: 3/30.. Train Loss: 0.809.. Test Loss: 1.073.. Test Accuracy: 0.642.. Test F1 Score: 0.645\n",
      "Epoch: 4/30.. Train Loss: 0.718.. Test Loss: 1.087.. Test Accuracy: 0.644.. Test F1 Score: 0.647\n",
      "Epoch: 5/30.. Train Loss: 0.685.. Test Loss: 1.107.. Test Accuracy: 0.630.. Test F1 Score: 0.635\n",
      "Epoch: 6/30.. Train Loss: 0.652.. Test Loss: 1.081.. Test Accuracy: 0.639.. Test F1 Score: 0.644\n",
      "Epoch: 7/30.. Train Loss: 0.631.. Test Loss: 1.159.. Test Accuracy: 0.613.. Test F1 Score: 0.608\n",
      "Epoch: 8/30.. Train Loss: 0.608.. Test Loss: 1.114.. Test Accuracy: 0.639.. Test F1 Score: 0.646\n",
      "Epoch: 9/30.. Train Loss: 0.608.. Test Loss: 1.182.. Test Accuracy: 0.631.. Test F1 Score: 0.637\n",
      "Epoch: 10/30.. Train Loss: 0.598.. Test Loss: 1.153.. Test Accuracy: 0.628.. Test F1 Score: 0.635\n",
      "Epoch: 11/30.. Train Loss: 0.582.. Test Loss: 1.111.. Test Accuracy: 0.638.. Test F1 Score: 0.645\n",
      "Epoch: 12/30.. Train Loss: 0.572.. Test Loss: 1.142.. Test Accuracy: 0.640.. Test F1 Score: 0.643\n",
      "Epoch: 13/30.. Train Loss: 0.563.. Test Loss: 1.122.. Test Accuracy: 0.628.. Test F1 Score: 0.635\n",
      "Epoch: 14/30.. Train Loss: 0.564.. Test Loss: 1.125.. Test Accuracy: 0.633.. Test F1 Score: 0.638\n",
      "Epoch: 15/30.. Train Loss: 0.559.. Test Loss: 1.121.. Test Accuracy: 0.652.. Test F1 Score: 0.658\n",
      "Epoch: 16/30.. Train Loss: 0.553.. Test Loss: 1.197.. Test Accuracy: 0.623.. Test F1 Score: 0.623\n",
      "Epoch: 17/30.. Train Loss: 0.549.. Test Loss: 1.179.. Test Accuracy: 0.613.. Test F1 Score: 0.616\n",
      "Epoch: 18/30.. Train Loss: 0.544.. Test Loss: 1.142.. Test Accuracy: 0.635.. Test F1 Score: 0.640\n",
      "Epoch: 19/30.. Train Loss: 0.531.. Test Loss: 1.137.. Test Accuracy: 0.630.. Test F1 Score: 0.637\n",
      "Epoch: 20/30.. Train Loss: 0.536.. Test Loss: 1.205.. Test Accuracy: 0.611.. Test F1 Score: 0.613\n",
      "Epoch: 21/30.. Train Loss: 0.531.. Test Loss: 1.218.. Test Accuracy: 0.636.. Test F1 Score: 0.644\n",
      "Epoch: 22/30.. Train Loss: 0.525.. Test Loss: 1.227.. Test Accuracy: 0.643.. Test F1 Score: 0.652\n",
      "Epoch: 23/30.. Train Loss: 0.515.. Test Loss: 1.210.. Test Accuracy: 0.622.. Test F1 Score: 0.623\n",
      "Epoch: 24/30.. Train Loss: 0.523.. Test Loss: 1.192.. Test Accuracy: 0.635.. Test F1 Score: 0.638\n",
      "Epoch: 25/30.. Train Loss: 0.506.. Test Loss: 1.229.. Test Accuracy: 0.625.. Test F1 Score: 0.629\n",
      "Epoch: 26/30.. Train Loss: 0.520.. Test Loss: 1.203.. Test Accuracy: 0.636.. Test F1 Score: 0.641\n",
      "Epoch: 27/30.. Train Loss: 0.519.. Test Loss: 1.266.. Test Accuracy: 0.629.. Test F1 Score: 0.632\n",
      "Epoch: 28/30.. Train Loss: 0.513.. Test Loss: 1.218.. Test Accuracy: 0.615.. Test F1 Score: 0.618\n",
      "Epoch: 29/30.. Train Loss: 0.517.. Test Loss: 1.265.. Test Accuracy: 0.641.. Test F1 Score: 0.649\n",
      "Epoch: 30/30.. Train Loss: 0.513.. Test Loss: 1.245.. Test Accuracy: 0.626.. Test F1 Score: 0.624\n"
     ]
    }
   ],
   "source": [
    "model = TCN(num_inputs, num_channels, kernel_size, num_classes=4)\n",
    "\n",
    "#load pretrained model\n",
    "model.load_state_dict(torch.load('./models/tcn_join_20231218-2014.pt'))\n",
    "\n",
    "model.fc = nn.Linear(in_features=model.fc.in_features, out_features=num_classes)\n",
    "model.to(device)\n",
    "\n",
    "# define loss function and optimizer\n",
    "criterion = nn.CrossEntropyLoss()\n",
    "optimizer = torch.optim.Adam(model.fc.parameters(), lr=0.001)\n",
    "\n",
    "# train and test model\n",
    "num_epochs = 30\n",
    "train_losses_25, test_losses_25, test_accuracies_25, test_f1_scores_25 = train_and_test(model, train_dataloader_25, test_dataloader, criterion, optimizer, device, num_epochs=num_epochs)"
   ]
  },
  {
   "cell_type": "markdown",
   "metadata": {},
   "source": [
    "### 10% Train Data"
   ]
  },
  {
   "cell_type": "code",
   "execution_count": 88,
   "metadata": {},
   "outputs": [
    {
     "name": "stdout",
     "output_type": "stream",
     "text": [
      "Epoch: 1/30.. Train Loss: 1.703.. Test Loss: 1.335.. Test Accuracy: 0.559.. Test F1 Score: 0.550\n",
      "Epoch: 2/30.. Train Loss: 1.040.. Test Loss: 1.219.. Test Accuracy: 0.575.. Test F1 Score: 0.581\n",
      "Epoch: 3/30.. Train Loss: 0.820.. Test Loss: 1.160.. Test Accuracy: 0.550.. Test F1 Score: 0.553\n",
      "Epoch: 4/30.. Train Loss: 0.705.. Test Loss: 1.188.. Test Accuracy: 0.542.. Test F1 Score: 0.546\n",
      "Epoch: 5/30.. Train Loss: 0.630.. Test Loss: 1.156.. Test Accuracy: 0.560.. Test F1 Score: 0.564\n",
      "Epoch: 6/30.. Train Loss: 0.580.. Test Loss: 1.207.. Test Accuracy: 0.546.. Test F1 Score: 0.556\n",
      "Epoch: 7/30.. Train Loss: 0.546.. Test Loss: 1.315.. Test Accuracy: 0.529.. Test F1 Score: 0.537\n",
      "Epoch: 8/30.. Train Loss: 0.525.. Test Loss: 1.180.. Test Accuracy: 0.578.. Test F1 Score: 0.582\n",
      "Epoch: 9/30.. Train Loss: 0.509.. Test Loss: 1.232.. Test Accuracy: 0.560.. Test F1 Score: 0.571\n",
      "Epoch: 10/30.. Train Loss: 0.479.. Test Loss: 1.223.. Test Accuracy: 0.573.. Test F1 Score: 0.580\n",
      "Epoch: 11/30.. Train Loss: 0.477.. Test Loss: 1.201.. Test Accuracy: 0.585.. Test F1 Score: 0.591\n",
      "Epoch: 12/30.. Train Loss: 0.459.. Test Loss: 1.239.. Test Accuracy: 0.575.. Test F1 Score: 0.583\n",
      "Epoch: 13/30.. Train Loss: 0.448.. Test Loss: 1.269.. Test Accuracy: 0.572.. Test F1 Score: 0.576\n",
      "Epoch: 14/30.. Train Loss: 0.435.. Test Loss: 1.313.. Test Accuracy: 0.566.. Test F1 Score: 0.575\n",
      "Epoch: 15/30.. Train Loss: 0.440.. Test Loss: 1.285.. Test Accuracy: 0.560.. Test F1 Score: 0.571\n",
      "Epoch: 16/30.. Train Loss: 0.422.. Test Loss: 1.267.. Test Accuracy: 0.581.. Test F1 Score: 0.588\n",
      "Epoch: 17/30.. Train Loss: 0.415.. Test Loss: 1.390.. Test Accuracy: 0.552.. Test F1 Score: 0.562\n",
      "Epoch: 18/30.. Train Loss: 0.409.. Test Loss: 1.327.. Test Accuracy: 0.572.. Test F1 Score: 0.583\n",
      "Epoch: 19/30.. Train Loss: 0.388.. Test Loss: 1.299.. Test Accuracy: 0.570.. Test F1 Score: 0.581\n",
      "Epoch: 20/30.. Train Loss: 0.408.. Test Loss: 1.302.. Test Accuracy: 0.576.. Test F1 Score: 0.584\n",
      "Epoch: 21/30.. Train Loss: 0.396.. Test Loss: 1.327.. Test Accuracy: 0.572.. Test F1 Score: 0.580\n",
      "Epoch: 22/30.. Train Loss: 0.398.. Test Loss: 1.376.. Test Accuracy: 0.557.. Test F1 Score: 0.561\n",
      "Epoch: 23/30.. Train Loss: 0.390.. Test Loss: 1.392.. Test Accuracy: 0.568.. Test F1 Score: 0.574\n",
      "Epoch: 24/30.. Train Loss: 0.394.. Test Loss: 1.316.. Test Accuracy: 0.585.. Test F1 Score: 0.594\n",
      "Epoch: 25/30.. Train Loss: 0.370.. Test Loss: 1.361.. Test Accuracy: 0.581.. Test F1 Score: 0.588\n",
      "Epoch: 26/30.. Train Loss: 0.369.. Test Loss: 1.377.. Test Accuracy: 0.558.. Test F1 Score: 0.569\n",
      "Epoch: 27/30.. Train Loss: 0.371.. Test Loss: 1.457.. Test Accuracy: 0.551.. Test F1 Score: 0.561\n",
      "Epoch: 28/30.. Train Loss: 0.370.. Test Loss: 1.382.. Test Accuracy: 0.568.. Test F1 Score: 0.575\n",
      "Epoch: 29/30.. Train Loss: 0.373.. Test Loss: 1.386.. Test Accuracy: 0.578.. Test F1 Score: 0.581\n",
      "Epoch: 30/30.. Train Loss: 0.366.. Test Loss: 1.485.. Test Accuracy: 0.555.. Test F1 Score: 0.567\n"
     ]
    }
   ],
   "source": [
    "model = TCN(num_inputs, num_channels, kernel_size, num_classes=4)\n",
    "\n",
    "#load pretrained model\n",
    "model.load_state_dict(torch.load('./models/tcn_join_20231218-2014.pt'))\n",
    "\n",
    "model.fc = nn.Linear(in_features=model.fc.in_features, out_features=num_classes)\n",
    "model.to(device)\n",
    "\n",
    "# define loss function and optimizer\n",
    "criterion = nn.CrossEntropyLoss()\n",
    "optimizer = torch.optim.Adam(model.fc.parameters(), lr=0.001)\n",
    "\n",
    "# train and test model\n",
    "num_epochs = 30\n",
    "train_losses_10, test_losses_10, test_accuracies_10, test_f1_scores_10 = train_and_test(model, train_dataloader_10, test_dataloader, criterion, optimizer, device, num_epochs=num_epochs)"
   ]
  },
  {
   "cell_type": "markdown",
   "metadata": {},
   "source": [
    "## Fine Tune TCN Last Temporal Block"
   ]
  },
  {
   "cell_type": "markdown",
   "metadata": {},
   "source": [
    "### Full Train Data"
   ]
  },
  {
   "cell_type": "code",
   "execution_count": 89,
   "metadata": {},
   "outputs": [
    {
     "name": "stdout",
     "output_type": "stream",
     "text": [
      "Epoch: 1/30.. Train Loss: 0.987.. Test Loss: 1.003.. Test Accuracy: 0.637.. Test F1 Score: 0.641\n",
      "Epoch: 2/30.. Train Loss: 0.819.. Test Loss: 0.922.. Test Accuracy: 0.688.. Test F1 Score: 0.683\n",
      "Epoch: 3/30.. Train Loss: 0.779.. Test Loss: 0.960.. Test Accuracy: 0.701.. Test F1 Score: 0.691\n",
      "Epoch: 4/30.. Train Loss: 0.752.. Test Loss: 0.930.. Test Accuracy: 0.702.. Test F1 Score: 0.702\n",
      "Epoch: 5/30.. Train Loss: 0.745.. Test Loss: 0.940.. Test Accuracy: 0.694.. Test F1 Score: 0.697\n",
      "Epoch: 6/30.. Train Loss: 0.719.. Test Loss: 0.959.. Test Accuracy: 0.691.. Test F1 Score: 0.692\n",
      "Epoch: 7/30.. Train Loss: 0.709.. Test Loss: 0.910.. Test Accuracy: 0.711.. Test F1 Score: 0.708\n",
      "Epoch: 8/30.. Train Loss: 0.706.. Test Loss: 0.937.. Test Accuracy: 0.682.. Test F1 Score: 0.681\n",
      "Epoch: 9/30.. Train Loss: 0.705.. Test Loss: 0.886.. Test Accuracy: 0.709.. Test F1 Score: 0.709\n",
      "Epoch: 10/30.. Train Loss: 0.693.. Test Loss: 1.055.. Test Accuracy: 0.681.. Test F1 Score: 0.682\n",
      "Epoch: 11/30.. Train Loss: 0.688.. Test Loss: 0.929.. Test Accuracy: 0.694.. Test F1 Score: 0.696\n",
      "Epoch: 12/30.. Train Loss: 0.677.. Test Loss: 0.972.. Test Accuracy: 0.694.. Test F1 Score: 0.693\n",
      "Epoch: 13/30.. Train Loss: 0.673.. Test Loss: 0.944.. Test Accuracy: 0.696.. Test F1 Score: 0.698\n",
      "Epoch: 14/30.. Train Loss: 0.660.. Test Loss: 0.936.. Test Accuracy: 0.668.. Test F1 Score: 0.671\n",
      "Epoch: 15/30.. Train Loss: 0.664.. Test Loss: 0.983.. Test Accuracy: 0.683.. Test F1 Score: 0.683\n",
      "Epoch: 16/30.. Train Loss: 0.660.. Test Loss: 0.960.. Test Accuracy: 0.698.. Test F1 Score: 0.699\n",
      "Epoch: 17/30.. Train Loss: 0.646.. Test Loss: 0.942.. Test Accuracy: 0.700.. Test F1 Score: 0.702\n",
      "Epoch: 18/30.. Train Loss: 0.647.. Test Loss: 0.966.. Test Accuracy: 0.687.. Test F1 Score: 0.689\n",
      "Epoch: 19/30.. Train Loss: 0.639.. Test Loss: 0.961.. Test Accuracy: 0.695.. Test F1 Score: 0.695\n",
      "Epoch: 20/30.. Train Loss: 0.641.. Test Loss: 0.903.. Test Accuracy: 0.699.. Test F1 Score: 0.698\n",
      "Epoch: 21/30.. Train Loss: 0.638.. Test Loss: 0.927.. Test Accuracy: 0.704.. Test F1 Score: 0.705\n",
      "Epoch: 22/30.. Train Loss: 0.628.. Test Loss: 0.966.. Test Accuracy: 0.688.. Test F1 Score: 0.688\n",
      "Epoch: 23/30.. Train Loss: 0.630.. Test Loss: 0.996.. Test Accuracy: 0.690.. Test F1 Score: 0.688\n",
      "Epoch: 24/30.. Train Loss: 0.623.. Test Loss: 0.907.. Test Accuracy: 0.704.. Test F1 Score: 0.704\n",
      "Epoch: 25/30.. Train Loss: 0.615.. Test Loss: 1.005.. Test Accuracy: 0.680.. Test F1 Score: 0.683\n",
      "Epoch: 26/30.. Train Loss: 0.612.. Test Loss: 0.935.. Test Accuracy: 0.702.. Test F1 Score: 0.701\n",
      "Epoch: 27/30.. Train Loss: 0.613.. Test Loss: 1.004.. Test Accuracy: 0.680.. Test F1 Score: 0.688\n",
      "Epoch: 28/30.. Train Loss: 0.604.. Test Loss: 0.992.. Test Accuracy: 0.679.. Test F1 Score: 0.682\n",
      "Epoch: 29/30.. Train Loss: 0.607.. Test Loss: 0.998.. Test Accuracy: 0.689.. Test F1 Score: 0.692\n",
      "Epoch: 30/30.. Train Loss: 0.602.. Test Loss: 1.040.. Test Accuracy: 0.667.. Test F1 Score: 0.672\n"
     ]
    }
   ],
   "source": [
    "model = TCN(num_inputs, num_channels, kernel_size, num_classes=4)\n",
    "\n",
    "#load pretrained model\n",
    "model.load_state_dict(torch.load('./models/tcn_join_20231218-2014.pt'))\n",
    "\n",
    "model.fc = nn.Linear(in_features=model.fc.in_features, out_features=num_classes)\n",
    "\n",
    "# Freezing all layers initially\n",
    "for param in model.parameters():\n",
    "    param.requires_grad = False\n",
    "\n",
    "# Unfreeze layers from the last TemporalBlock's conv2 onwards\n",
    "num_levels = len(model.tcn)  # Number of TemporalBlocks in your TCN\n",
    "for i, block in enumerate(model.tcn):\n",
    "    if i == num_levels - 1:  # Check if it's the last TemporalBlock\n",
    "        # Unfreeze the conv2 layer and any subsequent layers within this block\n",
    "        unfreeze = False\n",
    "        for name, param in block.named_parameters():\n",
    "            if 'conv2' in name:\n",
    "                unfreeze = True\n",
    "            if unfreeze:\n",
    "                param.requires_grad = True\n",
    "\n",
    "# Unfreeze the classification layer\n",
    "for param in model.fc.parameters():\n",
    "    param.requires_grad = True\n",
    "\n",
    "model.to(device)\n",
    "\n",
    "# define loss function and optimizer\n",
    "criterion = nn.CrossEntropyLoss()\n",
    "optimizer = torch.optim.Adam(filter(lambda p: p.requires_grad, model.parameters()), lr=0.001)\n",
    "\n",
    "# train and test model\n",
    "num_epochs = 30\n",
    "train_losses, test_losses, test_accuracies, test_f1_scores = train_and_test(model, train_dataloader, test_dataloader, criterion, optimizer, device, num_epochs=num_epochs)"
   ]
  },
  {
   "cell_type": "markdown",
   "metadata": {},
   "source": [
    "### 75% Train Data"
   ]
  },
  {
   "cell_type": "code",
   "execution_count": 90,
   "metadata": {},
   "outputs": [
    {
     "name": "stdout",
     "output_type": "stream",
     "text": [
      "Epoch: 1/30.. Train Loss: 1.026.. Test Loss: 0.948.. Test Accuracy: 0.684.. Test F1 Score: 0.675\n",
      "Epoch: 2/30.. Train Loss: 0.853.. Test Loss: 1.156.. Test Accuracy: 0.671.. Test F1 Score: 0.669\n",
      "Epoch: 3/30.. Train Loss: 0.826.. Test Loss: 0.955.. Test Accuracy: 0.678.. Test F1 Score: 0.674\n",
      "Epoch: 4/30.. Train Loss: 0.805.. Test Loss: 0.962.. Test Accuracy: 0.667.. Test F1 Score: 0.658\n",
      "Epoch: 5/30.. Train Loss: 0.771.. Test Loss: 1.038.. Test Accuracy: 0.660.. Test F1 Score: 0.661\n",
      "Epoch: 6/30.. Train Loss: 0.755.. Test Loss: 1.000.. Test Accuracy: 0.681.. Test F1 Score: 0.678\n",
      "Epoch: 7/30.. Train Loss: 0.744.. Test Loss: 1.045.. Test Accuracy: 0.681.. Test F1 Score: 0.678\n",
      "Epoch: 8/30.. Train Loss: 0.727.. Test Loss: 1.055.. Test Accuracy: 0.653.. Test F1 Score: 0.654\n",
      "Epoch: 9/30.. Train Loss: 0.718.. Test Loss: 0.997.. Test Accuracy: 0.675.. Test F1 Score: 0.679\n",
      "Epoch: 10/30.. Train Loss: 0.709.. Test Loss: 1.029.. Test Accuracy: 0.676.. Test F1 Score: 0.675\n",
      "Epoch: 11/30.. Train Loss: 0.704.. Test Loss: 1.041.. Test Accuracy: 0.669.. Test F1 Score: 0.661\n",
      "Epoch: 12/30.. Train Loss: 0.691.. Test Loss: 0.991.. Test Accuracy: 0.691.. Test F1 Score: 0.694\n",
      "Epoch: 13/30.. Train Loss: 0.681.. Test Loss: 1.093.. Test Accuracy: 0.669.. Test F1 Score: 0.670\n",
      "Epoch: 14/30.. Train Loss: 0.679.. Test Loss: 1.112.. Test Accuracy: 0.663.. Test F1 Score: 0.658\n",
      "Epoch: 15/30.. Train Loss: 0.676.. Test Loss: 1.091.. Test Accuracy: 0.665.. Test F1 Score: 0.667\n",
      "Epoch: 16/30.. Train Loss: 0.669.. Test Loss: 1.079.. Test Accuracy: 0.669.. Test F1 Score: 0.667\n",
      "Epoch: 17/30.. Train Loss: 0.665.. Test Loss: 1.119.. Test Accuracy: 0.677.. Test F1 Score: 0.672\n",
      "Epoch: 18/30.. Train Loss: 0.654.. Test Loss: 1.059.. Test Accuracy: 0.680.. Test F1 Score: 0.683\n",
      "Epoch: 19/30.. Train Loss: 0.656.. Test Loss: 1.070.. Test Accuracy: 0.663.. Test F1 Score: 0.655\n",
      "Epoch: 20/30.. Train Loss: 0.653.. Test Loss: 1.085.. Test Accuracy: 0.690.. Test F1 Score: 0.687\n",
      "Epoch: 21/30.. Train Loss: 0.631.. Test Loss: 1.213.. Test Accuracy: 0.672.. Test F1 Score: 0.674\n",
      "Epoch: 22/30.. Train Loss: 0.637.. Test Loss: 1.079.. Test Accuracy: 0.688.. Test F1 Score: 0.687\n",
      "Epoch: 23/30.. Train Loss: 0.627.. Test Loss: 1.090.. Test Accuracy: 0.668.. Test F1 Score: 0.668\n",
      "Epoch: 24/30.. Train Loss: 0.626.. Test Loss: 1.139.. Test Accuracy: 0.670.. Test F1 Score: 0.667\n",
      "Epoch: 25/30.. Train Loss: 0.629.. Test Loss: 1.143.. Test Accuracy: 0.676.. Test F1 Score: 0.677\n",
      "Epoch: 26/30.. Train Loss: 0.626.. Test Loss: 1.139.. Test Accuracy: 0.669.. Test F1 Score: 0.670\n",
      "Epoch: 27/30.. Train Loss: 0.619.. Test Loss: 1.069.. Test Accuracy: 0.678.. Test F1 Score: 0.677\n",
      "Epoch: 28/30.. Train Loss: 0.620.. Test Loss: 1.138.. Test Accuracy: 0.672.. Test F1 Score: 0.676\n",
      "Epoch: 29/30.. Train Loss: 0.619.. Test Loss: 1.132.. Test Accuracy: 0.682.. Test F1 Score: 0.676\n",
      "Epoch: 30/30.. Train Loss: 0.619.. Test Loss: 1.169.. Test Accuracy: 0.681.. Test F1 Score: 0.683\n"
     ]
    }
   ],
   "source": [
    "model = TCN(num_inputs, num_channels, kernel_size, num_classes=4)\n",
    "\n",
    "#load pretrained model\n",
    "model.load_state_dict(torch.load('./models/tcn_join_20231218-2014.pt'))\n",
    "\n",
    "model.fc = nn.Linear(in_features=model.fc.in_features, out_features=num_classes)\n",
    "\n",
    "# Freezing all layers initially\n",
    "for param in model.parameters():\n",
    "    param.requires_grad = False\n",
    "\n",
    "# Unfreeze layers from the last TemporalBlock's conv2 onwards\n",
    "num_levels = len(model.tcn)  # Number of TemporalBlocks in your TCN\n",
    "for i, block in enumerate(model.tcn):\n",
    "    if i == num_levels - 1:  # Check if it's the last TemporalBlock\n",
    "        # Unfreeze the conv2 layer and any subsequent layers within this block\n",
    "        unfreeze = False\n",
    "        for name, param in block.named_parameters():\n",
    "            if 'conv2' in name:\n",
    "                unfreeze = True\n",
    "            if unfreeze:\n",
    "                param.requires_grad = True\n",
    "\n",
    "# Unfreeze the classification layer\n",
    "for param in model.fc.parameters():\n",
    "    param.requires_grad = True\n",
    "\n",
    "model.to(device)\n",
    "\n",
    "# define loss function and optimizer\n",
    "criterion = nn.CrossEntropyLoss()\n",
    "optimizer = torch.optim.Adam(filter(lambda p: p.requires_grad, model.parameters()), lr=0.001)\n",
    "\n",
    "# train and test model\n",
    "num_epochs = 30\n",
    "train_losses_75, test_losses_75, test_accuracies_75, test_f1_scores_75 = train_and_test(model, train_dataloader_75, test_dataloader, criterion, optimizer, device, num_epochs=num_epochs)\n",
    "    "
   ]
  },
  {
   "cell_type": "markdown",
   "metadata": {},
   "source": [
    "### 50% Train Data"
   ]
  },
  {
   "cell_type": "code",
   "execution_count": 91,
   "metadata": {},
   "outputs": [
    {
     "name": "stdout",
     "output_type": "stream",
     "text": [
      "Epoch: 1/30.. Train Loss: 1.006.. Test Loss: 0.986.. Test Accuracy: 0.660.. Test F1 Score: 0.660\n",
      "Epoch: 2/30.. Train Loss: 0.784.. Test Loss: 0.934.. Test Accuracy: 0.662.. Test F1 Score: 0.661\n",
      "Epoch: 3/30.. Train Loss: 0.741.. Test Loss: 1.049.. Test Accuracy: 0.625.. Test F1 Score: 0.623\n",
      "Epoch: 4/30.. Train Loss: 0.712.. Test Loss: 1.006.. Test Accuracy: 0.671.. Test F1 Score: 0.672\n",
      "Epoch: 5/30.. Train Loss: 0.692.. Test Loss: 1.035.. Test Accuracy: 0.653.. Test F1 Score: 0.655\n",
      "Epoch: 6/30.. Train Loss: 0.665.. Test Loss: 0.943.. Test Accuracy: 0.672.. Test F1 Score: 0.676\n",
      "Epoch: 7/30.. Train Loss: 0.664.. Test Loss: 1.014.. Test Accuracy: 0.687.. Test F1 Score: 0.690\n",
      "Epoch: 8/30.. Train Loss: 0.654.. Test Loss: 0.998.. Test Accuracy: 0.673.. Test F1 Score: 0.675\n",
      "Epoch: 9/30.. Train Loss: 0.641.. Test Loss: 0.989.. Test Accuracy: 0.678.. Test F1 Score: 0.677\n",
      "Epoch: 10/30.. Train Loss: 0.634.. Test Loss: 1.040.. Test Accuracy: 0.669.. Test F1 Score: 0.674\n",
      "Epoch: 11/30.. Train Loss: 0.624.. Test Loss: 0.983.. Test Accuracy: 0.670.. Test F1 Score: 0.674\n",
      "Epoch: 12/30.. Train Loss: 0.619.. Test Loss: 0.936.. Test Accuracy: 0.693.. Test F1 Score: 0.692\n",
      "Epoch: 13/30.. Train Loss: 0.621.. Test Loss: 0.988.. Test Accuracy: 0.679.. Test F1 Score: 0.681\n",
      "Epoch: 14/30.. Train Loss: 0.605.. Test Loss: 1.030.. Test Accuracy: 0.688.. Test F1 Score: 0.688\n",
      "Epoch: 15/30.. Train Loss: 0.601.. Test Loss: 1.051.. Test Accuracy: 0.654.. Test F1 Score: 0.654\n",
      "Epoch: 16/30.. Train Loss: 0.595.. Test Loss: 0.964.. Test Accuracy: 0.708.. Test F1 Score: 0.708\n",
      "Epoch: 17/30.. Train Loss: 0.588.. Test Loss: 1.137.. Test Accuracy: 0.648.. Test F1 Score: 0.652\n",
      "Epoch: 18/30.. Train Loss: 0.591.. Test Loss: 1.031.. Test Accuracy: 0.670.. Test F1 Score: 0.674\n",
      "Epoch: 19/30.. Train Loss: 0.580.. Test Loss: 1.061.. Test Accuracy: 0.684.. Test F1 Score: 0.689\n",
      "Epoch: 20/30.. Train Loss: 0.579.. Test Loss: 0.987.. Test Accuracy: 0.673.. Test F1 Score: 0.675\n",
      "Epoch: 21/30.. Train Loss: 0.570.. Test Loss: 1.103.. Test Accuracy: 0.663.. Test F1 Score: 0.665\n",
      "Epoch: 22/30.. Train Loss: 0.565.. Test Loss: 1.040.. Test Accuracy: 0.682.. Test F1 Score: 0.684\n",
      "Epoch: 23/30.. Train Loss: 0.561.. Test Loss: 1.064.. Test Accuracy: 0.653.. Test F1 Score: 0.657\n",
      "Epoch: 24/30.. Train Loss: 0.562.. Test Loss: 1.052.. Test Accuracy: 0.667.. Test F1 Score: 0.671\n",
      "Epoch: 25/30.. Train Loss: 0.549.. Test Loss: 1.091.. Test Accuracy: 0.674.. Test F1 Score: 0.676\n",
      "Epoch: 26/30.. Train Loss: 0.552.. Test Loss: 1.049.. Test Accuracy: 0.683.. Test F1 Score: 0.686\n",
      "Epoch: 27/30.. Train Loss: 0.538.. Test Loss: 1.031.. Test Accuracy: 0.687.. Test F1 Score: 0.692\n",
      "Epoch: 28/30.. Train Loss: 0.540.. Test Loss: 1.143.. Test Accuracy: 0.658.. Test F1 Score: 0.661\n",
      "Epoch: 29/30.. Train Loss: 0.535.. Test Loss: 1.123.. Test Accuracy: 0.677.. Test F1 Score: 0.679\n",
      "Epoch: 30/30.. Train Loss: 0.550.. Test Loss: 1.086.. Test Accuracy: 0.686.. Test F1 Score: 0.686\n"
     ]
    }
   ],
   "source": [
    "model = TCN(num_inputs, num_channels, kernel_size, num_classes=4)\n",
    "\n",
    "#load pretrained model\n",
    "model.load_state_dict(torch.load('./models/tcn_join_20231218-2014.pt'))\n",
    "\n",
    "model.fc = nn.Linear(in_features=model.fc.in_features, out_features=num_classes)\n",
    "\n",
    "# Freezing all layers initially\n",
    "for param in model.parameters():\n",
    "    param.requires_grad = False\n",
    "\n",
    "# Unfreeze layers from the last TemporalBlock's conv2 onwards\n",
    "num_levels = len(model.tcn)  # Number of TemporalBlocks in your TCN\n",
    "for i, block in enumerate(model.tcn):\n",
    "    if i == num_levels - 1:  # Check if it's the last TemporalBlock\n",
    "        # Unfreeze the conv2 layer and any subsequent layers within this block\n",
    "        unfreeze = False\n",
    "        for name, param in block.named_parameters():\n",
    "            if 'conv2' in name:\n",
    "                unfreeze = True\n",
    "            if unfreeze:\n",
    "                param.requires_grad = True\n",
    "\n",
    "# Unfreeze the classification layer\n",
    "for param in model.fc.parameters():\n",
    "    param.requires_grad = True\n",
    "\n",
    "model.to(device)\n",
    "\n",
    "# define loss function and optimizer\n",
    "criterion = nn.CrossEntropyLoss()\n",
    "optimizer = torch.optim.Adam(filter(lambda p: p.requires_grad, model.parameters()), lr=0.001)\n",
    "\n",
    "# train and test model\n",
    "num_epochs = 30\n",
    "train_losses_50, test_losses_50, test_accuracies_50, test_f1_scores_50 = train_and_test(model, train_dataloader_50, test_dataloader, criterion, optimizer, device, num_epochs=num_epochs)"
   ]
  },
  {
   "cell_type": "markdown",
   "metadata": {},
   "source": [
    "### 25% Train Data"
   ]
  },
  {
   "cell_type": "code",
   "execution_count": 92,
   "metadata": {},
   "outputs": [
    {
     "name": "stdout",
     "output_type": "stream",
     "text": [
      "Epoch: 1/30.. Train Loss: 1.064.. Test Loss: 1.297.. Test Accuracy: 0.590.. Test F1 Score: 0.563\n",
      "Epoch: 2/30.. Train Loss: 0.640.. Test Loss: 1.181.. Test Accuracy: 0.638.. Test F1 Score: 0.639\n",
      "Epoch: 3/30.. Train Loss: 0.565.. Test Loss: 1.229.. Test Accuracy: 0.644.. Test F1 Score: 0.640\n",
      "Epoch: 4/30.. Train Loss: 0.520.. Test Loss: 1.310.. Test Accuracy: 0.636.. Test F1 Score: 0.639\n",
      "Epoch: 5/30.. Train Loss: 0.492.. Test Loss: 1.302.. Test Accuracy: 0.644.. Test F1 Score: 0.653\n",
      "Epoch: 6/30.. Train Loss: 0.502.. Test Loss: 1.394.. Test Accuracy: 0.649.. Test F1 Score: 0.645\n",
      "Epoch: 7/30.. Train Loss: 0.469.. Test Loss: 1.439.. Test Accuracy: 0.616.. Test F1 Score: 0.613\n",
      "Epoch: 8/30.. Train Loss: 0.477.. Test Loss: 1.526.. Test Accuracy: 0.626.. Test F1 Score: 0.635\n",
      "Epoch: 9/30.. Train Loss: 0.451.. Test Loss: 1.582.. Test Accuracy: 0.650.. Test F1 Score: 0.653\n",
      "Epoch: 10/30.. Train Loss: 0.429.. Test Loss: 1.500.. Test Accuracy: 0.625.. Test F1 Score: 0.621\n",
      "Epoch: 11/30.. Train Loss: 0.439.. Test Loss: 1.710.. Test Accuracy: 0.582.. Test F1 Score: 0.586\n",
      "Epoch: 12/30.. Train Loss: 0.415.. Test Loss: 1.595.. Test Accuracy: 0.608.. Test F1 Score: 0.605\n",
      "Epoch: 13/30.. Train Loss: 0.398.. Test Loss: 1.616.. Test Accuracy: 0.647.. Test F1 Score: 0.649\n",
      "Epoch: 14/30.. Train Loss: 0.417.. Test Loss: 1.606.. Test Accuracy: 0.612.. Test F1 Score: 0.609\n",
      "Epoch: 15/30.. Train Loss: 0.395.. Test Loss: 1.665.. Test Accuracy: 0.639.. Test F1 Score: 0.646\n",
      "Epoch: 16/30.. Train Loss: 0.402.. Test Loss: 1.669.. Test Accuracy: 0.645.. Test F1 Score: 0.650\n",
      "Epoch: 17/30.. Train Loss: 0.409.. Test Loss: 1.665.. Test Accuracy: 0.620.. Test F1 Score: 0.613\n",
      "Epoch: 18/30.. Train Loss: 0.389.. Test Loss: 1.655.. Test Accuracy: 0.617.. Test F1 Score: 0.623\n",
      "Epoch: 19/30.. Train Loss: 0.386.. Test Loss: 1.608.. Test Accuracy: 0.629.. Test F1 Score: 0.634\n",
      "Epoch: 20/30.. Train Loss: 0.383.. Test Loss: 1.791.. Test Accuracy: 0.613.. Test F1 Score: 0.620\n",
      "Epoch: 21/30.. Train Loss: 0.380.. Test Loss: 1.845.. Test Accuracy: 0.635.. Test F1 Score: 0.625\n",
      "Epoch: 22/30.. Train Loss: 0.372.. Test Loss: 1.903.. Test Accuracy: 0.622.. Test F1 Score: 0.624\n",
      "Epoch: 23/30.. Train Loss: 0.368.. Test Loss: 1.749.. Test Accuracy: 0.631.. Test F1 Score: 0.627\n",
      "Epoch: 24/30.. Train Loss: 0.349.. Test Loss: 1.995.. Test Accuracy: 0.619.. Test F1 Score: 0.629\n",
      "Epoch: 25/30.. Train Loss: 0.356.. Test Loss: 1.727.. Test Accuracy: 0.631.. Test F1 Score: 0.637\n",
      "Epoch: 26/30.. Train Loss: 0.367.. Test Loss: 1.699.. Test Accuracy: 0.626.. Test F1 Score: 0.633\n",
      "Epoch: 27/30.. Train Loss: 0.350.. Test Loss: 1.909.. Test Accuracy: 0.621.. Test F1 Score: 0.624\n",
      "Epoch: 28/30.. Train Loss: 0.353.. Test Loss: 1.894.. Test Accuracy: 0.629.. Test F1 Score: 0.639\n",
      "Epoch: 29/30.. Train Loss: 0.370.. Test Loss: 1.856.. Test Accuracy: 0.650.. Test F1 Score: 0.654\n",
      "Epoch: 30/30.. Train Loss: 0.353.. Test Loss: 1.950.. Test Accuracy: 0.590.. Test F1 Score: 0.588\n"
     ]
    }
   ],
   "source": [
    "model = TCN(num_inputs, num_channels, kernel_size, num_classes=4)\n",
    "\n",
    "#load pretrained model\n",
    "model.load_state_dict(torch.load('./models/tcn_join_20231218-2014.pt'))\n",
    "\n",
    "model.fc = nn.Linear(in_features=model.fc.in_features, out_features=num_classes)\n",
    "\n",
    "# Freezing all layers initially\n",
    "for param in model.parameters():\n",
    "    param.requires_grad = False\n",
    "\n",
    "# Unfreeze layers from the last TemporalBlock's conv2 onwards\n",
    "num_levels = len(model.tcn)  # Number of TemporalBlocks in your TCN\n",
    "for i, block in enumerate(model.tcn):\n",
    "    if i == num_levels - 1:  # Check if it's the last TemporalBlock\n",
    "        # Unfreeze the conv2 layer and any subsequent layers within this block\n",
    "        unfreeze = False\n",
    "        for name, param in block.named_parameters():\n",
    "            if 'conv2' in name:\n",
    "                unfreeze = True\n",
    "            if unfreeze:\n",
    "                param.requires_grad = True\n",
    "\n",
    "# Unfreeze the classification layer\n",
    "for param in model.fc.parameters():\n",
    "    param.requires_grad = True\n",
    "\n",
    "model.to(device)\n",
    "\n",
    "# define loss function and optimizer\n",
    "criterion = nn.CrossEntropyLoss()\n",
    "optimizer = torch.optim.Adam(filter(lambda p: p.requires_grad, model.parameters()), lr=0.001)\n",
    "\n",
    "# train and test model\n",
    "num_epochs = 30\n",
    "train_losses_25, test_losses_25, test_accuracies_25, test_f1_scores_25 = train_and_test(model, train_dataloader_25, test_dataloader, criterion, optimizer, device, num_epochs=num_epochs)"
   ]
  },
  {
   "cell_type": "markdown",
   "metadata": {},
   "source": [
    "### 10% Train Data"
   ]
  },
  {
   "cell_type": "code",
   "execution_count": 93,
   "metadata": {},
   "outputs": [
    {
     "name": "stdout",
     "output_type": "stream",
     "text": [
      "Epoch: 1/30.. Train Loss: 1.202.. Test Loss: 1.295.. Test Accuracy: 0.549.. Test F1 Score: 0.542\n",
      "Epoch: 2/30.. Train Loss: 0.559.. Test Loss: 1.323.. Test Accuracy: 0.570.. Test F1 Score: 0.573\n",
      "Epoch: 3/30.. Train Loss: 0.470.. Test Loss: 1.600.. Test Accuracy: 0.567.. Test F1 Score: 0.564\n",
      "Epoch: 4/30.. Train Loss: 0.427.. Test Loss: 1.359.. Test Accuracy: 0.573.. Test F1 Score: 0.574\n",
      "Epoch: 5/30.. Train Loss: 0.401.. Test Loss: 1.594.. Test Accuracy: 0.564.. Test F1 Score: 0.562\n",
      "Epoch: 6/30.. Train Loss: 0.379.. Test Loss: 1.439.. Test Accuracy: 0.578.. Test F1 Score: 0.567\n",
      "Epoch: 7/30.. Train Loss: 0.369.. Test Loss: 1.633.. Test Accuracy: 0.611.. Test F1 Score: 0.612\n",
      "Epoch: 8/30.. Train Loss: 0.333.. Test Loss: 1.706.. Test Accuracy: 0.577.. Test F1 Score: 0.581\n",
      "Epoch: 9/30.. Train Loss: 0.318.. Test Loss: 1.990.. Test Accuracy: 0.569.. Test F1 Score: 0.571\n",
      "Epoch: 10/30.. Train Loss: 0.300.. Test Loss: 2.392.. Test Accuracy: 0.522.. Test F1 Score: 0.512\n",
      "Epoch: 11/30.. Train Loss: 0.314.. Test Loss: 1.928.. Test Accuracy: 0.574.. Test F1 Score: 0.578\n",
      "Epoch: 12/30.. Train Loss: 0.295.. Test Loss: 1.986.. Test Accuracy: 0.575.. Test F1 Score: 0.574\n",
      "Epoch: 13/30.. Train Loss: 0.291.. Test Loss: 1.637.. Test Accuracy: 0.613.. Test F1 Score: 0.623\n",
      "Epoch: 14/30.. Train Loss: 0.286.. Test Loss: 1.854.. Test Accuracy: 0.576.. Test F1 Score: 0.573\n",
      "Epoch: 15/30.. Train Loss: 0.288.. Test Loss: 2.010.. Test Accuracy: 0.537.. Test F1 Score: 0.553\n",
      "Epoch: 16/30.. Train Loss: 0.288.. Test Loss: 1.851.. Test Accuracy: 0.590.. Test F1 Score: 0.595\n",
      "Epoch: 17/30.. Train Loss: 0.268.. Test Loss: 1.984.. Test Accuracy: 0.561.. Test F1 Score: 0.573\n",
      "Epoch: 18/30.. Train Loss: 0.270.. Test Loss: 2.347.. Test Accuracy: 0.579.. Test F1 Score: 0.583\n",
      "Epoch: 19/30.. Train Loss: 0.242.. Test Loss: 2.197.. Test Accuracy: 0.540.. Test F1 Score: 0.548\n",
      "Epoch: 20/30.. Train Loss: 0.241.. Test Loss: 2.066.. Test Accuracy: 0.548.. Test F1 Score: 0.551\n",
      "Epoch: 21/30.. Train Loss: 0.238.. Test Loss: 2.133.. Test Accuracy: 0.569.. Test F1 Score: 0.574\n",
      "Epoch: 22/30.. Train Loss: 0.237.. Test Loss: 2.345.. Test Accuracy: 0.576.. Test F1 Score: 0.577\n",
      "Epoch: 23/30.. Train Loss: 0.270.. Test Loss: 2.595.. Test Accuracy: 0.462.. Test F1 Score: 0.460\n",
      "Epoch: 24/30.. Train Loss: 0.250.. Test Loss: 2.511.. Test Accuracy: 0.518.. Test F1 Score: 0.508\n",
      "Epoch: 25/30.. Train Loss: 0.232.. Test Loss: 2.724.. Test Accuracy: 0.490.. Test F1 Score: 0.490\n",
      "Epoch: 26/30.. Train Loss: 0.211.. Test Loss: 2.481.. Test Accuracy: 0.572.. Test F1 Score: 0.582\n",
      "Epoch: 27/30.. Train Loss: 0.219.. Test Loss: 2.774.. Test Accuracy: 0.524.. Test F1 Score: 0.524\n",
      "Epoch: 28/30.. Train Loss: 0.211.. Test Loss: 2.584.. Test Accuracy: 0.557.. Test F1 Score: 0.563\n",
      "Epoch: 29/30.. Train Loss: 0.196.. Test Loss: 3.000.. Test Accuracy: 0.564.. Test F1 Score: 0.569\n",
      "Epoch: 30/30.. Train Loss: 0.199.. Test Loss: 2.879.. Test Accuracy: 0.530.. Test F1 Score: 0.542\n"
     ]
    }
   ],
   "source": [
    "model = TCN(num_inputs, num_channels, kernel_size, num_classes=4)\n",
    "\n",
    "#load pretrained model\n",
    "model.load_state_dict(torch.load('./models/tcn_join_20231218-2014.pt'))\n",
    "\n",
    "model.fc = nn.Linear(in_features=model.fc.in_features, out_features=num_classes)\n",
    "\n",
    "# Freezing all layers initially\n",
    "for param in model.parameters():\n",
    "    param.requires_grad = False\n",
    "\n",
    "# Unfreeze layers from the last TemporalBlock's conv2 onwards\n",
    "num_levels = len(model.tcn)  # Number of TemporalBlocks in your TCN\n",
    "for i, block in enumerate(model.tcn):\n",
    "    if i == num_levels - 1:  # Check if it's the last TemporalBlock\n",
    "        # Unfreeze the conv2 layer and any subsequent layers within this block\n",
    "        unfreeze = False\n",
    "        for name, param in block.named_parameters():\n",
    "            if 'conv2' in name:\n",
    "                unfreeze = True\n",
    "            if unfreeze:\n",
    "                param.requires_grad = True\n",
    "\n",
    "# Unfreeze the classification layer\n",
    "for param in model.fc.parameters():\n",
    "    param.requires_grad = True\n",
    "\n",
    "model.to(device)\n",
    "\n",
    "# define loss function and optimizer\n",
    "criterion = nn.CrossEntropyLoss()\n",
    "optimizer = torch.optim.Adam(filter(lambda p: p.requires_grad, model.parameters()), lr=0.001)\n",
    "\n",
    "# train and test model\n",
    "num_epochs = 30\n",
    "train_losses_10, test_losses_10, test_accuracies_10, test_f1_scores_10 = train_and_test(model, train_dataloader_10, test_dataloader, criterion, optimizer, device, num_epochs=num_epochs)"
   ]
  },
  {
   "cell_type": "markdown",
   "metadata": {},
   "source": [
    "# Full Supervised"
   ]
  },
  {
   "cell_type": "markdown",
   "metadata": {},
   "source": [
    "## Train and Test CNN Model"
   ]
  },
  {
   "cell_type": "markdown",
   "metadata": {},
   "source": [
    "### Full Train Data"
   ]
  },
  {
   "cell_type": "code",
   "execution_count": 94,
   "metadata": {},
   "outputs": [
    {
     "name": "stdout",
     "output_type": "stream",
     "text": [
      "Epoch: 1/30.. Train Loss: 0.772.. Test Loss: 1.140.. Test Accuracy: 0.613.. Test F1 Score: 0.626\n",
      "Epoch: 2/30.. Train Loss: 0.535.. Test Loss: 1.321.. Test Accuracy: 0.640.. Test F1 Score: 0.648\n",
      "Epoch: 3/30.. Train Loss: 0.459.. Test Loss: 1.105.. Test Accuracy: 0.640.. Test F1 Score: 0.644\n",
      "Epoch: 4/30.. Train Loss: 0.404.. Test Loss: 1.032.. Test Accuracy: 0.722.. Test F1 Score: 0.724\n",
      "Epoch: 5/30.. Train Loss: 0.366.. Test Loss: 1.163.. Test Accuracy: 0.645.. Test F1 Score: 0.649\n",
      "Epoch: 6/30.. Train Loss: 0.340.. Test Loss: 1.338.. Test Accuracy: 0.624.. Test F1 Score: 0.636\n",
      "Epoch: 7/30.. Train Loss: 0.313.. Test Loss: 1.398.. Test Accuracy: 0.641.. Test F1 Score: 0.635\n",
      "Epoch: 8/30.. Train Loss: 0.269.. Test Loss: 1.442.. Test Accuracy: 0.661.. Test F1 Score: 0.662\n",
      "Epoch: 9/30.. Train Loss: 0.262.. Test Loss: 1.581.. Test Accuracy: 0.617.. Test F1 Score: 0.615\n",
      "Epoch: 10/30.. Train Loss: 0.236.. Test Loss: 1.517.. Test Accuracy: 0.630.. Test F1 Score: 0.632\n",
      "Epoch: 11/30.. Train Loss: 0.220.. Test Loss: 1.612.. Test Accuracy: 0.666.. Test F1 Score: 0.667\n",
      "Epoch: 12/30.. Train Loss: 0.216.. Test Loss: 1.712.. Test Accuracy: 0.632.. Test F1 Score: 0.638\n",
      "Epoch: 13/30.. Train Loss: 0.211.. Test Loss: 1.907.. Test Accuracy: 0.611.. Test F1 Score: 0.614\n",
      "Epoch: 14/30.. Train Loss: 0.192.. Test Loss: 1.919.. Test Accuracy: 0.639.. Test F1 Score: 0.649\n",
      "Epoch: 15/30.. Train Loss: 0.183.. Test Loss: 1.840.. Test Accuracy: 0.675.. Test F1 Score: 0.678\n",
      "Epoch: 16/30.. Train Loss: 0.179.. Test Loss: 2.009.. Test Accuracy: 0.675.. Test F1 Score: 0.677\n",
      "Epoch: 17/30.. Train Loss: 0.170.. Test Loss: 1.870.. Test Accuracy: 0.687.. Test F1 Score: 0.697\n",
      "Epoch: 18/30.. Train Loss: 0.160.. Test Loss: 2.320.. Test Accuracy: 0.643.. Test F1 Score: 0.647\n",
      "Epoch: 19/30.. Train Loss: 0.182.. Test Loss: 2.298.. Test Accuracy: 0.638.. Test F1 Score: 0.643\n",
      "Epoch: 20/30.. Train Loss: 0.167.. Test Loss: 2.302.. Test Accuracy: 0.660.. Test F1 Score: 0.659\n",
      "Epoch: 21/30.. Train Loss: 0.158.. Test Loss: 2.672.. Test Accuracy: 0.634.. Test F1 Score: 0.635\n",
      "Epoch: 22/30.. Train Loss: 0.137.. Test Loss: 3.185.. Test Accuracy: 0.614.. Test F1 Score: 0.615\n",
      "Epoch: 23/30.. Train Loss: 0.150.. Test Loss: 2.595.. Test Accuracy: 0.636.. Test F1 Score: 0.640\n",
      "Epoch: 24/30.. Train Loss: 0.138.. Test Loss: 2.420.. Test Accuracy: 0.683.. Test F1 Score: 0.688\n",
      "Epoch: 25/30.. Train Loss: 0.145.. Test Loss: 2.883.. Test Accuracy: 0.627.. Test F1 Score: 0.625\n",
      "Epoch: 26/30.. Train Loss: 0.150.. Test Loss: 2.823.. Test Accuracy: 0.647.. Test F1 Score: 0.645\n",
      "Epoch: 27/30.. Train Loss: 0.141.. Test Loss: 2.691.. Test Accuracy: 0.675.. Test F1 Score: 0.679\n",
      "Epoch: 28/30.. Train Loss: 0.140.. Test Loss: 2.730.. Test Accuracy: 0.662.. Test F1 Score: 0.665\n",
      "Epoch: 29/30.. Train Loss: 0.141.. Test Loss: 2.563.. Test Accuracy: 0.653.. Test F1 Score: 0.664\n",
      "Epoch: 30/30.. Train Loss: 0.113.. Test Loss: 2.969.. Test Accuracy: 0.617.. Test F1 Score: 0.625\n"
     ]
    }
   ],
   "source": [
    "model = CNNFeatureExtractor(num_classes=num_classes).to(device)\n",
    "criterion = nn.CrossEntropyLoss()\n",
    "optimizer = torch.optim.Adam(model.parameters(), lr=0.001)\n",
    "\n",
    "# train and test model\n",
    "num_epochs = 30\n",
    "train_losses, test_losses, test_accuracies, test_f1_scores = train_and_test(model, train_dataloader, test_dataloader, criterion, optimizer, device, num_epochs=num_epochs)"
   ]
  },
  {
   "cell_type": "markdown",
   "metadata": {},
   "source": [
    "### 75% Train Data"
   ]
  },
  {
   "cell_type": "code",
   "execution_count": 95,
   "metadata": {},
   "outputs": [
    {
     "name": "stdout",
     "output_type": "stream",
     "text": [
      "Epoch: 1/30.. Train Loss: 0.811.. Test Loss: 1.221.. Test Accuracy: 0.626.. Test F1 Score: 0.633\n",
      "Epoch: 2/30.. Train Loss: 0.566.. Test Loss: 1.090.. Test Accuracy: 0.616.. Test F1 Score: 0.642\n",
      "Epoch: 3/30.. Train Loss: 0.476.. Test Loss: 1.391.. Test Accuracy: 0.615.. Test F1 Score: 0.625\n",
      "Epoch: 4/30.. Train Loss: 0.416.. Test Loss: 1.271.. Test Accuracy: 0.630.. Test F1 Score: 0.643\n",
      "Epoch: 5/30.. Train Loss: 0.378.. Test Loss: 1.408.. Test Accuracy: 0.623.. Test F1 Score: 0.630\n",
      "Epoch: 6/30.. Train Loss: 0.341.. Test Loss: 1.598.. Test Accuracy: 0.543.. Test F1 Score: 0.546\n",
      "Epoch: 7/30.. Train Loss: 0.319.. Test Loss: 1.407.. Test Accuracy: 0.609.. Test F1 Score: 0.616\n",
      "Epoch: 8/30.. Train Loss: 0.292.. Test Loss: 1.453.. Test Accuracy: 0.591.. Test F1 Score: 0.593\n",
      "Epoch: 9/30.. Train Loss: 0.259.. Test Loss: 1.662.. Test Accuracy: 0.632.. Test F1 Score: 0.641\n",
      "Epoch: 10/30.. Train Loss: 0.244.. Test Loss: 2.040.. Test Accuracy: 0.611.. Test F1 Score: 0.616\n",
      "Epoch: 11/30.. Train Loss: 0.235.. Test Loss: 1.632.. Test Accuracy: 0.657.. Test F1 Score: 0.662\n",
      "Epoch: 12/30.. Train Loss: 0.208.. Test Loss: 2.435.. Test Accuracy: 0.588.. Test F1 Score: 0.592\n",
      "Epoch: 13/30.. Train Loss: 0.205.. Test Loss: 1.991.. Test Accuracy: 0.598.. Test F1 Score: 0.609\n",
      "Epoch: 14/30.. Train Loss: 0.187.. Test Loss: 2.208.. Test Accuracy: 0.635.. Test F1 Score: 0.635\n",
      "Epoch: 15/30.. Train Loss: 0.205.. Test Loss: 2.417.. Test Accuracy: 0.597.. Test F1 Score: 0.614\n",
      "Epoch: 16/30.. Train Loss: 0.206.. Test Loss: 2.523.. Test Accuracy: 0.586.. Test F1 Score: 0.600\n",
      "Epoch: 17/30.. Train Loss: 0.177.. Test Loss: 2.526.. Test Accuracy: 0.594.. Test F1 Score: 0.603\n",
      "Epoch: 18/30.. Train Loss: 0.173.. Test Loss: 2.790.. Test Accuracy: 0.626.. Test F1 Score: 0.626\n",
      "Epoch: 19/30.. Train Loss: 0.164.. Test Loss: 2.498.. Test Accuracy: 0.595.. Test F1 Score: 0.609\n",
      "Epoch: 20/30.. Train Loss: 0.161.. Test Loss: 2.863.. Test Accuracy: 0.547.. Test F1 Score: 0.551\n",
      "Epoch: 21/30.. Train Loss: 0.150.. Test Loss: 2.802.. Test Accuracy: 0.581.. Test F1 Score: 0.586\n",
      "Epoch: 22/30.. Train Loss: 0.176.. Test Loss: 2.315.. Test Accuracy: 0.639.. Test F1 Score: 0.647\n",
      "Epoch: 23/30.. Train Loss: 0.141.. Test Loss: 2.869.. Test Accuracy: 0.601.. Test F1 Score: 0.606\n",
      "Epoch: 24/30.. Train Loss: 0.148.. Test Loss: 3.355.. Test Accuracy: 0.513.. Test F1 Score: 0.520\n",
      "Epoch: 25/30.. Train Loss: 0.135.. Test Loss: 2.665.. Test Accuracy: 0.623.. Test F1 Score: 0.630\n",
      "Epoch: 26/30.. Train Loss: 0.136.. Test Loss: 3.039.. Test Accuracy: 0.595.. Test F1 Score: 0.608\n",
      "Epoch: 27/30.. Train Loss: 0.118.. Test Loss: 3.511.. Test Accuracy: 0.559.. Test F1 Score: 0.575\n",
      "Epoch: 28/30.. Train Loss: 0.154.. Test Loss: 3.008.. Test Accuracy: 0.603.. Test F1 Score: 0.612\n",
      "Epoch: 29/30.. Train Loss: 0.139.. Test Loss: 3.925.. Test Accuracy: 0.563.. Test F1 Score: 0.570\n",
      "Epoch: 30/30.. Train Loss: 0.118.. Test Loss: 4.375.. Test Accuracy: 0.541.. Test F1 Score: 0.546\n"
     ]
    }
   ],
   "source": [
    "model = CNNFeatureExtractor(num_classes=num_classes).to(device)\n",
    "criterion = nn.CrossEntropyLoss()\n",
    "optimizer = torch.optim.Adam(model.parameters(), lr=0.001)\n",
    "\n",
    "# train and test model\n",
    "num_epochs = 30\n",
    "train_losses, test_losses, test_accuracies, test_f1_scores = train_and_test(model, train_dataloader_75, test_dataloader, criterion, optimizer, device, num_epochs=num_epochs)"
   ]
  },
  {
   "cell_type": "markdown",
   "metadata": {},
   "source": [
    "### 50% Train Data"
   ]
  },
  {
   "cell_type": "code",
   "execution_count": 96,
   "metadata": {},
   "outputs": [
    {
     "name": "stdout",
     "output_type": "stream",
     "text": [
      "Epoch: 1/30.. Train Loss: 0.791.. Test Loss: 1.393.. Test Accuracy: 0.627.. Test F1 Score: 0.634\n",
      "Epoch: 2/30.. Train Loss: 0.559.. Test Loss: 1.241.. Test Accuracy: 0.611.. Test F1 Score: 0.615\n",
      "Epoch: 3/30.. Train Loss: 0.460.. Test Loss: 1.277.. Test Accuracy: 0.628.. Test F1 Score: 0.633\n",
      "Epoch: 4/30.. Train Loss: 0.411.. Test Loss: 1.166.. Test Accuracy: 0.642.. Test F1 Score: 0.652\n",
      "Epoch: 5/30.. Train Loss: 0.363.. Test Loss: 1.360.. Test Accuracy: 0.652.. Test F1 Score: 0.653\n",
      "Epoch: 6/30.. Train Loss: 0.324.. Test Loss: 1.551.. Test Accuracy: 0.628.. Test F1 Score: 0.633\n",
      "Epoch: 7/30.. Train Loss: 0.293.. Test Loss: 1.390.. Test Accuracy: 0.672.. Test F1 Score: 0.678\n",
      "Epoch: 8/30.. Train Loss: 0.270.. Test Loss: 1.475.. Test Accuracy: 0.659.. Test F1 Score: 0.666\n",
      "Epoch: 9/30.. Train Loss: 0.236.. Test Loss: 1.676.. Test Accuracy: 0.632.. Test F1 Score: 0.636\n",
      "Epoch: 10/30.. Train Loss: 0.221.. Test Loss: 1.809.. Test Accuracy: 0.628.. Test F1 Score: 0.634\n",
      "Epoch: 11/30.. Train Loss: 0.214.. Test Loss: 1.871.. Test Accuracy: 0.645.. Test F1 Score: 0.652\n",
      "Epoch: 12/30.. Train Loss: 0.190.. Test Loss: 2.401.. Test Accuracy: 0.601.. Test F1 Score: 0.608\n",
      "Epoch: 13/30.. Train Loss: 0.175.. Test Loss: 2.389.. Test Accuracy: 0.631.. Test F1 Score: 0.630\n",
      "Epoch: 14/30.. Train Loss: 0.149.. Test Loss: 2.311.. Test Accuracy: 0.649.. Test F1 Score: 0.653\n",
      "Epoch: 15/30.. Train Loss: 0.175.. Test Loss: 2.280.. Test Accuracy: 0.665.. Test F1 Score: 0.669\n",
      "Epoch: 16/30.. Train Loss: 0.161.. Test Loss: 2.745.. Test Accuracy: 0.630.. Test F1 Score: 0.632\n",
      "Epoch: 17/30.. Train Loss: 0.159.. Test Loss: 2.312.. Test Accuracy: 0.660.. Test F1 Score: 0.665\n",
      "Epoch: 18/30.. Train Loss: 0.133.. Test Loss: 2.353.. Test Accuracy: 0.627.. Test F1 Score: 0.632\n",
      "Epoch: 19/30.. Train Loss: 0.139.. Test Loss: 2.795.. Test Accuracy: 0.646.. Test F1 Score: 0.654\n",
      "Epoch: 20/30.. Train Loss: 0.134.. Test Loss: 3.021.. Test Accuracy: 0.632.. Test F1 Score: 0.635\n",
      "Epoch: 21/30.. Train Loss: 0.119.. Test Loss: 3.302.. Test Accuracy: 0.659.. Test F1 Score: 0.661\n",
      "Epoch: 22/30.. Train Loss: 0.127.. Test Loss: 3.101.. Test Accuracy: 0.610.. Test F1 Score: 0.609\n",
      "Epoch: 23/30.. Train Loss: 0.105.. Test Loss: 3.394.. Test Accuracy: 0.624.. Test F1 Score: 0.626\n",
      "Epoch: 24/30.. Train Loss: 0.102.. Test Loss: 4.045.. Test Accuracy: 0.623.. Test F1 Score: 0.628\n",
      "Epoch: 25/30.. Train Loss: 0.116.. Test Loss: 3.316.. Test Accuracy: 0.618.. Test F1 Score: 0.626\n",
      "Epoch: 26/30.. Train Loss: 0.108.. Test Loss: 3.786.. Test Accuracy: 0.606.. Test F1 Score: 0.612\n",
      "Epoch: 27/30.. Train Loss: 0.111.. Test Loss: 3.327.. Test Accuracy: 0.614.. Test F1 Score: 0.618\n",
      "Epoch: 28/30.. Train Loss: 0.115.. Test Loss: 3.837.. Test Accuracy: 0.610.. Test F1 Score: 0.615\n",
      "Epoch: 29/30.. Train Loss: 0.144.. Test Loss: 3.880.. Test Accuracy: 0.626.. Test F1 Score: 0.627\n",
      "Epoch: 30/30.. Train Loss: 0.091.. Test Loss: 4.036.. Test Accuracy: 0.596.. Test F1 Score: 0.595\n"
     ]
    }
   ],
   "source": [
    "model = CNNFeatureExtractor(num_classes=num_classes).to(device)\n",
    "criterion = nn.CrossEntropyLoss()\n",
    "optimizer = torch.optim.Adam(model.parameters(), lr=0.001)\n",
    "\n",
    "# train and test model\n",
    "num_epochs = 30\n",
    "train_losses, test_losses, test_accuracies, test_f1_scores = train_and_test(model, train_dataloader_50, test_dataloader, criterion, optimizer, device, num_epochs=num_epochs)"
   ]
  },
  {
   "cell_type": "markdown",
   "metadata": {},
   "source": [
    "### 25% Train Data"
   ]
  },
  {
   "cell_type": "code",
   "execution_count": 97,
   "metadata": {},
   "outputs": [
    {
     "name": "stdout",
     "output_type": "stream",
     "text": [
      "Epoch: 1/30.. Train Loss: 0.754.. Test Loss: 2.081.. Test Accuracy: 0.482.. Test F1 Score: 0.506\n",
      "Epoch: 2/30.. Train Loss: 0.409.. Test Loss: 1.901.. Test Accuracy: 0.500.. Test F1 Score: 0.505\n",
      "Epoch: 3/30.. Train Loss: 0.318.. Test Loss: 1.966.. Test Accuracy: 0.506.. Test F1 Score: 0.522\n",
      "Epoch: 4/30.. Train Loss: 0.274.. Test Loss: 2.445.. Test Accuracy: 0.489.. Test F1 Score: 0.493\n",
      "Epoch: 5/30.. Train Loss: 0.226.. Test Loss: 2.497.. Test Accuracy: 0.517.. Test F1 Score: 0.514\n",
      "Epoch: 6/30.. Train Loss: 0.190.. Test Loss: 2.519.. Test Accuracy: 0.538.. Test F1 Score: 0.542\n",
      "Epoch: 7/30.. Train Loss: 0.172.. Test Loss: 2.730.. Test Accuracy: 0.484.. Test F1 Score: 0.478\n",
      "Epoch: 8/30.. Train Loss: 0.146.. Test Loss: 2.549.. Test Accuracy: 0.529.. Test F1 Score: 0.532\n",
      "Epoch: 9/30.. Train Loss: 0.219.. Test Loss: 2.542.. Test Accuracy: 0.467.. Test F1 Score: 0.475\n",
      "Epoch: 10/30.. Train Loss: 0.161.. Test Loss: 2.992.. Test Accuracy: 0.510.. Test F1 Score: 0.497\n",
      "Epoch: 11/30.. Train Loss: 0.113.. Test Loss: 3.299.. Test Accuracy: 0.512.. Test F1 Score: 0.506\n",
      "Epoch: 12/30.. Train Loss: 0.103.. Test Loss: 3.722.. Test Accuracy: 0.509.. Test F1 Score: 0.513\n",
      "Epoch: 13/30.. Train Loss: 0.092.. Test Loss: 3.605.. Test Accuracy: 0.556.. Test F1 Score: 0.557\n",
      "Epoch: 14/30.. Train Loss: 0.097.. Test Loss: 4.095.. Test Accuracy: 0.508.. Test F1 Score: 0.514\n",
      "Epoch: 15/30.. Train Loss: 0.109.. Test Loss: 4.040.. Test Accuracy: 0.512.. Test F1 Score: 0.513\n",
      "Epoch: 16/30.. Train Loss: 0.117.. Test Loss: 3.659.. Test Accuracy: 0.513.. Test F1 Score: 0.508\n",
      "Epoch: 17/30.. Train Loss: 0.071.. Test Loss: 3.935.. Test Accuracy: 0.465.. Test F1 Score: 0.467\n",
      "Epoch: 18/30.. Train Loss: 0.064.. Test Loss: 4.660.. Test Accuracy: 0.504.. Test F1 Score: 0.493\n",
      "Epoch: 19/30.. Train Loss: 0.074.. Test Loss: 4.709.. Test Accuracy: 0.509.. Test F1 Score: 0.503\n",
      "Epoch: 20/30.. Train Loss: 0.085.. Test Loss: 5.069.. Test Accuracy: 0.500.. Test F1 Score: 0.489\n",
      "Epoch: 21/30.. Train Loss: 0.057.. Test Loss: 5.141.. Test Accuracy: 0.513.. Test F1 Score: 0.507\n",
      "Epoch: 22/30.. Train Loss: 0.074.. Test Loss: 4.415.. Test Accuracy: 0.521.. Test F1 Score: 0.518\n",
      "Epoch: 23/30.. Train Loss: 0.055.. Test Loss: 5.093.. Test Accuracy: 0.518.. Test F1 Score: 0.508\n",
      "Epoch: 24/30.. Train Loss: 0.070.. Test Loss: 4.940.. Test Accuracy: 0.503.. Test F1 Score: 0.494\n",
      "Epoch: 25/30.. Train Loss: 0.136.. Test Loss: 4.524.. Test Accuracy: 0.506.. Test F1 Score: 0.494\n",
      "Epoch: 26/30.. Train Loss: 0.073.. Test Loss: 5.494.. Test Accuracy: 0.486.. Test F1 Score: 0.476\n",
      "Epoch: 27/30.. Train Loss: 0.062.. Test Loss: 4.877.. Test Accuracy: 0.494.. Test F1 Score: 0.486\n",
      "Epoch: 28/30.. Train Loss: 0.042.. Test Loss: 5.182.. Test Accuracy: 0.501.. Test F1 Score: 0.486\n",
      "Epoch: 29/30.. Train Loss: 0.045.. Test Loss: 5.960.. Test Accuracy: 0.493.. Test F1 Score: 0.487\n",
      "Epoch: 30/30.. Train Loss: 0.069.. Test Loss: 5.530.. Test Accuracy: 0.513.. Test F1 Score: 0.503\n"
     ]
    }
   ],
   "source": [
    "model = CNNFeatureExtractor(num_classes=num_classes).to(device)\n",
    "criterion = nn.CrossEntropyLoss()\n",
    "optimizer = torch.optim.Adam(model.parameters(), lr=0.001)\n",
    "\n",
    "# train and test model\n",
    "num_epochs = 30\n",
    "train_losses, test_losses, test_accuracies, test_f1_scores = train_and_test(model, train_dataloader_25, test_dataloader, criterion, optimizer, device, num_epochs=num_epochs)"
   ]
  },
  {
   "cell_type": "markdown",
   "metadata": {},
   "source": [
    "### 10% Train Data"
   ]
  },
  {
   "cell_type": "code",
   "execution_count": 98,
   "metadata": {},
   "outputs": [
    {
     "name": "stdout",
     "output_type": "stream",
     "text": [
      "Epoch: 1/30.. Train Loss: 0.796.. Test Loss: 4.203.. Test Accuracy: 0.255.. Test F1 Score: 0.305\n",
      "Epoch: 2/30.. Train Loss: 0.301.. Test Loss: 3.140.. Test Accuracy: 0.377.. Test F1 Score: 0.428\n",
      "Epoch: 3/30.. Train Loss: 0.237.. Test Loss: 4.075.. Test Accuracy: 0.245.. Test F1 Score: 0.287\n",
      "Epoch: 4/30.. Train Loss: 0.174.. Test Loss: 3.400.. Test Accuracy: 0.321.. Test F1 Score: 0.371\n",
      "Epoch: 5/30.. Train Loss: 0.118.. Test Loss: 4.245.. Test Accuracy: 0.353.. Test F1 Score: 0.374\n",
      "Epoch: 6/30.. Train Loss: 0.109.. Test Loss: 4.643.. Test Accuracy: 0.310.. Test F1 Score: 0.339\n",
      "Epoch: 7/30.. Train Loss: 0.128.. Test Loss: 4.482.. Test Accuracy: 0.324.. Test F1 Score: 0.328\n",
      "Epoch: 8/30.. Train Loss: 0.095.. Test Loss: 5.730.. Test Accuracy: 0.295.. Test F1 Score: 0.309\n",
      "Epoch: 9/30.. Train Loss: 0.102.. Test Loss: 4.514.. Test Accuracy: 0.286.. Test F1 Score: 0.324\n",
      "Epoch: 10/30.. Train Loss: 0.083.. Test Loss: 5.659.. Test Accuracy: 0.356.. Test F1 Score: 0.384\n",
      "Epoch: 11/30.. Train Loss: 0.062.. Test Loss: 4.878.. Test Accuracy: 0.344.. Test F1 Score: 0.380\n",
      "Epoch: 12/30.. Train Loss: 0.052.. Test Loss: 4.583.. Test Accuracy: 0.400.. Test F1 Score: 0.409\n",
      "Epoch: 13/30.. Train Loss: 0.056.. Test Loss: 5.399.. Test Accuracy: 0.369.. Test F1 Score: 0.379\n",
      "Epoch: 14/30.. Train Loss: 0.081.. Test Loss: 5.615.. Test Accuracy: 0.344.. Test F1 Score: 0.368\n",
      "Epoch: 15/30.. Train Loss: 0.039.. Test Loss: 6.563.. Test Accuracy: 0.330.. Test F1 Score: 0.348\n",
      "Epoch: 16/30.. Train Loss: 0.032.. Test Loss: 6.365.. Test Accuracy: 0.352.. Test F1 Score: 0.367\n",
      "Epoch: 17/30.. Train Loss: 0.083.. Test Loss: 5.111.. Test Accuracy: 0.378.. Test F1 Score: 0.388\n",
      "Epoch: 18/30.. Train Loss: 0.036.. Test Loss: 7.827.. Test Accuracy: 0.267.. Test F1 Score: 0.297\n",
      "Epoch: 19/30.. Train Loss: 0.036.. Test Loss: 5.827.. Test Accuracy: 0.345.. Test F1 Score: 0.364\n",
      "Epoch: 20/30.. Train Loss: 0.027.. Test Loss: 7.073.. Test Accuracy: 0.346.. Test F1 Score: 0.366\n",
      "Epoch: 21/30.. Train Loss: 0.018.. Test Loss: 7.470.. Test Accuracy: 0.345.. Test F1 Score: 0.366\n",
      "Epoch: 22/30.. Train Loss: 0.019.. Test Loss: 7.656.. Test Accuracy: 0.342.. Test F1 Score: 0.362\n",
      "Epoch: 23/30.. Train Loss: 0.052.. Test Loss: 6.582.. Test Accuracy: 0.355.. Test F1 Score: 0.369\n",
      "Epoch: 24/30.. Train Loss: 0.017.. Test Loss: 7.558.. Test Accuracy: 0.343.. Test F1 Score: 0.357\n",
      "Epoch: 25/30.. Train Loss: 0.013.. Test Loss: 7.771.. Test Accuracy: 0.345.. Test F1 Score: 0.361\n",
      "Epoch: 26/30.. Train Loss: 0.013.. Test Loss: 8.048.. Test Accuracy: 0.346.. Test F1 Score: 0.360\n",
      "Epoch: 27/30.. Train Loss: 0.011.. Test Loss: 8.577.. Test Accuracy: 0.342.. Test F1 Score: 0.357\n",
      "Epoch: 28/30.. Train Loss: 0.035.. Test Loss: 6.951.. Test Accuracy: 0.364.. Test F1 Score: 0.385\n",
      "Epoch: 29/30.. Train Loss: 0.069.. Test Loss: 9.152.. Test Accuracy: 0.308.. Test F1 Score: 0.309\n",
      "Epoch: 30/30.. Train Loss: 0.064.. Test Loss: 8.456.. Test Accuracy: 0.287.. Test F1 Score: 0.319\n"
     ]
    }
   ],
   "source": [
    "model = CNNFeatureExtractor(num_classes=num_classes).to(device)\n",
    "criterion = nn.CrossEntropyLoss()\n",
    "optimizer = torch.optim.Adam(model.parameters(), lr=0.001)\n",
    "\n",
    "# train and test model\n",
    "num_epochs = 30\n",
    "train_losses, test_losses, test_accuracies, test_f1_scores = train_and_test(model, train_dataloader_10, test_dataloader, criterion, optimizer, device, num_epochs=num_epochs)"
   ]
  }
 ],
 "metadata": {
  "kernelspec": {
   "display_name": "Python 3",
   "language": "python",
   "name": "python3"
  },
  "language_info": {
   "codemirror_mode": {
    "name": "ipython",
    "version": 3
   },
   "file_extension": ".py",
   "mimetype": "text/x-python",
   "name": "python",
   "nbconvert_exporter": "python",
   "pygments_lexer": "ipython3",
   "version": "3.10.13"
  }
 },
 "nbformat": 4,
 "nbformat_minor": 2
}
