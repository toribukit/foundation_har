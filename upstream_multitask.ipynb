{
 "cells": [
  {
   "cell_type": "markdown",
   "metadata": {},
   "source": [
    "# Setup"
   ]
  },
  {
   "cell_type": "code",
   "execution_count": 1,
   "metadata": {},
   "outputs": [],
   "source": [
    "# import libraries\n",
    "import os\n",
    "import sys\n",
    "import time\n",
    "import pandas as pd\n",
    "import numpy as np\n",
    "from scipy import stats\n",
    "from scipy.interpolate import CubicSpline\n",
    "import torch.optim as optim\n",
    "import torch.nn as nn\n",
    "import torch\n",
    "from torch.optim import Adam"
   ]
  },
  {
   "cell_type": "markdown",
   "metadata": {},
   "source": [
    "## Hyper-parameters"
   ]
  },
  {
   "cell_type": "code",
   "execution_count": 2,
   "metadata": {},
   "outputs": [],
   "source": [
    "num_epochs = 30\n",
    "batch_size = 64  # Set your batch size\n",
    "learning_rate = 0.001\n",
    "\n",
    "device = torch.device(\"cuda:0\" if torch.cuda.is_available() else \"cpu\")"
   ]
  },
  {
   "cell_type": "code",
   "execution_count": 3,
   "metadata": {},
   "outputs": [],
   "source": [
    "# set the seed\n",
    "np.random.seed(420)\n",
    "torch.manual_seed(420)\n",
    "torch.cuda.manual_seed(420)"
   ]
  },
  {
   "cell_type": "markdown",
   "metadata": {},
   "source": [
    "# Load Data"
   ]
  },
  {
   "cell_type": "code",
   "execution_count": 4,
   "metadata": {},
   "outputs": [
    {
     "data": {
      "text/html": [
       "<div>\n",
       "<style scoped>\n",
       "    .dataframe tbody tr th:only-of-type {\n",
       "        vertical-align: middle;\n",
       "    }\n",
       "\n",
       "    .dataframe tbody tr th {\n",
       "        vertical-align: top;\n",
       "    }\n",
       "\n",
       "    .dataframe thead th {\n",
       "        text-align: right;\n",
       "    }\n",
       "</style>\n",
       "<table border=\"1\" class=\"dataframe\">\n",
       "  <thead>\n",
       "    <tr style=\"text-align: right;\">\n",
       "      <th></th>\n",
       "      <th>subject_id</th>\n",
       "      <th>acc_x</th>\n",
       "      <th>acc_y</th>\n",
       "      <th>acc_z</th>\n",
       "      <th>activity</th>\n",
       "      <th>activity_label_2</th>\n",
       "    </tr>\n",
       "  </thead>\n",
       "  <tbody>\n",
       "    <tr>\n",
       "      <th>0</th>\n",
       "      <td>0</td>\n",
       "      <td>0.306563</td>\n",
       "      <td>9.196875</td>\n",
       "      <td>-1.22625</td>\n",
       "      <td>null_class</td>\n",
       "      <td>null_class</td>\n",
       "    </tr>\n",
       "    <tr>\n",
       "      <th>1</th>\n",
       "      <td>0</td>\n",
       "      <td>0.306563</td>\n",
       "      <td>9.196875</td>\n",
       "      <td>-1.22625</td>\n",
       "      <td>null_class</td>\n",
       "      <td>null_class</td>\n",
       "    </tr>\n",
       "    <tr>\n",
       "      <th>2</th>\n",
       "      <td>0</td>\n",
       "      <td>0.306563</td>\n",
       "      <td>9.196875</td>\n",
       "      <td>-1.22625</td>\n",
       "      <td>null_class</td>\n",
       "      <td>null_class</td>\n",
       "    </tr>\n",
       "    <tr>\n",
       "      <th>3</th>\n",
       "      <td>0</td>\n",
       "      <td>0.306563</td>\n",
       "      <td>9.196875</td>\n",
       "      <td>-1.22625</td>\n",
       "      <td>null_class</td>\n",
       "      <td>null_class</td>\n",
       "    </tr>\n",
       "    <tr>\n",
       "      <th>4</th>\n",
       "      <td>0</td>\n",
       "      <td>0.306563</td>\n",
       "      <td>9.196875</td>\n",
       "      <td>-1.22625</td>\n",
       "      <td>null_class</td>\n",
       "      <td>null_class</td>\n",
       "    </tr>\n",
       "  </tbody>\n",
       "</table>\n",
       "</div>"
      ],
      "text/plain": [
       "   subject_id     acc_x     acc_y    acc_z    activity activity_label_2\n",
       "0           0  0.306563  9.196875 -1.22625  null_class       null_class\n",
       "1           0  0.306563  9.196875 -1.22625  null_class       null_class\n",
       "2           0  0.306563  9.196875 -1.22625  null_class       null_class\n",
       "3           0  0.306563  9.196875 -1.22625  null_class       null_class\n",
       "4           0  0.306563  9.196875 -1.22625  null_class       null_class"
      ]
     },
     "execution_count": 4,
     "metadata": {},
     "output_type": "execute_result"
    }
   ],
   "source": [
    "# load data without header\n",
    "data1 = pd.read_csv('./ISWC21_data_plus_raw/wetlab_data.csv')\n",
    "# add header\n",
    "data1.columns = ['subject_id', 'acc_x', 'acc_y', 'acc_z', 'activity', 'activity_label_2']\n",
    "data1.head()"
   ]
  },
  {
   "cell_type": "code",
   "execution_count": 5,
   "metadata": {},
   "outputs": [
    {
     "data": {
      "text/plain": [
       "(3163679, 5)"
      ]
     },
     "execution_count": 5,
     "metadata": {},
     "output_type": "execute_result"
    }
   ],
   "source": [
    "#remove activity label 2 column\n",
    "data1 = data1.drop(['activity_label_2'], axis=1)\n",
    "data1.shape"
   ]
  },
  {
   "cell_type": "code",
   "execution_count": 6,
   "metadata": {},
   "outputs": [
    {
     "name": "stdout",
     "output_type": "stream",
     "text": [
      "Number of unique subjects:  22\n"
     ]
    }
   ],
   "source": [
    "#count number of unique subjects\n",
    "print(\"Number of unique subjects: \", data1['subject_id'].nunique())"
   ]
  },
  {
   "cell_type": "code",
   "execution_count": 7,
   "metadata": {},
   "outputs": [
    {
     "data": {
      "text/html": [
       "<div>\n",
       "<style scoped>\n",
       "    .dataframe tbody tr th:only-of-type {\n",
       "        vertical-align: middle;\n",
       "    }\n",
       "\n",
       "    .dataframe tbody tr th {\n",
       "        vertical-align: top;\n",
       "    }\n",
       "\n",
       "    .dataframe thead th {\n",
       "        text-align: right;\n",
       "    }\n",
       "</style>\n",
       "<table border=\"1\" class=\"dataframe\">\n",
       "  <thead>\n",
       "    <tr style=\"text-align: right;\">\n",
       "      <th></th>\n",
       "      <th>subject_id</th>\n",
       "      <th>acc_x</th>\n",
       "      <th>acc_y</th>\n",
       "      <th>acc_z</th>\n",
       "      <th>activity</th>\n",
       "    </tr>\n",
       "  </thead>\n",
       "  <tbody>\n",
       "    <tr>\n",
       "      <th>0</th>\n",
       "      <td>0</td>\n",
       "      <td>-9.57434</td>\n",
       "      <td>-2.02733</td>\n",
       "      <td>1.34506</td>\n",
       "      <td>climbing_up</td>\n",
       "    </tr>\n",
       "    <tr>\n",
       "      <th>1</th>\n",
       "      <td>0</td>\n",
       "      <td>-9.56479</td>\n",
       "      <td>-1.99597</td>\n",
       "      <td>1.39345</td>\n",
       "      <td>climbing_up</td>\n",
       "    </tr>\n",
       "    <tr>\n",
       "      <th>2</th>\n",
       "      <td>0</td>\n",
       "      <td>-9.55122</td>\n",
       "      <td>-1.98445</td>\n",
       "      <td>1.41139</td>\n",
       "      <td>climbing_up</td>\n",
       "    </tr>\n",
       "    <tr>\n",
       "      <th>3</th>\n",
       "      <td>0</td>\n",
       "      <td>-9.51335</td>\n",
       "      <td>-1.97557</td>\n",
       "      <td>1.42615</td>\n",
       "      <td>climbing_up</td>\n",
       "    </tr>\n",
       "    <tr>\n",
       "      <th>4</th>\n",
       "      <td>0</td>\n",
       "      <td>-9.52959</td>\n",
       "      <td>-1.98187</td>\n",
       "      <td>1.45395</td>\n",
       "      <td>climbing_up</td>\n",
       "    </tr>\n",
       "  </tbody>\n",
       "</table>\n",
       "</div>"
      ],
      "text/plain": [
       "   subject_id    acc_x    acc_y    acc_z     activity\n",
       "0           0 -9.57434 -2.02733  1.34506  climbing_up\n",
       "1           0 -9.56479 -1.99597  1.39345  climbing_up\n",
       "2           0 -9.55122 -1.98445  1.41139  climbing_up\n",
       "3           0 -9.51335 -1.97557  1.42615  climbing_up\n",
       "4           0 -9.52959 -1.98187  1.45395  climbing_up"
      ]
     },
     "execution_count": 7,
     "metadata": {},
     "output_type": "execute_result"
    }
   ],
   "source": [
    "# load data without header\n",
    "data2 = pd.read_csv('./ISWC21_data_plus_raw/rwhar_data.csv', header=None)\n",
    "# add header\n",
    "data2.columns = ['subject_id', 'acc_x', 'acc_y', 'acc_z', 'activity']\n",
    "data2.head()"
   ]
  },
  {
   "cell_type": "code",
   "execution_count": 8,
   "metadata": {},
   "outputs": [
    {
     "data": {
      "text/plain": [
       "(3200803, 5)"
      ]
     },
     "execution_count": 8,
     "metadata": {},
     "output_type": "execute_result"
    }
   ],
   "source": [
    "data2.shape"
   ]
  },
  {
   "cell_type": "code",
   "execution_count": 9,
   "metadata": {},
   "outputs": [
    {
     "name": "stdout",
     "output_type": "stream",
     "text": [
      "Number of unique subjects:  15\n"
     ]
    }
   ],
   "source": [
    "#count number of unique subjects\n",
    "print(\"Number of unique subjects: \", data2['subject_id'].nunique())"
   ]
  },
  {
   "cell_type": "code",
   "execution_count": 10,
   "metadata": {},
   "outputs": [
    {
     "data": {
      "text/html": [
       "<div>\n",
       "<style scoped>\n",
       "    .dataframe tbody tr th:only-of-type {\n",
       "        vertical-align: middle;\n",
       "    }\n",
       "\n",
       "    .dataframe tbody tr th {\n",
       "        vertical-align: top;\n",
       "    }\n",
       "\n",
       "    .dataframe thead th {\n",
       "        text-align: right;\n",
       "    }\n",
       "</style>\n",
       "<table border=\"1\" class=\"dataframe\">\n",
       "  <thead>\n",
       "    <tr style=\"text-align: right;\">\n",
       "      <th></th>\n",
       "      <th>subject_id</th>\n",
       "      <th>acc_x</th>\n",
       "      <th>acc_y</th>\n",
       "      <th>acc_z</th>\n",
       "      <th>activity</th>\n",
       "    </tr>\n",
       "  </thead>\n",
       "  <tbody>\n",
       "    <tr>\n",
       "      <th>0</th>\n",
       "      <td>0</td>\n",
       "      <td>0.443056</td>\n",
       "      <td>0.037500</td>\n",
       "      <td>0.888889</td>\n",
       "      <td>null_class</td>\n",
       "    </tr>\n",
       "    <tr>\n",
       "      <th>1</th>\n",
       "      <td>0</td>\n",
       "      <td>0.440278</td>\n",
       "      <td>0.041667</td>\n",
       "      <td>0.880556</td>\n",
       "      <td>null_class</td>\n",
       "    </tr>\n",
       "    <tr>\n",
       "      <th>2</th>\n",
       "      <td>0</td>\n",
       "      <td>0.451389</td>\n",
       "      <td>0.043056</td>\n",
       "      <td>0.876389</td>\n",
       "      <td>null_class</td>\n",
       "    </tr>\n",
       "    <tr>\n",
       "      <th>3</th>\n",
       "      <td>0</td>\n",
       "      <td>0.456944</td>\n",
       "      <td>0.034722</td>\n",
       "      <td>0.888889</td>\n",
       "      <td>null_class</td>\n",
       "    </tr>\n",
       "    <tr>\n",
       "      <th>4</th>\n",
       "      <td>0</td>\n",
       "      <td>0.447222</td>\n",
       "      <td>0.036111</td>\n",
       "      <td>0.888889</td>\n",
       "      <td>null_class</td>\n",
       "    </tr>\n",
       "  </tbody>\n",
       "</table>\n",
       "</div>"
      ],
      "text/plain": [
       "   subject_id     acc_x     acc_y     acc_z    activity\n",
       "0           0  0.443056  0.037500  0.888889  null_class\n",
       "1           0  0.440278  0.041667  0.880556  null_class\n",
       "2           0  0.451389  0.043056  0.876389  null_class\n",
       "3           0  0.456944  0.034722  0.888889  null_class\n",
       "4           0  0.447222  0.036111  0.888889  null_class"
      ]
     },
     "execution_count": 10,
     "metadata": {},
     "output_type": "execute_result"
    }
   ],
   "source": [
    "# load data without header\n",
    "data3 = pd.read_csv('./ISWC21_data_plus_raw/sbhar_data.csv', header=None)\n",
    "# add header\n",
    "data3.columns = ['subject_id', 'acc_x', 'acc_y', 'acc_z', 'activity']\n",
    "data3.head()"
   ]
  },
  {
   "cell_type": "code",
   "execution_count": 11,
   "metadata": {},
   "outputs": [
    {
     "data": {
      "text/plain": [
       "(1122772, 5)"
      ]
     },
     "execution_count": 11,
     "metadata": {},
     "output_type": "execute_result"
    }
   ],
   "source": [
    "data3.shape"
   ]
  },
  {
   "cell_type": "code",
   "execution_count": 12,
   "metadata": {},
   "outputs": [
    {
     "name": "stdout",
     "output_type": "stream",
     "text": [
      "Number of unique subjects:  30\n"
     ]
    }
   ],
   "source": [
    "#count number of unique subjects\n",
    "print(\"Number of unique subjects: \", data3['subject_id'].nunique())"
   ]
  },
  {
   "cell_type": "code",
   "execution_count": 13,
   "metadata": {},
   "outputs": [
    {
     "name": "stdout",
     "output_type": "stream",
     "text": [
      "Unique subjects:  [ 0  1  2  3  4  5  6  7  8  9 10 11 12 13 14 15 16 17 18 19 20 21 22 23\n",
      " 24 25 26 27 28 29]\n"
     ]
    }
   ],
   "source": [
    "#print all of the unique subjects\n",
    "print(\"Unique subjects: \", data3['subject_id'].unique())"
   ]
  },
  {
   "cell_type": "code",
   "execution_count": 14,
   "metadata": {},
   "outputs": [],
   "source": [
    "# convert subject_id to int\n",
    "data3['subject_id'] = data3['subject_id'].astype(int)"
   ]
  },
  {
   "cell_type": "code",
   "execution_count": 15,
   "metadata": {},
   "outputs": [],
   "source": [
    "# # join all data in one dataframe row-wise\n",
    "# data = pd.concat([data1, data2, data3], ignore_index=True, axis=0)\n",
    "data = data3"
   ]
  },
  {
   "cell_type": "code",
   "execution_count": 16,
   "metadata": {},
   "outputs": [
    {
     "data": {
      "text/plain": [
       "(1122772, 5)"
      ]
     },
     "execution_count": 16,
     "metadata": {},
     "output_type": "execute_result"
    }
   ],
   "source": [
    "data.shape"
   ]
  },
  {
   "cell_type": "code",
   "execution_count": 17,
   "metadata": {},
   "outputs": [
    {
     "data": {
      "text/plain": [
       "False"
      ]
     },
     "execution_count": 17,
     "metadata": {},
     "output_type": "execute_result"
    }
   ],
   "source": [
    "#check null values in subject_id column\n",
    "data['subject_id'].isnull().values.any()"
   ]
  },
  {
   "cell_type": "markdown",
   "metadata": {},
   "source": [
    "# Data Preprocessing"
   ]
  },
  {
   "cell_type": "markdown",
   "metadata": {},
   "source": [
    "## Split Train and Test Users"
   ]
  },
  {
   "cell_type": "code",
   "execution_count": 18,
   "metadata": {},
   "outputs": [
    {
     "name": "stdout",
     "output_type": "stream",
     "text": [
      "Test subjects:  [ 9  7 26 29  1 24]\n",
      "Train data shape:  (897667, 5)\n",
      "Test data shape:  (225105, 5)\n"
     ]
    }
   ],
   "source": [
    "#split train and test data\n",
    "#randomly select 20% of subjects for test data\n",
    "test_subjects = data['subject_id'].unique()\n",
    "test_subjects = np.random.choice(test_subjects, size=int(0.2*len(test_subjects)), replace=False)\n",
    "# test_subjects = [ 9  7 26 29  1 24]\n",
    "print(\"Test subjects: \", test_subjects)\n",
    "\n",
    "#split data into train and test\n",
    "train_data = data[~data['subject_id'].isin(test_subjects)]\n",
    "test_data = data[data['subject_id'].isin(test_subjects)]\n",
    "print(\"Train data shape: \", train_data.shape)\n",
    "print(\"Test data shape: \", test_data.shape)"
   ]
  },
  {
   "cell_type": "markdown",
   "metadata": {},
   "source": [
    "## Data Normalization"
   ]
  },
  {
   "cell_type": "code",
   "execution_count": 19,
   "metadata": {},
   "outputs": [],
   "source": [
    "# z normalization with respect to train data\n",
    "train_data_mean = train_data[['acc_x', 'acc_y', 'acc_z']].mean()\n",
    "train_data_std = train_data[['acc_x', 'acc_y', 'acc_z']].std()\n",
    "# Normalize Training Data\n",
    "train_data.loc[:, ['acc_x', 'acc_y', 'acc_z']] = (train_data[['acc_x', 'acc_y', 'acc_z']] - train_data_mean) / train_data_std\n",
    "\n",
    "# Normalize Test Data with Training Statistics\n",
    "test_data.loc[:, ['acc_x', 'acc_y', 'acc_z']] = (test_data[['acc_x', 'acc_y', 'acc_z']] - train_data_mean) / train_data_std"
   ]
  },
  {
   "cell_type": "code",
   "execution_count": 20,
   "metadata": {},
   "outputs": [
    {
     "data": {
      "text/plain": [
       "acc_x    0.816012\n",
       "acc_y   -0.007595\n",
       "acc_z    0.074082\n",
       "dtype: float64"
      ]
     },
     "execution_count": 20,
     "metadata": {},
     "output_type": "execute_result"
    }
   ],
   "source": [
    "train_data_mean"
   ]
  },
  {
   "cell_type": "code",
   "execution_count": 21,
   "metadata": {},
   "outputs": [
    {
     "data": {
      "text/plain": [
       "acc_x    0.398664\n",
       "acc_y    0.375481\n",
       "acc_z    0.366527\n",
       "dtype: float64"
      ]
     },
     "execution_count": 21,
     "metadata": {},
     "output_type": "execute_result"
    }
   ],
   "source": [
    "train_data_std"
   ]
  },
  {
   "cell_type": "code",
   "execution_count": 22,
   "metadata": {},
   "outputs": [
    {
     "data": {
      "text/plain": [
       "pandas.core.series.Series"
      ]
     },
     "execution_count": 22,
     "metadata": {},
     "output_type": "execute_result"
    }
   ],
   "source": [
    "type(train_data_std)"
   ]
  },
  {
   "cell_type": "markdown",
   "metadata": {},
   "source": [
    "## Windowing"
   ]
  },
  {
   "cell_type": "code",
   "execution_count": 23,
   "metadata": {},
   "outputs": [],
   "source": [
    "# function for sliding window\n",
    "\n",
    "def sliding_window_samples(data, samples_per_window, overlap_ratio):\n",
    "    \"\"\"\n",
    "    Return a sliding window measured in number of samples over a data array.\n",
    "\n",
    "    :param data: input array, can be numpy or pandas dataframe\n",
    "    :param samples_per_window: window length as number of samples\n",
    "    :param overlap_ratio: overlap is meant as percentage and should be an integer value\n",
    "    :return: tuple of windows and indices\n",
    "    \"\"\"\n",
    "    windows = []\n",
    "    indices = []\n",
    "    curr = 0\n",
    "    win_len = int(samples_per_window)\n",
    "    if overlap_ratio is not None:\n",
    "        overlapping_elements = int((overlap_ratio / 100) * (win_len))\n",
    "        if overlapping_elements >= win_len:\n",
    "            print('Number of overlapping elements exceeds window size.')\n",
    "            return\n",
    "    while curr < len(data) - win_len:\n",
    "        windows.append(data[curr:curr + win_len])\n",
    "        indices.append([curr, curr + win_len])\n",
    "        curr = curr + win_len - overlapping_elements\n",
    "    try:\n",
    "        result_windows = np.array(windows)\n",
    "        result_indices = np.array(indices)\n",
    "    except:\n",
    "        result_windows = np.empty(shape=(len(windows), win_len, data.shape[1]), dtype=object)\n",
    "        result_indices = np.array(indices)\n",
    "        for i in range(0, len(windows)):\n",
    "            result_windows[i] = windows[i]\n",
    "            result_indices[i] = indices[i]\n",
    "    return result_windows, result_indices"
   ]
  },
  {
   "cell_type": "code",
   "execution_count": 24,
   "metadata": {},
   "outputs": [
    {
     "name": "stdout",
     "output_type": "stream",
     "text": [
      "shape of train window dataset (2 sec with 0% overlap): (8976, 100, 5)\n",
      "shape of test window dataset (2 sec with 0% overlap): (2251, 100, 5)\n"
     ]
    }
   ],
   "source": [
    "# sampling_rate = 50\n",
    "# time_window = 8\n",
    "# window_size = sampling_rate * time_window\n",
    "# overlap_ratio = 50\n",
    "\n",
    "sampling_rate = 50\n",
    "time_window = 2\n",
    "window_size = sampling_rate * time_window\n",
    "overlap_ratio = 0\n",
    "\n",
    "train_window_data, _ = sliding_window_samples(train_data, window_size, overlap_ratio)\n",
    "print(f\"shape of train window dataset ({time_window} sec with {overlap_ratio}% overlap): {train_window_data.shape}\")\n",
    "\n",
    "test_window_data, _ = sliding_window_samples(test_data, window_size, overlap_ratio)\n",
    "print(f\"shape of test window dataset ({time_window} sec with {overlap_ratio}% overlap): {test_window_data.shape}\")"
   ]
  },
  {
   "cell_type": "code",
   "execution_count": 25,
   "metadata": {},
   "outputs": [
    {
     "data": {
      "text/plain": [
       "array([[0, -0.9355155521152527, 0.12009837894797139, 2.223044603166194,\n",
       "        'null_class'],\n",
       "       [0, -0.9424832899580327, 0.13119524723936618, 2.200308651740837,\n",
       "        'null_class'],\n",
       "       [0, -0.9146124605540366, 0.1348942033364978, 2.188940676028158,\n",
       "        'null_class'],\n",
       "       [0, -0.9006769848684767, 0.11270046675370819, 2.223044603166194,\n",
       "        'null_class'],\n",
       "       [0, -0.9250639453510827, 0.11639942285083979, 2.223044603166194,\n",
       "        'null_class'],\n",
       "       [0, -0.9285478142724728, 0.14229211553076074, 2.188940676028158,\n",
       "        'null_class'],\n",
       "       [0, -0.9041608537898667, 0.1348942033364978, 2.2268339284037535,\n",
       "        'null_class'],\n",
       "       [0, -0.9041608537898667, 0.1348942033364978, 2.2268339284037535,\n",
       "        'null_class'],\n",
       "       [0, -0.9111285916326465, 0.14229211553076074, 2.2457802892698013,\n",
       "        'null_class'],\n",
       "       [0, -0.9111285916326465, 0.14229211553076074, 2.2457802892698013,\n",
       "        'null_class'],\n",
       "       [0, -0.9111285916326465, 0.123797335045103, 2.2685162406951584,\n",
       "        'null_class'],\n",
       "       [0, -0.9006769848684767, 0.1348942033364978, 2.2836735416453964,\n",
       "        'null_class'],\n",
       "       [0, -0.9599026345649827, 0.15338898382215554, 2.272305565932718,\n",
       "        'null_class'],\n",
       "       [0, -0.9355155521152527, 0.15338898382215554, 2.2192552779286343,\n",
       "        'null_class'],\n",
       "       [0, -0.8832576402615265, 0.1348942033364978, 2.2040979769783964,\n",
       "        'null_class'],\n",
       "       [0, -0.8867415091829167, 0.11639942285083979, 2.238201904116432,\n",
       "        'null_class'],\n",
       "       [0, -0.8762899024187468, 0.0868077700269929, 2.25335893974492,\n",
       "        'null_class'],\n",
       "       [0, -0.8762899024187468, 0.0868077700269929, 2.25335893974492,\n",
       "        'null_class'],\n",
       "       [0, -0.9773219791719325, 0.11639942285083979, 2.1699940498403607,\n",
       "        'null_class'],\n",
       "       [0, -0.9180963294754266, 0.0868077700269929, 2.1548367488901223,\n",
       "        'null_class'],\n",
       "       [0, -0.8797737713401367, 0.03502238163205498, 2.1624153993652415,\n",
       "        'null_class'],\n",
       "       [0, -0.9494510278008127, 0.04242029483801677, 2.116943496514527,\n",
       "        'null_class'],\n",
       "       [0, -1.0330636989634865, 0.13119524723936618, 1.9312670905176097,\n",
       "        'null_class'],\n",
       "       [0, -0.8344835973291908, 0.06091507734707168, 1.9729495354698894,\n",
       "        'null_class'],\n",
       "       [0, -0.7752579476326846, -0.0944410908728373, 2.0563145580353246,\n",
       "        'null_class'],\n",
       "       [0, -0.7752579476326846, -0.0944410908728373, 2.0563145580353246,\n",
       "        'null_class'],\n",
       "       [0, -1.2908694502942888, -0.4495408923846463, 1.9388457409927289,\n",
       "        'null_class'],\n",
       "       [0, -1.1306118458117205, -0.34597012166496194, 1.6357003852923409,\n",
       "        'null_class'],\n",
       "       [0, -0.6672582550038427, -0.27568996391305023, 2.5261898262057074,\n",
       "        'null_class'],\n",
       "       [0, -1.0574507204296546, -0.12773170384060983, 2.5299791514432672,\n",
       "        'null_class'],\n",
       "       [0, -1.0330636989634865, -0.10923691526136343, 2.3746170820250754,\n",
       "        'null_class'],\n",
       "       [0, -1.0051928085759285, -0.11293587135849503, 2.5034538747803494,\n",
       "        'null_class'],\n",
       "       [0, -0.9111285916326465, -0.14622647623267945, 2.1283114722272054,\n",
       "        'null_class'],\n",
       "       [0, -0.8449352040933608, -0.179517089200452, 2.1434687731774438,\n",
       "        'null_class'],\n",
       "       [0, -0.8379674662505806, -0.1721191770061888, 1.8251662491876928,\n",
       "        'null_class'],\n",
       "       [0, -0.9006769848684767, -0.23130247456029415, 1.544756712251787,\n",
       "        'null_class'],\n",
       "       [0, -1.1340957147331105, -0.32377636889499556, 1.3856054502569115,\n",
       "        'null_class'],\n",
       "       [0, -1.3640305756763542, -0.5050252581223853, 2.1283114722272054,\n",
       "        'null_class'],\n",
       "       [0, -0.8344835973291908, -0.5531116631043304, 2.101786460886039,\n",
       "        'null_class'],\n",
       "       [0, -0.7543547341043448, -0.6122949606584357, 2.223044603166194,\n",
       "        'null_class'],\n",
       "       [0, -1.0679023271938246, -0.5124231541294717, 2.620922691822946,\n",
       "        'null_class'],\n",
       "       [0, -1.2316438005977826, -0.4162502794168735, 2.666394594673659,\n",
       "        'null_class'],\n",
       "       [0, -1.2211922548171745, -0.34597012166496194, 2.4731395382016235,\n",
       "        'null_class'],\n",
       "       [0, -0.8971931159470865, -0.5050252581223853, 1.9994748121328063,\n",
       "        'null_class'],\n",
       "       [0, -0.6637743860824529, -0.6529835020076487, 1.715275949959341,\n",
       "        'null_class'],\n",
       "       [0, -0.8205481216436308, -0.6418866094354885, 2.272305565932718,\n",
       "        'null_class'],\n",
       "       [0, -0.8867415091829167, -0.6381876452447686, 2.4958752243052307,\n",
       "        'null_class'],\n",
       "       [0, -0.8762899024187468, -0.6825751507847014, 2.0146321130830445,\n",
       "        'null_class'],\n",
       "       [0, -0.43383952513920887, -1.0635676854443736, 1.8365340922394962,\n",
       "        'null_class'],\n",
       "       [0, -0.43383952513920887, -1.0635676854443736, 1.8365340922394962,\n",
       "        'null_class'],\n",
       "       [0, -0.8344835973291908, -1.3150966676749674, 2.5261898262057074,\n",
       "        'null_class'],\n",
       "       [0, -0.5697101691391707, -1.1708374527291323, 2.196519326503277,\n",
       "        'null_class'],\n",
       "       [0, -0.8449352040933608, -0.24609829894882057, 2.4882968391518614,\n",
       "        'null_class'],\n",
       "       [0, -0.9424832899580327, -0.39035759483054094, 2.2419909640322415,\n",
       "        'null_class'],\n",
       "       [0, -1.0853216108172128, -0.4162502794168735, 2.188940676028158,\n",
       "        'null_class'],\n",
       "       [0, -1.2316438005977826, -0.24609829894882057, 1.9994748121328063,\n",
       "        'null_class'],\n",
       "       [0, -1.388417597142522, -0.27938889572941633, 2.2912521921205156,\n",
       "        'null_class'],\n",
       "       [0, -1.1933213644296163, -0.20171082578324162, 2.109365111361158,\n",
       "        'null_class'],\n",
       "       [0, -0.9668703724077625, -0.4717346451546127, 2.041157257085086,\n",
       "        'null_class'],\n",
       "       [0, -0.7961611611610244, -0.6788761865939814, 1.9388457409927289,\n",
       "        'null_class'],\n",
       "       [0, -0.9529348967222026, -0.5346169068994381, 2.0222106308972885,\n",
       "        'null_class'],\n",
       "       [0, -1.1933213644296163, -0.5235200143272778, 1.7872729968120973,\n",
       "        'null_class'],\n",
       "       [0, -1.0504830435704364, -0.8305333946699647, 1.6546468788192636,\n",
       "        'null_class'],\n",
       "       [0, -0.7439032493072987, -0.7417584483388068, 1.700118781669978,\n",
       "        'null_class'],\n",
       "       [0, -0.4651942234645951, -0.6751772224032612, 1.9047418138546928,\n",
       "        'null_class'],\n",
       "       [0, -0.06803402019600316, -1.1819342158038764, 2.1434687731774438,\n",
       "        'null_class'],\n",
       "       [0, -0.12029193204972918, -1.300300810912087, 2.1283114722272054,\n",
       "        'null_class'],\n",
       "       [0, -0.3188720946675869, -1.1856331799945967, 2.264726915457599,\n",
       "        'null_class'],\n",
       "       [0, -0.6254519499142865, -0.704768871180314, 2.3367240949712302,\n",
       "        'null_class'],\n",
       "       [0, -0.5488069556108308, -0.7824469896880193, 2.2192552779286343,\n",
       "        'null_class'],\n",
       "       [0, -0.3397753081959268, -1.1856331799945967, 2.3367240949712302,\n",
       "        'null_class'],\n",
       "       [0, -0.6602905171610629, -1.396473750373393, 2.344302745446349,\n",
       "        'null_class'],\n",
       "       [0, -1.0853216108172128, -1.211525929329637, 2.2609375902200393,\n",
       "        'null_class'],\n",
       "       [0, -1.1410633915923285, -1.0561697570629338, 2.166204724602801,\n",
       "        'null_class'],\n",
       "       [0, -0.6359035566784568, -1.4186674060202975, 2.1131544365987174,\n",
       "        'null_class'],\n",
       "       [0, -0.2073885331173551, -1.5740236430357089, 2.579240379531539,\n",
       "        'null_class'],\n",
       "       [0, 0.06435275488256847, -1.6443038331619746, 2.2609375902200393,\n",
       "        'null_class'],\n",
       "       [0, -0.14467901449945916, -1.6443038331619746, 1.9767388607074492,\n",
       "        'null_class'],\n",
       "       [0, -0.47216196130737514, -1.6443038331619746, 1.4197092447340722,\n",
       "        'null_class'],\n",
       "       [0, -0.08893723372434299, -1.4704529046903785, 1.0142523729413266,\n",
       "        'null_class'],\n",
       "       [0, 0.053901148118398565, -1.6775943813810392, 0.94604465132613,\n",
       "        'null_class'],\n",
       "       [0, -0.10635657833129293, -1.6960892023346397, 1.4879169663492688,\n",
       "        'null_class'],\n",
       "       [0, -0.3746138754427031, -1.4408611911646179, 1.6470682283441445,\n",
       "        'null_class'],\n",
       "       [0, -0.6463550414755029, -1.0561697570629338, 0.94604465132613,\n",
       "        'null_class'],\n",
       "       [0, -0.9494510278008127, -1.1079551909843068, 0.27154615197972,\n",
       "        'null_class'],\n",
       "       [0, -0.545323086689441, -1.8181547616335703, 0.5216410870151494,\n",
       "        'null_class'],\n",
       "       [0, -0.1307435388138991, -1.81075683325213, 1.1165638890336842,\n",
       "        'null_class'],\n",
       "       [0, 0.18977179211836034, -1.71088505909752, 1.0521454926560472,\n",
       "        'null_class'],\n",
       "       [0, 0.3221583232626849, -1.7663693924609054, 0.5140624365400306,\n",
       "        'null_class'],\n",
       "       [0, 0.15841697182585063, -1.9476182493139413, 0.7224748602927423,\n",
       "        'null_class'],\n",
       "       [0, -0.141195145578069, -2.239835902391164, 0.5481662973476286,\n",
       "        'null_class'],\n",
       "       [0, 0.14448149614029082, -2.169555582767482, 0.21849569814954292,\n",
       "        'null_class'],\n",
       "       [0, 0.12009441369056084, -2.0178984394402066, 0.03660846814670054,\n",
       "        'null_class'],\n",
       "       [0, -0.8275158594864108, -1.79226201229853, 0.3359645483573572,\n",
       "        'null_class'],\n",
       "       [0, -0.9842895950475887, -1.8440473814711948, 0.5519556225851882,\n",
       "        'null_class'],\n",
       "       [0, -0.9320316831938629, -1.8514453098526351, 0.3359645483573572,\n",
       "        'null_class'],\n",
       "       [0, -0.6533227793182829, -2.1473619271205777,\n",
       "        0.013872566469171588, 'null_class'],\n",
       "       [0, -0.5801616539362171, -2.336008712355054, 0.1010268811069471,\n",
       "        'null_class'],\n",
       "       [0, -0.49654904375710485, -2.395191880411743, 0.11997344096430736,\n",
       "        'null_class'],\n",
       "       [0, -0.423387918375039, -2.3692991310767026, -0.40674163943903047,\n",
       "        'null_class']], dtype=object)"
      ]
     },
     "execution_count": 25,
     "metadata": {},
     "output_type": "execute_result"
    }
   ],
   "source": [
    "train_window_data[0]"
   ]
  },
  {
   "cell_type": "markdown",
   "metadata": {},
   "source": [
    "## Get Only the Accelerometer"
   ]
  },
  {
   "cell_type": "code",
   "execution_count": 26,
   "metadata": {},
   "outputs": [],
   "source": [
    "# remove the label column\n",
    "train_window_data = train_window_data[:, :, :-1]\n",
    "# train_window_data = train_window_data[:, :, :-1]\n",
    "#remove the subject column\n",
    "train_window_data = train_window_data[:, :, 1:]\n",
    "\n",
    "test_window_data = test_window_data[:, :, :-1]\n",
    "test_window_data = test_window_data[:, :, 1:]\n"
   ]
  },
  {
   "cell_type": "code",
   "execution_count": 27,
   "metadata": {},
   "outputs": [
    {
     "data": {
      "text/plain": [
       "(100, 3)"
      ]
     },
     "execution_count": 27,
     "metadata": {},
     "output_type": "execute_result"
    }
   ],
   "source": [
    "train_window_data[0].shape"
   ]
  },
  {
   "cell_type": "code",
   "execution_count": 28,
   "metadata": {},
   "outputs": [
    {
     "data": {
      "text/plain": [
       "(100, 3)"
      ]
     },
     "execution_count": 28,
     "metadata": {},
     "output_type": "execute_result"
    }
   ],
   "source": [
    "test_window_data[0].shape"
   ]
  },
  {
   "cell_type": "markdown",
   "metadata": {},
   "source": [
    "# Data Transformation"
   ]
  },
  {
   "cell_type": "code",
   "execution_count": 29,
   "metadata": {},
   "outputs": [],
   "source": [
    "def add_jitter(data, noise_factor=0.05):\n",
    "    jitter = noise_factor * np.random.randn(*data.shape)\n",
    "    return data + jitter"
   ]
  },
  {
   "cell_type": "code",
   "execution_count": 30,
   "metadata": {},
   "outputs": [],
   "source": [
    "def scale_data(data, min_scale=0.5, max_scale=1.5):\n",
    "    scaling_factor = np.random.uniform(min_scale, max_scale)\n",
    "    return data * scaling_factor\n"
   ]
  },
  {
   "cell_type": "code",
   "execution_count": 31,
   "metadata": {},
   "outputs": [],
   "source": [
    "def rotate_data(data):\n",
    "    # Invert the sign of the data to simulate sensor rotation\n",
    "    return -data"
   ]
  },
  {
   "cell_type": "code",
   "execution_count": 32,
   "metadata": {},
   "outputs": [],
   "source": [
    "def negate_data(data):\n",
    "    return -data"
   ]
  },
  {
   "cell_type": "code",
   "execution_count": 33,
   "metadata": {},
   "outputs": [],
   "source": [
    "def horizontal_flip(data):\n",
    "    # This function now correctly handles 2D data arrays\n",
    "    return data[::-1, :]"
   ]
  },
  {
   "cell_type": "code",
   "execution_count": 34,
   "metadata": {},
   "outputs": [],
   "source": [
    "def permute_data(data, num_segments=4):\n",
    "    segment_length = data.shape[0] // num_segments  # Adjusted to the first dimension for 2D data\n",
    "    permuted_indices = np.random.permutation(num_segments)\n",
    "    return np.concatenate(\n",
    "        [data[segment_length * idx:segment_length * (idx + 1), :] for idx in permuted_indices], axis=0)  # Concatenating along the first axis"
   ]
  },
  {
   "cell_type": "code",
   "execution_count": 35,
   "metadata": {},
   "outputs": [],
   "source": [
    "from scipy.interpolate import interp1d\n",
    "import numpy as np\n",
    "\n",
    "def time_warp(data, warp_factor_range=(0.8, 1.2)):\n",
    "    sequence_length, num_channels = data.shape\n",
    "    original_time_points = np.linspace(0, 1, sequence_length)\n",
    "    warp_factor = np.random.uniform(*warp_factor_range)\n",
    "    \n",
    "    # Generate new time points based on the warp factor\n",
    "    warped_time_points = np.linspace(0, warp_factor, sequence_length)\n",
    "\n",
    "    warped_data = np.zeros_like(data)\n",
    "    for j in range(num_channels):\n",
    "        # Interpolate each channel\n",
    "        interpolation = interp1d(original_time_points, data[:, j], \n",
    "                                 kind='linear', fill_value=\"extrapolate\")\n",
    "        warped_data[:, j] = interpolation(warped_time_points)\n",
    "\n",
    "    return warped_data\n"
   ]
  },
  {
   "cell_type": "code",
   "execution_count": 36,
   "metadata": {},
   "outputs": [],
   "source": [
    "def shuffle_channels(data):\n",
    "    # Assuming data is 2D with shape (sequence_length, num_channels)\n",
    "    shuffled_indices = np.random.permutation(data.shape[1])  # Shuffle along the second dimension\n",
    "    return data[:, shuffled_indices]"
   ]
  },
  {
   "cell_type": "markdown",
   "metadata": {},
   "source": [
    "## Transform Training Data"
   ]
  },
  {
   "cell_type": "code",
   "execution_count": 37,
   "metadata": {},
   "outputs": [],
   "source": [
    "import numpy as np\n",
    "\n",
    "# Initialize lists to store datasets\n",
    "train_dataset = [[] for _ in range(8)]\n",
    "\n",
    "# Loop over all training data\n",
    "for data in train_window_data:\n",
    "    # loop over all transformations\n",
    "    # print(f\"shape of data: {data.shape}\")\n",
    "    data_array = np.array(data, dtype=np.float32)\n",
    "    for j in range(8):\n",
    "        # Original data with label 0\n",
    "        train_dataset[j].append((data_array, 0))\n",
    "        # Apply transformation based on j and save it in the transformed_data variable\n",
    "        if j == 0:\n",
    "            transformed_data = add_jitter(data_array)\n",
    "        elif j == 1:\n",
    "            transformed_data = scale_data(data_array)\n",
    "        elif j == 2:\n",
    "            transformed_data = rotate_data(data_array)\n",
    "        elif j == 3:\n",
    "            transformed_data = negate_data(data_array)\n",
    "        elif j == 4:\n",
    "            transformed_data = horizontal_flip(data_array)\n",
    "        elif j == 5:\n",
    "            transformed_data = permute_data(data_array)\n",
    "        elif j == 6:\n",
    "            transformed_data = time_warp(data_array)\n",
    "        elif j == 7:\n",
    "            transformed_data = shuffle_channels(data_array)\n",
    "        # Append the transformed data with label 1\n",
    "        transformed_data_array = np.array(transformed_data, dtype=np.float32)\n",
    "        train_dataset[j].append((transformed_data_array, 1))\n",
    "\n",
    "for dataset in train_dataset:\n",
    "    shapes = set(tuple(d.shape) for d, _ in dataset)\n",
    "    if len(shapes) > 1:\n",
    "        print(\"Inconsistent shapes found in dataset:\", shapes)\n",
    "\n",
    "# Convert lists to numpy arrays\n",
    "for j in range(8):\n",
    "    data, labels = zip(*train_dataset[j])\n",
    "    data = np.array(data)\n",
    "    labels = np.array(labels)\n",
    "    train_dataset[j] = (data, labels)\n"
   ]
  },
  {
   "cell_type": "code",
   "execution_count": 38,
   "metadata": {},
   "outputs": [
    {
     "data": {
      "text/plain": [
       "array([[[-0.9355155 ,  0.12009838,  2.2230446 ],\n",
       "        [-0.9424833 ,  0.13119525,  2.2003086 ],\n",
       "        [-0.9146125 ,  0.1348942 ,  2.1889408 ],\n",
       "        ...,\n",
       "        [-0.58016163, -2.3360088 ,  0.10102688],\n",
       "        [-0.49654904, -2.395192  ,  0.11997344],\n",
       "        [-0.4233879 , -2.3692992 , -0.40674165]],\n",
       "\n",
       "       [[-1.0421286 ,  0.13378501,  2.4763868 ],\n",
       "        [-1.0498904 ,  0.14614649,  2.4510598 ],\n",
       "        [-1.0188434 ,  0.15026699,  2.4383965 ],\n",
       "        ...,\n",
       "        [-0.6462779 , -2.6022246 ,  0.11254008],\n",
       "        [-0.55313665, -2.6681523 ,  0.13364583],\n",
       "        [-0.47163796, -2.6393087 , -0.45309466]],\n",
       "\n",
       "       [[-0.13074353, -2.228739  , -0.52421045],\n",
       "        [ 0.14796537, -2.6060326 , -0.7288336 ],\n",
       "        [-0.23177561, -3.0979936 , -1.3275458 ],\n",
       "        ...,\n",
       "        [ 0.31519058, -0.80094177, -0.16422534],\n",
       "        [ 0.36744863, -0.9045125 , -0.16422534],\n",
       "        [ 0.510287  , -0.89711463, -0.27411553]],\n",
       "\n",
       "       ...,\n",
       "\n",
       "       [[ 0.29202315, -0.3310534 , -0.38105655],\n",
       "        [ 0.1059829 , -0.13006176, -0.36685643],\n",
       "        [ 0.28549543, -0.25828058, -0.26745564],\n",
       "        ...,\n",
       "        [ 0.17452413, -0.0087737 ,  0.5952011 ],\n",
       "        [-0.2497779 , -0.16818087,  0.5029003 ],\n",
       "        [-0.09964032, -0.15778473,  1.1312551 ]],\n",
       "\n",
       "       [[-0.26661417, -0.13512962,  1.4386559 ],\n",
       "        [-0.36764613, -0.14622648,  1.5826498 ],\n",
       "        [-0.59061325, -0.05005362,  1.7076973 ],\n",
       "        ...,\n",
       "        [-1.1689343 ,  0.39382115,  2.3101988 ],\n",
       "        [-1.3222243 ,  0.34573472,  2.1396794 ],\n",
       "        [-1.4093207 ,  0.4567034 ,  1.8630594 ]],\n",
       "\n",
       "       [[-0.36724913, -0.18613502,  1.9816843 ],\n",
       "        [-0.50641614, -0.20142047,  2.1800296 ],\n",
       "        [-0.81354344, -0.06894663,  2.352277  ],\n",
       "        ...,\n",
       "        [-1.610155  ,  0.5424711 ,  3.182196  ],\n",
       "        [-1.821305  ,  0.47623417,  2.947313  ],\n",
       "        [-1.9412766 ,  0.6290886 ,  2.5662813 ]]], dtype=float32)"
      ]
     },
     "execution_count": 38,
     "metadata": {},
     "output_type": "execute_result"
    }
   ],
   "source": [
    "train_dataset[1][0]"
   ]
  },
  {
   "cell_type": "code",
   "execution_count": 39,
   "metadata": {},
   "outputs": [
    {
     "name": "stdout",
     "output_type": "stream",
     "text": [
      "shape of training dataset 0: (17952, 100, 3)\n",
      "shape of training dataset 1: (17952, 100, 3)\n",
      "shape of training dataset 2: (17952, 100, 3)\n",
      "shape of training dataset 3: (17952, 100, 3)\n",
      "shape of training dataset 4: (17952, 100, 3)\n",
      "shape of training dataset 5: (17952, 100, 3)\n",
      "shape of training dataset 6: (17952, 100, 3)\n",
      "shape of training dataset 7: (17952, 100, 3)\n"
     ]
    }
   ],
   "source": [
    "# print the shape of all training datasets\n",
    "for j in range(8):\n",
    "    print(f\"shape of training dataset {j}: {train_dataset[j][0].shape}\")"
   ]
  },
  {
   "cell_type": "code",
   "execution_count": 40,
   "metadata": {},
   "outputs": [
    {
     "name": "stdout",
     "output_type": "stream",
     "text": [
      "Class distribution of training dataset 0: (array([0, 1]), array([8976, 8976], dtype=int64))\n",
      "Class distribution of training dataset 1: (array([0, 1]), array([8976, 8976], dtype=int64))\n",
      "Class distribution of training dataset 2: (array([0, 1]), array([8976, 8976], dtype=int64))\n",
      "Class distribution of training dataset 3: (array([0, 1]), array([8976, 8976], dtype=int64))\n",
      "Class distribution of training dataset 4: (array([0, 1]), array([8976, 8976], dtype=int64))\n",
      "Class distribution of training dataset 5: (array([0, 1]), array([8976, 8976], dtype=int64))\n",
      "Class distribution of training dataset 6: (array([0, 1]), array([8976, 8976], dtype=int64))\n",
      "Class distribution of training dataset 7: (array([0, 1]), array([8976, 8976], dtype=int64))\n"
     ]
    }
   ],
   "source": [
    "# print the class distribution of all training datasets\n",
    "for j in range(8):\n",
    "    print(f\"Class distribution of training dataset {j}: {np.unique(train_dataset[j][1], return_counts=True)}\")"
   ]
  },
  {
   "cell_type": "markdown",
   "metadata": {},
   "source": [
    "## Transform Testing Data"
   ]
  },
  {
   "cell_type": "code",
   "execution_count": 41,
   "metadata": {},
   "outputs": [],
   "source": [
    "# initialize lists to store datasets for test data\n",
    "test_dataset = [[] for _ in range(8)]\n",
    "\n",
    "# loop over all test data\n",
    "for data in test_window_data:\n",
    "    data_array = np.array(data, dtype=np.float32)\n",
    "    # loop over all transformations\n",
    "    for j in range(8):\n",
    "        # Original data with label 0\n",
    "        test_dataset[j].append((data_array, 0))\n",
    "        # Apply transformation based on j and save it in the transformed_data variable\n",
    "        if j == 0:\n",
    "            transformed_data = add_jitter(data_array)\n",
    "        elif j == 1:\n",
    "            transformed_data = scale_data(data_array)\n",
    "        elif j == 2:\n",
    "            transformed_data = rotate_data(data_array)\n",
    "        elif j == 3:\n",
    "            transformed_data = negate_data(data_array)\n",
    "        elif j == 4:\n",
    "            transformed_data = horizontal_flip(data_array)\n",
    "        elif j == 5:\n",
    "            transformed_data = permute_data(data_array)\n",
    "        elif j == 6:\n",
    "            transformed_data = time_warp(data_array)\n",
    "        elif j == 7:\n",
    "            transformed_data = shuffle_channels(data_array)\n",
    "        # Append the transformed data with label 1\n",
    "        transformed_data_array = np.array(transformed_data, dtype=np.float32)\n",
    "        test_dataset[j].append((transformed_data_array, 1))\n",
    "\n",
    "# check for inconsistent shapes\n",
    "for dataset in test_dataset:\n",
    "    shapes = set(tuple(d.shape) for d, _ in dataset)\n",
    "    if len(shapes) > 1:\n",
    "        print(\"Inconsistent shapes found in dataset:\", shapes)\n",
    "\n",
    "# Convert lists to numpy arrays\n",
    "for j in range(8):\n",
    "    data, labels = zip(*test_dataset[j])\n",
    "    data = np.array(data)\n",
    "    labels = np.array(labels)\n",
    "    test_dataset[j] = (data, labels)"
   ]
  },
  {
   "cell_type": "code",
   "execution_count": 42,
   "metadata": {},
   "outputs": [
    {
     "name": "stdout",
     "output_type": "stream",
     "text": [
      "shape of test dataset 0: (4502, 100, 3)\n",
      "shape of test dataset 1: (4502, 100, 3)\n",
      "shape of test dataset 2: (4502, 100, 3)\n",
      "shape of test dataset 3: (4502, 100, 3)\n",
      "shape of test dataset 4: (4502, 100, 3)\n",
      "shape of test dataset 5: (4502, 100, 3)\n",
      "shape of test dataset 6: (4502, 100, 3)\n",
      "shape of test dataset 7: (4502, 100, 3)\n"
     ]
    }
   ],
   "source": [
    "# print the shape of all test datasets\n",
    "for j in range(8):\n",
    "    print(f\"shape of test dataset {j}: {test_dataset[j][0].shape}\")"
   ]
  },
  {
   "cell_type": "code",
   "execution_count": 43,
   "metadata": {},
   "outputs": [
    {
     "name": "stdout",
     "output_type": "stream",
     "text": [
      "Class distribution of test dataset 0: (array([0, 1]), array([2251, 2251], dtype=int64))\n",
      "Class distribution of test dataset 1: (array([0, 1]), array([2251, 2251], dtype=int64))\n",
      "Class distribution of test dataset 2: (array([0, 1]), array([2251, 2251], dtype=int64))\n",
      "Class distribution of test dataset 3: (array([0, 1]), array([2251, 2251], dtype=int64))\n",
      "Class distribution of test dataset 4: (array([0, 1]), array([2251, 2251], dtype=int64))\n",
      "Class distribution of test dataset 5: (array([0, 1]), array([2251, 2251], dtype=int64))\n",
      "Class distribution of test dataset 6: (array([0, 1]), array([2251, 2251], dtype=int64))\n",
      "Class distribution of test dataset 7: (array([0, 1]), array([2251, 2251], dtype=int64))\n"
     ]
    }
   ],
   "source": [
    "# print the class distribution of all test datasets\n",
    "for j in range(8):\n",
    "    print(f\"Class distribution of test dataset {j}: {np.unique(test_dataset[j][1], return_counts=True)}\")"
   ]
  },
  {
   "cell_type": "markdown",
   "metadata": {},
   "source": [
    "# Create the Dataloader"
   ]
  },
  {
   "cell_type": "code",
   "execution_count": 44,
   "metadata": {},
   "outputs": [],
   "source": [
    "import torch\n",
    "from torch.utils.data import Dataset, DataLoader\n",
    "\n",
    "class CustomDataset(Dataset):\n",
    "    def __init__(self, data, labels):\n",
    "        # Convert data and labels to PyTorch tensors\n",
    "        self.data = torch.tensor(data, dtype=torch.float32)\n",
    "        self.labels = torch.tensor(labels, dtype=torch.long)  # Assuming labels are integers\n",
    "\n",
    "    def __len__(self):\n",
    "        return len(self.data)\n",
    "\n",
    "    def __getitem__(self, idx):\n",
    "        return self.data[idx], self.labels[idx]\n",
    "\n",
    "# Initialize DataLoader for each dataset\n",
    "train_loaders = []\n",
    "\n",
    "for j in range(8):\n",
    "    # Assuming train_dataset[j][0] is the data and train_dataset[j][1] are the labels\n",
    "    data, labels = train_dataset[j]\n",
    "    transformed_dataset = CustomDataset(data, labels)\n",
    "    train_loader = DataLoader(transformed_dataset, batch_size=batch_size, shuffle=True)\n",
    "    train_loaders.append(train_loader)"
   ]
  },
  {
   "cell_type": "code",
   "execution_count": 45,
   "metadata": {},
   "outputs": [],
   "source": [
    "# creating test loaders\n",
    "\n",
    "test_loaders = []\n",
    "for j in range(8):\n",
    "    test_data, test_labels = test_dataset[j]\n",
    "    test_transformed_dataset = CustomDataset(test_data, test_labels)\n",
    "    test_loader = DataLoader(test_transformed_dataset, batch_size=batch_size, shuffle=False)  # Usually, we don't shuffle test data\n",
    "    test_loaders.append(test_loader)"
   ]
  },
  {
   "cell_type": "markdown",
   "metadata": {},
   "source": [
    "# Model Architecture"
   ]
  },
  {
   "cell_type": "code",
   "execution_count": 46,
   "metadata": {},
   "outputs": [],
   "source": [
    "import torch\n",
    "import torch.nn as nn\n",
    "import torch.nn.functional as F\n",
    "\n",
    "# need to reshape and transpose the data to fit the input shape of the model\n",
    "\n",
    "class TPN(nn.Module):\n",
    "    def __init__(self):\n",
    "        super(TPN, self).__init__()\n",
    "        self.trunk = nn.Sequential(\n",
    "            nn.Conv1d(in_channels=3, out_channels=32, kernel_size=24, stride=1),\n",
    "            nn.ReLU(),\n",
    "            nn.Dropout(0.1),\n",
    "            nn.Conv1d(in_channels=32, out_channels=64, kernel_size=16, stride=1),\n",
    "            nn.ReLU(),\n",
    "            nn.Dropout(0.1),\n",
    "            nn.Conv1d(in_channels=64, out_channels=96, kernel_size=8, stride=1),\n",
    "            nn.ReLU(),\n",
    "            nn.Dropout(0.1),\n",
    "            nn.AdaptiveMaxPool1d(output_size=1)\n",
    "        )\n",
    "\n",
    "        self.heads = nn.ModuleList([\n",
    "            nn.Sequential(\n",
    "                nn.Linear(96, 256),\n",
    "                nn.ReLU(),\n",
    "                nn.Linear(256, 1),\n",
    "                nn.Sigmoid()\n",
    "            ) for _ in range(8)  # 8 heads for 8 different transformations\n",
    "        ])\n",
    "\n",
    "    def forward(self, x):\n",
    "        x = self.trunk(x)\n",
    "        x = x.view(x.size(0), -1)  # Flatten the output for the fully-connected layer\n",
    "        outputs = [head(x) for head in self.heads]\n",
    "        return outputs\n"
   ]
  },
  {
   "cell_type": "markdown",
   "metadata": {},
   "source": [
    "# Training"
   ]
  },
  {
   "cell_type": "code",
   "execution_count": 47,
   "metadata": {},
   "outputs": [],
   "source": [
    "# model = TPN()\n",
    "# optimizer = optim.Adam(model.parameters(), lr=0.0003)\n",
    "# criterion = nn.BCELoss()\n",
    "\n",
    "# # training loop\n",
    "# for epoch in range(30):\n",
    "#     print(f\"Epoch {epoch + 1}\")\n",
    "#     for j in range(8):\n",
    "#         train_loss = 0\n",
    "#         model.train()\n",
    "#         for i, (data, labels) in enumerate(train_loaders[j]):\n",
    "#             optimizer.zero_grad()\n",
    "#             outputs = model(data.transpose(1, 2))  # Transpose the data to fit the input shape of the model\n",
    "#             loss = criterion(outputs[j].squeeze(), labels.float())  # Squeeze the output of the model to fit the loss function\n",
    "#             loss.backward()\n",
    "#             optimizer.step()\n",
    "#             train_loss += loss.item()\n",
    "#         print(f\"Training loss of dataset {j}: {train_loss / len(train_loaders[j])}\")"
   ]
  },
  {
   "cell_type": "code",
   "execution_count": 48,
   "metadata": {},
   "outputs": [],
   "source": [
    "# model = TPN()\n",
    "# optimizer = Adam(model.parameters(), lr=0.0003)\n",
    "# criterion = nn.BCELoss()\n",
    "\n",
    "# # training loop\n",
    "# for epoch in range(num_epochs):\n",
    "#     print(f\"Epoch {epoch + 1}\")\n",
    "#     model.train()\n",
    "#     total_loss = 0\n",
    "\n",
    "#     for data, labels in train_loader:  # Assuming train_loader is a combined DataLoader for all tasks\n",
    "#         optimizer.zero_grad()\n",
    "#         outputs = model(data.transpose(1, 2))  # Transpose data to match the model's expected input shape\n",
    "#         print(f\"input shape: {data.transpose(1, 2).shape}\")\n",
    "#         print(f\"output length: {len(outputs)}\")\n",
    "#         print(f\"output shape: {outputs[0].shape}\")\n",
    "#         print(f\"label shape: {labels[j].shape}\")\n",
    "#         print(f\"labels: {labels[j]}\")\n",
    "#         loss = 0\n",
    "#         for j in range(8):  # Assuming 8 tasks\n",
    "#             task_loss = criterion(outputs[j].squeeze(), labels[j].float())\n",
    "#             loss += task_loss\n",
    "\n",
    "#         loss.backward()\n",
    "#         optimizer.step()\n",
    "#         total_loss += loss.item()\n",
    "\n",
    "#     avg_loss = total_loss / len(train_loader)\n",
    "#     print(f\"Average Training Loss: {avg_loss}\")\n"
   ]
  },
  {
   "cell_type": "code",
   "execution_count": 49,
   "metadata": {},
   "outputs": [],
   "source": [
    "# model = TPN()\n",
    "# optimizer = Adam(model.parameters(), lr=0.0003)\n",
    "# criterion = nn.BCELoss()\n",
    "\n",
    "# for epoch in range(num_epochs):\n",
    "#     print(f\"Epoch {epoch + 1}\")\n",
    "#     model.train()\n",
    "#     total_loss = 0\n",
    "\n",
    "#     # Assuming all DataLoader have the same length\n",
    "#     for batch in zip(*train_loaders):\n",
    "#         optimizer.zero_grad()\n",
    "#         loss = 0\n",
    "\n",
    "#         for j, (data, labels) in enumerate(batch):\n",
    "#             data = data.transpose(1, 2)  # Transpose to match input shape\n",
    "#             outputs = model(data)\n",
    "#             task_loss = criterion(outputs[j].squeeze(), labels.float())\n",
    "#             loss += task_loss\n",
    "\n",
    "#         loss.backward()\n",
    "#         optimizer.step()\n",
    "#         total_loss += loss.item()\n",
    "\n",
    "#     avg_loss = total_loss / len(train_loaders[0])  # Average over batches\n",
    "#     print(f\"Average Training Loss: {avg_loss}\")\n"
   ]
  },
  {
   "cell_type": "code",
   "execution_count": 50,
   "metadata": {},
   "outputs": [
    {
     "name": "stdout",
     "output_type": "stream",
     "text": [
      "Epoch 1\n",
      "Average Training Loss: 4.231698088798659\n",
      "Average Validation Loss: 0.7221342602246245\n",
      "Epoch 2\n",
      "Average Training Loss: 3.3938948980854073\n",
      "Average Validation Loss: 0.6741924504159202\n",
      "Epoch 3\n",
      "Average Training Loss: 3.222850152181985\n",
      "Average Validation Loss: 0.6776066926163686\n",
      "Epoch 4\n",
      "Average Training Loss: 3.1367480152442364\n",
      "Average Validation Loss: 0.6851188792309291\n",
      "Epoch 5\n",
      "Average Training Loss: 3.0761950525100543\n",
      "Average Validation Loss: 0.6709481620452773\n",
      "Epoch 6\n",
      "Average Training Loss: 3.0403219652345594\n",
      "Average Validation Loss: 0.6652392921313434\n",
      "Epoch 7\n",
      "Average Training Loss: 3.003853150534036\n",
      "Average Validation Loss: 0.6602110081995037\n",
      "Epoch 8\n",
      "Average Training Loss: 2.9832617082629764\n",
      "Average Validation Loss: 0.6531092474158381\n",
      "Epoch 9\n",
      "Average Training Loss: 2.952975748272553\n",
      "Average Validation Loss: 0.654988662457802\n",
      "Epoch 10\n",
      "Average Training Loss: 2.9339883853532243\n",
      "Average Validation Loss: 0.6538829241000431\n",
      "Epoch 11\n",
      "Average Training Loss: 2.914205585086049\n",
      "Average Validation Loss: 0.665043831711084\n",
      "Epoch 12\n",
      "Average Training Loss: 2.8819654844833864\n",
      "Average Validation Loss: 0.6465613548184784\n",
      "Epoch 13\n",
      "Average Training Loss: 2.877378655498138\n",
      "Average Validation Loss: 0.6474091133601229\n",
      "Epoch 14\n",
      "Average Training Loss: 2.8562095309491684\n",
      "Average Validation Loss: 0.6426994128965996\n",
      "Epoch 15\n",
      "Average Training Loss: 2.852086541491471\n",
      "Average Validation Loss: 0.6391120141660663\n",
      "Epoch 16\n",
      "Average Training Loss: 2.8278984378665366\n",
      "Average Validation Loss: 0.6339588929230059\n",
      "Epoch 17\n",
      "Average Training Loss: 2.8180536205658284\n",
      "Average Validation Loss: 0.6343345474189436\n",
      "Epoch 18\n",
      "Average Training Loss: 2.8030349368302425\n",
      "Average Validation Loss: 0.6281346695523866\n",
      "Epoch 19\n",
      "Average Training Loss: 2.776897974285791\n",
      "Average Validation Loss: 0.6310107901062764\n",
      "Epoch 20\n",
      "Average Training Loss: 2.776900391561705\n",
      "Average Validation Loss: 0.6376723395267003\n",
      "Epoch 21\n",
      "Average Training Loss: 2.7602590369160067\n",
      "Average Validation Loss: 0.6287341797855538\n",
      "Epoch 22\n",
      "Average Training Loss: 2.752394912081681\n",
      "Average Validation Loss: 0.6230884454619716\n",
      "Epoch 23\n",
      "Average Training Loss: 2.738264391854989\n",
      "Average Validation Loss: 0.6230126350698336\n",
      "Epoch 24\n",
      "Average Training Loss: 2.722814583693535\n",
      "Average Validation Loss: 0.620822826741447\n",
      "Epoch 25\n",
      "Average Training Loss: 2.707770746373621\n",
      "Average Validation Loss: 0.6178270653939583\n",
      "Epoch 26\n",
      "Average Training Loss: 2.702543505570218\n",
      "Average Validation Loss: 0.616226634509127\n",
      "Epoch 27\n",
      "Average Training Loss: 2.7003546541695918\n",
      "Average Validation Loss: 0.6268849666689483\n",
      "Epoch 28\n",
      "Average Training Loss: 2.672606361294132\n",
      "Average Validation Loss: 0.6215463406603101\n",
      "Epoch 29\n",
      "Average Training Loss: 2.6623741748918417\n",
      "Average Validation Loss: 0.6213187025466436\n",
      "Epoch 30\n",
      "Average Training Loss: 2.657651055325817\n",
      "Average Validation Loss: 0.6258598591240359\n"
     ]
    }
   ],
   "source": [
    "import torch.optim as optim\n",
    "import numpy as np\n",
    "\n",
    "model = TPN().to(device)\n",
    "optimizer = optim.Adam(model.parameters(), lr=0.0003, weight_decay=0.0001)\n",
    "criterion = nn.BCELoss()\n",
    "\n",
    "# Early stopping parameters\n",
    "patience = 5  # Number of epochs to wait for improvement before stopping\n",
    "min_delta = 0.001  # Minimum change to qualify as an improvement\n",
    "best_loss = np.inf  # Initialize best loss to infinity\n",
    "counter = 0  # Initialize counter for early stopping\n",
    "\n",
    "for epoch in range(num_epochs):\n",
    "    print(f\"Epoch {epoch + 1}\")\n",
    "    model.train()\n",
    "    total_loss = 0\n",
    "\n",
    "    for batch in zip(*train_loaders):\n",
    "        optimizer.zero_grad()\n",
    "        loss = 0\n",
    "\n",
    "        for j, (data, labels) in enumerate(batch):\n",
    "            data = data.transpose(1, 2)  # Transpose to match input shape\n",
    "            data = data.to(device)\n",
    "            labels = labels.to(device)\n",
    "            outputs = model(data)\n",
    "            task_loss = criterion(outputs[j].squeeze(), labels.float())\n",
    "            loss += task_loss\n",
    "\n",
    "        loss.backward()\n",
    "        optimizer.step()\n",
    "        total_loss += loss.item()\n",
    "\n",
    "    avg_loss = total_loss / len(train_loaders[0])\n",
    "    print(f\"Average Training Loss: {avg_loss}\")\n",
    "\n",
    "    # Validation phase\n",
    "    model.eval()\n",
    "    validation_loss = 0\n",
    "    with torch.no_grad():\n",
    "        for data, labels in test_loader:\n",
    "            data = data.transpose(1, 2)\n",
    "            data = data.to(device)\n",
    "            labels = labels.to(device)\n",
    "            outputs = model(data)\n",
    "            val_loss = criterion(outputs[0].squeeze(), labels.float())  # Assuming single task validation\n",
    "            validation_loss += val_loss.item()\n",
    "\n",
    "    avg_val_loss = validation_loss / len(test_loader)\n",
    "    print(f\"Average Validation Loss: {avg_val_loss}\")\n",
    "\n",
    "    # Early stopping check\n",
    "    if best_loss - avg_val_loss > min_delta:\n",
    "        best_loss = avg_val_loss\n",
    "        counter = 0  # Reset counter if validation loss improved\n",
    "    else:\n",
    "        counter += 1  # Increment counter if no improvement\n",
    "        if counter >= patience:\n",
    "            print(f\"Early stopping triggered after {epoch + 1} epochs.\")\n",
    "            break  # Stop training if no improvement for 'patience' consecutive epochs"
   ]
  },
  {
   "cell_type": "markdown",
   "metadata": {},
   "source": [
    "# Testing"
   ]
  },
  {
   "cell_type": "code",
   "execution_count": 51,
   "metadata": {},
   "outputs": [
    {
     "name": "stdout",
     "output_type": "stream",
     "text": [
      "Task 0 - Accuracy: 0.5370946246112839, F1-Score: 0.5370946246112839\n",
      "Task 1 - Accuracy: 0.9153709462461128, F1-Score: 0.9091775923718712\n",
      "Task 2 - Accuracy: 0.9946690359840071, F1-Score: 0.9946690359840071\n",
      "Task 3 - Accuracy: 0.9946690359840071, F1-Score: 0.9946690359840071\n",
      "Task 4 - Accuracy: 0.7072412261217237, F1-Score: 0.727798430400661\n",
      "Task 5 - Accuracy: 0.7159040426477121, F1-Score: 0.6882768705825006\n",
      "Task 6 - Accuracy: 0.5944024877832075, F1-Score: 0.5379554655870445\n",
      "Task 7 - Accuracy: 0.8636161705908485, F1-Score: 0.85068093385214\n",
      "Average Accuracy: 0.7903709462461128, Average F1-Score: 0.7800402486716894\n"
     ]
    }
   ],
   "source": [
    "import torch\n",
    "from sklearn.metrics import accuracy_score, f1_score\n",
    "\n",
    "model.eval()  # Set the model to evaluation mode\n",
    "\n",
    "# Initialize lists to store metrics for each task\n",
    "accuracies = []\n",
    "f1_scores = []\n",
    "\n",
    "with torch.no_grad():  # No need to track gradients during evaluation\n",
    "    for j, test_loader in enumerate(test_loaders):\n",
    "        all_labels = []\n",
    "        all_predictions = []\n",
    "\n",
    "        for data, labels in test_loader:\n",
    "            data = data.transpose(1, 2)  # Transpose data if necessary\n",
    "            data = data.to(device)\n",
    "            labels = labels.to(device)\n",
    "            outputs = model(data)\n",
    "            predictions = torch.round(outputs[j].squeeze())  # Convert to binary predictions\n",
    "\n",
    "            all_labels.extend(labels.cpu().numpy())\n",
    "            all_predictions.extend(predictions.cpu().numpy())\n",
    "\n",
    "        # Calculate metrics for the current task\n",
    "        acc = accuracy_score(all_labels, all_predictions)\n",
    "        f1 = f1_score(all_labels, all_predictions, average='binary')\n",
    "\n",
    "        accuracies.append(acc)\n",
    "        f1_scores.append(f1)\n",
    "\n",
    "        print(f\"Task {j} - Accuracy: {acc}, F1-Score: {f1}\")\n",
    "\n",
    "# You can also calculate the average metrics across tasks, if needed\n",
    "avg_accuracy = sum(accuracies) / len(accuracies)\n",
    "avg_f1_score = sum(f1_scores) / len(f1_scores)\n",
    "print(f\"Average Accuracy: {avg_accuracy}, Average F1-Score: {avg_f1_score}\")"
   ]
  },
  {
   "cell_type": "code",
   "execution_count": 52,
   "metadata": {},
   "outputs": [],
   "source": [
    "# 20 epoch; Average Accuracy: 0.8046596975088968, Average F1-Score: 0.7754674519258395\n",
    "# 30 epoch; Average Accuracy: 0.8065502669039145, Average F1-Score: 0.7555106030018032\n",
    "# 30 epoch, 2 sec window; Average Accuracy: 0.7903709462461128, Average F1-Score: 0.7800402486716894"
   ]
  },
  {
   "cell_type": "code",
   "execution_count": 54,
   "metadata": {},
   "outputs": [],
   "source": [
    "# save the model\n",
    "torch.save(model.state_dict(), './multitask/tpn_30_epoch_regularized_2.pt')"
   ]
  }
 ],
 "metadata": {
  "kernelspec": {
   "display_name": "Python 3",
   "language": "python",
   "name": "python3"
  },
  "language_info": {
   "codemirror_mode": {
    "name": "ipython",
    "version": 3
   },
   "file_extension": ".py",
   "mimetype": "text/x-python",
   "name": "python",
   "nbconvert_exporter": "python",
   "pygments_lexer": "ipython3",
   "version": "3.10.13"
  }
 },
 "nbformat": 4,
 "nbformat_minor": 2
}
