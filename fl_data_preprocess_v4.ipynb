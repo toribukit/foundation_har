{
 "cells": [
  {
   "cell_type": "markdown",
   "metadata": {},
   "source": [
    "# Setup"
   ]
  },
  {
   "cell_type": "markdown",
   "metadata": {},
   "source": [
    "version 3: using UCI HAR Dataset without HHAR"
   ]
  },
  {
   "cell_type": "code",
   "execution_count": 1,
   "metadata": {},
   "outputs": [],
   "source": [
    "# import libraries\n",
    "import os\n",
    "import sys\n",
    "import time\n",
    "import pandas as pd\n",
    "import numpy as np\n",
    "from scipy import stats\n",
    "from scipy.interpolate import CubicSpline\n",
    "import torch.optim as optim\n",
    "import torch.nn as nn\n",
    "import torch\n",
    "from torch.optim import Adam\n",
    "from scipy.fftpack import fft, ifft\n",
    "from scipy.stats import mode\n",
    "import matplotlib.pyplot as plt\n",
    "from matplotlib.ticker import MaxNLocator"
   ]
  },
  {
   "cell_type": "markdown",
   "metadata": {},
   "source": [
    "## Hyperparameter"
   ]
  },
  {
   "cell_type": "code",
   "execution_count": 2,
   "metadata": {},
   "outputs": [],
   "source": [
    "num_epochs = 200\n",
    "batch_size = 64  # Set your batch size\n",
    "learning_rate = 0.001\n",
    "\n",
    "device = torch.device(\"cuda:0\" if torch.cuda.is_available() else \"cpu\")"
   ]
  },
  {
   "cell_type": "code",
   "execution_count": 3,
   "metadata": {},
   "outputs": [],
   "source": [
    "# set the seed\n",
    "torch.manual_seed(420)\n",
    "np.random.seed(420)\n"
   ]
  },
  {
   "cell_type": "markdown",
   "metadata": {},
   "source": [
    "# Data Loading"
   ]
  },
  {
   "cell_type": "markdown",
   "metadata": {},
   "source": [
    "## SBHAR"
   ]
  },
  {
   "cell_type": "code",
   "execution_count": 4,
   "metadata": {},
   "outputs": [
    {
     "data": {
      "text/html": [
       "<div>\n",
       "<style scoped>\n",
       "    .dataframe tbody tr th:only-of-type {\n",
       "        vertical-align: middle;\n",
       "    }\n",
       "\n",
       "    .dataframe tbody tr th {\n",
       "        vertical-align: top;\n",
       "    }\n",
       "\n",
       "    .dataframe thead th {\n",
       "        text-align: right;\n",
       "    }\n",
       "</style>\n",
       "<table border=\"1\" class=\"dataframe\">\n",
       "  <thead>\n",
       "    <tr style=\"text-align: right;\">\n",
       "      <th></th>\n",
       "      <th>subject_id</th>\n",
       "      <th>acc_x</th>\n",
       "      <th>acc_y</th>\n",
       "      <th>acc_z</th>\n",
       "      <th>activity</th>\n",
       "    </tr>\n",
       "  </thead>\n",
       "  <tbody>\n",
       "    <tr>\n",
       "      <th>0</th>\n",
       "      <td>0</td>\n",
       "      <td>0.443056</td>\n",
       "      <td>0.037500</td>\n",
       "      <td>0.888889</td>\n",
       "      <td>null_class</td>\n",
       "    </tr>\n",
       "    <tr>\n",
       "      <th>1</th>\n",
       "      <td>0</td>\n",
       "      <td>0.440278</td>\n",
       "      <td>0.041667</td>\n",
       "      <td>0.880556</td>\n",
       "      <td>null_class</td>\n",
       "    </tr>\n",
       "    <tr>\n",
       "      <th>2</th>\n",
       "      <td>0</td>\n",
       "      <td>0.451389</td>\n",
       "      <td>0.043056</td>\n",
       "      <td>0.876389</td>\n",
       "      <td>null_class</td>\n",
       "    </tr>\n",
       "    <tr>\n",
       "      <th>3</th>\n",
       "      <td>0</td>\n",
       "      <td>0.456944</td>\n",
       "      <td>0.034722</td>\n",
       "      <td>0.888889</td>\n",
       "      <td>null_class</td>\n",
       "    </tr>\n",
       "    <tr>\n",
       "      <th>4</th>\n",
       "      <td>0</td>\n",
       "      <td>0.447222</td>\n",
       "      <td>0.036111</td>\n",
       "      <td>0.888889</td>\n",
       "      <td>null_class</td>\n",
       "    </tr>\n",
       "    <tr>\n",
       "      <th>...</th>\n",
       "      <td>...</td>\n",
       "      <td>...</td>\n",
       "      <td>...</td>\n",
       "      <td>...</td>\n",
       "      <td>...</td>\n",
       "    </tr>\n",
       "    <tr>\n",
       "      <th>1122767</th>\n",
       "      <td>29</td>\n",
       "      <td>0.430556</td>\n",
       "      <td>0.501389</td>\n",
       "      <td>0.923611</td>\n",
       "      <td>null_class</td>\n",
       "    </tr>\n",
       "    <tr>\n",
       "      <th>1122768</th>\n",
       "      <td>29</td>\n",
       "      <td>0.430556</td>\n",
       "      <td>0.501389</td>\n",
       "      <td>0.923611</td>\n",
       "      <td>null_class</td>\n",
       "    </tr>\n",
       "    <tr>\n",
       "      <th>1122769</th>\n",
       "      <td>29</td>\n",
       "      <td>0.473611</td>\n",
       "      <td>0.493056</td>\n",
       "      <td>0.906944</td>\n",
       "      <td>null_class</td>\n",
       "    </tr>\n",
       "    <tr>\n",
       "      <th>1122770</th>\n",
       "      <td>29</td>\n",
       "      <td>0.472222</td>\n",
       "      <td>0.502778</td>\n",
       "      <td>0.884722</td>\n",
       "      <td>null_class</td>\n",
       "    </tr>\n",
       "    <tr>\n",
       "      <th>1122771</th>\n",
       "      <td>29</td>\n",
       "      <td>0.476389</td>\n",
       "      <td>0.484722</td>\n",
       "      <td>0.788889</td>\n",
       "      <td>null_class</td>\n",
       "    </tr>\n",
       "  </tbody>\n",
       "</table>\n",
       "<p>1122772 rows × 5 columns</p>\n",
       "</div>"
      ],
      "text/plain": [
       "         subject_id     acc_x     acc_y     acc_z    activity\n",
       "0                 0  0.443056  0.037500  0.888889  null_class\n",
       "1                 0  0.440278  0.041667  0.880556  null_class\n",
       "2                 0  0.451389  0.043056  0.876389  null_class\n",
       "3                 0  0.456944  0.034722  0.888889  null_class\n",
       "4                 0  0.447222  0.036111  0.888889  null_class\n",
       "...             ...       ...       ...       ...         ...\n",
       "1122767          29  0.430556  0.501389  0.923611  null_class\n",
       "1122768          29  0.430556  0.501389  0.923611  null_class\n",
       "1122769          29  0.473611  0.493056  0.906944  null_class\n",
       "1122770          29  0.472222  0.502778  0.884722  null_class\n",
       "1122771          29  0.476389  0.484722  0.788889  null_class\n",
       "\n",
       "[1122772 rows x 5 columns]"
      ]
     },
     "execution_count": 4,
     "metadata": {},
     "output_type": "execute_result"
    }
   ],
   "source": [
    "#load dataset without header\n",
    "data_sbhar = pd.read_csv('./ISWC21_data_plus_raw/sbhar_data.csv', header=None)\n",
    "# add header\n",
    "data_sbhar.columns = ['subject_id', 'acc_x', 'acc_y', 'acc_z', 'activity']\n",
    "data_sbhar"
   ]
  },
  {
   "cell_type": "markdown",
   "metadata": {},
   "source": [
    "### Data Preprocessed"
   ]
  },
  {
   "cell_type": "code",
   "execution_count": 5,
   "metadata": {},
   "outputs": [
    {
     "data": {
      "text/html": [
       "<div>\n",
       "<style scoped>\n",
       "    .dataframe tbody tr th:only-of-type {\n",
       "        vertical-align: middle;\n",
       "    }\n",
       "\n",
       "    .dataframe tbody tr th {\n",
       "        vertical-align: top;\n",
       "    }\n",
       "\n",
       "    .dataframe thead th {\n",
       "        text-align: right;\n",
       "    }\n",
       "</style>\n",
       "<table border=\"1\" class=\"dataframe\">\n",
       "  <thead>\n",
       "    <tr style=\"text-align: right;\">\n",
       "      <th></th>\n",
       "      <th>subject_id</th>\n",
       "      <th>acc_x</th>\n",
       "      <th>acc_y</th>\n",
       "      <th>acc_z</th>\n",
       "      <th>activity</th>\n",
       "    </tr>\n",
       "  </thead>\n",
       "  <tbody>\n",
       "    <tr>\n",
       "      <th>251</th>\n",
       "      <td>0</td>\n",
       "      <td>0.990278</td>\n",
       "      <td>-0.337500</td>\n",
       "      <td>0.022222</td>\n",
       "      <td>standing</td>\n",
       "    </tr>\n",
       "    <tr>\n",
       "      <th>252</th>\n",
       "      <td>0</td>\n",
       "      <td>0.986111</td>\n",
       "      <td>-0.340278</td>\n",
       "      <td>0.012500</td>\n",
       "      <td>standing</td>\n",
       "    </tr>\n",
       "    <tr>\n",
       "      <th>253</th>\n",
       "      <td>0</td>\n",
       "      <td>0.987500</td>\n",
       "      <td>-0.333333</td>\n",
       "      <td>0.011111</td>\n",
       "      <td>standing</td>\n",
       "    </tr>\n",
       "    <tr>\n",
       "      <th>254</th>\n",
       "      <td>0</td>\n",
       "      <td>0.988889</td>\n",
       "      <td>-0.327778</td>\n",
       "      <td>0.012500</td>\n",
       "      <td>standing</td>\n",
       "    </tr>\n",
       "    <tr>\n",
       "      <th>255</th>\n",
       "      <td>0</td>\n",
       "      <td>0.986111</td>\n",
       "      <td>-0.333333</td>\n",
       "      <td>0.009722</td>\n",
       "      <td>standing</td>\n",
       "    </tr>\n",
       "    <tr>\n",
       "      <th>...</th>\n",
       "      <td>...</td>\n",
       "      <td>...</td>\n",
       "      <td>...</td>\n",
       "      <td>...</td>\n",
       "      <td>...</td>\n",
       "    </tr>\n",
       "    <tr>\n",
       "      <th>1121783</th>\n",
       "      <td>29</td>\n",
       "      <td>0.880556</td>\n",
       "      <td>-0.390278</td>\n",
       "      <td>-0.156944</td>\n",
       "      <td>walking_upstairs</td>\n",
       "    </tr>\n",
       "    <tr>\n",
       "      <th>1121784</th>\n",
       "      <td>29</td>\n",
       "      <td>0.834722</td>\n",
       "      <td>-0.358333</td>\n",
       "      <td>-0.098611</td>\n",
       "      <td>walking_upstairs</td>\n",
       "    </tr>\n",
       "    <tr>\n",
       "      <th>1121785</th>\n",
       "      <td>29</td>\n",
       "      <td>0.802778</td>\n",
       "      <td>-0.329167</td>\n",
       "      <td>-0.104167</td>\n",
       "      <td>walking_upstairs</td>\n",
       "    </tr>\n",
       "    <tr>\n",
       "      <th>1121786</th>\n",
       "      <td>29</td>\n",
       "      <td>0.770833</td>\n",
       "      <td>-0.287500</td>\n",
       "      <td>-0.098611</td>\n",
       "      <td>walking_upstairs</td>\n",
       "    </tr>\n",
       "    <tr>\n",
       "      <th>1121787</th>\n",
       "      <td>29</td>\n",
       "      <td>0.718056</td>\n",
       "      <td>-0.268056</td>\n",
       "      <td>-0.055556</td>\n",
       "      <td>walking_upstairs</td>\n",
       "    </tr>\n",
       "  </tbody>\n",
       "</table>\n",
       "<p>815614 rows × 5 columns</p>\n",
       "</div>"
      ],
      "text/plain": [
       "         subject_id     acc_x     acc_y     acc_z          activity\n",
       "251               0  0.990278 -0.337500  0.022222          standing\n",
       "252               0  0.986111 -0.340278  0.012500          standing\n",
       "253               0  0.987500 -0.333333  0.011111          standing\n",
       "254               0  0.988889 -0.327778  0.012500          standing\n",
       "255               0  0.986111 -0.333333  0.009722          standing\n",
       "...             ...       ...       ...       ...               ...\n",
       "1121783          29  0.880556 -0.390278 -0.156944  walking_upstairs\n",
       "1121784          29  0.834722 -0.358333 -0.098611  walking_upstairs\n",
       "1121785          29  0.802778 -0.329167 -0.104167  walking_upstairs\n",
       "1121786          29  0.770833 -0.287500 -0.098611  walking_upstairs\n",
       "1121787          29  0.718056 -0.268056 -0.055556  walking_upstairs\n",
       "\n",
       "[815614 rows x 5 columns]"
      ]
     },
     "execution_count": 5,
     "metadata": {},
     "output_type": "execute_result"
    }
   ],
   "source": [
    "# drop activity with 'null_class'\n",
    "data_sbhar = data_sbhar[data_sbhar['activity'] != 'null_class']\n",
    "data_sbhar"
   ]
  },
  {
   "cell_type": "code",
   "execution_count": 6,
   "metadata": {},
   "outputs": [
    {
     "data": {
      "text/plain": [
       "subject_id    0\n",
       "acc_x         0\n",
       "acc_y         0\n",
       "acc_z         0\n",
       "activity      0\n",
       "dtype: int64"
      ]
     },
     "execution_count": 6,
     "metadata": {},
     "output_type": "execute_result"
    }
   ],
   "source": [
    "# check for missing values\n",
    "data_sbhar.isnull().sum()"
   ]
  },
  {
   "cell_type": "code",
   "execution_count": 7,
   "metadata": {},
   "outputs": [
    {
     "name": "stdout",
     "output_type": "stream",
     "text": [
      "30\n"
     ]
    }
   ],
   "source": [
    "# print count of unique subjects\n",
    "print(data_sbhar['subject_id'].nunique())"
   ]
  },
  {
   "cell_type": "code",
   "execution_count": 8,
   "metadata": {},
   "outputs": [
    {
     "name": "stdout",
     "output_type": "stream",
     "text": [
      "12\n"
     ]
    }
   ],
   "source": [
    "# print count of unique activities\n",
    "print(data_sbhar['activity'].nunique())"
   ]
  },
  {
   "cell_type": "code",
   "execution_count": 9,
   "metadata": {},
   "outputs": [
    {
     "data": {
      "text/plain": [
       "array(['standing', 'stand-to-sit', 'sitting', 'sit-to-stand',\n",
       "       'stand-to-lie', 'lying', 'lie-to-sit', 'sit-to-lie',\n",
       "       'lie-to-stand', 'walking', 'walking_downstairs',\n",
       "       'walking_upstairs'], dtype=object)"
      ]
     },
     "execution_count": 9,
     "metadata": {},
     "output_type": "execute_result"
    }
   ],
   "source": [
    "data_sbhar['activity'].unique()"
   ]
  },
  {
   "cell_type": "code",
   "execution_count": 10,
   "metadata": {},
   "outputs": [],
   "source": [
    "# replace activity with a number\n",
    "activity_dict = {\n",
    "    'standing':1,\n",
    "    'sitting':2,\n",
    "    'lying':3,\n",
    "    'walking':4,\n",
    "    'walking_downstairs':5,\n",
    "    'walking_upstairs':6,\n",
    "    'stand-to-sit': 10,\n",
    "    'sit-to-stand': 11,\n",
    "    'sit-to-lie': 12,\n",
    "    'lie-to-sit': 13,\n",
    "    'stand-to-lie': 14,\n",
    "    'lie-to-stand': 15,\n",
    "}\n",
    "data_sbhar = data_sbhar.replace({\"activity\": activity_dict})"
   ]
  },
  {
   "cell_type": "code",
   "execution_count": 11,
   "metadata": {},
   "outputs": [
    {
     "name": "stdout",
     "output_type": "stream",
     "text": [
      "[ 1 10  2 11 14  3 13 12 15  4  5  6]\n"
     ]
    }
   ],
   "source": [
    "print(data_sbhar['activity'].unique())"
   ]
  },
  {
   "cell_type": "code",
   "execution_count": 12,
   "metadata": {},
   "outputs": [],
   "source": [
    "data_sbhar = data_sbhar[data_sbhar['activity'] != 10]\n",
    "data_sbhar = data_sbhar[data_sbhar['activity'] != 11]\n",
    "data_sbhar = data_sbhar[data_sbhar['activity'] != 12]\n",
    "data_sbhar = data_sbhar[data_sbhar['activity'] != 13]\n",
    "data_sbhar = data_sbhar[data_sbhar['activity'] != 14]\n",
    "data_sbhar = data_sbhar[data_sbhar['activity'] != 15]"
   ]
  },
  {
   "cell_type": "code",
   "execution_count": 13,
   "metadata": {},
   "outputs": [
    {
     "data": {
      "text/plain": [
       "activity\n",
       "1    138105\n",
       "3    136865\n",
       "2    126677\n",
       "4    122091\n",
       "6    116707\n",
       "5    107961\n",
       "Name: count, dtype: int64"
      ]
     },
     "execution_count": 13,
     "metadata": {},
     "output_type": "execute_result"
    }
   ],
   "source": [
    "data_sbhar['activity'].value_counts()"
   ]
  },
  {
   "cell_type": "code",
   "execution_count": 14,
   "metadata": {},
   "outputs": [
    {
     "data": {
      "text/html": [
       "<div>\n",
       "<style scoped>\n",
       "    .dataframe tbody tr th:only-of-type {\n",
       "        vertical-align: middle;\n",
       "    }\n",
       "\n",
       "    .dataframe tbody tr th {\n",
       "        vertical-align: top;\n",
       "    }\n",
       "\n",
       "    .dataframe thead th {\n",
       "        text-align: right;\n",
       "    }\n",
       "</style>\n",
       "<table border=\"1\" class=\"dataframe\">\n",
       "  <thead>\n",
       "    <tr style=\"text-align: right;\">\n",
       "      <th></th>\n",
       "      <th>subject_id</th>\n",
       "      <th>acc_x</th>\n",
       "      <th>acc_y</th>\n",
       "      <th>acc_z</th>\n",
       "      <th>activity</th>\n",
       "    </tr>\n",
       "  </thead>\n",
       "  <tbody>\n",
       "    <tr>\n",
       "      <th>251</th>\n",
       "      <td>0</td>\n",
       "      <td>0.990278</td>\n",
       "      <td>-0.337500</td>\n",
       "      <td>0.022222</td>\n",
       "      <td>1</td>\n",
       "    </tr>\n",
       "    <tr>\n",
       "      <th>252</th>\n",
       "      <td>0</td>\n",
       "      <td>0.986111</td>\n",
       "      <td>-0.340278</td>\n",
       "      <td>0.012500</td>\n",
       "      <td>1</td>\n",
       "    </tr>\n",
       "    <tr>\n",
       "      <th>253</th>\n",
       "      <td>0</td>\n",
       "      <td>0.987500</td>\n",
       "      <td>-0.333333</td>\n",
       "      <td>0.011111</td>\n",
       "      <td>1</td>\n",
       "    </tr>\n",
       "    <tr>\n",
       "      <th>254</th>\n",
       "      <td>0</td>\n",
       "      <td>0.988889</td>\n",
       "      <td>-0.327778</td>\n",
       "      <td>0.012500</td>\n",
       "      <td>1</td>\n",
       "    </tr>\n",
       "    <tr>\n",
       "      <th>255</th>\n",
       "      <td>0</td>\n",
       "      <td>0.986111</td>\n",
       "      <td>-0.333333</td>\n",
       "      <td>0.009722</td>\n",
       "      <td>1</td>\n",
       "    </tr>\n",
       "    <tr>\n",
       "      <th>...</th>\n",
       "      <td>...</td>\n",
       "      <td>...</td>\n",
       "      <td>...</td>\n",
       "      <td>...</td>\n",
       "      <td>...</td>\n",
       "    </tr>\n",
       "    <tr>\n",
       "      <th>1121783</th>\n",
       "      <td>29</td>\n",
       "      <td>0.880556</td>\n",
       "      <td>-0.390278</td>\n",
       "      <td>-0.156944</td>\n",
       "      <td>6</td>\n",
       "    </tr>\n",
       "    <tr>\n",
       "      <th>1121784</th>\n",
       "      <td>29</td>\n",
       "      <td>0.834722</td>\n",
       "      <td>-0.358333</td>\n",
       "      <td>-0.098611</td>\n",
       "      <td>6</td>\n",
       "    </tr>\n",
       "    <tr>\n",
       "      <th>1121785</th>\n",
       "      <td>29</td>\n",
       "      <td>0.802778</td>\n",
       "      <td>-0.329167</td>\n",
       "      <td>-0.104167</td>\n",
       "      <td>6</td>\n",
       "    </tr>\n",
       "    <tr>\n",
       "      <th>1121786</th>\n",
       "      <td>29</td>\n",
       "      <td>0.770833</td>\n",
       "      <td>-0.287500</td>\n",
       "      <td>-0.098611</td>\n",
       "      <td>6</td>\n",
       "    </tr>\n",
       "    <tr>\n",
       "      <th>1121787</th>\n",
       "      <td>29</td>\n",
       "      <td>0.718056</td>\n",
       "      <td>-0.268056</td>\n",
       "      <td>-0.055556</td>\n",
       "      <td>6</td>\n",
       "    </tr>\n",
       "  </tbody>\n",
       "</table>\n",
       "<p>748406 rows × 5 columns</p>\n",
       "</div>"
      ],
      "text/plain": [
       "         subject_id     acc_x     acc_y     acc_z  activity\n",
       "251               0  0.990278 -0.337500  0.022222         1\n",
       "252               0  0.986111 -0.340278  0.012500         1\n",
       "253               0  0.987500 -0.333333  0.011111         1\n",
       "254               0  0.988889 -0.327778  0.012500         1\n",
       "255               0  0.986111 -0.333333  0.009722         1\n",
       "...             ...       ...       ...       ...       ...\n",
       "1121783          29  0.880556 -0.390278 -0.156944         6\n",
       "1121784          29  0.834722 -0.358333 -0.098611         6\n",
       "1121785          29  0.802778 -0.329167 -0.104167         6\n",
       "1121786          29  0.770833 -0.287500 -0.098611         6\n",
       "1121787          29  0.718056 -0.268056 -0.055556         6\n",
       "\n",
       "[748406 rows x 5 columns]"
      ]
     },
     "execution_count": 14,
     "metadata": {},
     "output_type": "execute_result"
    }
   ],
   "source": [
    "data_sbhar"
   ]
  },
  {
   "cell_type": "code",
   "execution_count": 15,
   "metadata": {},
   "outputs": [
    {
     "name": "stdout",
     "output_type": "stream",
     "text": [
      "[ 0  1  2  3  4  5  6  7  8  9 10 11 12 13 14 15 16 17 18 19 20 21 22 23\n",
      " 24 25 26 27 28 29]\n"
     ]
    }
   ],
   "source": [
    "print(data_sbhar['subject_id'].unique())"
   ]
  },
  {
   "cell_type": "code",
   "execution_count": 16,
   "metadata": {},
   "outputs": [
    {
     "name": "stdout",
     "output_type": "stream",
     "text": [
      "30\n"
     ]
    }
   ],
   "source": [
    "# print count of unique subjects\n",
    "print(data_sbhar['subject_id'].nunique())"
   ]
  },
  {
   "cell_type": "code",
   "execution_count": 17,
   "metadata": {},
   "outputs": [
    {
     "data": {
      "text/plain": [
       "array([ 9,  7, 26, 29,  1], dtype=int64)"
      ]
     },
     "execution_count": 17,
     "metadata": {},
     "output_type": "execute_result"
    }
   ],
   "source": [
    "# randomly pick 5 subject_id\n",
    "np.random.seed(420)\n",
    "subject_ids = np.random.choice(data_sbhar['subject_id'].unique(), 5, replace=False)\n",
    "\n",
    "public_subject = []\n",
    "public_subject = subject_ids\n",
    "public_subject"
   ]
  },
  {
   "cell_type": "markdown",
   "metadata": {},
   "source": [
    "## RealWorld"
   ]
  },
  {
   "cell_type": "code",
   "execution_count": 18,
   "metadata": {},
   "outputs": [
    {
     "data": {
      "text/html": [
       "<div>\n",
       "<style scoped>\n",
       "    .dataframe tbody tr th:only-of-type {\n",
       "        vertical-align: middle;\n",
       "    }\n",
       "\n",
       "    .dataframe tbody tr th {\n",
       "        vertical-align: top;\n",
       "    }\n",
       "\n",
       "    .dataframe thead th {\n",
       "        text-align: right;\n",
       "    }\n",
       "</style>\n",
       "<table border=\"1\" class=\"dataframe\">\n",
       "  <thead>\n",
       "    <tr style=\"text-align: right;\">\n",
       "      <th></th>\n",
       "      <th>subject_id</th>\n",
       "      <th>acc_x</th>\n",
       "      <th>acc_y</th>\n",
       "      <th>acc_z</th>\n",
       "      <th>activity</th>\n",
       "    </tr>\n",
       "  </thead>\n",
       "  <tbody>\n",
       "    <tr>\n",
       "      <th>0</th>\n",
       "      <td>0</td>\n",
       "      <td>-9.57434</td>\n",
       "      <td>-2.02733</td>\n",
       "      <td>1.34506</td>\n",
       "      <td>climbing_up</td>\n",
       "    </tr>\n",
       "    <tr>\n",
       "      <th>1</th>\n",
       "      <td>0</td>\n",
       "      <td>-9.56479</td>\n",
       "      <td>-1.99597</td>\n",
       "      <td>1.39345</td>\n",
       "      <td>climbing_up</td>\n",
       "    </tr>\n",
       "    <tr>\n",
       "      <th>2</th>\n",
       "      <td>0</td>\n",
       "      <td>-9.55122</td>\n",
       "      <td>-1.98445</td>\n",
       "      <td>1.41139</td>\n",
       "      <td>climbing_up</td>\n",
       "    </tr>\n",
       "    <tr>\n",
       "      <th>3</th>\n",
       "      <td>0</td>\n",
       "      <td>-9.51335</td>\n",
       "      <td>-1.97557</td>\n",
       "      <td>1.42615</td>\n",
       "      <td>climbing_up</td>\n",
       "    </tr>\n",
       "    <tr>\n",
       "      <th>4</th>\n",
       "      <td>0</td>\n",
       "      <td>-9.52959</td>\n",
       "      <td>-1.98187</td>\n",
       "      <td>1.45395</td>\n",
       "      <td>climbing_up</td>\n",
       "    </tr>\n",
       "    <tr>\n",
       "      <th>...</th>\n",
       "      <td>...</td>\n",
       "      <td>...</td>\n",
       "      <td>...</td>\n",
       "      <td>...</td>\n",
       "      <td>...</td>\n",
       "    </tr>\n",
       "    <tr>\n",
       "      <th>3200798</th>\n",
       "      <td>14</td>\n",
       "      <td>-9.28186</td>\n",
       "      <td>-2.45740</td>\n",
       "      <td>-1.88879</td>\n",
       "      <td>lying</td>\n",
       "    </tr>\n",
       "    <tr>\n",
       "      <th>3200799</th>\n",
       "      <td>14</td>\n",
       "      <td>-9.28955</td>\n",
       "      <td>-2.59154</td>\n",
       "      <td>-1.90494</td>\n",
       "      <td>lying</td>\n",
       "    </tr>\n",
       "    <tr>\n",
       "      <th>3200800</th>\n",
       "      <td>14</td>\n",
       "      <td>-9.31358</td>\n",
       "      <td>-2.62135</td>\n",
       "      <td>-1.90950</td>\n",
       "      <td>lying</td>\n",
       "    </tr>\n",
       "    <tr>\n",
       "      <th>3200801</th>\n",
       "      <td>14</td>\n",
       "      <td>-9.26154</td>\n",
       "      <td>-2.64308</td>\n",
       "      <td>-1.93750</td>\n",
       "      <td>lying</td>\n",
       "    </tr>\n",
       "    <tr>\n",
       "      <th>3200802</th>\n",
       "      <td>14</td>\n",
       "      <td>-9.23495</td>\n",
       "      <td>-2.70529</td>\n",
       "      <td>-1.97614</td>\n",
       "      <td>lying</td>\n",
       "    </tr>\n",
       "  </tbody>\n",
       "</table>\n",
       "<p>3200803 rows × 5 columns</p>\n",
       "</div>"
      ],
      "text/plain": [
       "         subject_id    acc_x    acc_y    acc_z     activity\n",
       "0                 0 -9.57434 -2.02733  1.34506  climbing_up\n",
       "1                 0 -9.56479 -1.99597  1.39345  climbing_up\n",
       "2                 0 -9.55122 -1.98445  1.41139  climbing_up\n",
       "3                 0 -9.51335 -1.97557  1.42615  climbing_up\n",
       "4                 0 -9.52959 -1.98187  1.45395  climbing_up\n",
       "...             ...      ...      ...      ...          ...\n",
       "3200798          14 -9.28186 -2.45740 -1.88879        lying\n",
       "3200799          14 -9.28955 -2.59154 -1.90494        lying\n",
       "3200800          14 -9.31358 -2.62135 -1.90950        lying\n",
       "3200801          14 -9.26154 -2.64308 -1.93750        lying\n",
       "3200802          14 -9.23495 -2.70529 -1.97614        lying\n",
       "\n",
       "[3200803 rows x 5 columns]"
      ]
     },
     "execution_count": 18,
     "metadata": {},
     "output_type": "execute_result"
    }
   ],
   "source": [
    "# load data without header\n",
    "data_rwhar = pd.read_csv('./ISWC21_data_plus_raw/rwhar_data.csv', header=None)\n",
    "# add header\n",
    "data_rwhar.columns = ['subject_id', 'acc_x', 'acc_y', 'acc_z', 'activity']\n",
    "data_rwhar"
   ]
  },
  {
   "cell_type": "code",
   "execution_count": 19,
   "metadata": {},
   "outputs": [
    {
     "name": "stdout",
     "output_type": "stream",
     "text": [
      "15\n"
     ]
    }
   ],
   "source": [
    "# print count of unique subjects\n",
    "print(data_rwhar['subject_id'].nunique())"
   ]
  },
  {
   "cell_type": "code",
   "execution_count": 20,
   "metadata": {},
   "outputs": [
    {
     "name": "stdout",
     "output_type": "stream",
     "text": [
      "8\n"
     ]
    }
   ],
   "source": [
    "# print count of unique activities\n",
    "print(data_rwhar['activity'].nunique())"
   ]
  },
  {
   "cell_type": "markdown",
   "metadata": {},
   "source": [
    "### Data Preprocessed"
   ]
  },
  {
   "cell_type": "code",
   "execution_count": 21,
   "metadata": {},
   "outputs": [
    {
     "data": {
      "text/plain": [
       "subject_id    0\n",
       "acc_x         0\n",
       "acc_y         0\n",
       "acc_z         0\n",
       "activity      0\n",
       "dtype: int64"
      ]
     },
     "execution_count": 21,
     "metadata": {},
     "output_type": "execute_result"
    }
   ],
   "source": [
    "#check for missing values\n",
    "data_rwhar.isnull().sum()"
   ]
  },
  {
   "cell_type": "code",
   "execution_count": 22,
   "metadata": {},
   "outputs": [],
   "source": [
    "data_rwhar['subject_id'] = data_rwhar['subject_id'] + 30"
   ]
  },
  {
   "cell_type": "code",
   "execution_count": 23,
   "metadata": {},
   "outputs": [
    {
     "name": "stdout",
     "output_type": "stream",
     "text": [
      "[30 31 32 33 34 35 36 37 38 39 40 41 42 43 44]\n"
     ]
    }
   ],
   "source": [
    "print(data_rwhar['subject_id'].unique())"
   ]
  },
  {
   "cell_type": "code",
   "execution_count": 24,
   "metadata": {},
   "outputs": [
    {
     "name": "stdout",
     "output_type": "stream",
     "text": [
      "['climbing_up' 'standing' 'walking' 'sitting' 'running' 'climbing_down'\n",
      " 'jumping' 'lying']\n"
     ]
    }
   ],
   "source": [
    "print(data_rwhar['activity'].unique())"
   ]
  },
  {
   "cell_type": "code",
   "execution_count": 25,
   "metadata": {},
   "outputs": [],
   "source": [
    "# replace activity with a number\n",
    "activity_dict = {\n",
    "    'standing':1,\n",
    "    'sitting':2,\n",
    "    'lying':3,\n",
    "    'walking':4,\n",
    "    'walking_downstairs':5,\n",
    "    'walking_upstairs':6,\n",
    "    'climbing_up':6,\n",
    "    'climbing_down':5,\n",
    "    'running':7,\n",
    "    'jumping':8,\n",
    "    'stand-to-sit': 10,\n",
    "    'sit-to-stand': 11,\n",
    "    'sit-to-lie': 12,\n",
    "    'lie-to-sit': 13,\n",
    "    'stand-to-lie': 14,\n",
    "    'lie-to-stand': 15,\n",
    "}\n",
    "data_rwhar = data_rwhar.replace({\"activity\": activity_dict})"
   ]
  },
  {
   "cell_type": "code",
   "execution_count": 26,
   "metadata": {},
   "outputs": [
    {
     "name": "stdout",
     "output_type": "stream",
     "text": [
      "activity\n",
      "7    522013\n",
      "4    482938\n",
      "3    479455\n",
      "2    478761\n",
      "1    473147\n",
      "6    371180\n",
      "5    320302\n",
      "8     73007\n",
      "Name: count, dtype: int64\n"
     ]
    }
   ],
   "source": [
    "print(data_rwhar['activity'].value_counts())"
   ]
  },
  {
   "cell_type": "code",
   "execution_count": 27,
   "metadata": {},
   "outputs": [
    {
     "name": "stdout",
     "output_type": "stream",
     "text": [
      "subject_id\n",
      "34    245822\n",
      "37    243823\n",
      "32    227821\n",
      "38    224449\n",
      "44    222116\n",
      "40    220262\n",
      "42    218636\n",
      "35    215920\n",
      "30    214659\n",
      "41    212453\n",
      "39    210260\n",
      "33    207492\n",
      "36    189243\n",
      "43    179282\n",
      "31    168565\n",
      "Name: count, dtype: int64\n"
     ]
    }
   ],
   "source": [
    "print(data_rwhar['subject_id'].value_counts())"
   ]
  },
  {
   "cell_type": "code",
   "execution_count": 28,
   "metadata": {},
   "outputs": [
    {
     "data": {
      "text/plain": [
       "array([30, 31, 32, 33, 34, 35, 36, 37, 38, 39, 40, 41, 42, 43, 44],\n",
       "      dtype=int64)"
      ]
     },
     "execution_count": 28,
     "metadata": {},
     "output_type": "execute_result"
    }
   ],
   "source": [
    "data_rwhar['subject_id'].unique()"
   ]
  },
  {
   "cell_type": "code",
   "execution_count": 29,
   "metadata": {},
   "outputs": [
    {
     "data": {
      "text/plain": [
       "array([ 9,  7, 26, 29,  1, 32, 44, 35, 30, 41], dtype=int64)"
      ]
     },
     "execution_count": 29,
     "metadata": {},
     "output_type": "execute_result"
    }
   ],
   "source": [
    "# randomly pick 5 subject_id\n",
    "np.random.seed(420)\n",
    "subject_ids = np.random.choice(data_rwhar['subject_id'].unique(), 5, replace=False)\n",
    "\n",
    "# join the subject_ids to public_subject\n",
    "public_subject = np.concatenate((public_subject, subject_ids))\n",
    "public_subject"
   ]
  },
  {
   "cell_type": "code",
   "execution_count": 30,
   "metadata": {},
   "outputs": [
    {
     "data": {
      "text/html": [
       "<div>\n",
       "<style scoped>\n",
       "    .dataframe tbody tr th:only-of-type {\n",
       "        vertical-align: middle;\n",
       "    }\n",
       "\n",
       "    .dataframe tbody tr th {\n",
       "        vertical-align: top;\n",
       "    }\n",
       "\n",
       "    .dataframe thead th {\n",
       "        text-align: right;\n",
       "    }\n",
       "</style>\n",
       "<table border=\"1\" class=\"dataframe\">\n",
       "  <thead>\n",
       "    <tr style=\"text-align: right;\">\n",
       "      <th></th>\n",
       "      <th>subject_id</th>\n",
       "      <th>acc_x</th>\n",
       "      <th>acc_y</th>\n",
       "      <th>acc_z</th>\n",
       "      <th>activity</th>\n",
       "    </tr>\n",
       "  </thead>\n",
       "  <tbody>\n",
       "    <tr>\n",
       "      <th>0</th>\n",
       "      <td>30</td>\n",
       "      <td>-9.57434</td>\n",
       "      <td>-2.02733</td>\n",
       "      <td>1.34506</td>\n",
       "      <td>6</td>\n",
       "    </tr>\n",
       "    <tr>\n",
       "      <th>1</th>\n",
       "      <td>30</td>\n",
       "      <td>-9.56479</td>\n",
       "      <td>-1.99597</td>\n",
       "      <td>1.39345</td>\n",
       "      <td>6</td>\n",
       "    </tr>\n",
       "    <tr>\n",
       "      <th>2</th>\n",
       "      <td>30</td>\n",
       "      <td>-9.55122</td>\n",
       "      <td>-1.98445</td>\n",
       "      <td>1.41139</td>\n",
       "      <td>6</td>\n",
       "    </tr>\n",
       "    <tr>\n",
       "      <th>3</th>\n",
       "      <td>30</td>\n",
       "      <td>-9.51335</td>\n",
       "      <td>-1.97557</td>\n",
       "      <td>1.42615</td>\n",
       "      <td>6</td>\n",
       "    </tr>\n",
       "    <tr>\n",
       "      <th>4</th>\n",
       "      <td>30</td>\n",
       "      <td>-9.52959</td>\n",
       "      <td>-1.98187</td>\n",
       "      <td>1.45395</td>\n",
       "      <td>6</td>\n",
       "    </tr>\n",
       "    <tr>\n",
       "      <th>...</th>\n",
       "      <td>...</td>\n",
       "      <td>...</td>\n",
       "      <td>...</td>\n",
       "      <td>...</td>\n",
       "      <td>...</td>\n",
       "    </tr>\n",
       "    <tr>\n",
       "      <th>3200798</th>\n",
       "      <td>44</td>\n",
       "      <td>-9.28186</td>\n",
       "      <td>-2.45740</td>\n",
       "      <td>-1.88879</td>\n",
       "      <td>3</td>\n",
       "    </tr>\n",
       "    <tr>\n",
       "      <th>3200799</th>\n",
       "      <td>44</td>\n",
       "      <td>-9.28955</td>\n",
       "      <td>-2.59154</td>\n",
       "      <td>-1.90494</td>\n",
       "      <td>3</td>\n",
       "    </tr>\n",
       "    <tr>\n",
       "      <th>3200800</th>\n",
       "      <td>44</td>\n",
       "      <td>-9.31358</td>\n",
       "      <td>-2.62135</td>\n",
       "      <td>-1.90950</td>\n",
       "      <td>3</td>\n",
       "    </tr>\n",
       "    <tr>\n",
       "      <th>3200801</th>\n",
       "      <td>44</td>\n",
       "      <td>-9.26154</td>\n",
       "      <td>-2.64308</td>\n",
       "      <td>-1.93750</td>\n",
       "      <td>3</td>\n",
       "    </tr>\n",
       "    <tr>\n",
       "      <th>3200802</th>\n",
       "      <td>44</td>\n",
       "      <td>-9.23495</td>\n",
       "      <td>-2.70529</td>\n",
       "      <td>-1.97614</td>\n",
       "      <td>3</td>\n",
       "    </tr>\n",
       "  </tbody>\n",
       "</table>\n",
       "<p>3200803 rows × 5 columns</p>\n",
       "</div>"
      ],
      "text/plain": [
       "         subject_id    acc_x    acc_y    acc_z  activity\n",
       "0                30 -9.57434 -2.02733  1.34506         6\n",
       "1                30 -9.56479 -1.99597  1.39345         6\n",
       "2                30 -9.55122 -1.98445  1.41139         6\n",
       "3                30 -9.51335 -1.97557  1.42615         6\n",
       "4                30 -9.52959 -1.98187  1.45395         6\n",
       "...             ...      ...      ...      ...       ...\n",
       "3200798          44 -9.28186 -2.45740 -1.88879         3\n",
       "3200799          44 -9.28955 -2.59154 -1.90494         3\n",
       "3200800          44 -9.31358 -2.62135 -1.90950         3\n",
       "3200801          44 -9.26154 -2.64308 -1.93750         3\n",
       "3200802          44 -9.23495 -2.70529 -1.97614         3\n",
       "\n",
       "[3200803 rows x 5 columns]"
      ]
     },
     "execution_count": 30,
     "metadata": {},
     "output_type": "execute_result"
    }
   ],
   "source": [
    "data_rwhar"
   ]
  },
  {
   "cell_type": "markdown",
   "metadata": {},
   "source": [
    "## UCI"
   ]
  },
  {
   "cell_type": "code",
   "execution_count": 31,
   "metadata": {},
   "outputs": [
    {
     "data": {
      "text/html": [
       "<div>\n",
       "<style scoped>\n",
       "    .dataframe tbody tr th:only-of-type {\n",
       "        vertical-align: middle;\n",
       "    }\n",
       "\n",
       "    .dataframe tbody tr th {\n",
       "        vertical-align: top;\n",
       "    }\n",
       "\n",
       "    .dataframe thead th {\n",
       "        text-align: right;\n",
       "    }\n",
       "</style>\n",
       "<table border=\"1\" class=\"dataframe\">\n",
       "  <thead>\n",
       "    <tr style=\"text-align: right;\">\n",
       "      <th></th>\n",
       "      <th>subject_id</th>\n",
       "      <th>acc_x</th>\n",
       "      <th>acc_y</th>\n",
       "      <th>acc_z</th>\n",
       "      <th>activity</th>\n",
       "    </tr>\n",
       "  </thead>\n",
       "  <tbody>\n",
       "    <tr>\n",
       "      <th>0</th>\n",
       "      <td>1</td>\n",
       "      <td>1.012817</td>\n",
       "      <td>-0.123217</td>\n",
       "      <td>0.102934</td>\n",
       "      <td>STANDING</td>\n",
       "    </tr>\n",
       "    <tr>\n",
       "      <th>1</th>\n",
       "      <td>1</td>\n",
       "      <td>1.022833</td>\n",
       "      <td>-0.126876</td>\n",
       "      <td>0.105687</td>\n",
       "      <td>STANDING</td>\n",
       "    </tr>\n",
       "    <tr>\n",
       "      <th>2</th>\n",
       "      <td>1</td>\n",
       "      <td>1.022028</td>\n",
       "      <td>-0.124004</td>\n",
       "      <td>0.102102</td>\n",
       "      <td>STANDING</td>\n",
       "    </tr>\n",
       "    <tr>\n",
       "      <th>3</th>\n",
       "      <td>1</td>\n",
       "      <td>1.017877</td>\n",
       "      <td>-0.124928</td>\n",
       "      <td>0.106553</td>\n",
       "      <td>STANDING</td>\n",
       "    </tr>\n",
       "    <tr>\n",
       "      <th>4</th>\n",
       "      <td>1</td>\n",
       "      <td>1.023680</td>\n",
       "      <td>-0.125767</td>\n",
       "      <td>0.102814</td>\n",
       "      <td>STANDING</td>\n",
       "    </tr>\n",
       "    <tr>\n",
       "      <th>...</th>\n",
       "      <td>...</td>\n",
       "      <td>...</td>\n",
       "      <td>...</td>\n",
       "      <td>...</td>\n",
       "      <td>...</td>\n",
       "    </tr>\n",
       "    <tr>\n",
       "      <th>1318267</th>\n",
       "      <td>24</td>\n",
       "      <td>0.908386</td>\n",
       "      <td>-0.423054</td>\n",
       "      <td>-0.092933</td>\n",
       "      <td>WALKING_UPSTAIRS</td>\n",
       "    </tr>\n",
       "    <tr>\n",
       "      <th>1318268</th>\n",
       "      <td>24</td>\n",
       "      <td>0.898984</td>\n",
       "      <td>-0.392272</td>\n",
       "      <td>-0.063138</td>\n",
       "      <td>WALKING_UPSTAIRS</td>\n",
       "    </tr>\n",
       "    <tr>\n",
       "      <th>1318269</th>\n",
       "      <td>24</td>\n",
       "      <td>0.918862</td>\n",
       "      <td>-0.351680</td>\n",
       "      <td>-0.072539</td>\n",
       "      <td>WALKING_UPSTAIRS</td>\n",
       "    </tr>\n",
       "    <tr>\n",
       "      <th>1318270</th>\n",
       "      <td>24</td>\n",
       "      <td>0.949475</td>\n",
       "      <td>-0.267526</td>\n",
       "      <td>-0.050975</td>\n",
       "      <td>WALKING_UPSTAIRS</td>\n",
       "    </tr>\n",
       "    <tr>\n",
       "      <th>1318271</th>\n",
       "      <td>24</td>\n",
       "      <td>0.957835</td>\n",
       "      <td>-0.194160</td>\n",
       "      <td>-0.028925</td>\n",
       "      <td>WALKING_UPSTAIRS</td>\n",
       "    </tr>\n",
       "  </tbody>\n",
       "</table>\n",
       "<p>1318272 rows × 5 columns</p>\n",
       "</div>"
      ],
      "text/plain": [
       "         subject_id     acc_x     acc_y     acc_z          activity\n",
       "0                 1  1.012817 -0.123217  0.102934          STANDING\n",
       "1                 1  1.022833 -0.126876  0.105687          STANDING\n",
       "2                 1  1.022028 -0.124004  0.102102          STANDING\n",
       "3                 1  1.017877 -0.124928  0.106553          STANDING\n",
       "4                 1  1.023680 -0.125767  0.102814          STANDING\n",
       "...             ...       ...       ...       ...               ...\n",
       "1318267          24  0.908386 -0.423054 -0.092933  WALKING_UPSTAIRS\n",
       "1318268          24  0.898984 -0.392272 -0.063138  WALKING_UPSTAIRS\n",
       "1318269          24  0.918862 -0.351680 -0.072539  WALKING_UPSTAIRS\n",
       "1318270          24  0.949475 -0.267526 -0.050975  WALKING_UPSTAIRS\n",
       "1318271          24  0.957835 -0.194160 -0.028925  WALKING_UPSTAIRS\n",
       "\n",
       "[1318272 rows x 5 columns]"
      ]
     },
     "execution_count": 31,
     "metadata": {},
     "output_type": "execute_result"
    }
   ],
   "source": [
    "#load dataset without header\n",
    "data_uci = pd.read_csv('./UCI HAR Dataset/uci_har.csv')\n",
    "data_uci"
   ]
  },
  {
   "cell_type": "markdown",
   "metadata": {},
   "source": [
    "### Data Preprocessed"
   ]
  },
  {
   "cell_type": "code",
   "execution_count": 32,
   "metadata": {},
   "outputs": [],
   "source": [
    "# drop activity with 'null_class'\n",
    "data_uci = data_uci[data_uci['activity'] != 'null_class']"
   ]
  },
  {
   "cell_type": "code",
   "execution_count": 33,
   "metadata": {},
   "outputs": [
    {
     "data": {
      "text/html": [
       "<div>\n",
       "<style scoped>\n",
       "    .dataframe tbody tr th:only-of-type {\n",
       "        vertical-align: middle;\n",
       "    }\n",
       "\n",
       "    .dataframe tbody tr th {\n",
       "        vertical-align: top;\n",
       "    }\n",
       "\n",
       "    .dataframe thead th {\n",
       "        text-align: right;\n",
       "    }\n",
       "</style>\n",
       "<table border=\"1\" class=\"dataframe\">\n",
       "  <thead>\n",
       "    <tr style=\"text-align: right;\">\n",
       "      <th></th>\n",
       "      <th>subject_id</th>\n",
       "      <th>acc_x</th>\n",
       "      <th>acc_y</th>\n",
       "      <th>acc_z</th>\n",
       "      <th>activity</th>\n",
       "    </tr>\n",
       "  </thead>\n",
       "  <tbody>\n",
       "    <tr>\n",
       "      <th>0</th>\n",
       "      <td>1</td>\n",
       "      <td>1.012817</td>\n",
       "      <td>-0.123217</td>\n",
       "      <td>0.102934</td>\n",
       "      <td>STANDING</td>\n",
       "    </tr>\n",
       "    <tr>\n",
       "      <th>1</th>\n",
       "      <td>1</td>\n",
       "      <td>1.022833</td>\n",
       "      <td>-0.126876</td>\n",
       "      <td>0.105687</td>\n",
       "      <td>STANDING</td>\n",
       "    </tr>\n",
       "    <tr>\n",
       "      <th>2</th>\n",
       "      <td>1</td>\n",
       "      <td>1.022028</td>\n",
       "      <td>-0.124004</td>\n",
       "      <td>0.102102</td>\n",
       "      <td>STANDING</td>\n",
       "    </tr>\n",
       "    <tr>\n",
       "      <th>3</th>\n",
       "      <td>1</td>\n",
       "      <td>1.017877</td>\n",
       "      <td>-0.124928</td>\n",
       "      <td>0.106553</td>\n",
       "      <td>STANDING</td>\n",
       "    </tr>\n",
       "    <tr>\n",
       "      <th>4</th>\n",
       "      <td>1</td>\n",
       "      <td>1.023680</td>\n",
       "      <td>-0.125767</td>\n",
       "      <td>0.102814</td>\n",
       "      <td>STANDING</td>\n",
       "    </tr>\n",
       "    <tr>\n",
       "      <th>...</th>\n",
       "      <td>...</td>\n",
       "      <td>...</td>\n",
       "      <td>...</td>\n",
       "      <td>...</td>\n",
       "      <td>...</td>\n",
       "    </tr>\n",
       "    <tr>\n",
       "      <th>1318267</th>\n",
       "      <td>24</td>\n",
       "      <td>0.908386</td>\n",
       "      <td>-0.423054</td>\n",
       "      <td>-0.092933</td>\n",
       "      <td>WALKING_UPSTAIRS</td>\n",
       "    </tr>\n",
       "    <tr>\n",
       "      <th>1318268</th>\n",
       "      <td>24</td>\n",
       "      <td>0.898984</td>\n",
       "      <td>-0.392272</td>\n",
       "      <td>-0.063138</td>\n",
       "      <td>WALKING_UPSTAIRS</td>\n",
       "    </tr>\n",
       "    <tr>\n",
       "      <th>1318269</th>\n",
       "      <td>24</td>\n",
       "      <td>0.918862</td>\n",
       "      <td>-0.351680</td>\n",
       "      <td>-0.072539</td>\n",
       "      <td>WALKING_UPSTAIRS</td>\n",
       "    </tr>\n",
       "    <tr>\n",
       "      <th>1318270</th>\n",
       "      <td>24</td>\n",
       "      <td>0.949475</td>\n",
       "      <td>-0.267526</td>\n",
       "      <td>-0.050975</td>\n",
       "      <td>WALKING_UPSTAIRS</td>\n",
       "    </tr>\n",
       "    <tr>\n",
       "      <th>1318271</th>\n",
       "      <td>24</td>\n",
       "      <td>0.957835</td>\n",
       "      <td>-0.194160</td>\n",
       "      <td>-0.028925</td>\n",
       "      <td>WALKING_UPSTAIRS</td>\n",
       "    </tr>\n",
       "  </tbody>\n",
       "</table>\n",
       "<p>1318272 rows × 5 columns</p>\n",
       "</div>"
      ],
      "text/plain": [
       "         subject_id     acc_x     acc_y     acc_z          activity\n",
       "0                 1  1.012817 -0.123217  0.102934          STANDING\n",
       "1                 1  1.022833 -0.126876  0.105687          STANDING\n",
       "2                 1  1.022028 -0.124004  0.102102          STANDING\n",
       "3                 1  1.017877 -0.124928  0.106553          STANDING\n",
       "4                 1  1.023680 -0.125767  0.102814          STANDING\n",
       "...             ...       ...       ...       ...               ...\n",
       "1318267          24  0.908386 -0.423054 -0.092933  WALKING_UPSTAIRS\n",
       "1318268          24  0.898984 -0.392272 -0.063138  WALKING_UPSTAIRS\n",
       "1318269          24  0.918862 -0.351680 -0.072539  WALKING_UPSTAIRS\n",
       "1318270          24  0.949475 -0.267526 -0.050975  WALKING_UPSTAIRS\n",
       "1318271          24  0.957835 -0.194160 -0.028925  WALKING_UPSTAIRS\n",
       "\n",
       "[1318272 rows x 5 columns]"
      ]
     },
     "execution_count": 33,
     "metadata": {},
     "output_type": "execute_result"
    }
   ],
   "source": [
    "data_uci"
   ]
  },
  {
   "cell_type": "code",
   "execution_count": 34,
   "metadata": {},
   "outputs": [
    {
     "data": {
      "text/plain": [
       "subject_id    0\n",
       "acc_x         0\n",
       "acc_y         0\n",
       "acc_z         0\n",
       "activity      0\n",
       "dtype: int64"
      ]
     },
     "execution_count": 34,
     "metadata": {},
     "output_type": "execute_result"
    }
   ],
   "source": [
    "# check for missing values\n",
    "data_uci.isnull().sum()"
   ]
  },
  {
   "cell_type": "code",
   "execution_count": 35,
   "metadata": {},
   "outputs": [
    {
     "name": "stdout",
     "output_type": "stream",
     "text": [
      "30\n"
     ]
    }
   ],
   "source": [
    "# print count of unique subjects\n",
    "print(data_uci['subject_id'].nunique())"
   ]
  },
  {
   "cell_type": "code",
   "execution_count": 36,
   "metadata": {},
   "outputs": [
    {
     "name": "stdout",
     "output_type": "stream",
     "text": [
      "6\n"
     ]
    }
   ],
   "source": [
    "# print count of unique activities\n",
    "print(data_uci['activity'].nunique())"
   ]
  },
  {
   "cell_type": "code",
   "execution_count": 37,
   "metadata": {},
   "outputs": [
    {
     "data": {
      "text/plain": [
       "array([ 1,  3,  5,  6,  7,  8, 11, 14, 15, 16, 17, 19, 21, 22, 23, 25, 26,\n",
       "       27, 28, 29, 30,  2,  4,  9, 10, 12, 13, 18, 20, 24], dtype=int64)"
      ]
     },
     "execution_count": 37,
     "metadata": {},
     "output_type": "execute_result"
    }
   ],
   "source": [
    "data_uci['subject_id'].unique()"
   ]
  },
  {
   "cell_type": "code",
   "execution_count": 38,
   "metadata": {},
   "outputs": [],
   "source": [
    "# change subject_id number\n",
    "data_uci['subject_id'] = data_uci['subject_id'] + 44"
   ]
  },
  {
   "cell_type": "code",
   "execution_count": 39,
   "metadata": {},
   "outputs": [
    {
     "name": "stdout",
     "output_type": "stream",
     "text": [
      "[45 47 49 50 51 52 55 58 59 60 61 63 65 66 67 69 70 71 72 73 74 46 48 53\n",
      " 54 56 57 62 64 68]\n"
     ]
    }
   ],
   "source": [
    "print(data_uci['subject_id'].unique())"
   ]
  },
  {
   "cell_type": "code",
   "execution_count": 40,
   "metadata": {},
   "outputs": [
    {
     "data": {
      "text/plain": [
       "activity\n",
       "LAYING                248832\n",
       "STANDING              243968\n",
       "SITTING               227456\n",
       "WALKING               220416\n",
       "WALKING_UPSTAIRS      197632\n",
       "WALKING_DOWNSTAIRS    179968\n",
       "Name: count, dtype: int64"
      ]
     },
     "execution_count": 40,
     "metadata": {},
     "output_type": "execute_result"
    }
   ],
   "source": [
    "data_uci['activity'].value_counts()"
   ]
  },
  {
   "cell_type": "code",
   "execution_count": 41,
   "metadata": {},
   "outputs": [],
   "source": [
    "# replace activity with a number\n",
    "activity_dict = {\n",
    "        'standing':1,\n",
    "        'sitting':2,\n",
    "        'lying':3,\n",
    "        'walking':4,\n",
    "        'walking_downstairs':5,\n",
    "        'walking_upstairs':6,\n",
    "        'climbing_up':6,\n",
    "        'climbing_down':5,\n",
    "        'running':7,\n",
    "        'jumping':8,\n",
    "        'stand-to-sit': 10,\n",
    "        'sit-to-stand': 11,\n",
    "        'sit-to-lie': 12,\n",
    "        'lie-to-sit': 13,\n",
    "        'stand-to-lie': 14,\n",
    "        'lie-to-stand': 15,\n",
    "        'LAYING': 3,\n",
    "        'STANDING': 1,\n",
    "        'SITTING': 2,\n",
    "        'WALKING': 4,\n",
    "        'WALKING_UPSTAIRS': 6,\n",
    "        'WALKING_DOWNSTAIRS': 5,\n",
    "}\n",
    "data_uci = data_uci.replace({\"activity\": activity_dict})"
   ]
  },
  {
   "cell_type": "code",
   "execution_count": 42,
   "metadata": {},
   "outputs": [
    {
     "name": "stdout",
     "output_type": "stream",
     "text": [
      "[1 2 3 4 5 6]\n"
     ]
    }
   ],
   "source": [
    "print(data_uci['activity'].unique())"
   ]
  },
  {
   "cell_type": "code",
   "execution_count": 43,
   "metadata": {},
   "outputs": [
    {
     "data": {
      "text/plain": [
       "activity\n",
       "3    248832\n",
       "1    243968\n",
       "2    227456\n",
       "4    220416\n",
       "6    197632\n",
       "5    179968\n",
       "Name: count, dtype: int64"
      ]
     },
     "execution_count": 43,
     "metadata": {},
     "output_type": "execute_result"
    }
   ],
   "source": [
    "data_uci['activity'].value_counts()"
   ]
  },
  {
   "cell_type": "code",
   "execution_count": 44,
   "metadata": {},
   "outputs": [
    {
     "data": {
      "text/plain": [
       "array([45, 47, 49, 50, 51, 52, 55, 58, 59, 60, 61, 63, 65, 66, 67, 69, 70,\n",
       "       71, 72, 73, 74, 46, 48, 53, 54, 56, 57, 62, 64, 68], dtype=int64)"
      ]
     },
     "execution_count": 44,
     "metadata": {},
     "output_type": "execute_result"
    }
   ],
   "source": [
    "data_uci['subject_id'].unique()"
   ]
  },
  {
   "cell_type": "code",
   "execution_count": 45,
   "metadata": {},
   "outputs": [
    {
     "data": {
      "text/plain": [
       "array([ 9,  7, 26, 29,  1, 32, 44, 35, 30, 41, 60, 58, 57, 68, 47],\n",
       "      dtype=int64)"
      ]
     },
     "execution_count": 45,
     "metadata": {},
     "output_type": "execute_result"
    }
   ],
   "source": [
    "# randomly pick 5 subject_id\n",
    "np.random.seed(420)\n",
    "subject_ids = np.random.choice(data_uci['subject_id'].unique(), 5, replace=False)\n",
    "\n",
    "# join the subject_ids to public_subject\n",
    "public_subject = np.concatenate((public_subject, subject_ids))\n",
    "public_subject"
   ]
  },
  {
   "cell_type": "code",
   "execution_count": 46,
   "metadata": {},
   "outputs": [
    {
     "data": {
      "text/plain": [
       "15"
      ]
     },
     "execution_count": 46,
     "metadata": {},
     "output_type": "execute_result"
    }
   ],
   "source": [
    "len(public_subject)"
   ]
  },
  {
   "cell_type": "markdown",
   "metadata": {},
   "source": [
    "## Data Merging"
   ]
  },
  {
   "cell_type": "code",
   "execution_count": 47,
   "metadata": {},
   "outputs": [
    {
     "data": {
      "text/html": [
       "<div>\n",
       "<style scoped>\n",
       "    .dataframe tbody tr th:only-of-type {\n",
       "        vertical-align: middle;\n",
       "    }\n",
       "\n",
       "    .dataframe tbody tr th {\n",
       "        vertical-align: top;\n",
       "    }\n",
       "\n",
       "    .dataframe thead th {\n",
       "        text-align: right;\n",
       "    }\n",
       "</style>\n",
       "<table border=\"1\" class=\"dataframe\">\n",
       "  <thead>\n",
       "    <tr style=\"text-align: right;\">\n",
       "      <th></th>\n",
       "      <th>subject_id</th>\n",
       "      <th>acc_x</th>\n",
       "      <th>acc_y</th>\n",
       "      <th>acc_z</th>\n",
       "      <th>activity</th>\n",
       "    </tr>\n",
       "  </thead>\n",
       "  <tbody>\n",
       "    <tr>\n",
       "      <th>0</th>\n",
       "      <td>0</td>\n",
       "      <td>0.990278</td>\n",
       "      <td>-0.337500</td>\n",
       "      <td>0.022222</td>\n",
       "      <td>1</td>\n",
       "    </tr>\n",
       "    <tr>\n",
       "      <th>1</th>\n",
       "      <td>0</td>\n",
       "      <td>0.986111</td>\n",
       "      <td>-0.340278</td>\n",
       "      <td>0.012500</td>\n",
       "      <td>1</td>\n",
       "    </tr>\n",
       "    <tr>\n",
       "      <th>2</th>\n",
       "      <td>0</td>\n",
       "      <td>0.987500</td>\n",
       "      <td>-0.333333</td>\n",
       "      <td>0.011111</td>\n",
       "      <td>1</td>\n",
       "    </tr>\n",
       "    <tr>\n",
       "      <th>3</th>\n",
       "      <td>0</td>\n",
       "      <td>0.988889</td>\n",
       "      <td>-0.327778</td>\n",
       "      <td>0.012500</td>\n",
       "      <td>1</td>\n",
       "    </tr>\n",
       "    <tr>\n",
       "      <th>4</th>\n",
       "      <td>0</td>\n",
       "      <td>0.986111</td>\n",
       "      <td>-0.333333</td>\n",
       "      <td>0.009722</td>\n",
       "      <td>1</td>\n",
       "    </tr>\n",
       "    <tr>\n",
       "      <th>...</th>\n",
       "      <td>...</td>\n",
       "      <td>...</td>\n",
       "      <td>...</td>\n",
       "      <td>...</td>\n",
       "      <td>...</td>\n",
       "    </tr>\n",
       "    <tr>\n",
       "      <th>5267476</th>\n",
       "      <td>68</td>\n",
       "      <td>0.908386</td>\n",
       "      <td>-0.423054</td>\n",
       "      <td>-0.092933</td>\n",
       "      <td>6</td>\n",
       "    </tr>\n",
       "    <tr>\n",
       "      <th>5267477</th>\n",
       "      <td>68</td>\n",
       "      <td>0.898984</td>\n",
       "      <td>-0.392272</td>\n",
       "      <td>-0.063138</td>\n",
       "      <td>6</td>\n",
       "    </tr>\n",
       "    <tr>\n",
       "      <th>5267478</th>\n",
       "      <td>68</td>\n",
       "      <td>0.918862</td>\n",
       "      <td>-0.351680</td>\n",
       "      <td>-0.072539</td>\n",
       "      <td>6</td>\n",
       "    </tr>\n",
       "    <tr>\n",
       "      <th>5267479</th>\n",
       "      <td>68</td>\n",
       "      <td>0.949475</td>\n",
       "      <td>-0.267526</td>\n",
       "      <td>-0.050975</td>\n",
       "      <td>6</td>\n",
       "    </tr>\n",
       "    <tr>\n",
       "      <th>5267480</th>\n",
       "      <td>68</td>\n",
       "      <td>0.957835</td>\n",
       "      <td>-0.194160</td>\n",
       "      <td>-0.028925</td>\n",
       "      <td>6</td>\n",
       "    </tr>\n",
       "  </tbody>\n",
       "</table>\n",
       "<p>5267481 rows × 5 columns</p>\n",
       "</div>"
      ],
      "text/plain": [
       "         subject_id     acc_x     acc_y     acc_z  activity\n",
       "0                 0  0.990278 -0.337500  0.022222         1\n",
       "1                 0  0.986111 -0.340278  0.012500         1\n",
       "2                 0  0.987500 -0.333333  0.011111         1\n",
       "3                 0  0.988889 -0.327778  0.012500         1\n",
       "4                 0  0.986111 -0.333333  0.009722         1\n",
       "...             ...       ...       ...       ...       ...\n",
       "5267476          68  0.908386 -0.423054 -0.092933         6\n",
       "5267477          68  0.898984 -0.392272 -0.063138         6\n",
       "5267478          68  0.918862 -0.351680 -0.072539         6\n",
       "5267479          68  0.949475 -0.267526 -0.050975         6\n",
       "5267480          68  0.957835 -0.194160 -0.028925         6\n",
       "\n",
       "[5267481 rows x 5 columns]"
      ]
     },
     "execution_count": 47,
     "metadata": {},
     "output_type": "execute_result"
    }
   ],
   "source": [
    "# merge all datasets\n",
    "data = pd.concat([data_sbhar, data_rwhar, data_uci], ignore_index=True)\n",
    "data"
   ]
  },
  {
   "cell_type": "code",
   "execution_count": 48,
   "metadata": {},
   "outputs": [
    {
     "data": {
      "text/plain": [
       "subject_id    0\n",
       "acc_x         0\n",
       "acc_y         0\n",
       "acc_z         0\n",
       "activity      0\n",
       "dtype: int64"
      ]
     },
     "execution_count": 48,
     "metadata": {},
     "output_type": "execute_result"
    }
   ],
   "source": [
    "#check for missing values\n",
    "data.isnull().sum()"
   ]
  },
  {
   "cell_type": "code",
   "execution_count": 49,
   "metadata": {},
   "outputs": [
    {
     "name": "stdout",
     "output_type": "stream",
     "text": [
      "75\n"
     ]
    }
   ],
   "source": [
    "# check for unique subjects\n",
    "print(data['subject_id'].nunique())"
   ]
  },
  {
   "cell_type": "code",
   "execution_count": 50,
   "metadata": {},
   "outputs": [
    {
     "name": "stdout",
     "output_type": "stream",
     "text": [
      "[ 0  1  2  3  4  5  6  7  8  9 10 11 12 13 14 15 16 17 18 19 20 21 22 23\n",
      " 24 25 26 27 28 29 30 31 32 33 34 35 36 37 38 39 40 41 42 43 44 45 46 47\n",
      " 48 49 50 51 52 53 54 55 56 57 58 59 60 61 62 63 64 65 66 67 68 69 70 71\n",
      " 72 73 74]\n"
     ]
    }
   ],
   "source": [
    "# print all of the unique subjects and sort them from smallest to largest\n",
    "print(np.sort(data['subject_id'].unique()))"
   ]
  },
  {
   "cell_type": "code",
   "execution_count": 51,
   "metadata": {},
   "outputs": [
    {
     "name": "stdout",
     "output_type": "stream",
     "text": [
      "8\n"
     ]
    }
   ],
   "source": [
    "# check for unique activities\n",
    "print(data['activity'].nunique())"
   ]
  },
  {
   "cell_type": "code",
   "execution_count": 52,
   "metadata": {},
   "outputs": [
    {
     "name": "stdout",
     "output_type": "stream",
     "text": [
      "[1 2 3 4 5 6 7 8]\n"
     ]
    }
   ],
   "source": [
    "# print all of the unique activities and sort them from smallest to largest\n",
    "print(np.sort(data['activity'].unique()))"
   ]
  },
  {
   "cell_type": "code",
   "execution_count": 53,
   "metadata": {},
   "outputs": [
    {
     "name": "stdout",
     "output_type": "stream",
     "text": [
      "activity\n",
      "3    865152\n",
      "1    855220\n",
      "2    832894\n",
      "4    825445\n",
      "6    685519\n",
      "5    608231\n",
      "7    522013\n",
      "8     73007\n",
      "Name: count, dtype: int64\n"
     ]
    }
   ],
   "source": [
    "# print the count of each activity\n",
    "print(data['activity'].value_counts())"
   ]
  },
  {
   "cell_type": "code",
   "execution_count": 54,
   "metadata": {},
   "outputs": [
    {
     "name": "stdout",
     "output_type": "stream",
     "text": [
      "subject_id\n",
      "34    245822\n",
      "37    243823\n",
      "32    227821\n",
      "38    224449\n",
      "44    222116\n",
      "       ...  \n",
      "6      22220\n",
      "4      22079\n",
      "8      21947\n",
      "9      21747\n",
      "7      20977\n",
      "Name: count, Length: 75, dtype: int64\n"
     ]
    }
   ],
   "source": [
    "print(data['subject_id'].value_counts())    "
   ]
  },
  {
   "cell_type": "markdown",
   "metadata": {},
   "source": [
    "# Data Preprocess"
   ]
  },
  {
   "cell_type": "code",
   "execution_count": 55,
   "metadata": {},
   "outputs": [
    {
     "data": {
      "image/png": "[encoded data removed]",
      "text/plain": [
       "<Figure size 640x480 with 1 Axes>"
      ]
     },
     "metadata": {},
     "output_type": "display_data"
    }
   ],
   "source": [
    "# label dictionary\n",
    "label_dict = {\n",
    "        1: 'standing',\n",
    "        2: 'sitting',\n",
    "        3: 'lying',\n",
    "        4: 'walking',\n",
    "        5: 'walking_downstairs',\n",
    "        6: 'walking_upstairs',\n",
    "        7: 'running',\n",
    "        8: 'jumping',\n",
    "        10: 'stand-to-sit',\n",
    "        11: 'sit-to-stand',\n",
    "        12: 'sit-to-lie',\n",
    "        13: 'lie-to-sit',\n",
    "        14: 'stand-to-lie',\n",
    "        15: 'lie-to-stand',\n",
    "}\n",
    "\n",
    "# visualize the label distribution using label dictionary with y axis use integer\n",
    "data['activity_label'] = data['activity'].map(label_dict)\n",
    "ax = data['activity_label'].value_counts().plot(kind='bar')\n",
    "\n",
    "# Setting the y-axis to display only integer values\n",
    "ax.yaxis.set_major_locator(MaxNLocator(integer=True))\n",
    "\n",
    "plt.show()"
   ]
  },
  {
   "cell_type": "code",
   "execution_count": 56,
   "metadata": {},
   "outputs": [
    {
     "data": {
      "text/plain": [
       "<Axes: xlabel='subject_id'>"
      ]
     },
     "execution_count": 56,
     "metadata": {},
     "output_type": "execute_result"
    },
    {
     "data": {
      "image/png": "[encoded data removed]",
      "text/plain": [
       "<Figure size 640x480 with 1 Axes>"
      ]
     },
     "metadata": {},
     "output_type": "display_data"
    }
   ],
   "source": [
    "# visualize the subject distribution\n",
    "data['subject_id'].value_counts().plot(kind='bar')"
   ]
  },
  {
   "cell_type": "code",
   "execution_count": 57,
   "metadata": {},
   "outputs": [],
   "source": [
    "#drop activity_label\n",
    "data = data.drop(columns=['activity_label'])"
   ]
  },
  {
   "cell_type": "code",
   "execution_count": 58,
   "metadata": {},
   "outputs": [
    {
     "data": {
      "text/html": [
       "<div>\n",
       "<style scoped>\n",
       "    .dataframe tbody tr th:only-of-type {\n",
       "        vertical-align: middle;\n",
       "    }\n",
       "\n",
       "    .dataframe tbody tr th {\n",
       "        vertical-align: top;\n",
       "    }\n",
       "\n",
       "    .dataframe thead th {\n",
       "        text-align: right;\n",
       "    }\n",
       "</style>\n",
       "<table border=\"1\" class=\"dataframe\">\n",
       "  <thead>\n",
       "    <tr style=\"text-align: right;\">\n",
       "      <th></th>\n",
       "      <th>subject_id</th>\n",
       "      <th>acc_x</th>\n",
       "      <th>acc_y</th>\n",
       "      <th>acc_z</th>\n",
       "      <th>activity</th>\n",
       "    </tr>\n",
       "  </thead>\n",
       "  <tbody>\n",
       "    <tr>\n",
       "      <th>0</th>\n",
       "      <td>0</td>\n",
       "      <td>0.990278</td>\n",
       "      <td>-0.337500</td>\n",
       "      <td>0.022222</td>\n",
       "      <td>1</td>\n",
       "    </tr>\n",
       "    <tr>\n",
       "      <th>1</th>\n",
       "      <td>0</td>\n",
       "      <td>0.986111</td>\n",
       "      <td>-0.340278</td>\n",
       "      <td>0.012500</td>\n",
       "      <td>1</td>\n",
       "    </tr>\n",
       "    <tr>\n",
       "      <th>2</th>\n",
       "      <td>0</td>\n",
       "      <td>0.987500</td>\n",
       "      <td>-0.333333</td>\n",
       "      <td>0.011111</td>\n",
       "      <td>1</td>\n",
       "    </tr>\n",
       "    <tr>\n",
       "      <th>3</th>\n",
       "      <td>0</td>\n",
       "      <td>0.988889</td>\n",
       "      <td>-0.327778</td>\n",
       "      <td>0.012500</td>\n",
       "      <td>1</td>\n",
       "    </tr>\n",
       "    <tr>\n",
       "      <th>4</th>\n",
       "      <td>0</td>\n",
       "      <td>0.986111</td>\n",
       "      <td>-0.333333</td>\n",
       "      <td>0.009722</td>\n",
       "      <td>1</td>\n",
       "    </tr>\n",
       "    <tr>\n",
       "      <th>...</th>\n",
       "      <td>...</td>\n",
       "      <td>...</td>\n",
       "      <td>...</td>\n",
       "      <td>...</td>\n",
       "      <td>...</td>\n",
       "    </tr>\n",
       "    <tr>\n",
       "      <th>5267476</th>\n",
       "      <td>68</td>\n",
       "      <td>0.908386</td>\n",
       "      <td>-0.423054</td>\n",
       "      <td>-0.092933</td>\n",
       "      <td>6</td>\n",
       "    </tr>\n",
       "    <tr>\n",
       "      <th>5267477</th>\n",
       "      <td>68</td>\n",
       "      <td>0.898984</td>\n",
       "      <td>-0.392272</td>\n",
       "      <td>-0.063138</td>\n",
       "      <td>6</td>\n",
       "    </tr>\n",
       "    <tr>\n",
       "      <th>5267478</th>\n",
       "      <td>68</td>\n",
       "      <td>0.918862</td>\n",
       "      <td>-0.351680</td>\n",
       "      <td>-0.072539</td>\n",
       "      <td>6</td>\n",
       "    </tr>\n",
       "    <tr>\n",
       "      <th>5267479</th>\n",
       "      <td>68</td>\n",
       "      <td>0.949475</td>\n",
       "      <td>-0.267526</td>\n",
       "      <td>-0.050975</td>\n",
       "      <td>6</td>\n",
       "    </tr>\n",
       "    <tr>\n",
       "      <th>5267480</th>\n",
       "      <td>68</td>\n",
       "      <td>0.957835</td>\n",
       "      <td>-0.194160</td>\n",
       "      <td>-0.028925</td>\n",
       "      <td>6</td>\n",
       "    </tr>\n",
       "  </tbody>\n",
       "</table>\n",
       "<p>5267481 rows × 5 columns</p>\n",
       "</div>"
      ],
      "text/plain": [
       "         subject_id     acc_x     acc_y     acc_z  activity\n",
       "0                 0  0.990278 -0.337500  0.022222         1\n",
       "1                 0  0.986111 -0.340278  0.012500         1\n",
       "2                 0  0.987500 -0.333333  0.011111         1\n",
       "3                 0  0.988889 -0.327778  0.012500         1\n",
       "4                 0  0.986111 -0.333333  0.009722         1\n",
       "...             ...       ...       ...       ...       ...\n",
       "5267476          68  0.908386 -0.423054 -0.092933         6\n",
       "5267477          68  0.898984 -0.392272 -0.063138         6\n",
       "5267478          68  0.918862 -0.351680 -0.072539         6\n",
       "5267479          68  0.949475 -0.267526 -0.050975         6\n",
       "5267480          68  0.957835 -0.194160 -0.028925         6\n",
       "\n",
       "[5267481 rows x 5 columns]"
      ]
     },
     "execution_count": 58,
     "metadata": {},
     "output_type": "execute_result"
    }
   ],
   "source": [
    "data"
   ]
  },
  {
   "cell_type": "code",
   "execution_count": 59,
   "metadata": {},
   "outputs": [],
   "source": [
    "data['activity'] = data['activity'] - 1"
   ]
  },
  {
   "cell_type": "code",
   "execution_count": 60,
   "metadata": {},
   "outputs": [
    {
     "name": "stdout",
     "output_type": "stream",
     "text": [
      "75\n"
     ]
    }
   ],
   "source": [
    "# check for unique subjects\n",
    "print(data['subject_id'].nunique())"
   ]
  },
  {
   "cell_type": "code",
   "execution_count": 61,
   "metadata": {},
   "outputs": [
    {
     "data": {
      "text/html": [
       "<div>\n",
       "<style scoped>\n",
       "    .dataframe tbody tr th:only-of-type {\n",
       "        vertical-align: middle;\n",
       "    }\n",
       "\n",
       "    .dataframe tbody tr th {\n",
       "        vertical-align: top;\n",
       "    }\n",
       "\n",
       "    .dataframe thead th {\n",
       "        text-align: right;\n",
       "    }\n",
       "</style>\n",
       "<table border=\"1\" class=\"dataframe\">\n",
       "  <thead>\n",
       "    <tr style=\"text-align: right;\">\n",
       "      <th></th>\n",
       "      <th>subject_id</th>\n",
       "      <th>acc_x</th>\n",
       "      <th>acc_y</th>\n",
       "      <th>acc_z</th>\n",
       "      <th>activity</th>\n",
       "    </tr>\n",
       "  </thead>\n",
       "  <tbody>\n",
       "    <tr>\n",
       "      <th>0</th>\n",
       "      <td>0</td>\n",
       "      <td>0.990278</td>\n",
       "      <td>-0.337500</td>\n",
       "      <td>0.022222</td>\n",
       "      <td>0</td>\n",
       "    </tr>\n",
       "    <tr>\n",
       "      <th>1</th>\n",
       "      <td>0</td>\n",
       "      <td>0.986111</td>\n",
       "      <td>-0.340278</td>\n",
       "      <td>0.012500</td>\n",
       "      <td>0</td>\n",
       "    </tr>\n",
       "    <tr>\n",
       "      <th>2</th>\n",
       "      <td>0</td>\n",
       "      <td>0.987500</td>\n",
       "      <td>-0.333333</td>\n",
       "      <td>0.011111</td>\n",
       "      <td>0</td>\n",
       "    </tr>\n",
       "    <tr>\n",
       "      <th>3</th>\n",
       "      <td>0</td>\n",
       "      <td>0.988889</td>\n",
       "      <td>-0.327778</td>\n",
       "      <td>0.012500</td>\n",
       "      <td>0</td>\n",
       "    </tr>\n",
       "    <tr>\n",
       "      <th>4</th>\n",
       "      <td>0</td>\n",
       "      <td>0.986111</td>\n",
       "      <td>-0.333333</td>\n",
       "      <td>0.009722</td>\n",
       "      <td>0</td>\n",
       "    </tr>\n",
       "    <tr>\n",
       "      <th>...</th>\n",
       "      <td>...</td>\n",
       "      <td>...</td>\n",
       "      <td>...</td>\n",
       "      <td>...</td>\n",
       "      <td>...</td>\n",
       "    </tr>\n",
       "    <tr>\n",
       "      <th>5267476</th>\n",
       "      <td>68</td>\n",
       "      <td>0.908386</td>\n",
       "      <td>-0.423054</td>\n",
       "      <td>-0.092933</td>\n",
       "      <td>5</td>\n",
       "    </tr>\n",
       "    <tr>\n",
       "      <th>5267477</th>\n",
       "      <td>68</td>\n",
       "      <td>0.898984</td>\n",
       "      <td>-0.392272</td>\n",
       "      <td>-0.063138</td>\n",
       "      <td>5</td>\n",
       "    </tr>\n",
       "    <tr>\n",
       "      <th>5267478</th>\n",
       "      <td>68</td>\n",
       "      <td>0.918862</td>\n",
       "      <td>-0.351680</td>\n",
       "      <td>-0.072539</td>\n",
       "      <td>5</td>\n",
       "    </tr>\n",
       "    <tr>\n",
       "      <th>5267479</th>\n",
       "      <td>68</td>\n",
       "      <td>0.949475</td>\n",
       "      <td>-0.267526</td>\n",
       "      <td>-0.050975</td>\n",
       "      <td>5</td>\n",
       "    </tr>\n",
       "    <tr>\n",
       "      <th>5267480</th>\n",
       "      <td>68</td>\n",
       "      <td>0.957835</td>\n",
       "      <td>-0.194160</td>\n",
       "      <td>-0.028925</td>\n",
       "      <td>5</td>\n",
       "    </tr>\n",
       "  </tbody>\n",
       "</table>\n",
       "<p>5267481 rows × 5 columns</p>\n",
       "</div>"
      ],
      "text/plain": [
       "         subject_id     acc_x     acc_y     acc_z  activity\n",
       "0                 0  0.990278 -0.337500  0.022222         0\n",
       "1                 0  0.986111 -0.340278  0.012500         0\n",
       "2                 0  0.987500 -0.333333  0.011111         0\n",
       "3                 0  0.988889 -0.327778  0.012500         0\n",
       "4                 0  0.986111 -0.333333  0.009722         0\n",
       "...             ...       ...       ...       ...       ...\n",
       "5267476          68  0.908386 -0.423054 -0.092933         5\n",
       "5267477          68  0.898984 -0.392272 -0.063138         5\n",
       "5267478          68  0.918862 -0.351680 -0.072539         5\n",
       "5267479          68  0.949475 -0.267526 -0.050975         5\n",
       "5267480          68  0.957835 -0.194160 -0.028925         5\n",
       "\n",
       "[5267481 rows x 5 columns]"
      ]
     },
     "execution_count": 61,
     "metadata": {},
     "output_type": "execute_result"
    }
   ],
   "source": [
    "data"
   ]
  },
  {
   "cell_type": "code",
   "execution_count": 62,
   "metadata": {},
   "outputs": [
    {
     "data": {
      "text/plain": [
       "array([0, 1, 2, 3, 4, 5, 6, 7], dtype=int64)"
      ]
     },
     "execution_count": 62,
     "metadata": {},
     "output_type": "execute_result"
    }
   ],
   "source": [
    "data['activity'].unique()"
   ]
  },
  {
   "cell_type": "code",
   "execution_count": 63,
   "metadata": {},
   "outputs": [],
   "source": [
    "# z-normalization of acc_x, acc_y, and acc_z\n",
    "data['acc_x'] = (data['acc_x'] - data['acc_x'].mean()) / data['acc_x'].std()\n",
    "data['acc_y'] = (data['acc_y'] - data['acc_y'].mean()) / data['acc_y'].std()\n",
    "data['acc_z'] = (data['acc_z'] - data['acc_z'].mean()) / data['acc_z'].std()"
   ]
  },
  {
   "cell_type": "markdown",
   "metadata": {},
   "source": [
    "## Partitioned the Data for Train and Test"
   ]
  },
  {
   "cell_type": "code",
   "execution_count": 64,
   "metadata": {},
   "outputs": [
    {
     "data": {
      "text/plain": [
       "array([ 9,  7, 26, 29,  1, 32, 44, 35, 30, 41, 60, 58, 57, 68, 47],\n",
       "      dtype=int64)"
      ]
     },
     "execution_count": 64,
     "metadata": {},
     "output_type": "execute_result"
    }
   ],
   "source": [
    "public_subject"
   ]
  },
  {
   "cell_type": "code",
   "execution_count": 65,
   "metadata": {},
   "outputs": [
    {
     "data": {
      "text/plain": [
       "array([ 0,  2,  3,  4,  5,  6,  8, 10, 11, 12, 13, 14, 15, 16, 17, 18, 19,\n",
       "       20, 21, 22, 23, 24, 25, 27, 28, 31, 33, 34, 36, 37, 38, 39, 40, 42,\n",
       "       43, 45, 46, 48, 49, 50, 51, 52, 53, 54, 55, 56, 59, 61, 62, 63, 64,\n",
       "       65, 66, 67, 69, 70, 71, 72, 73, 74], dtype=int64)"
      ]
     },
     "execution_count": 65,
     "metadata": {},
     "output_type": "execute_result"
    }
   ],
   "source": [
    "private_subject = data['subject_id'].unique()\n",
    "private_subject = np.setdiff1d(private_subject, public_subject)\n",
    "private_subject"
   ]
  },
  {
   "cell_type": "code",
   "execution_count": 66,
   "metadata": {},
   "outputs": [
    {
     "name": "stdout",
     "output_type": "stream",
     "text": [
      "Shape of server_data: (1435625, 5)\n",
      "Shape of data: (3831856, 5)\n"
     ]
    }
   ],
   "source": [
    "# remove public_subject from the data\n",
    "server_data = data[data['subject_id'].isin(public_subject)]\n",
    "data = data[~data['subject_id'].isin(public_subject)]\n",
    "\n",
    "# print the shape of server_data and data\n",
    "print(\"Shape of server_data:\", server_data.shape)\n",
    "print(\"Shape of data:\", data.shape)"
   ]
  },
  {
   "cell_type": "code",
   "execution_count": 67,
   "metadata": {},
   "outputs": [
    {
     "data": {
      "text/plain": [
       "activity\n",
       "2    221113\n",
       "0    219593\n",
       "3    217763\n",
       "1    217579\n",
       "5    194136\n",
       "4    175957\n",
       "6    165578\n",
       "7     23906\n",
       "Name: count, dtype: int64"
      ]
     },
     "execution_count": 67,
     "metadata": {},
     "output_type": "execute_result"
    }
   ],
   "source": [
    "# print the count of labels for server_data\n",
    "server_data['activity'].value_counts()"
   ]
  },
  {
   "cell_type": "code",
   "execution_count": 68,
   "metadata": {},
   "outputs": [
    {
     "data": {
      "text/plain": [
       "0.7274551156425624"
      ]
     },
     "execution_count": 68,
     "metadata": {},
     "output_type": "execute_result"
    }
   ],
   "source": [
    "data.shape[0] / (data.shape[0] + server_data.shape[0])"
   ]
  },
  {
   "cell_type": "code",
   "execution_count": 69,
   "metadata": {},
   "outputs": [],
   "source": [
    "# disabiling the warnings\n",
    "import warnings\n",
    "warnings.filterwarnings(\"ignore\")"
   ]
  },
  {
   "cell_type": "code",
   "execution_count": 70,
   "metadata": {},
   "outputs": [
    {
     "name": "stdout",
     "output_type": "stream",
     "text": [
      "Subject: 0\n",
      "Test: (5084, 4)\n",
      "Unlabelled Train: (20335, 4)\n",
      "Subject: 2\n",
      "Test: (4976, 4)\n",
      "Unlabelled Train: (19902, 4)\n",
      "Subject: 3\n",
      "Test: (4567, 4)\n",
      "Unlabelled Train: (18266, 4)\n",
      "Subject: 4\n",
      "Test: (4416, 4)\n",
      "Unlabelled Train: (17663, 4)\n",
      "Subject: 5\n",
      "Test: (4683, 4)\n",
      "Unlabelled Train: (18729, 4)\n",
      "Subject: 6\n",
      "Test: (4444, 4)\n",
      "Unlabelled Train: (17776, 4)\n",
      "Subject: 8\n",
      "Test: (4390, 4)\n",
      "Unlabelled Train: (17557, 4)\n",
      "Subject: 10\n",
      "Test: (4643, 4)\n",
      "Unlabelled Train: (18571, 4)\n",
      "Subject: 11\n",
      "Test: (4736, 4)\n",
      "Unlabelled Train: (18940, 4)\n",
      "Subject: 12\n",
      "Test: (4762, 4)\n",
      "Unlabelled Train: (19047, 4)\n",
      "Subject: 13\n",
      "Test: (4653, 4)\n",
      "Unlabelled Train: (18612, 4)\n",
      "Subject: 14\n",
      "Test: (4823, 4)\n",
      "Unlabelled Train: (19292, 4)\n",
      "Subject: 15\n",
      "Test: (5194, 4)\n",
      "Unlabelled Train: (20775, 4)\n",
      "Subject: 16\n",
      "Test: (5384, 4)\n",
      "Unlabelled Train: (21532, 4)\n",
      "Subject: 17\n",
      "Test: (5387, 4)\n",
      "Unlabelled Train: (21547, 4)\n",
      "Subject: 18\n",
      "Test: (5183, 4)\n",
      "Unlabelled Train: (20731, 4)\n",
      "Subject: 19\n",
      "Test: (5142, 4)\n",
      "Unlabelled Train: (20565, 4)\n",
      "Subject: 20\n",
      "Test: (5844, 4)\n",
      "Unlabelled Train: (23376, 4)\n",
      "Subject: 21\n",
      "Test: (4702, 4)\n",
      "Unlabelled Train: (18808, 4)\n",
      "Subject: 22\n",
      "Test: (5301, 4)\n",
      "Unlabelled Train: (21200, 4)\n",
      "Subject: 23\n",
      "Test: (5491, 4)\n",
      "Unlabelled Train: (21964, 4)\n",
      "Subject: 24\n",
      "Test: (5807, 4)\n",
      "Unlabelled Train: (23228, 4)\n",
      "Subject: 25\n",
      "Test: (5606, 4)\n",
      "Unlabelled Train: (22421, 4)\n",
      "Subject: 27\n",
      "Test: (5458, 4)\n",
      "Unlabelled Train: (21832, 4)\n",
      "Subject: 28\n",
      "Test: (4974, 4)\n",
      "Unlabelled Train: (19895, 4)\n",
      "Subject: 31\n",
      "Test: (33713, 4)\n",
      "Unlabelled Train: (134852, 4)\n",
      "Subject: 33\n",
      "Test: (41499, 4)\n",
      "Unlabelled Train: (165993, 4)\n",
      "Subject: 34\n",
      "Test: (49165, 4)\n",
      "Unlabelled Train: (196657, 4)\n",
      "Subject: 36\n",
      "Test: (37849, 4)\n",
      "Unlabelled Train: (151394, 4)\n",
      "Subject: 37\n",
      "Test: (48765, 4)\n",
      "Unlabelled Train: (195058, 4)\n",
      "Subject: 38\n",
      "Test: (44890, 4)\n",
      "Unlabelled Train: (179559, 4)\n",
      "Subject: 39\n",
      "Test: (42052, 4)\n",
      "Unlabelled Train: (168208, 4)\n",
      "Subject: 40\n",
      "Test: (44053, 4)\n",
      "Unlabelled Train: (176209, 4)\n",
      "Subject: 42\n",
      "Test: (43728, 4)\n",
      "Unlabelled Train: (174908, 4)\n",
      "Subject: 43\n",
      "Test: (35857, 4)\n",
      "Unlabelled Train: (143425, 4)\n",
      "Subject: 45\n",
      "Test: (8884, 4)\n",
      "Unlabelled Train: (35532, 4)\n",
      "Subject: 46\n",
      "Test: (7732, 4)\n",
      "Unlabelled Train: (30924, 4)\n",
      "Subject: 48\n",
      "Test: (8116, 4)\n",
      "Unlabelled Train: (32460, 4)\n",
      "Subject: 49\n",
      "Test: (7732, 4)\n",
      "Unlabelled Train: (30924, 4)\n",
      "Subject: 50\n",
      "Test: (8320, 4)\n",
      "Unlabelled Train: (33280, 4)\n",
      "Subject: 51\n",
      "Test: (7885, 4)\n",
      "Unlabelled Train: (31539, 4)\n",
      "Subject: 52\n",
      "Test: (7194, 4)\n",
      "Unlabelled Train: (28774, 4)\n",
      "Subject: 53\n",
      "Test: (7373, 4)\n",
      "Unlabelled Train: (29491, 4)\n",
      "Subject: 54\n",
      "Test: (7527, 4)\n",
      "Unlabelled Train: (30105, 4)\n",
      "Subject: 55\n",
      "Test: (8090, 4)\n",
      "Unlabelled Train: (32358, 4)\n",
      "Subject: 56\n",
      "Test: (8192, 4)\n",
      "Unlabelled Train: (32768, 4)\n",
      "Subject: 59\n",
      "Test: (8397, 4)\n",
      "Unlabelled Train: (33587, 4)\n",
      "Subject: 61\n",
      "Test: (9421, 4)\n",
      "Unlabelled Train: (37683, 4)\n",
      "Subject: 62\n",
      "Test: (9319, 4)\n",
      "Unlabelled Train: (37273, 4)\n",
      "Subject: 63\n",
      "Test: (9216, 4)\n",
      "Unlabelled Train: (36864, 4)\n",
      "Subject: 64\n",
      "Test: (9063, 4)\n",
      "Unlabelled Train: (36249, 4)\n",
      "Subject: 65\n",
      "Test: (10445, 4)\n",
      "Unlabelled Train: (41779, 4)\n",
      "Subject: 66\n",
      "Test: (8218, 4)\n",
      "Unlabelled Train: (32870, 4)\n",
      "Subject: 67\n",
      "Test: (9524, 4)\n",
      "Unlabelled Train: (38092, 4)\n",
      "Subject: 69\n",
      "Test: (10471, 4)\n",
      "Unlabelled Train: (41881, 4)\n",
      "Subject: 70\n",
      "Test: (10036, 4)\n",
      "Unlabelled Train: (40140, 4)\n",
      "Subject: 71\n",
      "Test: (9626, 4)\n",
      "Unlabelled Train: (38502, 4)\n",
      "Subject: 72\n",
      "Test: (9780, 4)\n",
      "Unlabelled Train: (39116, 4)\n",
      "Subject: 73\n",
      "Test: (8807, 4)\n",
      "Unlabelled Train: (35225, 4)\n",
      "Subject: 74\n",
      "Test: (9805, 4)\n",
      "Unlabelled Train: (39219, 4)\n"
     ]
    }
   ],
   "source": [
    "from sklearn.model_selection import StratifiedShuffleSplit\n",
    "import numpy as np\n",
    "\n",
    "data_test = {}\n",
    "data_unlabelled_train = {}\n",
    "\n",
    "# Initialize StratifiedShuffleSplit\n",
    "sss = StratifiedShuffleSplit(n_splits=1, test_size=0.2, random_state=42)\n",
    "\n",
    "for subject in np.sort(data['subject_id'].unique()):\n",
    "    subject_data = data[data['subject_id'] == subject]\n",
    "    labels = subject_data['activity'].values  # Assuming 'label' is your class label column\n",
    "\n",
    "    # Drop the subject_id column\n",
    "    subject_data = subject_data.drop(columns=['subject_id'])\n",
    "    \n",
    "    # Perform stratified split for train and test\n",
    "    for train_index, test_index in sss.split(subject_data, labels):\n",
    "        train_data, test_data = subject_data.iloc[train_index], subject_data.iloc[test_index]\n",
    "        train_labels = labels[train_index]\n",
    "    \n",
    "    # Store splits\n",
    "    data_test[subject] = test_data\n",
    "    data_unlabelled_train[subject] = train_data\n",
    "\n",
    "# Verify the split\n",
    "for subject in np.sort(data['subject_id'].unique()):\n",
    "    print('Subject:', subject)\n",
    "    print('Test:', data_test[subject].shape)\n",
    "    print('Unlabelled Train:', data_unlabelled_train[subject].shape)"
   ]
  },
  {
   "cell_type": "markdown",
   "metadata": {},
   "source": [
    "## Windowing the Data"
   ]
  },
  {
   "cell_type": "code",
   "execution_count": 71,
   "metadata": {},
   "outputs": [],
   "source": [
    "def sliding_window_samples(data, samples_per_window, overlap_ratio):\n",
    "    \"\"\"\n",
    "    Return a sliding window measured in number of samples over a data array along with the mode label for each window.\n",
    "\n",
    "    :param data: input array, can be numpy or pandas dataframe\n",
    "    :param samples_per_window: window length as number of samples\n",
    "    :param overlap_ratio: overlap is meant as percentage and should be an integer value\n",
    "    :return: tuple of windows, indices, and labels\n",
    "    \"\"\"\n",
    "    windows = []\n",
    "    indices = []\n",
    "    labels = []\n",
    "    curr = 0\n",
    "    win_len = int(samples_per_window)\n",
    "    if overlap_ratio is not None:\n",
    "        overlapping_elements = int((overlap_ratio / 100) * win_len)\n",
    "        if overlapping_elements >= win_len:\n",
    "            print('Number of overlapping elements exceeds window size.')\n",
    "            return\n",
    "    while curr < len(data) - win_len:\n",
    "        window = data[curr:curr + win_len]\n",
    "        windows.append(window.iloc[:, :-1])  # Exclude the last column which is the label\n",
    "        indices.append([curr, curr + win_len])\n",
    "        \n",
    "        # Extract and compute the mode of the encoded labels for the current window\n",
    "        window_labels = window['activity']\n",
    "        mode_result = mode(window_labels)\n",
    "        window_label = mode_result[0] if mode_result[0].size > 0 else mode_result\n",
    "        labels.append(window_label)\n",
    "\n",
    "        curr += win_len - overlapping_elements\n",
    "\n",
    "    result_windows = np.array(windows)\n",
    "    result_indices = np.array(indices)\n",
    "    result_labels = np.array(labels)\n",
    "    return result_windows, result_indices, result_labels"
   ]
  },
  {
   "cell_type": "code",
   "execution_count": 72,
   "metadata": {},
   "outputs": [
    {
     "name": "stdout",
     "output_type": "stream",
     "text": [
      "Window size: 128.0\n",
      "Overlap ratio %: 50\n",
      "Subject: 0 Unlabelled Train Data shape: (316, 128, 3) Unlabelled Train Labels shape: (316,)\n",
      "Subject: 0 Test Data shape: (78, 128, 3) Test Labels shape: (78,)\n",
      "Subject: 2 Unlabelled Train Data shape: (309, 128, 3) Unlabelled Train Labels shape: (309,)\n",
      "Subject: 2 Test Data shape: (76, 128, 3) Test Labels shape: (76,)\n",
      "Subject: 3 Unlabelled Train Data shape: (284, 128, 3) Unlabelled Train Labels shape: (284,)\n",
      "Subject: 3 Test Data shape: (70, 128, 3) Test Labels shape: (70,)\n",
      "Subject: 4 Unlabelled Train Data shape: (274, 128, 3) Unlabelled Train Labels shape: (274,)\n",
      "Subject: 4 Test Data shape: (67, 128, 3) Test Labels shape: (67,)\n",
      "Subject: 5 Unlabelled Train Data shape: (291, 128, 3) Unlabelled Train Labels shape: (291,)\n",
      "Subject: 5 Test Data shape: (72, 128, 3) Test Labels shape: (72,)\n",
      "Subject: 6 Unlabelled Train Data shape: (276, 128, 3) Unlabelled Train Labels shape: (276,)\n",
      "Subject: 6 Test Data shape: (68, 128, 3) Test Labels shape: (68,)\n",
      "Subject: 8 Unlabelled Train Data shape: (273, 128, 3) Unlabelled Train Labels shape: (273,)\n",
      "Subject: 8 Test Data shape: (67, 128, 3) Test Labels shape: (67,)\n",
      "Subject: 10 Unlabelled Train Data shape: (289, 128, 3) Unlabelled Train Labels shape: (289,)\n",
      "Subject: 10 Test Data shape: (71, 128, 3) Test Labels shape: (71,)\n",
      "Subject: 11 Unlabelled Train Data shape: (294, 128, 3) Unlabelled Train Labels shape: (294,)\n",
      "Subject: 11 Test Data shape: (72, 128, 3) Test Labels shape: (72,)\n",
      "Subject: 12 Unlabelled Train Data shape: (296, 128, 3) Unlabelled Train Labels shape: (296,)\n",
      "Subject: 12 Test Data shape: (73, 128, 3) Test Labels shape: (73,)\n",
      "Subject: 13 Unlabelled Train Data shape: (289, 128, 3) Unlabelled Train Labels shape: (289,)\n",
      "Subject: 13 Test Data shape: (71, 128, 3) Test Labels shape: (71,)\n",
      "Subject: 14 Unlabelled Train Data shape: (300, 128, 3) Unlabelled Train Labels shape: (300,)\n",
      "Subject: 14 Test Data shape: (74, 128, 3) Test Labels shape: (74,)\n",
      "Subject: 15 Unlabelled Train Data shape: (323, 128, 3) Unlabelled Train Labels shape: (323,)\n",
      "Subject: 15 Test Data shape: (80, 128, 3) Test Labels shape: (80,)\n",
      "Subject: 16 Unlabelled Train Data shape: (335, 128, 3) Unlabelled Train Labels shape: (335,)\n",
      "Subject: 16 Test Data shape: (83, 128, 3) Test Labels shape: (83,)\n",
      "Subject: 17 Unlabelled Train Data shape: (335, 128, 3) Unlabelled Train Labels shape: (335,)\n",
      "Subject: 17 Test Data shape: (83, 128, 3) Test Labels shape: (83,)\n",
      "Subject: 18 Unlabelled Train Data shape: (322, 128, 3) Unlabelled Train Labels shape: (322,)\n",
      "Subject: 18 Test Data shape: (79, 128, 3) Test Labels shape: (79,)\n",
      "Subject: 19 Unlabelled Train Data shape: (320, 128, 3) Unlabelled Train Labels shape: (320,)\n",
      "Subject: 19 Test Data shape: (79, 128, 3) Test Labels shape: (79,)\n",
      "Subject: 20 Unlabelled Train Data shape: (364, 128, 3) Unlabelled Train Labels shape: (364,)\n",
      "Subject: 20 Test Data shape: (90, 128, 3) Test Labels shape: (90,)\n",
      "Subject: 21 Unlabelled Train Data shape: (292, 128, 3) Unlabelled Train Labels shape: (292,)\n",
      "Subject: 21 Test Data shape: (72, 128, 3) Test Labels shape: (72,)\n",
      "Subject: 22 Unlabelled Train Data shape: (330, 128, 3) Unlabelled Train Labels shape: (330,)\n",
      "Subject: 22 Test Data shape: (81, 128, 3) Test Labels shape: (81,)\n",
      "Subject: 23 Unlabelled Train Data shape: (342, 128, 3) Unlabelled Train Labels shape: (342,)\n",
      "Subject: 23 Test Data shape: (84, 128, 3) Test Labels shape: (84,)\n",
      "Subject: 24 Unlabelled Train Data shape: (361, 128, 3) Unlabelled Train Labels shape: (361,)\n",
      "Subject: 24 Test Data shape: (89, 128, 3) Test Labels shape: (89,)\n",
      "Subject: 25 Unlabelled Train Data shape: (349, 128, 3) Unlabelled Train Labels shape: (349,)\n",
      "Subject: 25 Test Data shape: (86, 128, 3) Test Labels shape: (86,)\n",
      "Subject: 27 Unlabelled Train Data shape: (340, 128, 3) Unlabelled Train Labels shape: (340,)\n",
      "Subject: 27 Test Data shape: (84, 128, 3) Test Labels shape: (84,)\n",
      "Subject: 28 Unlabelled Train Data shape: (309, 128, 3) Unlabelled Train Labels shape: (309,)\n",
      "Subject: 28 Test Data shape: (76, 128, 3) Test Labels shape: (76,)\n",
      "Subject: 31 Unlabelled Train Data shape: (2106, 128, 3) Unlabelled Train Labels shape: (2106,)\n",
      "Subject: 31 Test Data shape: (525, 128, 3) Test Labels shape: (525,)\n",
      "Subject: 33 Unlabelled Train Data shape: (2592, 128, 3) Unlabelled Train Labels shape: (2592,)\n",
      "Subject: 33 Test Data shape: (647, 128, 3) Test Labels shape: (647,)\n",
      "Subject: 34 Unlabelled Train Data shape: (3071, 128, 3) Unlabelled Train Labels shape: (3071,)\n",
      "Subject: 34 Test Data shape: (767, 128, 3) Test Labels shape: (767,)\n",
      "Subject: 36 Unlabelled Train Data shape: (2364, 128, 3) Unlabelled Train Labels shape: (2364,)\n",
      "Subject: 36 Test Data shape: (590, 128, 3) Test Labels shape: (590,)\n",
      "Subject: 37 Unlabelled Train Data shape: (3046, 128, 3) Unlabelled Train Labels shape: (3046,)\n",
      "Subject: 37 Test Data shape: (760, 128, 3) Test Labels shape: (760,)\n",
      "Subject: 38 Unlabelled Train Data shape: (2804, 128, 3) Unlabelled Train Labels shape: (2804,)\n",
      "Subject: 38 Test Data shape: (700, 128, 3) Test Labels shape: (700,)\n",
      "Subject: 39 Unlabelled Train Data shape: (2627, 128, 3) Unlabelled Train Labels shape: (2627,)\n",
      "Subject: 39 Test Data shape: (656, 128, 3) Test Labels shape: (656,)\n",
      "Subject: 40 Unlabelled Train Data shape: (2752, 128, 3) Unlabelled Train Labels shape: (2752,)\n",
      "Subject: 40 Test Data shape: (687, 128, 3) Test Labels shape: (687,)\n",
      "Subject: 42 Unlabelled Train Data shape: (2731, 128, 3) Unlabelled Train Labels shape: (2731,)\n",
      "Subject: 42 Test Data shape: (682, 128, 3) Test Labels shape: (682,)\n",
      "Subject: 43 Unlabelled Train Data shape: (2240, 128, 3) Unlabelled Train Labels shape: (2240,)\n",
      "Subject: 43 Test Data shape: (559, 128, 3) Test Labels shape: (559,)\n",
      "Subject: 45 Unlabelled Train Data shape: (554, 128, 3) Unlabelled Train Labels shape: (554,)\n",
      "Subject: 45 Test Data shape: (137, 128, 3) Test Labels shape: (137,)\n",
      "Subject: 46 Unlabelled Train Data shape: (482, 128, 3) Unlabelled Train Labels shape: (482,)\n",
      "Subject: 46 Test Data shape: (119, 128, 3) Test Labels shape: (119,)\n",
      "Subject: 48 Unlabelled Train Data shape: (506, 128, 3) Unlabelled Train Labels shape: (506,)\n",
      "Subject: 48 Test Data shape: (125, 128, 3) Test Labels shape: (125,)\n",
      "Subject: 49 Unlabelled Train Data shape: (482, 128, 3) Unlabelled Train Labels shape: (482,)\n",
      "Subject: 49 Test Data shape: (119, 128, 3) Test Labels shape: (119,)\n",
      "Subject: 50 Unlabelled Train Data shape: (518, 128, 3) Unlabelled Train Labels shape: (518,)\n",
      "Subject: 50 Test Data shape: (128, 128, 3) Test Labels shape: (128,)\n",
      "Subject: 51 Unlabelled Train Data shape: (491, 128, 3) Unlabelled Train Labels shape: (491,)\n",
      "Subject: 51 Test Data shape: (122, 128, 3) Test Labels shape: (122,)\n",
      "Subject: 52 Unlabelled Train Data shape: (448, 128, 3) Unlabelled Train Labels shape: (448,)\n",
      "Subject: 52 Test Data shape: (111, 128, 3) Test Labels shape: (111,)\n",
      "Subject: 53 Unlabelled Train Data shape: (459, 128, 3) Unlabelled Train Labels shape: (459,)\n",
      "Subject: 53 Test Data shape: (114, 128, 3) Test Labels shape: (114,)\n",
      "Subject: 54 Unlabelled Train Data shape: (469, 128, 3) Unlabelled Train Labels shape: (469,)\n",
      "Subject: 54 Test Data shape: (116, 128, 3) Test Labels shape: (116,)\n",
      "Subject: 55 Unlabelled Train Data shape: (504, 128, 3) Unlabelled Train Labels shape: (504,)\n",
      "Subject: 55 Test Data shape: (125, 128, 3) Test Labels shape: (125,)\n",
      "Subject: 56 Unlabelled Train Data shape: (510, 128, 3) Unlabelled Train Labels shape: (510,)\n",
      "Subject: 56 Test Data shape: (126, 128, 3) Test Labels shape: (126,)\n",
      "Subject: 59 Unlabelled Train Data shape: (523, 128, 3) Unlabelled Train Labels shape: (523,)\n",
      "Subject: 59 Test Data shape: (130, 128, 3) Test Labels shape: (130,)\n",
      "Subject: 61 Unlabelled Train Data shape: (587, 128, 3) Unlabelled Train Labels shape: (587,)\n",
      "Subject: 61 Test Data shape: (146, 128, 3) Test Labels shape: (146,)\n",
      "Subject: 62 Unlabelled Train Data shape: (581, 128, 3) Unlabelled Train Labels shape: (581,)\n",
      "Subject: 62 Test Data shape: (144, 128, 3) Test Labels shape: (144,)\n",
      "Subject: 63 Unlabelled Train Data shape: (574, 128, 3) Unlabelled Train Labels shape: (574,)\n",
      "Subject: 63 Test Data shape: (142, 128, 3) Test Labels shape: (142,)\n",
      "Subject: 64 Unlabelled Train Data shape: (565, 128, 3) Unlabelled Train Labels shape: (565,)\n",
      "Subject: 64 Test Data shape: (140, 128, 3) Test Labels shape: (140,)\n",
      "Subject: 65 Unlabelled Train Data shape: (651, 128, 3) Unlabelled Train Labels shape: (651,)\n",
      "Subject: 65 Test Data shape: (162, 128, 3) Test Labels shape: (162,)\n",
      "Subject: 66 Unlabelled Train Data shape: (512, 128, 3) Unlabelled Train Labels shape: (512,)\n",
      "Subject: 66 Test Data shape: (127, 128, 3) Test Labels shape: (127,)\n",
      "Subject: 67 Unlabelled Train Data shape: (594, 128, 3) Unlabelled Train Labels shape: (594,)\n",
      "Subject: 67 Test Data shape: (147, 128, 3) Test Labels shape: (147,)\n",
      "Subject: 69 Unlabelled Train Data shape: (653, 128, 3) Unlabelled Train Labels shape: (653,)\n",
      "Subject: 69 Test Data shape: (162, 128, 3) Test Labels shape: (162,)\n",
      "Subject: 70 Unlabelled Train Data shape: (626, 128, 3) Unlabelled Train Labels shape: (626,)\n",
      "Subject: 70 Test Data shape: (155, 128, 3) Test Labels shape: (155,)\n",
      "Subject: 71 Unlabelled Train Data shape: (600, 128, 3) Unlabelled Train Labels shape: (600,)\n",
      "Subject: 71 Test Data shape: (149, 128, 3) Test Labels shape: (149,)\n",
      "Subject: 72 Unlabelled Train Data shape: (610, 128, 3) Unlabelled Train Labels shape: (610,)\n",
      "Subject: 72 Test Data shape: (151, 128, 3) Test Labels shape: (151,)\n",
      "Subject: 73 Unlabelled Train Data shape: (549, 128, 3) Unlabelled Train Labels shape: (549,)\n",
      "Subject: 73 Test Data shape: (136, 128, 3) Test Labels shape: (136,)\n",
      "Subject: 74 Unlabelled Train Data shape: (611, 128, 3) Unlabelled Train Labels shape: (611,)\n",
      "Subject: 74 Test Data shape: (152, 128, 3) Test Labels shape: (152,)\n"
     ]
    }
   ],
   "source": [
    "# windowing the data for each subject\n",
    "sampling_rate = 50\n",
    "time_window = 2.56\n",
    "window_size = sampling_rate * time_window\n",
    "overlap_ratio = 50 # 50% overlap\n",
    "\n",
    "print('Window size:', window_size)\n",
    "print('Overlap ratio %:', overlap_ratio)\n",
    "\n",
    "windowed_unlabelled_train_x = []\n",
    "windowed_test_x = []\n",
    "windowed_unlabelled_train_y = []\n",
    "windowed_test_y = []\n",
    "\n",
    "# Iterate over each client and apply the sliding window\n",
    "for subject in np.sort(data['subject_id'].unique()):\n",
    "    unlabelled_train_data = data_unlabelled_train[subject]\n",
    "    test_data = data_test[subject]\n",
    "    unlabelled_train_windows, _, unlabelled_train_labels = sliding_window_samples(unlabelled_train_data, window_size, overlap_ratio)\n",
    "    test_windows, _, test_labels = sliding_window_samples(test_data, window_size, overlap_ratio)\n",
    "\n",
    "    windowed_unlabelled_train_x.append(unlabelled_train_windows)\n",
    "    windowed_test_x.append(test_windows)\n",
    "\n",
    "    windowed_unlabelled_train_y.append(unlabelled_train_labels)\n",
    "    windowed_test_y.append(test_labels)\n",
    "\n",
    "    print('Subject:', subject, 'Unlabelled Train Data shape:', unlabelled_train_windows.shape, 'Unlabelled Train Labels shape:', unlabelled_train_labels.shape)\n",
    "    print('Subject:', subject, 'Test Data shape:', test_windows.shape, 'Test Labels shape:', test_labels.shape)"
   ]
  },
  {
   "cell_type": "code",
   "execution_count": 73,
   "metadata": {},
   "outputs": [
    {
     "data": {
      "text/plain": [
       "array([[[ 0.64076615,  0.55409497, -0.39327985],\n",
       "        [ 0.64537992,  0.67630908, -0.23801366],\n",
       "        [ 0.65679289,  0.5589966 , -0.34868211],\n",
       "        ...,\n",
       "        [ 0.66019251,  0.5805638 , -0.35487624],\n",
       "        [ 0.66990569,  0.61258782, -0.39493162],\n",
       "        [ 0.65727855,  0.56389824, -0.36189626]],\n",
       "\n",
       "       [[ 0.71361497,  0.52370483, -0.45233055],\n",
       "        [ 0.59292876,  0.63056048, -0.38749866],\n",
       "        [ 0.65193631,  0.59657581, -0.38625983],\n",
       "        ...,\n",
       "        [ 0.66869154,  0.60082389, -0.38584689],\n",
       "        [ 0.63105299,  0.63546212, -0.42053402],\n",
       "        [ 0.66213515,  0.60735941, -0.3259703 ]],\n",
       "\n",
       "       [[ 0.70414462,  0.59494193, -0.34703034],\n",
       "        [ 0.66844871,  0.56324469, -0.40566811],\n",
       "        [ 0.64975084,  0.67402165, -0.25700899],\n",
       "        ...,\n",
       "        [ 0.53610668,  0.82825978, -0.20828183],\n",
       "        [ 0.65582157,  0.56357146, -0.35859272],\n",
       "        [ 0.65047933,  0.67500197, -0.25783487]],\n",
       "\n",
       "       ...,\n",
       "\n",
       "       [[ 0.65582157,  0.55932338, -0.35239859],\n",
       "        [ 0.65557876,  0.56063048, -0.35322447],\n",
       "        [ 0.67913321,  0.57827637, -0.43911641],\n",
       "        ...,\n",
       "        [ 0.69418863,  0.61258782, -0.4399423 ],\n",
       "        [ 0.65970685,  0.57991025, -0.35570213],\n",
       "        [ 0.78306418,  0.47632236, -0.41805637]],\n",
       "\n",
       "       [[ 0.51595183,  0.82205104, -0.17937589],\n",
       "        [ 0.62133981,  0.51945675, -0.37221981],\n",
       "        [ 0.65557876,  0.66846646, -0.28302434],\n",
       "        ...,\n",
       "        [ 0.65824987,  0.6625845 , -0.28797964],\n",
       "        [ 0.64295162,  0.61291459, -0.39699633],\n",
       "        [ 0.63493825,  0.57468184, -0.44861407]],\n",
       "\n",
       "       [[ 0.63420976,  0.58611899, -0.37056804],\n",
       "        [ 0.81536049,  0.60637908, -0.47132589],\n",
       "        [ 0.65970685,  0.57827637, -0.35570213],\n",
       "        ...,\n",
       "        [ 0.6774334 ,  0.5697802 , -0.34413975],\n",
       "        [ 0.65655006,  0.56063048, -0.36107037],\n",
       "        [ 0.50186773,  0.85668927, -0.45604703]]])"
      ]
     },
     "execution_count": 73,
     "metadata": {},
     "output_type": "execute_result"
    }
   ],
   "source": [
    "windowed_unlabelled_train_x[0]"
   ]
  },
  {
   "cell_type": "code",
   "execution_count": 74,
   "metadata": {},
   "outputs": [
    {
     "data": {
      "text/plain": [
       "array([3, 3, 3, 3, 3, 3, 3, 3, 3, 3, 3, 3, 3, 3, 3, 3, 3, 3, 3, 5, 3, 3,\n",
       "       3, 3, 3, 3, 3, 3, 3, 5, 3, 3, 3, 3, 3, 3, 3, 3, 3, 3, 3, 3, 3, 3,\n",
       "       3, 3, 3, 3, 3, 3, 3, 3, 3, 3, 3, 3, 3, 3, 3, 3, 3, 2, 3, 3, 3, 3,\n",
       "       3, 3, 3, 3, 3, 3, 3, 4, 3, 0, 5, 3, 3, 3, 3, 3, 3, 3, 3, 3, 3, 3,\n",
       "       3, 3, 3, 3, 3, 3, 3, 3, 3, 3, 3, 3, 3, 3, 3, 3, 3, 3, 0, 3, 3, 3,\n",
       "       3, 3, 3, 3, 3, 3, 3, 0, 3, 3, 3, 3, 4, 3, 3, 3, 3, 3, 3, 3, 3, 3,\n",
       "       3, 3, 3, 3, 3, 3, 3, 3, 3, 3, 3, 3, 3, 4, 3, 3, 3, 3, 3, 3, 3, 3,\n",
       "       3, 5, 3, 3, 3, 3, 3, 3, 3, 3, 3, 3, 3, 3, 3, 3, 3, 3, 3, 3, 3, 3,\n",
       "       3, 3, 3, 3, 3, 3, 3, 3, 3, 3, 3, 3, 3, 3, 3, 3, 3, 3, 3, 3, 3, 3,\n",
       "       3, 3, 3, 3, 3, 3, 3, 3, 3, 3, 3, 3, 3, 0, 3, 3, 3, 3, 3, 3, 3, 3,\n",
       "       3, 3, 3, 3, 3, 3, 3, 3, 3, 4, 3, 3, 3, 0, 4, 4, 3, 3, 3, 3, 3, 3,\n",
       "       3, 3, 3, 3, 3, 3, 3, 3, 3, 3, 3, 3, 3, 3, 3, 3, 3, 3, 3, 4, 3, 3,\n",
       "       3, 3, 3, 3, 3, 3, 3, 3, 3, 3, 0, 3, 3, 3, 3, 3, 3, 3, 3, 3, 3, 3,\n",
       "       3, 3, 3, 4, 3, 3, 3, 3, 3, 3, 3, 3, 3, 3, 3, 3, 3, 3, 3, 3, 3, 5,\n",
       "       3, 3, 3, 3, 3, 3, 3, 3], dtype=int64)"
      ]
     },
     "execution_count": 74,
     "metadata": {},
     "output_type": "execute_result"
    }
   ],
   "source": [
    "windowed_unlabelled_train_y[0]"
   ]
  },
  {
   "cell_type": "code",
   "execution_count": 75,
   "metadata": {},
   "outputs": [
    {
     "name": "stdout",
     "output_type": "stream",
     "text": [
      "Window size: 128.0\n",
      "Overlap ratio %: 50\n"
     ]
    },
    {
     "name": "stdout",
     "output_type": "stream",
     "text": [
      "Subject: 1 Labelled Train Data shape: (347, 128, 3) Labelled Train Labels shape: (347,)\n",
      "Subject: 7 Labelled Train Data shape: (326, 128, 3) Labelled Train Labels shape: (326,)\n",
      "Subject: 9 Labelled Train Data shape: (338, 128, 3) Labelled Train Labels shape: (338,)\n",
      "Subject: 26 Labelled Train Data shape: (425, 128, 3) Labelled Train Labels shape: (425,)\n",
      "Subject: 29 Labelled Train Data shape: (434, 128, 3) Labelled Train Labels shape: (434,)\n",
      "Subject: 30 Labelled Train Data shape: (3353, 128, 3) Labelled Train Labels shape: (3353,)\n",
      "Subject: 32 Labelled Train Data shape: (3558, 128, 3) Labelled Train Labels shape: (3558,)\n",
      "Subject: 35 Labelled Train Data shape: (3372, 128, 3) Labelled Train Labels shape: (3372,)\n",
      "Subject: 41 Labelled Train Data shape: (3318, 128, 3) Labelled Train Labels shape: (3318,)\n",
      "Subject: 44 Labelled Train Data shape: (3469, 128, 3) Labelled Train Labels shape: (3469,)\n",
      "Subject: 47 Labelled Train Data shape: (680, 128, 3) Labelled Train Labels shape: (680,)\n",
      "Subject: 57 Labelled Train Data shape: (652, 128, 3) Labelled Train Labels shape: (652,)\n",
      "Subject: 58 Labelled Train Data shape: (644, 128, 3) Labelled Train Labels shape: (644,)\n",
      "Subject: 60 Labelled Train Data shape: (730, 128, 3) Labelled Train Labels shape: (730,)\n",
      "Subject: 68 Labelled Train Data shape: (760, 128, 3) Labelled Train Labels shape: (760,)\n"
     ]
    }
   ],
   "source": [
    "# windowing the data for each subject\n",
    "sampling_rate = 50\n",
    "time_window = 2.56\n",
    "window_size = sampling_rate * time_window\n",
    "overlap_ratio = 50 # 50% overlap\n",
    "\n",
    "print('Window size:', window_size)\n",
    "print('Overlap ratio %:', overlap_ratio)\n",
    "\n",
    "windowed_labelled_train_x = []\n",
    "windowed_labelled_train_y = []\n",
    "\n",
    "# Iterate over each client and apply the sliding window\n",
    "for subject in np.sort(server_data['subject_id'].unique()):\n",
    "    unlabelled_train_data = server_data[server_data['subject_id'] == subject]\n",
    "    unlabelled_train_data = unlabelled_train_data.drop(columns=['subject_id'])\n",
    "\n",
    "    labelled_train_windows, _, labelled_train_labels = sliding_window_samples(unlabelled_train_data, window_size, overlap_ratio)\n",
    "\n",
    "    windowed_labelled_train_x.append(labelled_train_windows)\n",
    "    windowed_labelled_train_y.append(labelled_train_labels)\n",
    "\n",
    "    print('Subject:', subject, 'Labelled Train Data shape:', labelled_train_windows.shape, 'Labelled Train Labels shape:', labelled_train_labels.shape)"
   ]
  },
  {
   "cell_type": "markdown",
   "metadata": {},
   "source": [
    "# Saved the FL Data"
   ]
  },
  {
   "cell_type": "code",
   "execution_count": 79,
   "metadata": {},
   "outputs": [
    {
     "name": "stdout",
     "output_type": "stream",
     "text": [
      "[ 1  7  9 26 29 30 32 35 41 44 47 57 58 60 68]\n",
      "[ 0  2  3  4  5  6  8 10 11 12 13 14 15 16 17 18 19 20 21 22 23 24 25 27\n",
      " 28 31 33 34 36 37 38 39 40 42 43 45 46 48 49 50 51 52 53 54 55 56 59 61\n",
      " 62 63 64 65 66 67 69 70 71 72 73 74]\n"
     ]
    }
   ],
   "source": [
    "print(np.sort(public_subject))\n",
    "print(np.sort(private_subject))"
   ]
  },
  {
   "cell_type": "code",
   "execution_count": 76,
   "metadata": {},
   "outputs": [
    {
     "name": "stdout",
     "output_type": "stream",
     "text": [
      "Subject: 1 | idx: 0\n",
      "**************************************************\n",
      "Subject: 7 | idx: 1\n",
      "**************************************************\n",
      "Subject: 9 | idx: 2\n",
      "**************************************************\n",
      "Subject: 26 | idx: 3\n",
      "**************************************************\n",
      "Subject: 29 | idx: 4\n",
      "**************************************************\n",
      "Subject: 30 | idx: 5\n",
      "**************************************************\n",
      "Subject: 32 | idx: 6\n",
      "**************************************************\n",
      "Subject: 35 | idx: 7\n",
      "**************************************************\n",
      "Subject: 41 | idx: 8\n",
      "**************************************************\n",
      "Subject: 44 | idx: 9\n",
      "**************************************************\n",
      "Subject: 47 | idx: 10\n",
      "**************************************************\n",
      "Subject: 57 | idx: 11\n",
      "**************************************************\n",
      "Subject: 58 | idx: 12\n",
      "**************************************************\n",
      "Subject: 60 | idx: 13\n",
      "**************************************************\n",
      "Subject: 68 | idx: 14\n",
      "**************************************************\n",
      "\n",
      "==================================================\n",
      "Test the Save Data\n",
      "==================================================\n",
      "\n",
      "Subject: 1\n",
      "Labelled Train Data: True\n",
      "Labelled Train Labels: True\n",
      "**************************************************\n",
      "Subject: 7\n",
      "Labelled Train Data: True\n",
      "Labelled Train Labels: True\n",
      "**************************************************\n",
      "Subject: 9\n",
      "Labelled Train Data: True\n",
      "Labelled Train Labels: True\n",
      "**************************************************\n",
      "Subject: 26\n",
      "Labelled Train Data: True\n",
      "Labelled Train Labels: True\n",
      "**************************************************\n",
      "Subject: 29\n",
      "Labelled Train Data: True\n",
      "Labelled Train Labels: True\n",
      "**************************************************\n",
      "Subject: 30\n",
      "Labelled Train Data: True\n",
      "Labelled Train Labels: True\n",
      "**************************************************\n",
      "Subject: 32\n",
      "Labelled Train Data: True\n",
      "Labelled Train Labels: True\n",
      "**************************************************\n",
      "Subject: 35\n",
      "Labelled Train Data: True\n",
      "Labelled Train Labels: True\n",
      "**************************************************\n",
      "Subject: 41\n",
      "Labelled Train Data: True\n",
      "Labelled Train Labels: True\n",
      "**************************************************\n",
      "Subject: 44\n",
      "Labelled Train Data: True\n",
      "Labelled Train Labels: True\n",
      "**************************************************\n",
      "Subject: 47\n",
      "Labelled Train Data: True\n",
      "Labelled Train Labels: True\n",
      "**************************************************\n",
      "Subject: 57\n",
      "Labelled Train Data: True\n",
      "Labelled Train Labels: True\n",
      "**************************************************\n",
      "Subject: 58\n",
      "Labelled Train Data: True\n",
      "Labelled Train Labels: True\n",
      "**************************************************\n",
      "Subject: 60\n",
      "Labelled Train Data: True\n",
      "Labelled Train Labels: True\n",
      "**************************************************\n",
      "Subject: 68\n",
      "Labelled Train Data: True\n",
      "Labelled Train Labels: True\n",
      "**************************************************\n"
     ]
    }
   ],
   "source": [
    "### Save labeled train data\n",
    "path = f\"FL_Data/windowed_data_filtered_w_UCI3/subject_\"\n",
    "\n",
    "idx = 0\n",
    "for i in np.sort(public_subject):\n",
    "    subject = i\n",
    "    subject_dir = path + str(subject)\n",
    "    if not os.path.exists(subject_dir):\n",
    "        os.makedirs(subject_dir)\n",
    "    print(f\"Subject: {subject} | idx: {idx}\")\n",
    "    np.save(f\"{subject_dir}/windowed_labelled_train_x.npy\", windowed_labelled_train_x[idx])\n",
    "    np.save(f\"{subject_dir}/windowed_labelled_train_y.npy\", windowed_labelled_train_y[idx])\n",
    "    print('*' * 50)\n",
    "    idx += 1\n",
    "\n",
    "print()\n",
    "print(\"=\"*50)\n",
    "print(\"Test the Save Data\")\n",
    "print(\"=\"*50)\n",
    "print()\n",
    "\n",
    "idx = 0\n",
    "for i in np.sort(public_subject):\n",
    "    subject = i\n",
    "    subject_dir = path + str(subject)\n",
    "    print('Subject:', subject)\n",
    "    print('Labelled Train Data:', np.array_equal(windowed_labelled_train_x[idx], np.load(subject_dir + '/windowed_labelled_train_x.npy')))\n",
    "    print('Labelled Train Labels:', np.array_equal(windowed_labelled_train_y[idx], np.load(subject_dir + '/windowed_labelled_train_y.npy')))\n",
    "    print('*' * 50)\n",
    "    idx += 1"
   ]
  },
  {
   "cell_type": "code",
   "execution_count": 77,
   "metadata": {},
   "outputs": [
    {
     "name": "stdout",
     "output_type": "stream",
     "text": [
      "Subject: 0 | idx: 0\n",
      "**************************************************\n",
      "Subject: 2 | idx: 1\n",
      "**************************************************\n",
      "Subject: 3 | idx: 2\n",
      "**************************************************\n",
      "Subject: 4 | idx: 3\n",
      "**************************************************\n",
      "Subject: 5 | idx: 4\n",
      "**************************************************\n",
      "Subject: 6 | idx: 5\n",
      "**************************************************\n",
      "Subject: 8 | idx: 6\n",
      "**************************************************\n",
      "Subject: 10 | idx: 7\n",
      "**************************************************\n",
      "Subject: 11 | idx: 8\n",
      "**************************************************\n",
      "Subject: 12 | idx: 9\n",
      "**************************************************\n",
      "Subject: 13 | idx: 10\n",
      "**************************************************\n",
      "Subject: 14 | idx: 11\n",
      "**************************************************\n",
      "Subject: 15 | idx: 12\n",
      "**************************************************\n",
      "Subject: 16 | idx: 13\n",
      "**************************************************\n",
      "Subject: 17 | idx: 14\n",
      "**************************************************\n",
      "Subject: 18 | idx: 15\n",
      "**************************************************\n",
      "Subject: 19 | idx: 16\n",
      "**************************************************\n",
      "Subject: 20 | idx: 17\n",
      "**************************************************\n",
      "Subject: 21 | idx: 18\n",
      "**************************************************\n",
      "Subject: 22 | idx: 19\n",
      "**************************************************\n",
      "Subject: 23 | idx: 20\n",
      "**************************************************\n",
      "Subject: 24 | idx: 21\n",
      "**************************************************\n",
      "Subject: 25 | idx: 22\n",
      "**************************************************\n",
      "Subject: 27 | idx: 23\n",
      "**************************************************\n",
      "Subject: 28 | idx: 24\n",
      "**************************************************\n",
      "Subject: 31 | idx: 25\n",
      "**************************************************\n",
      "Subject: 33 | idx: 26\n",
      "**************************************************\n",
      "Subject: 34 | idx: 27\n",
      "**************************************************\n",
      "Subject: 36 | idx: 28\n",
      "**************************************************\n",
      "Subject: 37 | idx: 29\n",
      "**************************************************\n",
      "Subject: 38 | idx: 30\n",
      "**************************************************\n",
      "Subject: 39 | idx: 31\n",
      "**************************************************\n",
      "Subject: 40 | idx: 32\n",
      "**************************************************\n",
      "Subject: 42 | idx: 33\n",
      "**************************************************\n",
      "Subject: 43 | idx: 34\n",
      "**************************************************\n",
      "Subject: 45 | idx: 35\n",
      "**************************************************\n",
      "Subject: 46 | idx: 36\n",
      "**************************************************\n",
      "Subject: 48 | idx: 37\n",
      "**************************************************\n",
      "Subject: 49 | idx: 38\n",
      "**************************************************\n",
      "Subject: 50 | idx: 39\n",
      "**************************************************\n",
      "Subject: 51 | idx: 40\n",
      "**************************************************\n",
      "Subject: 52 | idx: 41\n",
      "**************************************************\n",
      "Subject: 53 | idx: 42\n",
      "**************************************************\n",
      "Subject: 54 | idx: 43\n",
      "**************************************************\n",
      "Subject: 55 | idx: 44\n",
      "**************************************************\n",
      "Subject: 56 | idx: 45\n",
      "**************************************************\n",
      "Subject: 59 | idx: 46\n",
      "**************************************************\n",
      "Subject: 61 | idx: 47\n",
      "**************************************************\n",
      "Subject: 62 | idx: 48\n",
      "**************************************************\n",
      "Subject: 63 | idx: 49\n",
      "**************************************************\n",
      "Subject: 64 | idx: 50\n",
      "**************************************************\n",
      "Subject: 65 | idx: 51\n",
      "**************************************************\n",
      "Subject: 66 | idx: 52\n",
      "**************************************************\n",
      "Subject: 67 | idx: 53\n",
      "**************************************************\n",
      "Subject: 69 | idx: 54\n",
      "**************************************************\n",
      "Subject: 70 | idx: 55\n",
      "**************************************************\n",
      "Subject: 71 | idx: 56\n",
      "**************************************************\n",
      "Subject: 72 | idx: 57\n",
      "**************************************************\n",
      "Subject: 73 | idx: 58\n",
      "**************************************************\n",
      "Subject: 74 | idx: 59\n",
      "**************************************************\n",
      "\n",
      "==================================================\n",
      "Test the Save Data\n",
      "==================================================\n",
      "\n",
      "Subject: 0\n",
      "Unlabelled Train Data: True\n",
      "Unlabelled Train Labels: True\n",
      "Test Data: True\n",
      "Test Labels: True\n",
      "**************************************************\n",
      "Subject: 2\n",
      "Unlabelled Train Data: True\n",
      "Unlabelled Train Labels: True\n",
      "Test Data: True\n",
      "Test Labels: True\n",
      "**************************************************\n",
      "Subject: 3\n",
      "Unlabelled Train Data: True\n",
      "Unlabelled Train Labels: True\n",
      "Test Data: True\n",
      "Test Labels: True\n",
      "**************************************************\n",
      "Subject: 4\n",
      "Unlabelled Train Data: True\n",
      "Unlabelled Train Labels: True\n",
      "Test Data: True\n",
      "Test Labels: True\n",
      "**************************************************\n",
      "Subject: 5\n",
      "Unlabelled Train Data: True\n",
      "Unlabelled Train Labels: True\n",
      "Test Data: True\n",
      "Test Labels: True\n",
      "**************************************************\n",
      "Subject: 6\n",
      "Unlabelled Train Data: True\n",
      "Unlabelled Train Labels: True\n",
      "Test Data: True\n",
      "Test Labels: True\n",
      "**************************************************\n",
      "Subject: 8\n",
      "Unlabelled Train Data: True\n",
      "Unlabelled Train Labels: True\n",
      "Test Data: True\n",
      "Test Labels: True\n",
      "**************************************************\n",
      "Subject: 10\n",
      "Unlabelled Train Data: True\n",
      "Unlabelled Train Labels: True\n",
      "Test Data: True\n",
      "Test Labels: True\n",
      "**************************************************\n",
      "Subject: 11\n",
      "Unlabelled Train Data: True\n",
      "Unlabelled Train Labels: True\n",
      "Test Data: True\n",
      "Test Labels: True\n",
      "**************************************************\n",
      "Subject: 12\n",
      "Unlabelled Train Data: True\n",
      "Unlabelled Train Labels: True\n",
      "Test Data: True\n",
      "Test Labels: True\n",
      "**************************************************\n",
      "Subject: 13\n",
      "Unlabelled Train Data: True\n",
      "Unlabelled Train Labels: True\n",
      "Test Data: True\n",
      "Test Labels: True\n",
      "**************************************************\n",
      "Subject: 14\n",
      "Unlabelled Train Data: True\n",
      "Unlabelled Train Labels: True\n",
      "Test Data: True\n",
      "Test Labels: True\n",
      "**************************************************\n",
      "Subject: 15\n",
      "Unlabelled Train Data: True\n",
      "Unlabelled Train Labels: True\n",
      "Test Data: True\n",
      "Test Labels: True\n",
      "**************************************************\n",
      "Subject: 16\n",
      "Unlabelled Train Data: True\n",
      "Unlabelled Train Labels: True\n",
      "Test Data: True\n",
      "Test Labels: True\n",
      "**************************************************\n",
      "Subject: 17\n",
      "Unlabelled Train Data: True\n",
      "Unlabelled Train Labels: True\n",
      "Test Data: True\n",
      "Test Labels: True\n",
      "**************************************************\n",
      "Subject: 18\n",
      "Unlabelled Train Data: True\n",
      "Unlabelled Train Labels: True\n",
      "Test Data: True\n",
      "Test Labels: True\n",
      "**************************************************\n",
      "Subject: 19\n",
      "Unlabelled Train Data: True\n",
      "Unlabelled Train Labels: True\n",
      "Test Data: True\n",
      "Test Labels: True\n",
      "**************************************************\n",
      "Subject: 20\n",
      "Unlabelled Train Data: True\n",
      "Unlabelled Train Labels: True\n",
      "Test Data: True\n",
      "Test Labels: True\n",
      "**************************************************\n",
      "Subject: 21\n",
      "Unlabelled Train Data: True\n",
      "Unlabelled Train Labels: True\n",
      "Test Data: True\n",
      "Test Labels: True\n",
      "**************************************************\n",
      "Subject: 22\n",
      "Unlabelled Train Data: True\n",
      "Unlabelled Train Labels: True\n",
      "Test Data: True\n",
      "Test Labels: True\n",
      "**************************************************\n",
      "Subject: 23\n",
      "Unlabelled Train Data: True\n",
      "Unlabelled Train Labels: True\n",
      "Test Data: True\n",
      "Test Labels: True\n",
      "**************************************************\n",
      "Subject: 24\n",
      "Unlabelled Train Data: True\n",
      "Unlabelled Train Labels: True\n",
      "Test Data: True\n",
      "Test Labels: True\n",
      "**************************************************\n",
      "Subject: 25\n",
      "Unlabelled Train Data: True\n",
      "Unlabelled Train Labels: True\n",
      "Test Data: True\n",
      "Test Labels: True\n",
      "**************************************************\n",
      "Subject: 27\n",
      "Unlabelled Train Data: True\n",
      "Unlabelled Train Labels: True\n",
      "Test Data: True\n",
      "Test Labels: True\n",
      "**************************************************\n",
      "Subject: 28\n",
      "Unlabelled Train Data: True\n",
      "Unlabelled Train Labels: True\n",
      "Test Data: True\n",
      "Test Labels: True\n",
      "**************************************************\n",
      "Subject: 31\n",
      "Unlabelled Train Data: True\n",
      "Unlabelled Train Labels: True\n",
      "Test Data: True\n",
      "Test Labels: True\n",
      "**************************************************\n",
      "Subject: 33\n",
      "Unlabelled Train Data: True\n",
      "Unlabelled Train Labels: True\n",
      "Test Data: True\n",
      "Test Labels: True\n",
      "**************************************************\n",
      "Subject: 34\n",
      "Unlabelled Train Data: True\n",
      "Unlabelled Train Labels: True\n",
      "Test Data: True\n",
      "Test Labels: True\n",
      "**************************************************\n",
      "Subject: 36\n",
      "Unlabelled Train Data: True\n",
      "Unlabelled Train Labels: True\n",
      "Test Data: True\n",
      "Test Labels: True\n",
      "**************************************************\n",
      "Subject: 37\n",
      "Unlabelled Train Data: True\n",
      "Unlabelled Train Labels: True\n",
      "Test Data: True\n",
      "Test Labels: True\n",
      "**************************************************\n",
      "Subject: 38\n",
      "Unlabelled Train Data: True\n",
      "Unlabelled Train Labels: True\n",
      "Test Data: True\n",
      "Test Labels: True\n",
      "**************************************************\n",
      "Subject: 39\n",
      "Unlabelled Train Data: True\n",
      "Unlabelled Train Labels: True\n",
      "Test Data: True\n",
      "Test Labels: True\n",
      "**************************************************\n",
      "Subject: 40\n",
      "Unlabelled Train Data: True\n",
      "Unlabelled Train Labels: True\n",
      "Test Data: True\n",
      "Test Labels: True\n",
      "**************************************************\n",
      "Subject: 42\n",
      "Unlabelled Train Data: True\n",
      "Unlabelled Train Labels: True\n",
      "Test Data: True\n",
      "Test Labels: True\n",
      "**************************************************\n",
      "Subject: 43\n",
      "Unlabelled Train Data: True\n",
      "Unlabelled Train Labels: True\n",
      "Test Data: True\n",
      "Test Labels: True\n",
      "**************************************************\n",
      "Subject: 45\n",
      "Unlabelled Train Data: True\n",
      "Unlabelled Train Labels: True\n",
      "Test Data: True\n",
      "Test Labels: True\n",
      "**************************************************\n",
      "Subject: 46\n",
      "Unlabelled Train Data: True\n",
      "Unlabelled Train Labels: True\n",
      "Test Data: True\n",
      "Test Labels: True\n",
      "**************************************************\n",
      "Subject: 48\n",
      "Unlabelled Train Data: True\n",
      "Unlabelled Train Labels: True\n",
      "Test Data: True\n",
      "Test Labels: True\n",
      "**************************************************\n",
      "Subject: 49\n",
      "Unlabelled Train Data: True\n",
      "Unlabelled Train Labels: True\n",
      "Test Data: True\n",
      "Test Labels: True\n",
      "**************************************************\n",
      "Subject: 50\n",
      "Unlabelled Train Data: True\n",
      "Unlabelled Train Labels: True\n",
      "Test Data: True\n",
      "Test Labels: True\n",
      "**************************************************\n",
      "Subject: 51\n",
      "Unlabelled Train Data: True\n",
      "Unlabelled Train Labels: True\n",
      "Test Data: True\n",
      "Test Labels: True\n",
      "**************************************************\n",
      "Subject: 52\n",
      "Unlabelled Train Data: True\n",
      "Unlabelled Train Labels: True\n",
      "Test Data: True\n",
      "Test Labels: True\n",
      "**************************************************\n",
      "Subject: 53\n",
      "Unlabelled Train Data: True\n",
      "Unlabelled Train Labels: True\n",
      "Test Data: True\n",
      "Test Labels: True\n",
      "**************************************************\n",
      "Subject: 54\n",
      "Unlabelled Train Data: True\n",
      "Unlabelled Train Labels: True\n",
      "Test Data: True\n",
      "Test Labels: True\n",
      "**************************************************\n",
      "Subject: 55\n",
      "Unlabelled Train Data: True\n",
      "Unlabelled Train Labels: True\n",
      "Test Data: True\n",
      "Test Labels: True\n",
      "**************************************************\n",
      "Subject: 56\n",
      "Unlabelled Train Data: True\n",
      "Unlabelled Train Labels: True\n",
      "Test Data: True\n",
      "Test Labels: True\n",
      "**************************************************\n",
      "Subject: 59\n",
      "Unlabelled Train Data: True\n",
      "Unlabelled Train Labels: True\n",
      "Test Data: True\n",
      "Test Labels: True\n",
      "**************************************************\n",
      "Subject: 61\n",
      "Unlabelled Train Data: True\n",
      "Unlabelled Train Labels: True\n",
      "Test Data: True\n",
      "Test Labels: True\n",
      "**************************************************\n",
      "Subject: 62\n",
      "Unlabelled Train Data: True\n",
      "Unlabelled Train Labels: True\n",
      "Test Data: True\n",
      "Test Labels: True\n",
      "**************************************************\n",
      "Subject: 63\n",
      "Unlabelled Train Data: True\n",
      "Unlabelled Train Labels: True\n",
      "Test Data: True\n",
      "Test Labels: True\n",
      "**************************************************\n",
      "Subject: 64\n",
      "Unlabelled Train Data: True\n",
      "Unlabelled Train Labels: True\n",
      "Test Data: True\n",
      "Test Labels: True\n",
      "**************************************************\n",
      "Subject: 65\n",
      "Unlabelled Train Data: True\n",
      "Unlabelled Train Labels: True\n",
      "Test Data: True\n",
      "Test Labels: True\n",
      "**************************************************\n",
      "Subject: 66\n",
      "Unlabelled Train Data: True\n",
      "Unlabelled Train Labels: True\n",
      "Test Data: True\n",
      "Test Labels: True\n",
      "**************************************************\n",
      "Subject: 67\n",
      "Unlabelled Train Data: True\n",
      "Unlabelled Train Labels: True\n",
      "Test Data: True\n",
      "Test Labels: True\n",
      "**************************************************\n",
      "Subject: 69\n",
      "Unlabelled Train Data: True\n",
      "Unlabelled Train Labels: True\n",
      "Test Data: True\n",
      "Test Labels: True\n",
      "**************************************************\n",
      "Subject: 70\n",
      "Unlabelled Train Data: True\n",
      "Unlabelled Train Labels: True\n",
      "Test Data: True\n",
      "Test Labels: True\n",
      "**************************************************\n",
      "Subject: 71\n",
      "Unlabelled Train Data: True\n",
      "Unlabelled Train Labels: True\n",
      "Test Data: True\n",
      "Test Labels: True\n",
      "**************************************************\n",
      "Subject: 72\n",
      "Unlabelled Train Data: True\n",
      "Unlabelled Train Labels: True\n",
      "Test Data: True\n",
      "Test Labels: True\n",
      "**************************************************\n",
      "Subject: 73\n",
      "Unlabelled Train Data: True\n",
      "Unlabelled Train Labels: True\n",
      "Test Data: True\n",
      "Test Labels: True\n",
      "**************************************************\n",
      "Subject: 74\n",
      "Unlabelled Train Data: True\n",
      "Unlabelled Train Labels: True\n",
      "Test Data: True\n",
      "Test Labels: True\n",
      "**************************************************\n"
     ]
    }
   ],
   "source": [
    "# save unlabeled and test data\n",
    "\n",
    "idx = 0\n",
    "for i in np.sort(private_subject):\n",
    "    subject = i\n",
    "    subject_dir = path + str(subject)\n",
    "    if not os.path.exists(subject_dir):\n",
    "        os.makedirs(subject_dir)\n",
    "    print(f\"Subject: {subject} | idx: {idx}\")\n",
    "    np.save(f\"{subject_dir}/windowed_unlabelled_train_x.npy\", windowed_unlabelled_train_x[idx])\n",
    "    np.save(f\"{subject_dir}/windowed_unlabelled_train_y.npy\", windowed_unlabelled_train_y[idx])\n",
    "    np.save(f\"{subject_dir}/windowed_test_x.npy\", windowed_test_x[idx])\n",
    "    np.save(f\"{subject_dir}/windowed_test_y.npy\", windowed_test_y[idx])\n",
    "    print('*' * 50)\n",
    "    idx += 1\n",
    "\n",
    "print()\n",
    "print(\"=\"*50)\n",
    "print(\"Test the Save Data\")\n",
    "print(\"=\"*50)\n",
    "print()\n",
    "\n",
    "idx = 0\n",
    "for i in np.sort(private_subject):\n",
    "    subject = i\n",
    "    subject_dir = path + str(subject)\n",
    "    print('Subject:', subject)\n",
    "    print('Unlabelled Train Data:', np.array_equal(windowed_unlabelled_train_x[idx], np.load(subject_dir + '/windowed_unlabelled_train_x.npy')))\n",
    "    print('Unlabelled Train Labels:', np.array_equal(windowed_unlabelled_train_y[idx], np.load(subject_dir + '/windowed_unlabelled_train_y.npy')))\n",
    "    print('Test Data:', np.array_equal(windowed_test_x[idx], np.load(subject_dir + '/windowed_test_x.npy')))\n",
    "    print('Test Labels:', np.array_equal(windowed_test_y[idx], np.load(subject_dir + '/windowed_test_y.npy')))\n",
    "    print('*' * 50)\n",
    "    idx += 1"
   ]
  },
  {
   "cell_type": "code",
   "execution_count": 80,
   "metadata": {},
   "outputs": [
    {
     "data": {
      "text/plain": [
       "[9, 7, 26, 29, 1, 32, 44, 35, 30, 41, 60, 58, 57, 68, 47]"
      ]
     },
     "execution_count": 80,
     "metadata": {},
     "output_type": "execute_result"
    }
   ],
   "source": [
    "# print public_subject as a list with comma\n",
    "public_subject.tolist()"
   ]
  },
  {
   "cell_type": "code",
   "execution_count": 82,
   "metadata": {},
   "outputs": [
    {
     "name": "stdout",
     "output_type": "stream",
     "text": [
      "[0, 2, 3, 4, 5, 6, 8, 10, 11, 12, 13, 14, 15, 16, 17, 18, 19, 20, 21, 22, 23, 24, 25, 27, 28, 31, 33, 34, 36, 37, 38, 39, 40, 42, 43, 45, 46, 48, 49, 50, 51, 52, 53, 54, 55, 56, 59, 61, 62, 63, 64, 65, 66, 67, 69, 70, 71, 72, 73, 74]\n"
     ]
    }
   ],
   "source": [
    "print(private_subject.tolist())"
   ]
  }
 ],
 "metadata": {
  "kernelspec": {
   "display_name": "Python 3",
   "language": "python",
   "name": "python3"
  },
  "language_info": {
   "codemirror_mode": {
    "name": "ipython",
    "version": 3
   },
   "file_extension": ".py",
   "mimetype": "text/x-python",
   "name": "python",
   "nbconvert_exporter": "python",
   "pygments_lexer": "ipython3",
   "version": "3.10.13"
  }
 },
 "nbformat": 4,
 "nbformat_minor": 2
}
